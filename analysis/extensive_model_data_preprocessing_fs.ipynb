{
 "cells": [
  {
   "cell_type": "code",
   "execution_count": 1,
   "metadata": {
    "collapsed": true,
    "ExecuteTime": {
     "start_time": "2023-05-14T12:45:41.275739Z",
     "end_time": "2023-05-14T12:45:41.275870Z"
    }
   },
   "outputs": [],
   "source": [
    "import pandas as pd\n",
    "import numpy as np\n",
    "from analysis.utils import process_categorical"
   ]
  },
  {
   "cell_type": "code",
   "execution_count": 2,
   "outputs": [],
   "source": [
    "df = pd.read_csv('../data/df_clean.csv', index_col=0)"
   ],
   "metadata": {
    "collapsed": false,
    "ExecuteTime": {
     "start_time": "2023-05-14T12:45:41.326099Z",
     "end_time": "2023-05-14T12:45:41.326260Z"
    }
   }
  },
  {
   "cell_type": "code",
   "execution_count": 3,
   "outputs": [
    {
     "name": "stdout",
     "output_type": "stream",
     "text": [
      "<class 'pandas.core.frame.DataFrame'>\n",
      "Int64Index: 17803 entries, 0 to 18334\n",
      "Data columns (total 44 columns):\n",
      " #   Column                    Non-Null Count  Dtype  \n",
      "---  ------                    --------------  -----  \n",
      " 0   LeagueCountry             17803 non-null  object \n",
      " 1   League                    17803 non-null  object \n",
      " 2   NationalLeagueLevel       17803 non-null  object \n",
      " 3   Club                      17803 non-null  object \n",
      " 4   No                        17494 non-null  float64\n",
      " 5   Name                      17803 non-null  object \n",
      " 6   Value                     17803 non-null  float64\n",
      " 7   HighestValue              17803 non-null  float64\n",
      " 8   Age                       17800 non-null  float64\n",
      " 9   Height                    16713 non-null  float64\n",
      " 10  Nationality               17803 non-null  object \n",
      " 11  Foot                      16118 non-null  object \n",
      " 12  Position                  17803 non-null  object \n",
      " 13  Consultancy               14496 non-null  object \n",
      " 14  Supplier                  2736 non-null   object \n",
      " 15  ClubSince                 17768 non-null  float64\n",
      " 16  ContractUntil             16730 non-null  float64\n",
      " 17  Injury                    17803 non-null  int64  \n",
      " 18  InternationalTeam         11967 non-null  object \n",
      " 19  ActiveInternational       17803 non-null  int64  \n",
      " 20  FormerInternational       17803 non-null  int64  \n",
      " 21  InternationalGames        11967 non-null  float64\n",
      " 22  InternationalGoals        11967 non-null  float64\n",
      " 23  StartingElevenQuote       15773 non-null  float64\n",
      " 24  MinutesQuote              15773 non-null  float64\n",
      " 25  TwPenaltySavesQuote       1737 non-null   float64\n",
      " 26  FsGoalParticipationQuote  14036 non-null  float64\n",
      " 27  Games                     13227 non-null  float64\n",
      " 28  PointsPerGame             12484 non-null  float64\n",
      " 29  Goals                     13227 non-null  float64\n",
      " 30  OwnGoals                  13227 non-null  float64\n",
      " 31  Ins                       13227 non-null  float64\n",
      " 32  Outs                      13227 non-null  float64\n",
      " 33  YellowCards               13227 non-null  float64\n",
      " 34  YellowRedCards            13227 non-null  float64\n",
      " 35  RedCards                  13227 non-null  float64\n",
      " 36  Minutes                   12437 non-null  float64\n",
      " 37  TwGoalsConceded           1459 non-null   float64\n",
      " 38  TwCleanSheets             1459 non-null   float64\n",
      " 39  FsAssists                 11768 non-null  float64\n",
      " 40  FsPenaltyGoals            11768 non-null  float64\n",
      " 41  FsMinutesPerGoal          6119 non-null   float64\n",
      " 42  PositionCategory          17803 non-null  object \n",
      " 43  Trending                  17803 non-null  int64  \n",
      "dtypes: float64(28), int64(4), object(12)\n",
      "memory usage: 6.1+ MB\n"
     ]
    }
   ],
   "source": [
    "df.info()"
   ],
   "metadata": {
    "collapsed": false,
    "ExecuteTime": {
     "start_time": "2023-05-14T12:45:41.344101Z",
     "end_time": "2023-05-14T12:45:41.344171Z"
    }
   }
  },
  {
   "cell_type": "code",
   "execution_count": 4,
   "outputs": [],
   "source": [
    "df = df.loc[df['Position'] != 'Torwart']  # remove position Torwart"
   ],
   "metadata": {
    "collapsed": false,
    "ExecuteTime": {
     "start_time": "2023-05-14T12:45:41.364195Z",
     "end_time": "2023-05-14T12:45:41.364250Z"
    }
   }
  },
  {
   "cell_type": "code",
   "execution_count": 6,
   "outputs": [],
   "source": [
    "features = ['LeagueCountry', 'League', 'NationalLeagueLevel', 'Club', 'Age', 'Nationality', 'Position', 'PositionCategory', 'Consultancy', 'Supplier', 'ClubSince', 'Injury', 'InternationalTeam', 'ActiveInternational', 'FormerInternational', 'InternationalGames', 'InternationalGoals', 'Trending', 'StartingElevenQuote', 'MinutesQuote', 'FsGoalParticipationQuote', 'Games', 'PointsPerGame', 'Goals', 'OwnGoals', 'Ins', 'Outs', 'YellowCards', 'YellowRedCards', 'YellowRedCards', 'RedCards', 'Minutes', 'FsAssists', 'FsPenaltyGoals', 'FsMinutesPerGoal', 'Value']\n",
    "\n",
    "df = df[features]"
   ],
   "metadata": {
    "collapsed": false,
    "ExecuteTime": {
     "start_time": "2023-05-14T12:45:57.752429Z",
     "end_time": "2023-05-14T12:45:57.752503Z"
    }
   }
  },
  {
   "cell_type": "code",
   "execution_count": 9,
   "outputs": [
    {
     "name": "stdout",
     "output_type": "stream",
     "text": [
      "Column: Age, NaN values: 2\n",
      "Column: ClubSince, NaN values: 25\n",
      "Column: Injury, NaN values: 0\n",
      "Column: ActiveInternational, NaN values: 0\n",
      "Column: FormerInternational, NaN values: 0\n",
      "Column: InternationalGames, NaN values: 0\n",
      "Column: InternationalGoals, NaN values: 0\n",
      "Column: Trending, NaN values: 0\n",
      "Column: StartingElevenQuote, NaN values: 1740\n",
      "Column: MinutesQuote, NaN values: 1740\n",
      "Column: FsGoalParticipationQuote, NaN values: 1740\n",
      "Column: Games, NaN values: 4008\n",
      "Column: PointsPerGame, NaN values: 4303\n",
      "Column: Goals, NaN values: 4008\n",
      "Column: OwnGoals, NaN values: 4008\n",
      "Column: Ins, NaN values: 4008\n",
      "Column: Outs, NaN values: 4008\n",
      "Column: YellowCards, NaN values: 4008\n",
      "Column: YellowRedCards, NaN values: YellowRedCards    4008\n",
      "YellowRedCards    4008\n",
      "dtype: int64\n",
      "Column: YellowRedCards, NaN values: YellowRedCards    4008\n",
      "YellowRedCards    4008\n",
      "dtype: int64\n",
      "Column: RedCards, NaN values: 4008\n",
      "Column: Minutes, NaN values: 4348\n",
      "Column: FsAssists, NaN values: 4008\n",
      "Column: FsPenaltyGoals, NaN values: 4008\n",
      "Column: FsMinutesPerGoal, NaN values: 9657\n",
      "Column: Value, NaN values: 0\n"
     ]
    }
   ],
   "source": [
    "numeric_columns = df.select_dtypes(include=[np.number])\n",
    "for col in numeric_columns.columns:\n",
    "    print(f\"Column: {col}, NaN values: {numeric_columns[col].isna().sum()}\")"
   ],
   "metadata": {
    "collapsed": false,
    "ExecuteTime": {
     "start_time": "2023-05-14T12:47:13.531998Z",
     "end_time": "2023-05-14T12:47:13.532065Z"
    }
   }
  },
  {
   "cell_type": "code",
   "execution_count": 27,
   "outputs": [],
   "source": [
    "df = df.dropna(subset=['Age', 'ClubSince', 'StartingElevenQuote', 'MinutesQuote', 'FsGoalParticipationQuote', 'Games', 'PointsPerGame', 'Goals', 'OwnGoals', 'Ins', 'Outs', 'YellowCards', 'YellowRedCards', 'RedCards', 'Minutes', 'FsAssists', 'FsPenaltyGoals'])"
   ],
   "metadata": {
    "collapsed": false,
    "ExecuteTime": {
     "start_time": "2023-05-14T13:00:47.535020Z",
     "end_time": "2023-05-14T13:00:47.535111Z"
    }
   }
  },
  {
   "cell_type": "code",
   "execution_count": 28,
   "outputs": [],
   "source": [
    "df = df.fillna({'InternationalGames': 0, 'InternationalGoals': 0, 'FsMinutesPerGoal': 0})"
   ],
   "metadata": {
    "collapsed": false,
    "ExecuteTime": {
     "start_time": "2023-05-14T13:00:47.873015Z",
     "end_time": "2023-05-14T13:00:47.873086Z"
    }
   }
  },
  {
   "cell_type": "code",
   "execution_count": 29,
   "outputs": [
    {
     "name": "stdout",
     "output_type": "stream",
     "text": [
      "Column: Age, NaN values: 0\n",
      "Column: ClubSince, NaN values: 0\n",
      "Column: Injury, NaN values: 0\n",
      "Column: ActiveInternational, NaN values: 0\n",
      "Column: FormerInternational, NaN values: 0\n",
      "Column: InternationalGames, NaN values: 0\n",
      "Column: InternationalGoals, NaN values: 0\n",
      "Column: Trending, NaN values: 0\n",
      "Column: StartingElevenQuote, NaN values: 0\n",
      "Column: MinutesQuote, NaN values: 0\n",
      "Column: FsGoalParticipationQuote, NaN values: 0\n",
      "Column: Games, NaN values: 0\n",
      "Column: PointsPerGame, NaN values: 0\n",
      "Column: Goals, NaN values: 0\n",
      "Column: OwnGoals, NaN values: 0\n",
      "Column: Ins, NaN values: 0\n",
      "Column: Outs, NaN values: 0\n",
      "Column: YellowCards, NaN values: 0\n",
      "Column: YellowRedCards, NaN values: YellowRedCards    0\n",
      "YellowRedCards    0\n",
      "dtype: int64\n",
      "Column: YellowRedCards, NaN values: YellowRedCards    0\n",
      "YellowRedCards    0\n",
      "dtype: int64\n",
      "Column: RedCards, NaN values: 0\n",
      "Column: Minutes, NaN values: 0\n",
      "Column: FsAssists, NaN values: 0\n",
      "Column: FsPenaltyGoals, NaN values: 0\n",
      "Column: FsMinutesPerGoal, NaN values: 0\n",
      "Column: Value, NaN values: 0\n"
     ]
    }
   ],
   "source": [
    "numeric_columns = df.select_dtypes(include=[np.number])\n",
    "for col in numeric_columns.columns:\n",
    "    print(f\"Column: {col}, NaN values: {numeric_columns[col].isna().sum()}\")"
   ],
   "metadata": {
    "collapsed": false,
    "ExecuteTime": {
     "start_time": "2023-05-14T13:00:48.231247Z",
     "end_time": "2023-05-14T13:00:48.231302Z"
    }
   }
  },
  {
   "cell_type": "code",
   "execution_count": 30,
   "outputs": [
    {
     "name": "stdout",
     "output_type": "stream",
     "text": [
      "<class 'pandas.core.frame.DataFrame'>\n",
      "Int64Index: 11422 entries, 5 to 18332\n",
      "Data columns (total 36 columns):\n",
      " #   Column                    Non-Null Count  Dtype  \n",
      "---  ------                    --------------  -----  \n",
      " 0   LeagueCountry             11422 non-null  object \n",
      " 1   League                    11422 non-null  object \n",
      " 2   NationalLeagueLevel       11422 non-null  object \n",
      " 3   Club                      11422 non-null  object \n",
      " 4   Age                       11422 non-null  float64\n",
      " 5   Nationality               11422 non-null  object \n",
      " 6   Position                  11422 non-null  object \n",
      " 7   PositionCategory          11422 non-null  object \n",
      " 8   Consultancy               9729 non-null   object \n",
      " 9   Supplier                  2123 non-null   object \n",
      " 10  ClubSince                 11422 non-null  float64\n",
      " 11  Injury                    11422 non-null  int64  \n",
      " 12  InternationalTeam         8299 non-null   object \n",
      " 13  ActiveInternational       11422 non-null  int64  \n",
      " 14  FormerInternational       11422 non-null  int64  \n",
      " 15  InternationalGames        11422 non-null  float64\n",
      " 16  InternationalGoals        11422 non-null  float64\n",
      " 17  Trending                  11422 non-null  int64  \n",
      " 18  StartingElevenQuote       11422 non-null  float64\n",
      " 19  MinutesQuote              11422 non-null  float64\n",
      " 20  FsGoalParticipationQuote  11422 non-null  float64\n",
      " 21  Games                     11422 non-null  float64\n",
      " 22  PointsPerGame             11422 non-null  float64\n",
      " 23  Goals                     11422 non-null  float64\n",
      " 24  OwnGoals                  11422 non-null  float64\n",
      " 25  Ins                       11422 non-null  float64\n",
      " 26  Outs                      11422 non-null  float64\n",
      " 27  YellowCards               11422 non-null  float64\n",
      " 28  YellowRedCards            11422 non-null  float64\n",
      " 29  YellowRedCards            11422 non-null  float64\n",
      " 30  RedCards                  11422 non-null  float64\n",
      " 31  Minutes                   11422 non-null  float64\n",
      " 32  FsAssists                 11422 non-null  float64\n",
      " 33  FsPenaltyGoals            11422 non-null  float64\n",
      " 34  FsMinutesPerGoal          11422 non-null  float64\n",
      " 35  Value                     11422 non-null  float64\n",
      "dtypes: float64(22), int64(4), object(10)\n",
      "memory usage: 3.2+ MB\n"
     ]
    }
   ],
   "source": [
    "df.info()"
   ],
   "metadata": {
    "collapsed": false,
    "ExecuteTime": {
     "start_time": "2023-05-14T13:00:49.958082Z",
     "end_time": "2023-05-14T13:00:49.958148Z"
    }
   }
  },
  {
   "cell_type": "code",
   "execution_count": 31,
   "outputs": [],
   "source": [
    "df = process_categorical(df, 'Supplier')\n",
    "df = process_categorical(df, 'Consultancy')\n",
    "df = process_categorical(df, 'InternationalTeam', 5)\n",
    "df = process_categorical(df, 'League')\n",
    "df = process_categorical(df, 'Club')\n",
    "df = process_categorical(df, 'Nationality')\n",
    "df = process_categorical(df, 'LeagueCountry', 5)\n",
    "df = process_categorical(df, 'NationalLeagueLevel', 5)\n",
    "df = process_categorical(df, 'PositionCategory', 5)\n",
    "df = process_categorical(df, 'Position', 5)"
   ],
   "metadata": {
    "collapsed": false,
    "ExecuteTime": {
     "start_time": "2023-05-14T13:01:10.290361Z",
     "end_time": "2023-05-14T13:01:10.290486Z"
    }
   }
  },
  {
   "cell_type": "code",
   "execution_count": 32,
   "outputs": [],
   "source": [
    "df.to_csv('../data/df_extensive_model_fs_unfiltered.csv')\n",
    "\n",
    "df = df[df['Value'] <= 150000000]  # exclude outliers\n",
    "\n",
    "df.to_csv('../data/df_extensive_model_fs.csv')"
   ],
   "metadata": {
    "collapsed": false,
    "ExecuteTime": {
     "start_time": "2023-05-14T13:01:12.057840Z",
     "end_time": "2023-05-14T13:01:12.057922Z"
    }
   }
  },
  {
   "cell_type": "code",
   "execution_count": null,
   "outputs": [],
   "source": [],
   "metadata": {
    "collapsed": false
   }
  }
 ],
 "metadata": {
  "kernelspec": {
   "display_name": "Python 3",
   "language": "python",
   "name": "python3"
  },
  "language_info": {
   "codemirror_mode": {
    "name": "ipython",
    "version": 2
   },
   "file_extension": ".py",
   "mimetype": "text/x-python",
   "name": "python",
   "nbconvert_exporter": "python",
   "pygments_lexer": "ipython2",
   "version": "2.7.6"
  }
 },
 "nbformat": 4,
 "nbformat_minor": 0
}
