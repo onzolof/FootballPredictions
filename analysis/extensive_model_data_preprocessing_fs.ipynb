{
 "cells": [
  {
   "cell_type": "code",
   "execution_count": 1,
   "metadata": {
    "collapsed": true,
    "ExecuteTime": {
     "start_time": "2023-05-18T07:52:29.733538Z",
     "end_time": "2023-05-18T07:52:30.618182Z"
    }
   },
   "outputs": [],
   "source": [
    "import pandas as pd\n",
    "import numpy as np\n",
    "from analysis.utils import process_categorical"
   ]
  },
  {
   "cell_type": "code",
   "execution_count": 2,
   "outputs": [],
   "source": [
    "df = pd.read_csv('../data/df_clean.csv', index_col=0)"
   ],
   "metadata": {
    "collapsed": false,
    "ExecuteTime": {
     "start_time": "2023-05-18T07:52:30.619378Z",
     "end_time": "2023-05-18T07:52:30.677855Z"
    }
   }
  },
  {
   "cell_type": "code",
   "execution_count": 3,
   "outputs": [
    {
     "name": "stdout",
     "output_type": "stream",
     "text": [
      "<class 'pandas.core.frame.DataFrame'>\n",
      "Int64Index: 17796 entries, 0 to 18357\n",
      "Data columns (total 46 columns):\n",
      " #   Column                    Non-Null Count  Dtype  \n",
      "---  ------                    --------------  -----  \n",
      " 0   LeagueCountry             17796 non-null  object \n",
      " 1   League                    17796 non-null  object \n",
      " 2   NationalLeagueLevel       17796 non-null  object \n",
      " 3   Club                      17796 non-null  object \n",
      " 4   No                        17511 non-null  float64\n",
      " 5   Name                      17796 non-null  object \n",
      " 6   Value                     17796 non-null  float64\n",
      " 7   HighestValue              17796 non-null  float64\n",
      " 8   Age                       17794 non-null  float64\n",
      " 9   Height                    16717 non-null  float64\n",
      " 10  Nationality               17796 non-null  object \n",
      " 11  Foot                      16124 non-null  object \n",
      " 12  Position                  17796 non-null  object \n",
      " 13  Consultancy               14524 non-null  object \n",
      " 14  Supplier                  2739 non-null   object \n",
      " 15  ClubSince                 17761 non-null  float64\n",
      " 16  ContractUntil             16740 non-null  float64\n",
      " 17  Injury                    17796 non-null  int64  \n",
      " 18  InternationalTeam         9708 non-null   object \n",
      " 19  ActiveInternational       17796 non-null  int64  \n",
      " 20  FormerInternational       17796 non-null  int64  \n",
      " 21  InternationalGames        10724 non-null  float64\n",
      " 22  InternationalGoals        10724 non-null  float64\n",
      " 23  StartingElevenQuote       15759 non-null  float64\n",
      " 24  MinutesQuote              15759 non-null  float64\n",
      " 25  TwPenaltySavesQuote       1742 non-null   float64\n",
      " 26  FsGoalParticipationQuote  14017 non-null  float64\n",
      " 27  Games                     13229 non-null  float64\n",
      " 28  PointsPerGame             13229 non-null  float64\n",
      " 29  Goals                     13229 non-null  float64\n",
      " 30  OwnGoals                  13229 non-null  float64\n",
      " 31  Ins                       13229 non-null  float64\n",
      " 32  Outs                      13229 non-null  float64\n",
      " 33  YellowCards               13229 non-null  float64\n",
      " 34  YellowRedCards            13229 non-null  float64\n",
      " 35  RedCards                  13229 non-null  float64\n",
      " 36  Minutes                   13229 non-null  float64\n",
      " 37  TwGoalsConceded           1461 non-null   float64\n",
      " 38  TwCleanSheets             1461 non-null   float64\n",
      " 39  FsAssists                 11768 non-null  float64\n",
      " 40  FsPenaltyGoals            11768 non-null  float64\n",
      " 41  FsMinutesPerGoal          11768 non-null  float64\n",
      " 42  Image                     14885 non-null  object \n",
      " 43  PositionCategory          17796 non-null  object \n",
      " 44  Cards                     13229 non-null  float64\n",
      " 45  Trending                  17796 non-null  int64  \n",
      "dtypes: float64(29), int64(4), object(13)\n",
      "memory usage: 6.4+ MB\n"
     ]
    }
   ],
   "source": [
    "df.info()"
   ],
   "metadata": {
    "collapsed": false,
    "ExecuteTime": {
     "start_time": "2023-05-18T07:52:30.678493Z",
     "end_time": "2023-05-18T07:52:30.696167Z"
    }
   }
  },
  {
   "cell_type": "code",
   "execution_count": 4,
   "outputs": [],
   "source": [
    "df = df.loc[df['Position'] != 'Torwart']  # remove position Torwart"
   ],
   "metadata": {
    "collapsed": false,
    "ExecuteTime": {
     "start_time": "2023-05-18T07:52:30.697618Z",
     "end_time": "2023-05-18T07:52:30.715309Z"
    }
   }
  },
  {
   "cell_type": "code",
   "execution_count": 5,
   "outputs": [],
   "source": [
    "features = ['LeagueCountry', 'League', 'NationalLeagueLevel', 'Club', 'Age', 'Nationality', 'Position', 'PositionCategory', 'Supplier', 'ClubSince', 'InternationalTeam', 'ActiveInternational', 'FormerInternational', 'InternationalGames', 'InternationalGoals', 'Trending', 'MinutesQuote', 'FsGoalParticipationQuote', 'Games', 'PointsPerGame', 'Goals', 'Ins', 'Cards', 'Minutes', 'FsAssists', 'FsPenaltyGoals', 'FsMinutesPerGoal', 'Value']\n",
    "\n",
    "df = df[features]"
   ],
   "metadata": {
    "collapsed": false,
    "ExecuteTime": {
     "start_time": "2023-05-18T07:52:30.704331Z",
     "end_time": "2023-05-18T07:52:30.718838Z"
    }
   }
  },
  {
   "cell_type": "code",
   "execution_count": 6,
   "outputs": [
    {
     "name": "stdout",
     "output_type": "stream",
     "text": [
      "Column: Age, NaN values: 2\n",
      "Column: ClubSince, NaN values: 25\n",
      "Column: ActiveInternational, NaN values: 0\n",
      "Column: FormerInternational, NaN values: 0\n",
      "Column: InternationalGames, NaN values: 6209\n",
      "Column: InternationalGoals, NaN values: 6209\n",
      "Column: Trending, NaN values: 0\n",
      "Column: MinutesQuote, NaN values: 1750\n",
      "Column: FsGoalParticipationQuote, NaN values: 1750\n",
      "Column: Games, NaN values: 3999\n",
      "Column: PointsPerGame, NaN values: 3999\n",
      "Column: Goals, NaN values: 3999\n",
      "Column: Ins, NaN values: 3999\n",
      "Column: Cards, NaN values: 3999\n",
      "Column: Minutes, NaN values: 3999\n",
      "Column: FsAssists, NaN values: 3999\n",
      "Column: FsPenaltyGoals, NaN values: 3999\n",
      "Column: FsMinutesPerGoal, NaN values: 3999\n",
      "Column: Value, NaN values: 0\n"
     ]
    }
   ],
   "source": [
    "numeric_columns = df.select_dtypes(include=[np.number])\n",
    "for col in numeric_columns.columns:\n",
    "    print(f\"Column: {col}, NaN values: {numeric_columns[col].isna().sum()}\")"
   ],
   "metadata": {
    "collapsed": false,
    "ExecuteTime": {
     "start_time": "2023-05-18T07:52:30.708806Z",
     "end_time": "2023-05-18T07:52:30.719117Z"
    }
   }
  },
  {
   "cell_type": "code",
   "execution_count": 7,
   "outputs": [],
   "source": [
    "df = df.dropna(subset=['Age', 'ClubSince', 'MinutesQuote', 'FsGoalParticipationQuote', 'Games', 'PointsPerGame', 'Goals', 'Ins', 'Cards', 'Minutes', 'FsAssists', 'FsPenaltyGoals'])"
   ],
   "metadata": {
    "collapsed": false,
    "ExecuteTime": {
     "start_time": "2023-05-18T07:52:30.713139Z",
     "end_time": "2023-05-18T07:52:30.719222Z"
    }
   }
  },
  {
   "cell_type": "code",
   "execution_count": 8,
   "outputs": [],
   "source": [
    "df = df.fillna({'InternationalGames': 0, 'InternationalGoals': 0, 'FsMinutesPerGoal': 0})"
   ],
   "metadata": {
    "collapsed": false,
    "ExecuteTime": {
     "start_time": "2023-05-18T07:52:30.716697Z",
     "end_time": "2023-05-18T07:52:30.721813Z"
    }
   }
  },
  {
   "cell_type": "code",
   "execution_count": 9,
   "outputs": [
    {
     "name": "stdout",
     "output_type": "stream",
     "text": [
      "Column: Age, NaN values: 0\n",
      "Column: ClubSince, NaN values: 0\n",
      "Column: ActiveInternational, NaN values: 0\n",
      "Column: FormerInternational, NaN values: 0\n",
      "Column: InternationalGames, NaN values: 0\n",
      "Column: InternationalGoals, NaN values: 0\n",
      "Column: Trending, NaN values: 0\n",
      "Column: MinutesQuote, NaN values: 0\n",
      "Column: FsGoalParticipationQuote, NaN values: 0\n",
      "Column: Games, NaN values: 0\n",
      "Column: PointsPerGame, NaN values: 0\n",
      "Column: Goals, NaN values: 0\n",
      "Column: Ins, NaN values: 0\n",
      "Column: Cards, NaN values: 0\n",
      "Column: Minutes, NaN values: 0\n",
      "Column: FsAssists, NaN values: 0\n",
      "Column: FsPenaltyGoals, NaN values: 0\n",
      "Column: FsMinutesPerGoal, NaN values: 0\n",
      "Column: Value, NaN values: 0\n"
     ]
    }
   ],
   "source": [
    "numeric_columns = df.select_dtypes(include=[np.number])\n",
    "for col in numeric_columns.columns:\n",
    "    print(f\"Column: {col}, NaN values: {numeric_columns[col].isna().sum()}\")"
   ],
   "metadata": {
    "collapsed": false,
    "ExecuteTime": {
     "start_time": "2023-05-18T07:52:30.721926Z",
     "end_time": "2023-05-18T07:52:30.725738Z"
    }
   }
  },
  {
   "cell_type": "code",
   "execution_count": 10,
   "outputs": [
    {
     "name": "stdout",
     "output_type": "stream",
     "text": [
      "<class 'pandas.core.frame.DataFrame'>\n",
      "Int64Index: 11761 entries, 5 to 18355\n",
      "Data columns (total 28 columns):\n",
      " #   Column                    Non-Null Count  Dtype  \n",
      "---  ------                    --------------  -----  \n",
      " 0   LeagueCountry             11761 non-null  object \n",
      " 1   League                    11761 non-null  object \n",
      " 2   NationalLeagueLevel       11761 non-null  object \n",
      " 3   Club                      11761 non-null  object \n",
      " 4   Age                       11761 non-null  float64\n",
      " 5   Nationality               11761 non-null  object \n",
      " 6   Position                  11761 non-null  object \n",
      " 7   PositionCategory          11761 non-null  object \n",
      " 8   Supplier                  2159 non-null   object \n",
      " 9   ClubSince                 11761 non-null  float64\n",
      " 10  InternationalTeam         7003 non-null   object \n",
      " 11  ActiveInternational       11761 non-null  int64  \n",
      " 12  FormerInternational       11761 non-null  int64  \n",
      " 13  InternationalGames        11761 non-null  float64\n",
      " 14  InternationalGoals        11761 non-null  float64\n",
      " 15  Trending                  11761 non-null  int64  \n",
      " 16  MinutesQuote              11761 non-null  float64\n",
      " 17  FsGoalParticipationQuote  11761 non-null  float64\n",
      " 18  Games                     11761 non-null  float64\n",
      " 19  PointsPerGame             11761 non-null  float64\n",
      " 20  Goals                     11761 non-null  float64\n",
      " 21  Ins                       11761 non-null  float64\n",
      " 22  Cards                     11761 non-null  float64\n",
      " 23  Minutes                   11761 non-null  float64\n",
      " 24  FsAssists                 11761 non-null  float64\n",
      " 25  FsPenaltyGoals            11761 non-null  float64\n",
      " 26  FsMinutesPerGoal          11761 non-null  float64\n",
      " 27  Value                     11761 non-null  float64\n",
      "dtypes: float64(16), int64(3), object(9)\n",
      "memory usage: 2.6+ MB\n"
     ]
    }
   ],
   "source": [
    "df.info()"
   ],
   "metadata": {
    "collapsed": false,
    "ExecuteTime": {
     "start_time": "2023-05-18T07:52:30.726481Z",
     "end_time": "2023-05-18T07:52:30.760053Z"
    }
   }
  },
  {
   "cell_type": "code",
   "execution_count": 11,
   "outputs": [],
   "source": [
    "df = process_categorical(df, 'Supplier')\n",
    "df = process_categorical(df, 'InternationalTeam', 5)\n",
    "df = process_categorical(df, 'League')\n",
    "df = process_categorical(df, 'Club')\n",
    "df = process_categorical(df, 'Nationality')\n",
    "df = process_categorical(df, 'LeagueCountry', 5)\n",
    "df = process_categorical(df, 'NationalLeagueLevel', 5)\n",
    "df = process_categorical(df, 'PositionCategory', 5)\n",
    "df = process_categorical(df, 'Position', 5)"
   ],
   "metadata": {
    "collapsed": false,
    "ExecuteTime": {
     "start_time": "2023-05-18T07:52:30.745522Z",
     "end_time": "2023-05-18T07:52:30.856797Z"
    }
   }
  },
  {
   "cell_type": "code",
   "execution_count": 12,
   "outputs": [],
   "source": [
    "df.to_csv('../data/df_extensive_model_fs_unfiltered.csv')\n",
    "\n",
    "df = df[df['Value'] <= 150000000]  # exclude outliers\n",
    "\n",
    "df.to_csv('../data/df_extensive_model_fs.csv')"
   ],
   "metadata": {
    "collapsed": false,
    "ExecuteTime": {
     "start_time": "2023-05-18T07:52:30.857290Z",
     "end_time": "2023-05-18T07:52:32.559013Z"
    }
   }
  },
  {
   "cell_type": "code",
   "execution_count": 12,
   "outputs": [],
   "source": [],
   "metadata": {
    "collapsed": false,
    "ExecuteTime": {
     "start_time": "2023-05-18T07:52:32.559096Z",
     "end_time": "2023-05-18T07:52:32.560458Z"
    }
   }
  }
 ],
 "metadata": {
  "kernelspec": {
   "display_name": "Python 3",
   "language": "python",
   "name": "python3"
  },
  "language_info": {
   "codemirror_mode": {
    "name": "ipython",
    "version": 2
   },
   "file_extension": ".py",
   "mimetype": "text/x-python",
   "name": "python",
   "nbconvert_exporter": "python",
   "pygments_lexer": "ipython2",
   "version": "2.7.6"
  }
 },
 "nbformat": 4,
 "nbformat_minor": 0
}
