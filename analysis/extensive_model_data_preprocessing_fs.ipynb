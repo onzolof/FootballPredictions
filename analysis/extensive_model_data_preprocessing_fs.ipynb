{
 "cells": [
  {
   "cell_type": "code",
   "execution_count": 126,
   "metadata": {
    "collapsed": true,
    "ExecuteTime": {
     "start_time": "2023-05-17T13:38:10.967203Z",
     "end_time": "2023-05-17T13:38:10.967261Z"
    }
   },
   "outputs": [],
   "source": [
    "import pandas as pd\n",
    "import numpy as np\n",
    "from analysis.utils import process_categorical"
   ]
  },
  {
   "cell_type": "code",
   "execution_count": 127,
   "outputs": [],
   "source": [
    "df = pd.read_csv('../data/df_clean.csv', index_col=0)"
   ],
   "metadata": {
    "collapsed": false,
    "ExecuteTime": {
     "start_time": "2023-05-17T13:38:11.017214Z",
     "end_time": "2023-05-17T13:38:11.017312Z"
    }
   }
  },
  {
   "cell_type": "code",
   "execution_count": 128,
   "outputs": [
    {
     "name": "stdout",
     "output_type": "stream",
     "text": [
      "<class 'pandas.core.frame.DataFrame'>\n",
      "Int64Index: 17803 entries, 0 to 18334\n",
      "Data columns (total 45 columns):\n",
      " #   Column                    Non-Null Count  Dtype  \n",
      "---  ------                    --------------  -----  \n",
      " 0   LeagueCountry             17803 non-null  object \n",
      " 1   League                    17803 non-null  object \n",
      " 2   NationalLeagueLevel       17803 non-null  object \n",
      " 3   Club                      17803 non-null  object \n",
      " 4   No                        17494 non-null  float64\n",
      " 5   Name                      17803 non-null  object \n",
      " 6   Value                     17803 non-null  float64\n",
      " 7   HighestValue              17803 non-null  float64\n",
      " 8   Age                       17800 non-null  float64\n",
      " 9   Height                    16713 non-null  float64\n",
      " 10  Nationality               17803 non-null  object \n",
      " 11  Foot                      16118 non-null  object \n",
      " 12  Position                  17803 non-null  object \n",
      " 13  Consultancy               14496 non-null  object \n",
      " 14  Supplier                  2736 non-null   object \n",
      " 15  ClubSince                 17768 non-null  float64\n",
      " 16  ContractUntil             16730 non-null  float64\n",
      " 17  Injury                    17803 non-null  int64  \n",
      " 18  InternationalTeam         11967 non-null  object \n",
      " 19  ActiveInternational       17803 non-null  int64  \n",
      " 20  FormerInternational       17803 non-null  int64  \n",
      " 21  InternationalGames        11967 non-null  float64\n",
      " 22  InternationalGoals        11967 non-null  float64\n",
      " 23  StartingElevenQuote       15773 non-null  float64\n",
      " 24  MinutesQuote              15773 non-null  float64\n",
      " 25  TwPenaltySavesQuote       1737 non-null   float64\n",
      " 26  FsGoalParticipationQuote  14036 non-null  float64\n",
      " 27  Games                     13227 non-null  float64\n",
      " 28  PointsPerGame             12484 non-null  float64\n",
      " 29  Goals                     13227 non-null  float64\n",
      " 30  OwnGoals                  13227 non-null  float64\n",
      " 31  Ins                       13227 non-null  float64\n",
      " 32  Outs                      13227 non-null  float64\n",
      " 33  YellowCards               13227 non-null  float64\n",
      " 34  YellowRedCards            13227 non-null  float64\n",
      " 35  RedCards                  13227 non-null  float64\n",
      " 36  Minutes                   12437 non-null  float64\n",
      " 37  TwGoalsConceded           1459 non-null   float64\n",
      " 38  TwCleanSheets             1459 non-null   float64\n",
      " 39  FsAssists                 11768 non-null  float64\n",
      " 40  FsPenaltyGoals            11768 non-null  float64\n",
      " 41  FsMinutesPerGoal          6119 non-null   float64\n",
      " 42  PositionCategory          17803 non-null  object \n",
      " 43  Cards                     13227 non-null  float64\n",
      " 44  Trending                  17803 non-null  int64  \n",
      "dtypes: float64(29), int64(4), object(12)\n",
      "memory usage: 6.2+ MB\n"
     ]
    }
   ],
   "source": [
    "df.info()"
   ],
   "metadata": {
    "collapsed": false,
    "ExecuteTime": {
     "start_time": "2023-05-17T13:38:11.033890Z",
     "end_time": "2023-05-17T13:38:11.033939Z"
    }
   }
  },
  {
   "cell_type": "code",
   "execution_count": 129,
   "outputs": [],
   "source": [
    "df = df.loc[df['Position'] != 'Torwart']  # remove position Torwart"
   ],
   "metadata": {
    "collapsed": false,
    "ExecuteTime": {
     "start_time": "2023-05-17T13:38:11.057411Z",
     "end_time": "2023-05-17T13:38:11.057470Z"
    }
   }
  },
  {
   "cell_type": "code",
   "execution_count": 130,
   "outputs": [],
   "source": [
    "features = ['LeagueCountry', 'League', 'NationalLeagueLevel', 'Club', 'Age', 'Nationality', 'Position', 'PositionCategory', 'Supplier', 'ClubSince', 'InternationalTeam', 'ActiveInternational', 'FormerInternational', 'InternationalGames', 'InternationalGoals', 'Trending', 'MinutesQuote', 'FsGoalParticipationQuote', 'Games', 'PointsPerGame', 'Goals', 'Ins', 'Cards', 'Minutes', 'FsAssists', 'FsPenaltyGoals', 'FsMinutesPerGoal', 'Value']\n",
    "\n",
    "df = df[features]"
   ],
   "metadata": {
    "collapsed": false,
    "ExecuteTime": {
     "start_time": "2023-05-17T13:38:11.061731Z",
     "end_time": "2023-05-17T13:38:11.061769Z"
    }
   }
  },
  {
   "cell_type": "code",
   "execution_count": 131,
   "outputs": [
    {
     "name": "stdout",
     "output_type": "stream",
     "text": [
      "Column: Age, NaN values: 2\n",
      "Column: ClubSince, NaN values: 25\n",
      "Column: ActiveInternational, NaN values: 0\n",
      "Column: FormerInternational, NaN values: 0\n",
      "Column: InternationalGames, NaN values: 5111\n",
      "Column: InternationalGoals, NaN values: 5111\n",
      "Column: Trending, NaN values: 0\n",
      "Column: MinutesQuote, NaN values: 1740\n",
      "Column: FsGoalParticipationQuote, NaN values: 1740\n",
      "Column: Games, NaN values: 4008\n",
      "Column: PointsPerGame, NaN values: 4303\n",
      "Column: Goals, NaN values: 4008\n",
      "Column: Ins, NaN values: 4008\n",
      "Column: Cards, NaN values: 4008\n",
      "Column: Minutes, NaN values: 4348\n",
      "Column: FsAssists, NaN values: 4008\n",
      "Column: FsPenaltyGoals, NaN values: 4008\n",
      "Column: FsMinutesPerGoal, NaN values: 9657\n",
      "Column: Value, NaN values: 0\n"
     ]
    }
   ],
   "source": [
    "numeric_columns = df.select_dtypes(include=[np.number])\n",
    "for col in numeric_columns.columns:\n",
    "    print(f\"Column: {col}, NaN values: {numeric_columns[col].isna().sum()}\")"
   ],
   "metadata": {
    "collapsed": false,
    "ExecuteTime": {
     "start_time": "2023-05-17T13:38:11.061974Z",
     "end_time": "2023-05-17T13:38:11.061987Z"
    }
   }
  },
  {
   "cell_type": "code",
   "execution_count": 132,
   "outputs": [],
   "source": [
    "df = df.dropna(subset=['Age', 'ClubSince', 'MinutesQuote', 'FsGoalParticipationQuote', 'Games', 'PointsPerGame', 'Goals', 'Ins', 'Cards', 'Minutes', 'FsAssists', 'FsPenaltyGoals'])"
   ],
   "metadata": {
    "collapsed": false,
    "ExecuteTime": {
     "start_time": "2023-05-17T13:38:11.062017Z",
     "end_time": "2023-05-17T13:38:11.062028Z"
    }
   }
  },
  {
   "cell_type": "code",
   "execution_count": 133,
   "outputs": [],
   "source": [
    "df = df.fillna({'InternationalGames': 0, 'InternationalGoals': 0, 'FsMinutesPerGoal': 0})"
   ],
   "metadata": {
    "collapsed": false,
    "ExecuteTime": {
     "start_time": "2023-05-17T13:38:11.062052Z",
     "end_time": "2023-05-17T13:38:11.062099Z"
    }
   }
  },
  {
   "cell_type": "code",
   "execution_count": 134,
   "outputs": [
    {
     "name": "stdout",
     "output_type": "stream",
     "text": [
      "Column: Age, NaN values: 0\n",
      "Column: ClubSince, NaN values: 0\n",
      "Column: ActiveInternational, NaN values: 0\n",
      "Column: FormerInternational, NaN values: 0\n",
      "Column: InternationalGames, NaN values: 0\n",
      "Column: InternationalGoals, NaN values: 0\n",
      "Column: Trending, NaN values: 0\n",
      "Column: MinutesQuote, NaN values: 0\n",
      "Column: FsGoalParticipationQuote, NaN values: 0\n",
      "Column: Games, NaN values: 0\n",
      "Column: PointsPerGame, NaN values: 0\n",
      "Column: Goals, NaN values: 0\n",
      "Column: Ins, NaN values: 0\n",
      "Column: Cards, NaN values: 0\n",
      "Column: Minutes, NaN values: 0\n",
      "Column: FsAssists, NaN values: 0\n",
      "Column: FsPenaltyGoals, NaN values: 0\n",
      "Column: FsMinutesPerGoal, NaN values: 0\n",
      "Column: Value, NaN values: 0\n"
     ]
    }
   ],
   "source": [
    "numeric_columns = df.select_dtypes(include=[np.number])\n",
    "for col in numeric_columns.columns:\n",
    "    print(f\"Column: {col}, NaN values: {numeric_columns[col].isna().sum()}\")"
   ],
   "metadata": {
    "collapsed": false,
    "ExecuteTime": {
     "start_time": "2023-05-17T13:38:11.062167Z",
     "end_time": "2023-05-17T13:38:11.062179Z"
    }
   }
  },
  {
   "cell_type": "code",
   "execution_count": 135,
   "outputs": [
    {
     "name": "stdout",
     "output_type": "stream",
     "text": [
      "<class 'pandas.core.frame.DataFrame'>\n",
      "Int64Index: 11422 entries, 5 to 18332\n",
      "Data columns (total 28 columns):\n",
      " #   Column                    Non-Null Count  Dtype  \n",
      "---  ------                    --------------  -----  \n",
      " 0   LeagueCountry             11422 non-null  object \n",
      " 1   League                    11422 non-null  object \n",
      " 2   NationalLeagueLevel       11422 non-null  object \n",
      " 3   Club                      11422 non-null  object \n",
      " 4   Age                       11422 non-null  float64\n",
      " 5   Nationality               11422 non-null  object \n",
      " 6   Position                  11422 non-null  object \n",
      " 7   PositionCategory          11422 non-null  object \n",
      " 8   Supplier                  2123 non-null   object \n",
      " 9   ClubSince                 11422 non-null  float64\n",
      " 10  InternationalTeam         8299 non-null   object \n",
      " 11  ActiveInternational       11422 non-null  int64  \n",
      " 12  FormerInternational       11422 non-null  int64  \n",
      " 13  InternationalGames        11422 non-null  float64\n",
      " 14  InternationalGoals        11422 non-null  float64\n",
      " 15  Trending                  11422 non-null  int64  \n",
      " 16  MinutesQuote              11422 non-null  float64\n",
      " 17  FsGoalParticipationQuote  11422 non-null  float64\n",
      " 18  Games                     11422 non-null  float64\n",
      " 19  PointsPerGame             11422 non-null  float64\n",
      " 20  Goals                     11422 non-null  float64\n",
      " 21  Ins                       11422 non-null  float64\n",
      " 22  Cards                     11422 non-null  float64\n",
      " 23  Minutes                   11422 non-null  float64\n",
      " 24  FsAssists                 11422 non-null  float64\n",
      " 25  FsPenaltyGoals            11422 non-null  float64\n",
      " 26  FsMinutesPerGoal          11422 non-null  float64\n",
      " 27  Value                     11422 non-null  float64\n",
      "dtypes: float64(16), int64(3), object(9)\n",
      "memory usage: 2.5+ MB\n"
     ]
    }
   ],
   "source": [
    "df.info()"
   ],
   "metadata": {
    "collapsed": false,
    "ExecuteTime": {
     "start_time": "2023-05-17T13:38:11.070860Z",
     "end_time": "2023-05-17T13:38:11.070900Z"
    }
   }
  },
  {
   "cell_type": "code",
   "execution_count": 136,
   "outputs": [],
   "source": [
    "df = process_categorical(df, 'Supplier')\n",
    "df = process_categorical(df, 'InternationalTeam', 5)\n",
    "df = process_categorical(df, 'League')\n",
    "df = process_categorical(df, 'Club')\n",
    "df = process_categorical(df, 'Nationality')\n",
    "df = process_categorical(df, 'LeagueCountry', 5)\n",
    "df = process_categorical(df, 'NationalLeagueLevel', 5)\n",
    "df = process_categorical(df, 'PositionCategory', 5)\n",
    "df = process_categorical(df, 'Position', 5)"
   ],
   "metadata": {
    "collapsed": false,
    "ExecuteTime": {
     "start_time": "2023-05-17T13:38:11.182781Z",
     "end_time": "2023-05-17T13:38:11.182864Z"
    }
   }
  },
  {
   "cell_type": "code",
   "execution_count": 137,
   "outputs": [],
   "source": [
    "df.to_csv('../data/df_extensive_model_fs_unfiltered.csv')\n",
    "\n",
    "df = df[df['Value'] <= 150000000]  # exclude outliers\n",
    "\n",
    "df.to_csv('../data/df_extensive_model_fs.csv')"
   ],
   "metadata": {
    "collapsed": false,
    "ExecuteTime": {
     "start_time": "2023-05-17T13:38:12.728440Z",
     "end_time": "2023-05-17T13:38:12.728535Z"
    }
   }
  },
  {
   "cell_type": "code",
   "execution_count": 137,
   "outputs": [],
   "source": [],
   "metadata": {
    "collapsed": false,
    "ExecuteTime": {
     "start_time": "2023-05-17T13:38:12.729820Z",
     "end_time": "2023-05-17T13:38:12.729858Z"
    }
   }
  }
 ],
 "metadata": {
  "kernelspec": {
   "display_name": "Python 3",
   "language": "python",
   "name": "python3"
  },
  "language_info": {
   "codemirror_mode": {
    "name": "ipython",
    "version": 2
   },
   "file_extension": ".py",
   "mimetype": "text/x-python",
   "name": "python",
   "nbconvert_exporter": "python",
   "pygments_lexer": "ipython2",
   "version": "2.7.6"
  }
 },
 "nbformat": 4,
 "nbformat_minor": 0
}
