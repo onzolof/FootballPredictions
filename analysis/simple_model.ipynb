{
 "cells": [
  {
   "cell_type": "code",
   "execution_count": 18,
   "metadata": {
    "collapsed": true,
    "ExecuteTime": {
     "start_time": "2023-05-10T17:37:53.136798Z",
     "end_time": "2023-05-10T17:37:53.394827Z"
    }
   },
   "outputs": [],
   "source": [
    "import pandas as pd"
   ]
  },
  {
   "cell_type": "code",
   "execution_count": 19,
   "outputs": [],
   "source": [
    "df = pd.read_csv('../data/df_clean.csv')"
   ],
   "metadata": {
    "collapsed": false,
    "ExecuteTime": {
     "start_time": "2023-05-10T17:37:53.144329Z",
     "end_time": "2023-05-10T17:37:53.454840Z"
    }
   }
  },
  {
   "cell_type": "code",
   "execution_count": 20,
   "outputs": [
    {
     "name": "stdout",
     "output_type": "stream",
     "text": [
      "<class 'pandas.core.frame.DataFrame'>\n",
      "RangeIndex: 17803 entries, 0 to 17802\n",
      "Data columns (total 44 columns):\n",
      " #   Column                    Non-Null Count  Dtype  \n",
      "---  ------                    --------------  -----  \n",
      " 0   LeagueCountry             17803 non-null  object \n",
      " 1   League                    17803 non-null  object \n",
      " 2   NationalLeagueLevel       17803 non-null  object \n",
      " 3   Club                      17803 non-null  object \n",
      " 4   No                        17494 non-null  float64\n",
      " 5   Name                      17803 non-null  object \n",
      " 6   Value                     17803 non-null  float64\n",
      " 7   HighestValue              17803 non-null  float64\n",
      " 8   Age                       17800 non-null  float64\n",
      " 9   Height                    16713 non-null  float64\n",
      " 10  Nationality               17803 non-null  object \n",
      " 11  Foot                      16118 non-null  object \n",
      " 12  Position                  17803 non-null  object \n",
      " 13  Consultancy               14496 non-null  object \n",
      " 14  Supplier                  2736 non-null   object \n",
      " 15  ClubSince                 17768 non-null  float64\n",
      " 16  ContractUntil             16730 non-null  float64\n",
      " 17  Injury                    17803 non-null  int64  \n",
      " 18  InternationalTeam         11967 non-null  object \n",
      " 19  ActiveInternational       17803 non-null  int64  \n",
      " 20  FormerInternational       17803 non-null  int64  \n",
      " 21  InternationalGames        11967 non-null  float64\n",
      " 22  InternationalGoals        11967 non-null  float64\n",
      " 23  StartingElevenQuote       15773 non-null  float64\n",
      " 24  MinutesQuote              15773 non-null  float64\n",
      " 25  TwPenaltySavesQuote       1737 non-null   float64\n",
      " 26  FsGoalParticipationQuote  14036 non-null  float64\n",
      " 27  Games                     13227 non-null  float64\n",
      " 28  PointsPerGame             12484 non-null  float64\n",
      " 29  Goals                     13227 non-null  float64\n",
      " 30  OwnGoals                  13227 non-null  float64\n",
      " 31  Ins                       13227 non-null  float64\n",
      " 32  Outs                      13227 non-null  float64\n",
      " 33  YellowCards               13227 non-null  float64\n",
      " 34  YellowRedCards            13227 non-null  float64\n",
      " 35  RedCards                  13227 non-null  float64\n",
      " 36  Minutes                   12437 non-null  float64\n",
      " 37  TwGoalsConceded           1459 non-null   float64\n",
      " 38  TwCleanSheets             1459 non-null   float64\n",
      " 39  FsAssists                 11768 non-null  float64\n",
      " 40  FsPenaltyGoals            11768 non-null  float64\n",
      " 41  FsMinutesPerGoal          6119 non-null   float64\n",
      " 42  PositionCategory          17803 non-null  object \n",
      " 43  Trending                  17803 non-null  int64  \n",
      "dtypes: float64(28), int64(4), object(12)\n",
      "memory usage: 6.0+ MB\n"
     ]
    }
   ],
   "source": [
    "df.info()"
   ],
   "metadata": {
    "collapsed": false,
    "ExecuteTime": {
     "start_time": "2023-05-10T17:37:53.454840Z",
     "end_time": "2023-05-10T17:37:53.537802Z"
    }
   }
  },
  {
   "cell_type": "code",
   "execution_count": 21,
   "outputs": [],
   "source": [
    "df = df.loc[df['Position'] != 'Torwart']  # remove position Torwart"
   ],
   "metadata": {
    "collapsed": false,
    "ExecuteTime": {
     "start_time": "2023-05-10T17:37:53.537802Z",
     "end_time": "2023-05-10T17:37:53.632711Z"
    }
   }
  },
  {
   "cell_type": "code",
   "execution_count": 22,
   "outputs": [],
   "source": [
    "features = ['LeagueCountry', 'League', 'NationalLeagueLevel', 'Club', 'Age', 'Height', 'Nationality', 'Foot', 'Position', 'PositionCategory', 'Consultancy', 'Supplier', 'ClubSince', 'ContractUntil', 'Injury', 'InternationalTeam', 'ActiveInternational', 'FormerInternational', 'InternationalGames', 'InternationalGoals', 'Trending']\n",
    "target = 'Value'\n",
    "\n",
    "X = df[features]\n",
    "y = df[target]"
   ],
   "metadata": {
    "collapsed": false,
    "ExecuteTime": {
     "start_time": "2023-05-10T17:37:53.584756Z",
     "end_time": "2023-05-10T17:37:53.696073Z"
    }
   }
  },
  {
   "cell_type": "code",
   "execution_count": 29,
   "outputs": [
    {
     "name": "stdout",
     "output_type": "stream",
     "text": [
      "<class 'pandas.core.frame.DataFrame'>\n",
      "Int64Index: 15776 entries, 5 to 17802\n",
      "Data columns (total 21 columns):\n",
      " #   Column               Non-Null Count  Dtype  \n",
      "---  ------               --------------  -----  \n",
      " 0   LeagueCountry        15776 non-null  object \n",
      " 1   League               15776 non-null  object \n",
      " 2   NationalLeagueLevel  15776 non-null  object \n",
      " 3   Club                 15776 non-null  object \n",
      " 4   Age                  15774 non-null  float64\n",
      " 5   Height               14819 non-null  float64\n",
      " 6   Nationality          15776 non-null  object \n",
      " 7   Foot                 14406 non-null  object \n",
      " 8   Position             15776 non-null  object \n",
      " 9   PositionCategory     15776 non-null  object \n",
      " 10  Consultancy          12947 non-null  object \n",
      " 11  Supplier             2491 non-null   object \n",
      " 12  ClubSince            15751 non-null  float64\n",
      " 13  ContractUntil        14870 non-null  float64\n",
      " 14  Injury               15776 non-null  int64  \n",
      " 15  InternationalTeam    10665 non-null  object \n",
      " 16  ActiveInternational  15776 non-null  int64  \n",
      " 17  FormerInternational  15776 non-null  int64  \n",
      " 18  InternationalGames   10665 non-null  float64\n",
      " 19  InternationalGoals   10665 non-null  float64\n",
      " 20  Trending             15776 non-null  int64  \n",
      "dtypes: float64(6), int64(4), object(11)\n",
      "memory usage: 2.6+ MB\n"
     ]
    }
   ],
   "source": [
    "X.info()"
   ],
   "metadata": {
    "collapsed": false,
    "ExecuteTime": {
     "start_time": "2023-05-10T17:38:09.585612Z",
     "end_time": "2023-05-10T17:38:09.629850Z"
    }
   }
  },
  {
   "cell_type": "code",
   "execution_count": 24,
   "outputs": [
    {
     "data": {
      "text/plain": "5        5000000.0\n6        4000000.0\n7        1500000.0\n8         500000.0\n9         400000.0\n           ...    \n17798     450000.0\n17799     100000.0\n17800     100000.0\n17801     300000.0\n17802      50000.0\nName: Value, Length: 15776, dtype: float64"
     },
     "execution_count": 24,
     "metadata": {},
     "output_type": "execute_result"
    }
   ],
   "source": [
    "y"
   ],
   "metadata": {
    "collapsed": false,
    "ExecuteTime": {
     "start_time": "2023-05-10T17:37:53.690521Z",
     "end_time": "2023-05-10T17:37:53.780584Z"
    }
   }
  },
  {
   "cell_type": "code",
   "execution_count": 25,
   "outputs": [
    {
     "data": {
      "text/plain": "       foot_beidfüßig  foot_links  foot_rechts\n5                   0           0            1\n6                   0           1            0\n7                   0           0            1\n8                   0           0            0\n9                   0           0            1\n...               ...         ...          ...\n17798               0           0            1\n17799               0           1            0\n17800               0           0            1\n17801               0           1            0\n17802               0           0            1\n\n[15776 rows x 3 columns]",
      "text/html": "<div>\n<style scoped>\n    .dataframe tbody tr th:only-of-type {\n        vertical-align: middle;\n    }\n\n    .dataframe tbody tr th {\n        vertical-align: top;\n    }\n\n    .dataframe thead th {\n        text-align: right;\n    }\n</style>\n<table border=\"1\" class=\"dataframe\">\n  <thead>\n    <tr style=\"text-align: right;\">\n      <th></th>\n      <th>foot_beidfüßig</th>\n      <th>foot_links</th>\n      <th>foot_rechts</th>\n    </tr>\n  </thead>\n  <tbody>\n    <tr>\n      <th>5</th>\n      <td>0</td>\n      <td>0</td>\n      <td>1</td>\n    </tr>\n    <tr>\n      <th>6</th>\n      <td>0</td>\n      <td>1</td>\n      <td>0</td>\n    </tr>\n    <tr>\n      <th>7</th>\n      <td>0</td>\n      <td>0</td>\n      <td>1</td>\n    </tr>\n    <tr>\n      <th>8</th>\n      <td>0</td>\n      <td>0</td>\n      <td>0</td>\n    </tr>\n    <tr>\n      <th>9</th>\n      <td>0</td>\n      <td>0</td>\n      <td>1</td>\n    </tr>\n    <tr>\n      <th>...</th>\n      <td>...</td>\n      <td>...</td>\n      <td>...</td>\n    </tr>\n    <tr>\n      <th>17798</th>\n      <td>0</td>\n      <td>0</td>\n      <td>1</td>\n    </tr>\n    <tr>\n      <th>17799</th>\n      <td>0</td>\n      <td>1</td>\n      <td>0</td>\n    </tr>\n    <tr>\n      <th>17800</th>\n      <td>0</td>\n      <td>0</td>\n      <td>1</td>\n    </tr>\n    <tr>\n      <th>17801</th>\n      <td>0</td>\n      <td>1</td>\n      <td>0</td>\n    </tr>\n    <tr>\n      <th>17802</th>\n      <td>0</td>\n      <td>0</td>\n      <td>1</td>\n    </tr>\n  </tbody>\n</table>\n<p>15776 rows × 3 columns</p>\n</div>"
     },
     "execution_count": 25,
     "metadata": {},
     "output_type": "execute_result"
    }
   ],
   "source": [
    "pd.get_dummies(X['Foot'], prefix='foot')"
   ],
   "metadata": {
    "collapsed": false,
    "ExecuteTime": {
     "start_time": "2023-05-10T17:37:53.727306Z",
     "end_time": "2023-05-10T17:37:53.806435Z"
    }
   }
  },
  {
   "cell_type": "code",
   "execution_count": 26,
   "outputs": [
    {
     "data": {
      "text/plain": "Supplier\nAsics              4\nDIADORA            6\nErima              1\nHummel             1\nJoma               5\nLotto             12\nMasita             1\nMizuno            11\nNew Balance       19\nNike            1170\nPuma             362\nSaller             2\nUmbro              6\nUnder Armour      13\nadidas           878\ndtype: int64"
     },
     "execution_count": 26,
     "metadata": {},
     "output_type": "execute_result"
    }
   ],
   "source": [
    "X.groupby('Supplier').size()"
   ],
   "metadata": {
    "collapsed": false,
    "ExecuteTime": {
     "start_time": "2023-05-10T17:37:53.770114Z",
     "end_time": "2023-05-10T17:37:53.806435Z"
    }
   }
  },
  {
   "cell_type": "code",
   "execution_count": 27,
   "outputs": [
    {
     "data": {
      "text/plain": "Consultancy\n#LEADERS                          5\n+Soccer International             1\n100and10 Sportmanagement GmbH    10\n10Management                      6\n10Ten Football                    5\n                                 ..\nthe path sports management        1\nthink forward                    14\ntopgoal sports management         3\nturfu zone                        4\nÖner Karalar                      4\nLength: 2227, dtype: int64"
     },
     "execution_count": 27,
     "metadata": {},
     "output_type": "execute_result"
    }
   ],
   "source": [
    "X.groupby('Consultancy').size()"
   ],
   "metadata": {
    "collapsed": false,
    "ExecuteTime": {
     "start_time": "2023-05-10T17:37:53.806435Z",
     "end_time": "2023-05-10T17:37:53.976795Z"
    }
   }
  },
  {
   "cell_type": "code",
   "execution_count": 28,
   "outputs": [
    {
     "data": {
      "text/plain": "       supplier_Lotto  supplier_Mizuno  supplier_New Balance  supplier_Nike  \\\n5                   0                0                     0              0   \n6                   0                0                     0              0   \n7                   0                0                     0              1   \n8                   0                0                     0              0   \n9                   0                0                     0              0   \n...               ...              ...                   ...            ...   \n17798               0                0                     0              0   \n17799               0                0                     0              0   \n17800               0                0                     0              0   \n17801               0                0                     0              0   \n17802               0                0                     0              0   \n\n       supplier_Puma  supplier_Under Armour  supplier_adidas  supplier_other  \n5                  0                      0                0               1  \n6                  0                      0                1               0  \n7                  0                      0                0               0  \n8                  0                      0                1               0  \n9                  0                      0                0               1  \n...              ...                    ...              ...             ...  \n17798              0                      0                0               1  \n17799              0                      0                0               1  \n17800              0                      0                0               1  \n17801              0                      0                0               1  \n17802              0                      0                0               1  \n\n[15776 rows x 8 columns]",
      "text/html": "<div>\n<style scoped>\n    .dataframe tbody tr th:only-of-type {\n        vertical-align: middle;\n    }\n\n    .dataframe tbody tr th {\n        vertical-align: top;\n    }\n\n    .dataframe thead th {\n        text-align: right;\n    }\n</style>\n<table border=\"1\" class=\"dataframe\">\n  <thead>\n    <tr style=\"text-align: right;\">\n      <th></th>\n      <th>supplier_Lotto</th>\n      <th>supplier_Mizuno</th>\n      <th>supplier_New Balance</th>\n      <th>supplier_Nike</th>\n      <th>supplier_Puma</th>\n      <th>supplier_Under Armour</th>\n      <th>supplier_adidas</th>\n      <th>supplier_other</th>\n    </tr>\n  </thead>\n  <tbody>\n    <tr>\n      <th>5</th>\n      <td>0</td>\n      <td>0</td>\n      <td>0</td>\n      <td>0</td>\n      <td>0</td>\n      <td>0</td>\n      <td>0</td>\n      <td>1</td>\n    </tr>\n    <tr>\n      <th>6</th>\n      <td>0</td>\n      <td>0</td>\n      <td>0</td>\n      <td>0</td>\n      <td>0</td>\n      <td>0</td>\n      <td>1</td>\n      <td>0</td>\n    </tr>\n    <tr>\n      <th>7</th>\n      <td>0</td>\n      <td>0</td>\n      <td>0</td>\n      <td>1</td>\n      <td>0</td>\n      <td>0</td>\n      <td>0</td>\n      <td>0</td>\n    </tr>\n    <tr>\n      <th>8</th>\n      <td>0</td>\n      <td>0</td>\n      <td>0</td>\n      <td>0</td>\n      <td>0</td>\n      <td>0</td>\n      <td>1</td>\n      <td>0</td>\n    </tr>\n    <tr>\n      <th>9</th>\n      <td>0</td>\n      <td>0</td>\n      <td>0</td>\n      <td>0</td>\n      <td>0</td>\n      <td>0</td>\n      <td>0</td>\n      <td>1</td>\n    </tr>\n    <tr>\n      <th>...</th>\n      <td>...</td>\n      <td>...</td>\n      <td>...</td>\n      <td>...</td>\n      <td>...</td>\n      <td>...</td>\n      <td>...</td>\n      <td>...</td>\n    </tr>\n    <tr>\n      <th>17798</th>\n      <td>0</td>\n      <td>0</td>\n      <td>0</td>\n      <td>0</td>\n      <td>0</td>\n      <td>0</td>\n      <td>0</td>\n      <td>1</td>\n    </tr>\n    <tr>\n      <th>17799</th>\n      <td>0</td>\n      <td>0</td>\n      <td>0</td>\n      <td>0</td>\n      <td>0</td>\n      <td>0</td>\n      <td>0</td>\n      <td>1</td>\n    </tr>\n    <tr>\n      <th>17800</th>\n      <td>0</td>\n      <td>0</td>\n      <td>0</td>\n      <td>0</td>\n      <td>0</td>\n      <td>0</td>\n      <td>0</td>\n      <td>1</td>\n    </tr>\n    <tr>\n      <th>17801</th>\n      <td>0</td>\n      <td>0</td>\n      <td>0</td>\n      <td>0</td>\n      <td>0</td>\n      <td>0</td>\n      <td>0</td>\n      <td>1</td>\n    </tr>\n    <tr>\n      <th>17802</th>\n      <td>0</td>\n      <td>0</td>\n      <td>0</td>\n      <td>0</td>\n      <td>0</td>\n      <td>0</td>\n      <td>0</td>\n      <td>1</td>\n    </tr>\n  </tbody>\n</table>\n<p>15776 rows × 8 columns</p>\n</div>"
     },
     "execution_count": 28,
     "metadata": {},
     "output_type": "execute_result"
    }
   ],
   "source": [
    "# Count the occurrences of each unique value in the column\n",
    "value_counts = df['Supplier'].value_counts()\n",
    "\n",
    "# Identify the values that occur more than 10 times\n",
    "frequent_values = value_counts[value_counts > 10].index\n",
    "\n",
    "# Create a new column to store the processed values\n",
    "df['processed_column'] = df['Supplier'].apply(lambda x: x if x in frequent_values else 'other')\n",
    "\n",
    "# Create dummy variables for the processed column\n",
    "pd.get_dummies(df['processed_column'], prefix='supplier')"
   ],
   "metadata": {
    "collapsed": false,
    "ExecuteTime": {
     "start_time": "2023-05-10T17:37:53.851704Z",
     "end_time": "2023-05-10T17:37:54.120474Z"
    }
   }
  },
  {
   "cell_type": "code",
   "execution_count": 17,
   "outputs": [
    {
     "data": {
      "text/plain": "       consultancy_11WINS  consultancy_14 Sports Management  \\\n5                       0                                 0   \n6                       0                                 0   \n7                       0                                 0   \n8                       0                                 0   \n9                       0                                 0   \n...                   ...                               ...   \n17798                   0                                 0   \n17799                   0                                 0   \n17800                   0                                 0   \n17801                   0                                 0   \n17802                   0                                 0   \n\n       consultancy_2SAgency  consultancy_A-GROUP  \\\n5                         0                    0   \n6                         0                    0   \n7                         0                    0   \n8                         0                    0   \n9                         0                    0   \n...                     ...                  ...   \n17798                     0                    0   \n17799                     0                    0   \n17800                     0                    0   \n17801                     0                    0   \n17802                     0                    0   \n\n       consultancy_A.M.A. Sports Agency  consultancy_AC Talent  \\\n5                                     0                      0   \n6                                     0                      0   \n7                                     0                      0   \n8                                     0                      0   \n9                                     0                      0   \n...                                 ...                    ...   \n17798                                 0                      0   \n17799                                 0                      0   \n17800                                 0                      0   \n17801                                 0                      0   \n17802                                 0                      0   \n\n       consultancy_AKA Global GmbH  consultancy_ALIK FOOTBALL MANAGEMENT  \\\n5                                0                                     0   \n6                                0                                     0   \n7                                0                                     0   \n8                                0                                     0   \n9                                0                                     0   \n...                            ...                                   ...   \n17798                            0                                     0   \n17799                            0                                     0   \n17800                            0                                     0   \n17801                            0                                     0   \n17802                            0                                     0   \n\n       consultancy_AMS CONSULTING  consultancy_ATS  ...  \\\n5                               0                0  ...   \n6                               0                0  ...   \n7                               0                0  ...   \n8                               0                0  ...   \n9                               0                0  ...   \n...                           ...              ...  ...   \n17798                           0                0  ...   \n17799                           0                0  ...   \n17800                           0                0  ...   \n17801                           0                0  ...   \n17802                           0                0  ...   \n\n       consultancy_YOU FIRST  consultancy_Zafi Agent  \\\n5                          0                       0   \n6                          0                       0   \n7                          0                       0   \n8                          0                       0   \n9                          0                       0   \n...                      ...                     ...   \n17798                      0                       0   \n17799                      0                       0   \n17800                      0                       0   \n17801                      0                       0   \n17802                      0                       0   \n\n       consultancy_fair-sport GmbH  consultancy_feel soccer GmbH  \\\n5                                0                             0   \n6                                0                             0   \n7                                0                             0   \n8                                0                             0   \n9                                0                             0   \n...                            ...                           ...   \n17798                            0                             0   \n17799                            0                             0   \n17800                            0                             0   \n17801                            0                             0   \n17802                            0                             0   \n\n       consultancy_goOn as  consultancy_ohne Berater  consultancy_other  \\\n5                        0                         0                  0   \n6                        0                         0                  0   \n7                        0                         0                  0   \n8                        0                         0                  0   \n9                        0                         0                  0   \n...                    ...                       ...                ...   \n17798                    0                         0                  0   \n17799                    0                         0                  0   \n17800                    1                         0                  0   \n17801                    0                         0                  1   \n17802                    0                         0                  1   \n\n       consultancy_prosm  consultancy_score agencies  \\\n5                      0                           0   \n6                      0                           0   \n7                      0                           0   \n8                      0                           0   \n9                      0                           0   \n...                  ...                         ...   \n17798                  0                           0   \n17799                  0                           0   \n17800                  0                           0   \n17801                  0                           0   \n17802                  0                           0   \n\n       consultancy_think forward  \n5                              0  \n6                              0  \n7                              0  \n8                              0  \n9                              0  \n...                          ...  \n17798                          0  \n17799                          0  \n17800                          0  \n17801                          0  \n17802                          0  \n\n[15776 rows x 254 columns]",
      "text/html": "<div>\n<style scoped>\n    .dataframe tbody tr th:only-of-type {\n        vertical-align: middle;\n    }\n\n    .dataframe tbody tr th {\n        vertical-align: top;\n    }\n\n    .dataframe thead th {\n        text-align: right;\n    }\n</style>\n<table border=\"1\" class=\"dataframe\">\n  <thead>\n    <tr style=\"text-align: right;\">\n      <th></th>\n      <th>consultancy_11WINS</th>\n      <th>consultancy_14 Sports Management</th>\n      <th>consultancy_2SAgency</th>\n      <th>consultancy_A-GROUP</th>\n      <th>consultancy_A.M.A. Sports Agency</th>\n      <th>consultancy_AC Talent</th>\n      <th>consultancy_AKA Global GmbH</th>\n      <th>consultancy_ALIK FOOTBALL MANAGEMENT</th>\n      <th>consultancy_AMS CONSULTING</th>\n      <th>consultancy_ATS</th>\n      <th>...</th>\n      <th>consultancy_YOU FIRST</th>\n      <th>consultancy_Zafi Agent</th>\n      <th>consultancy_fair-sport GmbH</th>\n      <th>consultancy_feel soccer GmbH</th>\n      <th>consultancy_goOn as</th>\n      <th>consultancy_ohne Berater</th>\n      <th>consultancy_other</th>\n      <th>consultancy_prosm</th>\n      <th>consultancy_score agencies</th>\n      <th>consultancy_think forward</th>\n    </tr>\n  </thead>\n  <tbody>\n    <tr>\n      <th>5</th>\n      <td>0</td>\n      <td>0</td>\n      <td>0</td>\n      <td>0</td>\n      <td>0</td>\n      <td>0</td>\n      <td>0</td>\n      <td>0</td>\n      <td>0</td>\n      <td>0</td>\n      <td>...</td>\n      <td>0</td>\n      <td>0</td>\n      <td>0</td>\n      <td>0</td>\n      <td>0</td>\n      <td>0</td>\n      <td>0</td>\n      <td>0</td>\n      <td>0</td>\n      <td>0</td>\n    </tr>\n    <tr>\n      <th>6</th>\n      <td>0</td>\n      <td>0</td>\n      <td>0</td>\n      <td>0</td>\n      <td>0</td>\n      <td>0</td>\n      <td>0</td>\n      <td>0</td>\n      <td>0</td>\n      <td>0</td>\n      <td>...</td>\n      <td>0</td>\n      <td>0</td>\n      <td>0</td>\n      <td>0</td>\n      <td>0</td>\n      <td>0</td>\n      <td>0</td>\n      <td>0</td>\n      <td>0</td>\n      <td>0</td>\n    </tr>\n    <tr>\n      <th>7</th>\n      <td>0</td>\n      <td>0</td>\n      <td>0</td>\n      <td>0</td>\n      <td>0</td>\n      <td>0</td>\n      <td>0</td>\n      <td>0</td>\n      <td>0</td>\n      <td>0</td>\n      <td>...</td>\n      <td>0</td>\n      <td>0</td>\n      <td>0</td>\n      <td>0</td>\n      <td>0</td>\n      <td>0</td>\n      <td>0</td>\n      <td>0</td>\n      <td>0</td>\n      <td>0</td>\n    </tr>\n    <tr>\n      <th>8</th>\n      <td>0</td>\n      <td>0</td>\n      <td>0</td>\n      <td>0</td>\n      <td>0</td>\n      <td>0</td>\n      <td>0</td>\n      <td>0</td>\n      <td>0</td>\n      <td>0</td>\n      <td>...</td>\n      <td>0</td>\n      <td>0</td>\n      <td>0</td>\n      <td>0</td>\n      <td>0</td>\n      <td>0</td>\n      <td>0</td>\n      <td>0</td>\n      <td>0</td>\n      <td>0</td>\n    </tr>\n    <tr>\n      <th>9</th>\n      <td>0</td>\n      <td>0</td>\n      <td>0</td>\n      <td>0</td>\n      <td>0</td>\n      <td>0</td>\n      <td>0</td>\n      <td>0</td>\n      <td>0</td>\n      <td>0</td>\n      <td>...</td>\n      <td>0</td>\n      <td>0</td>\n      <td>0</td>\n      <td>0</td>\n      <td>0</td>\n      <td>0</td>\n      <td>0</td>\n      <td>0</td>\n      <td>0</td>\n      <td>0</td>\n    </tr>\n    <tr>\n      <th>...</th>\n      <td>...</td>\n      <td>...</td>\n      <td>...</td>\n      <td>...</td>\n      <td>...</td>\n      <td>...</td>\n      <td>...</td>\n      <td>...</td>\n      <td>...</td>\n      <td>...</td>\n      <td>...</td>\n      <td>...</td>\n      <td>...</td>\n      <td>...</td>\n      <td>...</td>\n      <td>...</td>\n      <td>...</td>\n      <td>...</td>\n      <td>...</td>\n      <td>...</td>\n      <td>...</td>\n    </tr>\n    <tr>\n      <th>17798</th>\n      <td>0</td>\n      <td>0</td>\n      <td>0</td>\n      <td>0</td>\n      <td>0</td>\n      <td>0</td>\n      <td>0</td>\n      <td>0</td>\n      <td>0</td>\n      <td>0</td>\n      <td>...</td>\n      <td>0</td>\n      <td>0</td>\n      <td>0</td>\n      <td>0</td>\n      <td>0</td>\n      <td>0</td>\n      <td>0</td>\n      <td>0</td>\n      <td>0</td>\n      <td>0</td>\n    </tr>\n    <tr>\n      <th>17799</th>\n      <td>0</td>\n      <td>0</td>\n      <td>0</td>\n      <td>0</td>\n      <td>0</td>\n      <td>0</td>\n      <td>0</td>\n      <td>0</td>\n      <td>0</td>\n      <td>0</td>\n      <td>...</td>\n      <td>0</td>\n      <td>0</td>\n      <td>0</td>\n      <td>0</td>\n      <td>0</td>\n      <td>0</td>\n      <td>0</td>\n      <td>0</td>\n      <td>0</td>\n      <td>0</td>\n    </tr>\n    <tr>\n      <th>17800</th>\n      <td>0</td>\n      <td>0</td>\n      <td>0</td>\n      <td>0</td>\n      <td>0</td>\n      <td>0</td>\n      <td>0</td>\n      <td>0</td>\n      <td>0</td>\n      <td>0</td>\n      <td>...</td>\n      <td>0</td>\n      <td>0</td>\n      <td>0</td>\n      <td>0</td>\n      <td>1</td>\n      <td>0</td>\n      <td>0</td>\n      <td>0</td>\n      <td>0</td>\n      <td>0</td>\n    </tr>\n    <tr>\n      <th>17801</th>\n      <td>0</td>\n      <td>0</td>\n      <td>0</td>\n      <td>0</td>\n      <td>0</td>\n      <td>0</td>\n      <td>0</td>\n      <td>0</td>\n      <td>0</td>\n      <td>0</td>\n      <td>...</td>\n      <td>0</td>\n      <td>0</td>\n      <td>0</td>\n      <td>0</td>\n      <td>0</td>\n      <td>0</td>\n      <td>1</td>\n      <td>0</td>\n      <td>0</td>\n      <td>0</td>\n    </tr>\n    <tr>\n      <th>17802</th>\n      <td>0</td>\n      <td>0</td>\n      <td>0</td>\n      <td>0</td>\n      <td>0</td>\n      <td>0</td>\n      <td>0</td>\n      <td>0</td>\n      <td>0</td>\n      <td>0</td>\n      <td>...</td>\n      <td>0</td>\n      <td>0</td>\n      <td>0</td>\n      <td>0</td>\n      <td>0</td>\n      <td>0</td>\n      <td>1</td>\n      <td>0</td>\n      <td>0</td>\n      <td>0</td>\n    </tr>\n  </tbody>\n</table>\n<p>15776 rows × 254 columns</p>\n</div>"
     },
     "execution_count": 17,
     "metadata": {},
     "output_type": "execute_result"
    }
   ],
   "source": [
    "# Group by 'Consultancy' and count the instances\n",
    "value_counts = df['Supplier'].value_counts()\n",
    "\n",
    "# Identify the consultancies that appear more than 10 times\n",
    "frequent_consultancies = value_counts[value_counts > 10].index\n",
    "\n",
    "# Create a new column to store the processed values\n",
    "df['processed_consultancy'] = df['Consultancy'].apply(lambda x: x if x in frequent_consultancies else 'other')\n",
    "\n",
    "# Create dummy variables for the processed column\n",
    "pd.get_dummies(X['processed_consultancy'], prefix='consultancy')"
   ],
   "metadata": {
    "collapsed": false,
    "ExecuteTime": {
     "start_time": "2023-05-10T17:37:48.586805Z",
     "end_time": "2023-05-10T17:37:48.718915Z"
    }
   }
  },
  {
   "cell_type": "code",
   "execution_count": 32,
   "outputs": [
    {
     "data": {
      "text/plain": "Index(['Albanien', 'Albanien U21', 'Algerien', 'Angola', 'Argentinien',\n       'Argentinien U20', 'Argentinien U23', 'Armenien', 'Australien',\n       'Belarus',\n       ...\n       'Venezuela', 'Wales', 'Wales U21', 'Zypern', 'Österreich',\n       'Österreich U17', 'Österreich U18', 'Österreich U19', 'Österreich U20',\n       'Österreich U21'],\n      dtype='object', name='InternationalTeam', length=216)"
     },
     "execution_count": 32,
     "metadata": {},
     "output_type": "execute_result"
    }
   ],
   "source": [
    "team_counts = X.groupby('InternationalTeam').size()\n",
    "frequent_teams = team_counts[team_counts > 5].index\n",
    "frequent_teams"
   ],
   "metadata": {
    "collapsed": false,
    "ExecuteTime": {
     "start_time": "2023-05-10T17:41:56.066998Z",
     "end_time": "2023-05-10T17:41:56.169215Z"
    }
   }
  }
 ],
 "metadata": {
  "kernelspec": {
   "display_name": "Python 3",
   "language": "python",
   "name": "python3"
  },
  "language_info": {
   "codemirror_mode": {
    "name": "ipython",
    "version": 2
   },
   "file_extension": ".py",
   "mimetype": "text/x-python",
   "name": "python",
   "nbconvert_exporter": "python",
   "pygments_lexer": "ipython2",
   "version": "2.7.6"
  }
 },
 "nbformat": 4,
 "nbformat_minor": 0
}
