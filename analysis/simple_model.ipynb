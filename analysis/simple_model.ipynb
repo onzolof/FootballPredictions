{
 "cells": [
  {
   "cell_type": "code",
   "execution_count": 2,
   "metadata": {
    "collapsed": true,
    "ExecuteTime": {
     "start_time": "2023-05-10T15:55:45.910438Z",
     "end_time": "2023-05-10T15:55:46.313052Z"
    }
   },
   "outputs": [],
   "source": [
    "import pandas as pd"
   ]
  },
  {
   "cell_type": "code",
   "execution_count": 5,
   "outputs": [],
   "source": [
    "df = pd.read_csv('../data/df_clean.csv')"
   ],
   "metadata": {
    "collapsed": false,
    "ExecuteTime": {
     "start_time": "2023-05-10T16:28:20.449827Z",
     "end_time": "2023-05-10T16:28:20.449931Z"
    }
   }
  },
  {
   "cell_type": "code",
   "execution_count": 6,
   "outputs": [
    {
     "data": {
      "text/plain": "      LeagueCountry        League NationalLeagueLevel            Club    No  \\\n0           Schweiz  Super League              1.Liga  BSC Young Boys  26.0   \n1           Schweiz  Super League              1.Liga  BSC Young Boys   1.0   \n2           Schweiz  Super League              1.Liga  BSC Young Boys  33.0   \n3           Schweiz  Super League              1.Liga  BSC Young Boys  40.0   \n4           Schweiz  Super League              1.Liga  BSC Young Boys  61.0   \n...             ...           ...                 ...             ...   ...   \n17798      Norwegen   Eliteserien              1.Liga      Sandefjord   7.0   \n17799      Norwegen   Eliteserien              1.Liga      Sandefjord  11.0   \n17800      Norwegen   Eliteserien              1.Liga      Sandefjord  27.0   \n17801      Norwegen   Eliteserien              1.Liga      Sandefjord   9.0   \n17802      Norwegen   Eliteserien              1.Liga      Sandefjord  16.0   \n\n                        Name      Value  HighestValue   Age  Height  ...  \\\n0         David von Ballmoos  2500000.0     3500000.0  28.0   192.0  ...   \n1           Anthony Racioppi  1300000.0     2000000.0  24.0   188.0  ...   \n2              Marvin Keller   500000.0      500000.0  20.0   190.0  ...   \n3              Dario Marzino   100000.0      300000.0  26.0   184.0  ...   \n4            Leandro Zbinden   100000.0      100000.0  20.0   189.0  ...   \n...                      ...        ...           ...   ...     ...  ...   \n17798        Gilbert Koomson   450000.0      800000.0  28.0   180.0  ...   \n17799          Youssef Chaib   100000.0      150000.0  26.0   181.0  ...   \n17800           Jakob Dunsby   100000.0      100000.0  23.0   174.0  ...   \n17801  Alexander Ruud Tveter   300000.0      400000.0  32.0   190.0  ...   \n17802             Wally Njie    50000.0       50000.0  20.0   180.0  ...   \n\n      YellowRedCards RedCards Minutes TwGoalsConceded TwCleanSheets  \\\n0                0.0      0.0  1324.0             9.0           7.0   \n1                0.0      0.0  1286.0            12.0           5.0   \n2                0.0      0.0     NaN             0.0           0.0   \n3                0.0      0.0     NaN             0.0           0.0   \n4                NaN      NaN     NaN             NaN           NaN   \n...              ...      ...     ...             ...           ...   \n17798            0.0      0.0    88.0             NaN           NaN   \n17799            NaN      NaN     NaN             NaN           NaN   \n17800            0.0      0.0   182.0             NaN           NaN   \n17801            NaN      NaN     NaN             NaN           NaN   \n17802            NaN      NaN     NaN             NaN           NaN   \n\n       FsAssists  FsPenaltyGoals  FsMinutesPerGoal PositionCategory  Trending  \n0            NaN             NaN               NaN          Torwart         0  \n1            NaN             NaN               NaN          Torwart         0  \n2            NaN             NaN               NaN          Torwart         1  \n3            NaN             NaN               NaN          Torwart         0  \n4            NaN             NaN               NaN          Torwart         1  \n...          ...             ...               ...              ...       ...  \n17798        0.0             0.0               NaN            Sturm         0  \n17799        NaN             NaN               NaN            Sturm         0  \n17800        0.0             0.0               NaN            Sturm         1  \n17801        NaN             NaN               NaN            Sturm         0  \n17802        NaN             NaN               NaN            Sturm         1  \n\n[17803 rows x 44 columns]",
      "text/html": "<div>\n<style scoped>\n    .dataframe tbody tr th:only-of-type {\n        vertical-align: middle;\n    }\n\n    .dataframe tbody tr th {\n        vertical-align: top;\n    }\n\n    .dataframe thead th {\n        text-align: right;\n    }\n</style>\n<table border=\"1\" class=\"dataframe\">\n  <thead>\n    <tr style=\"text-align: right;\">\n      <th></th>\n      <th>LeagueCountry</th>\n      <th>League</th>\n      <th>NationalLeagueLevel</th>\n      <th>Club</th>\n      <th>No</th>\n      <th>Name</th>\n      <th>Value</th>\n      <th>HighestValue</th>\n      <th>Age</th>\n      <th>Height</th>\n      <th>...</th>\n      <th>YellowRedCards</th>\n      <th>RedCards</th>\n      <th>Minutes</th>\n      <th>TwGoalsConceded</th>\n      <th>TwCleanSheets</th>\n      <th>FsAssists</th>\n      <th>FsPenaltyGoals</th>\n      <th>FsMinutesPerGoal</th>\n      <th>PositionCategory</th>\n      <th>Trending</th>\n    </tr>\n  </thead>\n  <tbody>\n    <tr>\n      <th>0</th>\n      <td>Schweiz</td>\n      <td>Super League</td>\n      <td>1.Liga</td>\n      <td>BSC Young Boys</td>\n      <td>26.0</td>\n      <td>David von Ballmoos</td>\n      <td>2500000.0</td>\n      <td>3500000.0</td>\n      <td>28.0</td>\n      <td>192.0</td>\n      <td>...</td>\n      <td>0.0</td>\n      <td>0.0</td>\n      <td>1324.0</td>\n      <td>9.0</td>\n      <td>7.0</td>\n      <td>NaN</td>\n      <td>NaN</td>\n      <td>NaN</td>\n      <td>Torwart</td>\n      <td>0</td>\n    </tr>\n    <tr>\n      <th>1</th>\n      <td>Schweiz</td>\n      <td>Super League</td>\n      <td>1.Liga</td>\n      <td>BSC Young Boys</td>\n      <td>1.0</td>\n      <td>Anthony Racioppi</td>\n      <td>1300000.0</td>\n      <td>2000000.0</td>\n      <td>24.0</td>\n      <td>188.0</td>\n      <td>...</td>\n      <td>0.0</td>\n      <td>0.0</td>\n      <td>1286.0</td>\n      <td>12.0</td>\n      <td>5.0</td>\n      <td>NaN</td>\n      <td>NaN</td>\n      <td>NaN</td>\n      <td>Torwart</td>\n      <td>0</td>\n    </tr>\n    <tr>\n      <th>2</th>\n      <td>Schweiz</td>\n      <td>Super League</td>\n      <td>1.Liga</td>\n      <td>BSC Young Boys</td>\n      <td>33.0</td>\n      <td>Marvin Keller</td>\n      <td>500000.0</td>\n      <td>500000.0</td>\n      <td>20.0</td>\n      <td>190.0</td>\n      <td>...</td>\n      <td>0.0</td>\n      <td>0.0</td>\n      <td>NaN</td>\n      <td>0.0</td>\n      <td>0.0</td>\n      <td>NaN</td>\n      <td>NaN</td>\n      <td>NaN</td>\n      <td>Torwart</td>\n      <td>1</td>\n    </tr>\n    <tr>\n      <th>3</th>\n      <td>Schweiz</td>\n      <td>Super League</td>\n      <td>1.Liga</td>\n      <td>BSC Young Boys</td>\n      <td>40.0</td>\n      <td>Dario Marzino</td>\n      <td>100000.0</td>\n      <td>300000.0</td>\n      <td>26.0</td>\n      <td>184.0</td>\n      <td>...</td>\n      <td>0.0</td>\n      <td>0.0</td>\n      <td>NaN</td>\n      <td>0.0</td>\n      <td>0.0</td>\n      <td>NaN</td>\n      <td>NaN</td>\n      <td>NaN</td>\n      <td>Torwart</td>\n      <td>0</td>\n    </tr>\n    <tr>\n      <th>4</th>\n      <td>Schweiz</td>\n      <td>Super League</td>\n      <td>1.Liga</td>\n      <td>BSC Young Boys</td>\n      <td>61.0</td>\n      <td>Leandro Zbinden</td>\n      <td>100000.0</td>\n      <td>100000.0</td>\n      <td>20.0</td>\n      <td>189.0</td>\n      <td>...</td>\n      <td>NaN</td>\n      <td>NaN</td>\n      <td>NaN</td>\n      <td>NaN</td>\n      <td>NaN</td>\n      <td>NaN</td>\n      <td>NaN</td>\n      <td>NaN</td>\n      <td>Torwart</td>\n      <td>1</td>\n    </tr>\n    <tr>\n      <th>...</th>\n      <td>...</td>\n      <td>...</td>\n      <td>...</td>\n      <td>...</td>\n      <td>...</td>\n      <td>...</td>\n      <td>...</td>\n      <td>...</td>\n      <td>...</td>\n      <td>...</td>\n      <td>...</td>\n      <td>...</td>\n      <td>...</td>\n      <td>...</td>\n      <td>...</td>\n      <td>...</td>\n      <td>...</td>\n      <td>...</td>\n      <td>...</td>\n      <td>...</td>\n      <td>...</td>\n    </tr>\n    <tr>\n      <th>17798</th>\n      <td>Norwegen</td>\n      <td>Eliteserien</td>\n      <td>1.Liga</td>\n      <td>Sandefjord</td>\n      <td>7.0</td>\n      <td>Gilbert Koomson</td>\n      <td>450000.0</td>\n      <td>800000.0</td>\n      <td>28.0</td>\n      <td>180.0</td>\n      <td>...</td>\n      <td>0.0</td>\n      <td>0.0</td>\n      <td>88.0</td>\n      <td>NaN</td>\n      <td>NaN</td>\n      <td>0.0</td>\n      <td>0.0</td>\n      <td>NaN</td>\n      <td>Sturm</td>\n      <td>0</td>\n    </tr>\n    <tr>\n      <th>17799</th>\n      <td>Norwegen</td>\n      <td>Eliteserien</td>\n      <td>1.Liga</td>\n      <td>Sandefjord</td>\n      <td>11.0</td>\n      <td>Youssef Chaib</td>\n      <td>100000.0</td>\n      <td>150000.0</td>\n      <td>26.0</td>\n      <td>181.0</td>\n      <td>...</td>\n      <td>NaN</td>\n      <td>NaN</td>\n      <td>NaN</td>\n      <td>NaN</td>\n      <td>NaN</td>\n      <td>NaN</td>\n      <td>NaN</td>\n      <td>NaN</td>\n      <td>Sturm</td>\n      <td>0</td>\n    </tr>\n    <tr>\n      <th>17800</th>\n      <td>Norwegen</td>\n      <td>Eliteserien</td>\n      <td>1.Liga</td>\n      <td>Sandefjord</td>\n      <td>27.0</td>\n      <td>Jakob Dunsby</td>\n      <td>100000.0</td>\n      <td>100000.0</td>\n      <td>23.0</td>\n      <td>174.0</td>\n      <td>...</td>\n      <td>0.0</td>\n      <td>0.0</td>\n      <td>182.0</td>\n      <td>NaN</td>\n      <td>NaN</td>\n      <td>0.0</td>\n      <td>0.0</td>\n      <td>NaN</td>\n      <td>Sturm</td>\n      <td>1</td>\n    </tr>\n    <tr>\n      <th>17801</th>\n      <td>Norwegen</td>\n      <td>Eliteserien</td>\n      <td>1.Liga</td>\n      <td>Sandefjord</td>\n      <td>9.0</td>\n      <td>Alexander Ruud Tveter</td>\n      <td>300000.0</td>\n      <td>400000.0</td>\n      <td>32.0</td>\n      <td>190.0</td>\n      <td>...</td>\n      <td>NaN</td>\n      <td>NaN</td>\n      <td>NaN</td>\n      <td>NaN</td>\n      <td>NaN</td>\n      <td>NaN</td>\n      <td>NaN</td>\n      <td>NaN</td>\n      <td>Sturm</td>\n      <td>0</td>\n    </tr>\n    <tr>\n      <th>17802</th>\n      <td>Norwegen</td>\n      <td>Eliteserien</td>\n      <td>1.Liga</td>\n      <td>Sandefjord</td>\n      <td>16.0</td>\n      <td>Wally Njie</td>\n      <td>50000.0</td>\n      <td>50000.0</td>\n      <td>20.0</td>\n      <td>180.0</td>\n      <td>...</td>\n      <td>NaN</td>\n      <td>NaN</td>\n      <td>NaN</td>\n      <td>NaN</td>\n      <td>NaN</td>\n      <td>NaN</td>\n      <td>NaN</td>\n      <td>NaN</td>\n      <td>Sturm</td>\n      <td>1</td>\n    </tr>\n  </tbody>\n</table>\n<p>17803 rows × 44 columns</p>\n</div>"
     },
     "execution_count": 6,
     "metadata": {},
     "output_type": "execute_result"
    }
   ],
   "source": [
    "df"
   ],
   "metadata": {
    "collapsed": false,
    "ExecuteTime": {
     "start_time": "2023-05-10T16:28:22.149070Z",
     "end_time": "2023-05-10T16:28:22.149161Z"
    }
   }
  },
  {
   "cell_type": "code",
   "execution_count": null,
   "outputs": [],
   "source": [],
   "metadata": {
    "collapsed": false
   }
  }
 ],
 "metadata": {
  "kernelspec": {
   "display_name": "Python 3",
   "language": "python",
   "name": "python3"
  },
  "language_info": {
   "codemirror_mode": {
    "name": "ipython",
    "version": 2
   },
   "file_extension": ".py",
   "mimetype": "text/x-python",
   "name": "python",
   "nbconvert_exporter": "python",
   "pygments_lexer": "ipython2",
   "version": "2.7.6"
  }
 },
 "nbformat": 4,
 "nbformat_minor": 0
}
