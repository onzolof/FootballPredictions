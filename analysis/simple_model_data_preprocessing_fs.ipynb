{
 "cells": [
  {
   "cell_type": "code",
   "execution_count": 1,
   "metadata": {
    "collapsed": true,
    "ExecuteTime": {
     "start_time": "2023-05-17T17:19:18.123299Z",
     "end_time": "2023-05-17T17:19:18.227354Z"
    }
   },
   "outputs": [],
   "source": [
    "import pandas as pd\n",
    "import numpy as np\n",
    "from analysis.utils import process_categorical"
   ]
  },
  {
   "cell_type": "code",
   "execution_count": 2,
   "outputs": [],
   "source": [
    "df = pd.read_csv('../data/df_clean.csv', index_col=0)"
   ],
   "metadata": {
    "collapsed": false,
    "ExecuteTime": {
     "start_time": "2023-05-17T17:19:18.228410Z",
     "end_time": "2023-05-17T17:19:18.288199Z"
    }
   }
  },
  {
   "cell_type": "code",
   "execution_count": 3,
   "outputs": [
    {
     "name": "stdout",
     "output_type": "stream",
     "text": [
      "<class 'pandas.core.frame.DataFrame'>\n",
      "Int64Index: 17796 entries, 0 to 18357\n",
      "Data columns (total 46 columns):\n",
      " #   Column                    Non-Null Count  Dtype  \n",
      "---  ------                    --------------  -----  \n",
      " 0   LeagueCountry             17796 non-null  object \n",
      " 1   League                    17796 non-null  object \n",
      " 2   NationalLeagueLevel       17796 non-null  object \n",
      " 3   Club                      17796 non-null  object \n",
      " 4   No                        17511 non-null  float64\n",
      " 5   Name                      17796 non-null  object \n",
      " 6   Value                     17796 non-null  float64\n",
      " 7   HighestValue              17796 non-null  float64\n",
      " 8   Age                       17794 non-null  float64\n",
      " 9   Height                    16717 non-null  float64\n",
      " 10  Nationality               17796 non-null  object \n",
      " 11  Foot                      16124 non-null  object \n",
      " 12  Position                  17796 non-null  object \n",
      " 13  Consultancy               14524 non-null  object \n",
      " 14  Supplier                  2739 non-null   object \n",
      " 15  ClubSince                 17761 non-null  float64\n",
      " 16  ContractUntil             16740 non-null  float64\n",
      " 17  Injury                    17796 non-null  int64  \n",
      " 18  InternationalTeam         9708 non-null   object \n",
      " 19  ActiveInternational       17796 non-null  int64  \n",
      " 20  FormerInternational       17796 non-null  int64  \n",
      " 21  InternationalGames        10724 non-null  float64\n",
      " 22  InternationalGoals        10724 non-null  float64\n",
      " 23  StartingElevenQuote       15759 non-null  float64\n",
      " 24  MinutesQuote              15759 non-null  float64\n",
      " 25  TwPenaltySavesQuote       1742 non-null   float64\n",
      " 26  FsGoalParticipationQuote  14017 non-null  float64\n",
      " 27  Games                     13229 non-null  float64\n",
      " 28  PointsPerGame             12551 non-null  float64\n",
      " 29  Goals                     13229 non-null  float64\n",
      " 30  OwnGoals                  13229 non-null  float64\n",
      " 31  Ins                       13229 non-null  float64\n",
      " 32  Outs                      13229 non-null  float64\n",
      " 33  YellowCards               13229 non-null  float64\n",
      " 34  YellowRedCards            13229 non-null  float64\n",
      " 35  RedCards                  13229 non-null  float64\n",
      " 36  Minutes                   12510 non-null  float64\n",
      " 37  TwGoalsConceded           1461 non-null   float64\n",
      " 38  TwCleanSheets             1461 non-null   float64\n",
      " 39  FsAssists                 11768 non-null  float64\n",
      " 40  FsPenaltyGoals            11768 non-null  float64\n",
      " 41  FsMinutesPerGoal          6400 non-null   float64\n",
      " 42  Image                     14885 non-null  object \n",
      " 43  PositionCategory          17796 non-null  object \n",
      " 44  Cards                     13229 non-null  float64\n",
      " 45  Trending                  17796 non-null  int64  \n",
      "dtypes: float64(29), int64(4), object(13)\n",
      "memory usage: 6.4+ MB\n"
     ]
    }
   ],
   "source": [
    "df.info()"
   ],
   "metadata": {
    "collapsed": false,
    "ExecuteTime": {
     "start_time": "2023-05-17T17:19:18.289108Z",
     "end_time": "2023-05-17T17:19:18.306267Z"
    }
   }
  },
  {
   "cell_type": "code",
   "execution_count": 4,
   "outputs": [],
   "source": [
    "df = df.loc[df['Position'] != 'Torwart']  # remove position Torwart"
   ],
   "metadata": {
    "collapsed": false,
    "ExecuteTime": {
     "start_time": "2023-05-17T17:19:18.307360Z",
     "end_time": "2023-05-17T17:19:18.324841Z"
    }
   }
  },
  {
   "cell_type": "code",
   "execution_count": 5,
   "outputs": [],
   "source": [
    "features = ['LeagueCountry', 'League', 'NationalLeagueLevel', 'Club', 'Age', 'ClubSince', 'Nationality', 'Position', 'PositionCategory', 'Supplier', 'InternationalTeam', 'ActiveInternational', 'FormerInternational', 'InternationalGames', 'InternationalGoals', 'Trending', 'Value']\n",
    "\n",
    "df = df[features]"
   ],
   "metadata": {
    "collapsed": false,
    "ExecuteTime": {
     "start_time": "2023-05-17T17:19:18.313718Z",
     "end_time": "2023-05-17T17:19:18.328634Z"
    }
   }
  },
  {
   "cell_type": "code",
   "execution_count": 6,
   "outputs": [],
   "source": [
    "df = df.dropna(subset=['Age', 'ClubSince'])"
   ],
   "metadata": {
    "collapsed": false,
    "ExecuteTime": {
     "start_time": "2023-05-17T17:19:18.315800Z",
     "end_time": "2023-05-17T17:19:18.328716Z"
    }
   }
  },
  {
   "cell_type": "code",
   "execution_count": 7,
   "outputs": [],
   "source": [
    "df = df.fillna({'InternationalGames': 0, 'InternationalGoals': 0})"
   ],
   "metadata": {
    "collapsed": false,
    "ExecuteTime": {
     "start_time": "2023-05-17T17:19:18.320018Z",
     "end_time": "2023-05-17T17:19:18.328743Z"
    }
   }
  },
  {
   "cell_type": "code",
   "execution_count": 8,
   "outputs": [
    {
     "name": "stdout",
     "output_type": "stream",
     "text": [
      "<class 'pandas.core.frame.DataFrame'>\n",
      "Int64Index: 15740 entries, 5 to 18357\n",
      "Data columns (total 17 columns):\n",
      " #   Column               Non-Null Count  Dtype  \n",
      "---  ------               --------------  -----  \n",
      " 0   LeagueCountry        15740 non-null  object \n",
      " 1   League               15740 non-null  object \n",
      " 2   NationalLeagueLevel  15740 non-null  object \n",
      " 3   Club                 15740 non-null  object \n",
      " 4   Age                  15740 non-null  float64\n",
      " 5   ClubSince            15740 non-null  float64\n",
      " 6   Nationality          15740 non-null  object \n",
      " 7   Position             15740 non-null  object \n",
      " 8   PositionCategory     15740 non-null  object \n",
      " 9   Supplier             2493 non-null   object \n",
      " 10  InternationalTeam    8649 non-null   object \n",
      " 11  ActiveInternational  15740 non-null  int64  \n",
      " 12  FormerInternational  15740 non-null  int64  \n",
      " 13  InternationalGames   15740 non-null  float64\n",
      " 14  InternationalGoals   15740 non-null  float64\n",
      " 15  Trending             15740 non-null  int64  \n",
      " 16  Value                15740 non-null  float64\n",
      "dtypes: float64(5), int64(3), object(9)\n",
      "memory usage: 2.2+ MB\n"
     ]
    }
   ],
   "source": [
    "df.info()"
   ],
   "metadata": {
    "collapsed": false,
    "ExecuteTime": {
     "start_time": "2023-05-17T17:19:18.323882Z",
     "end_time": "2023-05-17T17:19:18.336021Z"
    }
   }
  },
  {
   "cell_type": "code",
   "execution_count": 9,
   "outputs": [
    {
     "name": "stdout",
     "output_type": "stream",
     "text": [
      "Column: Age, NaN values: 0\n",
      "Column: ClubSince, NaN values: 0\n",
      "Column: ActiveInternational, NaN values: 0\n",
      "Column: FormerInternational, NaN values: 0\n",
      "Column: InternationalGames, NaN values: 0\n",
      "Column: InternationalGoals, NaN values: 0\n",
      "Column: Trending, NaN values: 0\n",
      "Column: Value, NaN values: 0\n"
     ]
    }
   ],
   "source": [
    "# Select numerical columns\n",
    "numerical_columns = df.select_dtypes(include=[np.number])\n",
    "\n",
    "# Print column names and count of NaN values for each numerical column\n",
    "for col in numerical_columns.columns:\n",
    "    print(f\"Column: {col}, NaN values: {numerical_columns[col].isna().sum()}\")"
   ],
   "metadata": {
    "collapsed": false,
    "ExecuteTime": {
     "start_time": "2023-05-17T17:19:18.336851Z",
     "end_time": "2023-05-17T17:19:18.339743Z"
    }
   }
  },
  {
   "cell_type": "code",
   "execution_count": 10,
   "outputs": [],
   "source": [
    "df = process_categorical(df, 'Supplier')"
   ],
   "metadata": {
    "collapsed": false,
    "ExecuteTime": {
     "start_time": "2023-05-17T17:19:18.347599Z",
     "end_time": "2023-05-17T17:19:18.371136Z"
    }
   }
  },
  {
   "cell_type": "code",
   "execution_count": 11,
   "outputs": [],
   "source": [
    "df = process_categorical(df, 'InternationalTeam', 5)"
   ],
   "metadata": {
    "collapsed": false,
    "ExecuteTime": {
     "start_time": "2023-05-17T17:19:18.354260Z",
     "end_time": "2023-05-17T17:19:18.374674Z"
    }
   }
  },
  {
   "cell_type": "code",
   "execution_count": 12,
   "outputs": [],
   "source": [
    "df = process_categorical(df, 'League')"
   ],
   "metadata": {
    "collapsed": false,
    "ExecuteTime": {
     "start_time": "2023-05-17T17:19:18.380255Z",
     "end_time": "2023-05-17T17:19:18.388885Z"
    }
   }
  },
  {
   "cell_type": "code",
   "execution_count": 13,
   "outputs": [],
   "source": [
    "df = process_categorical(df, 'Club')"
   ],
   "metadata": {
    "collapsed": false,
    "ExecuteTime": {
     "start_time": "2023-05-17T17:19:18.389358Z",
     "end_time": "2023-05-17T17:19:18.424197Z"
    }
   }
  },
  {
   "cell_type": "code",
   "execution_count": 14,
   "outputs": [],
   "source": [
    "df = process_categorical(df, 'LeagueCountry', 5)"
   ],
   "metadata": {
    "collapsed": false,
    "ExecuteTime": {
     "start_time": "2023-05-17T17:19:18.424990Z",
     "end_time": "2023-05-17T17:19:18.441445Z"
    }
   }
  },
  {
   "cell_type": "code",
   "execution_count": 15,
   "outputs": [],
   "source": [
    "df = process_categorical(df, 'NationalLeagueLevel', 5)"
   ],
   "metadata": {
    "collapsed": false,
    "ExecuteTime": {
     "start_time": "2023-05-17T17:19:18.446313Z",
     "end_time": "2023-05-17T17:19:18.458653Z"
    }
   }
  },
  {
   "cell_type": "code",
   "execution_count": 16,
   "outputs": [],
   "source": [
    "df = process_categorical(df, 'Nationality')"
   ],
   "metadata": {
    "collapsed": false,
    "ExecuteTime": {
     "start_time": "2023-05-17T17:19:18.460086Z",
     "end_time": "2023-05-17T17:19:18.477884Z"
    }
   }
  },
  {
   "cell_type": "code",
   "execution_count": 17,
   "outputs": [],
   "source": [
    "df = process_categorical(df, 'Position', 5)"
   ],
   "metadata": {
    "collapsed": false,
    "ExecuteTime": {
     "start_time": "2023-05-17T17:19:18.482629Z",
     "end_time": "2023-05-17T17:19:18.495340Z"
    }
   }
  },
  {
   "cell_type": "code",
   "execution_count": 18,
   "outputs": [],
   "source": [
    "df = process_categorical(df, 'PositionCategory', 5)"
   ],
   "metadata": {
    "collapsed": false,
    "ExecuteTime": {
     "start_time": "2023-05-17T17:19:18.496350Z",
     "end_time": "2023-05-17T17:19:18.511217Z"
    }
   }
  },
  {
   "cell_type": "code",
   "execution_count": 19,
   "outputs": [],
   "source": [
    "df.to_csv('../data/df_simple_model_fs_unfiltered.csv')\n",
    "\n",
    "df = df[df['Value'] <= 150000000]  # exclude outliers\n",
    "\n",
    "df.to_csv('../data/df_simple_model_fs.csv')"
   ],
   "metadata": {
    "collapsed": false,
    "ExecuteTime": {
     "start_time": "2023-05-17T17:19:18.511870Z",
     "end_time": "2023-05-17T17:19:20.858200Z"
    }
   }
  }
 ],
 "metadata": {
  "kernelspec": {
   "display_name": "Python 3",
   "language": "python",
   "name": "python3"
  },
  "language_info": {
   "codemirror_mode": {
    "name": "ipython",
    "version": 2
   },
   "file_extension": ".py",
   "mimetype": "text/x-python",
   "name": "python",
   "nbconvert_exporter": "python",
   "pygments_lexer": "ipython2",
   "version": "2.7.6"
  }
 },
 "nbformat": 4,
 "nbformat_minor": 0
}
