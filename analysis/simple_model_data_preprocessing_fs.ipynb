{
 "cells": [
  {
   "cell_type": "code",
   "execution_count": 39,
   "metadata": {
    "collapsed": true,
    "ExecuteTime": {
     "start_time": "2023-05-17T19:19:12.952709Z",
     "end_time": "2023-05-17T19:19:12.969563Z"
    }
   },
   "outputs": [],
   "source": [
    "import pandas as pd\n",
    "import numpy as np\n",
    "from analysis.utils import process_categorical"
   ]
  },
  {
   "cell_type": "code",
   "execution_count": 40,
   "outputs": [],
   "source": [
    "df = pd.read_csv('../data/df_clean.csv', index_col=0)"
   ],
   "metadata": {
    "collapsed": false,
    "ExecuteTime": {
     "start_time": "2023-05-17T19:19:12.954235Z",
     "end_time": "2023-05-17T19:19:13.019185Z"
    }
   }
  },
  {
   "cell_type": "code",
   "execution_count": 41,
   "outputs": [
    {
     "name": "stdout",
     "output_type": "stream",
     "text": [
      "<class 'pandas.core.frame.DataFrame'>\n",
      "Int64Index: 17796 entries, 0 to 18357\n",
      "Data columns (total 46 columns):\n",
      " #   Column                    Non-Null Count  Dtype  \n",
      "---  ------                    --------------  -----  \n",
      " 0   LeagueCountry             17796 non-null  object \n",
      " 1   League                    17796 non-null  object \n",
      " 2   NationalLeagueLevel       17796 non-null  object \n",
      " 3   Club                      17796 non-null  object \n",
      " 4   No                        17511 non-null  float64\n",
      " 5   Name                      17796 non-null  object \n",
      " 6   Value                     17796 non-null  float64\n",
      " 7   HighestValue              17796 non-null  float64\n",
      " 8   Age                       17794 non-null  float64\n",
      " 9   Height                    16717 non-null  float64\n",
      " 10  Nationality               17796 non-null  object \n",
      " 11  Foot                      16124 non-null  object \n",
      " 12  Position                  17796 non-null  object \n",
      " 13  Consultancy               14524 non-null  object \n",
      " 14  Supplier                  2739 non-null   object \n",
      " 15  ClubSince                 17761 non-null  float64\n",
      " 16  ContractUntil             16740 non-null  float64\n",
      " 17  Injury                    17796 non-null  int64  \n",
      " 18  InternationalTeam         9708 non-null   object \n",
      " 19  ActiveInternational       17796 non-null  int64  \n",
      " 20  FormerInternational       17796 non-null  int64  \n",
      " 21  InternationalGames        10724 non-null  float64\n",
      " 22  InternationalGoals        10724 non-null  float64\n",
      " 23  StartingElevenQuote       15759 non-null  float64\n",
      " 24  MinutesQuote              15759 non-null  float64\n",
      " 25  TwPenaltySavesQuote       1742 non-null   float64\n",
      " 26  FsGoalParticipationQuote  14017 non-null  float64\n",
      " 27  Games                     13229 non-null  float64\n",
      " 28  PointsPerGame             12551 non-null  float64\n",
      " 29  Goals                     13229 non-null  float64\n",
      " 30  OwnGoals                  13229 non-null  float64\n",
      " 31  Ins                       13229 non-null  float64\n",
      " 32  Outs                      13229 non-null  float64\n",
      " 33  YellowCards               13229 non-null  float64\n",
      " 34  YellowRedCards            13229 non-null  float64\n",
      " 35  RedCards                  13229 non-null  float64\n",
      " 36  Minutes                   12510 non-null  float64\n",
      " 37  TwGoalsConceded           1461 non-null   float64\n",
      " 38  TwCleanSheets             1461 non-null   float64\n",
      " 39  FsAssists                 11768 non-null  float64\n",
      " 40  FsPenaltyGoals            11768 non-null  float64\n",
      " 41  FsMinutesPerGoal          6400 non-null   float64\n",
      " 42  Image                     14885 non-null  object \n",
      " 43  PositionCategory          17796 non-null  object \n",
      " 44  Cards                     13229 non-null  float64\n",
      " 45  Trending                  17796 non-null  int64  \n",
      "dtypes: float64(29), int64(4), object(13)\n",
      "memory usage: 6.4+ MB\n"
     ]
    }
   ],
   "source": [
    "df.info()"
   ],
   "metadata": {
    "collapsed": false,
    "ExecuteTime": {
     "start_time": "2023-05-17T19:19:13.020862Z",
     "end_time": "2023-05-17T19:19:13.040285Z"
    }
   }
  },
  {
   "cell_type": "code",
   "execution_count": 42,
   "outputs": [],
   "source": [
    "df = df.loc[df['Position'] != 'Torwart']  # remove position Torwart"
   ],
   "metadata": {
    "collapsed": false,
    "ExecuteTime": {
     "start_time": "2023-05-17T19:19:13.040228Z",
     "end_time": "2023-05-17T19:19:13.057832Z"
    }
   }
  },
  {
   "cell_type": "code",
   "execution_count": 43,
   "outputs": [],
   "source": [
    "features = ['LeagueCountry', 'League', 'NationalLeagueLevel', 'Club', 'Age', 'ClubSince', 'Nationality', 'Position', 'PositionCategory', 'Supplier', 'InternationalTeam', 'ActiveInternational', 'FormerInternational', 'InternationalGames', 'InternationalGoals', 'Trending', 'Value']\n",
    "\n",
    "df = df[features]"
   ],
   "metadata": {
    "collapsed": false,
    "ExecuteTime": {
     "start_time": "2023-05-17T19:19:13.047084Z",
     "end_time": "2023-05-17T19:19:13.068459Z"
    }
   }
  },
  {
   "cell_type": "code",
   "execution_count": 44,
   "outputs": [],
   "source": [
    "df = df.dropna(subset=['Age', 'ClubSince'])"
   ],
   "metadata": {
    "collapsed": false,
    "ExecuteTime": {
     "start_time": "2023-05-17T19:19:13.050612Z",
     "end_time": "2023-05-17T19:19:13.068644Z"
    }
   }
  },
  {
   "cell_type": "code",
   "execution_count": 45,
   "outputs": [],
   "source": [
    "df = df.fillna({'InternationalGames': 0, 'InternationalGoals': 0})"
   ],
   "metadata": {
    "collapsed": false,
    "ExecuteTime": {
     "start_time": "2023-05-17T19:19:13.054451Z",
     "end_time": "2023-05-17T19:19:13.068710Z"
    }
   }
  },
  {
   "cell_type": "code",
   "execution_count": 46,
   "outputs": [
    {
     "name": "stdout",
     "output_type": "stream",
     "text": [
      "<class 'pandas.core.frame.DataFrame'>\n",
      "Int64Index: 15740 entries, 5 to 18357\n",
      "Data columns (total 17 columns):\n",
      " #   Column               Non-Null Count  Dtype  \n",
      "---  ------               --------------  -----  \n",
      " 0   LeagueCountry        15740 non-null  object \n",
      " 1   League               15740 non-null  object \n",
      " 2   NationalLeagueLevel  15740 non-null  object \n",
      " 3   Club                 15740 non-null  object \n",
      " 4   Age                  15740 non-null  float64\n",
      " 5   ClubSince            15740 non-null  float64\n",
      " 6   Nationality          15740 non-null  object \n",
      " 7   Position             15740 non-null  object \n",
      " 8   PositionCategory     15740 non-null  object \n",
      " 9   Supplier             2493 non-null   object \n",
      " 10  InternationalTeam    8649 non-null   object \n",
      " 11  ActiveInternational  15740 non-null  int64  \n",
      " 12  FormerInternational  15740 non-null  int64  \n",
      " 13  InternationalGames   15740 non-null  float64\n",
      " 14  InternationalGoals   15740 non-null  float64\n",
      " 15  Trending             15740 non-null  int64  \n",
      " 16  Value                15740 non-null  float64\n",
      "dtypes: float64(5), int64(3), object(9)\n",
      "memory usage: 2.2+ MB\n"
     ]
    }
   ],
   "source": [
    "df.info()"
   ],
   "metadata": {
    "collapsed": false,
    "ExecuteTime": {
     "start_time": "2023-05-17T19:19:13.066378Z",
     "end_time": "2023-05-17T19:19:13.074753Z"
    }
   }
  },
  {
   "cell_type": "code",
   "execution_count": 47,
   "outputs": [
    {
     "name": "stdout",
     "output_type": "stream",
     "text": [
      "Column: Age, NaN values: 0\n",
      "Column: ClubSince, NaN values: 0\n",
      "Column: ActiveInternational, NaN values: 0\n",
      "Column: FormerInternational, NaN values: 0\n",
      "Column: InternationalGames, NaN values: 0\n",
      "Column: InternationalGoals, NaN values: 0\n",
      "Column: Trending, NaN values: 0\n",
      "Column: Value, NaN values: 0\n"
     ]
    }
   ],
   "source": [
    "# Select numerical columns\n",
    "numerical_columns = df.select_dtypes(include=[np.number])\n",
    "\n",
    "# Print column names and count of NaN values for each numerical column\n",
    "for col in numerical_columns.columns:\n",
    "    print(f\"Column: {col}, NaN values: {numerical_columns[col].isna().sum()}\")"
   ],
   "metadata": {
    "collapsed": false,
    "ExecuteTime": {
     "start_time": "2023-05-17T19:19:13.070962Z",
     "end_time": "2023-05-17T19:19:13.074987Z"
    }
   }
  },
  {
   "cell_type": "code",
   "execution_count": 48,
   "outputs": [],
   "source": [
    "df = process_categorical(df, 'Supplier')"
   ],
   "metadata": {
    "collapsed": false,
    "ExecuteTime": {
     "start_time": "2023-05-17T19:19:13.084201Z",
     "end_time": "2023-05-17T19:19:13.114058Z"
    }
   }
  },
  {
   "cell_type": "code",
   "execution_count": 49,
   "outputs": [],
   "source": [
    "df = process_categorical(df, 'InternationalTeam', 5)"
   ],
   "metadata": {
    "collapsed": false,
    "ExecuteTime": {
     "start_time": "2023-05-17T19:19:13.091707Z",
     "end_time": "2023-05-17T19:19:13.120823Z"
    }
   }
  },
  {
   "cell_type": "code",
   "execution_count": 50,
   "outputs": [],
   "source": [
    "df = process_categorical(df, 'League')"
   ],
   "metadata": {
    "collapsed": false,
    "ExecuteTime": {
     "start_time": "2023-05-17T19:19:13.112638Z",
     "end_time": "2023-05-17T19:19:13.126129Z"
    }
   }
  },
  {
   "cell_type": "code",
   "execution_count": 51,
   "outputs": [],
   "source": [
    "df = process_categorical(df, 'Club')"
   ],
   "metadata": {
    "collapsed": false,
    "ExecuteTime": {
     "start_time": "2023-05-17T19:19:13.127449Z",
     "end_time": "2023-05-17T19:19:13.159660Z"
    }
   }
  },
  {
   "cell_type": "code",
   "execution_count": 52,
   "outputs": [],
   "source": [
    "df = process_categorical(df, 'LeagueCountry', 5)"
   ],
   "metadata": {
    "collapsed": false,
    "ExecuteTime": {
     "start_time": "2023-05-17T19:19:13.160636Z",
     "end_time": "2023-05-17T19:19:13.178823Z"
    }
   }
  },
  {
   "cell_type": "code",
   "execution_count": 53,
   "outputs": [],
   "source": [
    "df = process_categorical(df, 'NationalLeagueLevel', 5)"
   ],
   "metadata": {
    "collapsed": false,
    "ExecuteTime": {
     "start_time": "2023-05-17T19:19:13.182023Z",
     "end_time": "2023-05-17T19:19:13.195375Z"
    }
   }
  },
  {
   "cell_type": "code",
   "execution_count": 54,
   "outputs": [],
   "source": [
    "df = process_categorical(df, 'Nationality')"
   ],
   "metadata": {
    "collapsed": false,
    "ExecuteTime": {
     "start_time": "2023-05-17T19:19:13.196290Z",
     "end_time": "2023-05-17T19:19:13.214925Z"
    }
   }
  },
  {
   "cell_type": "code",
   "execution_count": 55,
   "outputs": [],
   "source": [
    "df = process_categorical(df, 'Position', 5)"
   ],
   "metadata": {
    "collapsed": false,
    "ExecuteTime": {
     "start_time": "2023-05-17T19:19:13.215020Z",
     "end_time": "2023-05-17T19:19:13.234718Z"
    }
   }
  },
  {
   "cell_type": "code",
   "execution_count": 56,
   "outputs": [],
   "source": [
    "df = process_categorical(df, 'PositionCategory', 5)"
   ],
   "metadata": {
    "collapsed": false,
    "ExecuteTime": {
     "start_time": "2023-05-17T19:19:13.239980Z",
     "end_time": "2023-05-17T19:19:13.252445Z"
    }
   }
  },
  {
   "cell_type": "code",
   "execution_count": 57,
   "outputs": [],
   "source": [
    "df.to_csv('../data/df_simple_model_fs_unfiltered.csv')\n",
    "\n",
    "df = df[df['Value'] <= 150000000]  # exclude outliers\n",
    "\n",
    "df.to_csv('../data/df_simple_model_fs.csv')"
   ],
   "metadata": {
    "collapsed": false,
    "ExecuteTime": {
     "start_time": "2023-05-17T19:19:13.253935Z",
     "end_time": "2023-05-17T19:19:15.760280Z"
    }
   }
  }
 ],
 "metadata": {
  "kernelspec": {
   "display_name": "Python 3",
   "language": "python",
   "name": "python3"
  },
  "language_info": {
   "codemirror_mode": {
    "name": "ipython",
    "version": 2
   },
   "file_extension": ".py",
   "mimetype": "text/x-python",
   "name": "python",
   "nbconvert_exporter": "python",
   "pygments_lexer": "ipython2",
   "version": "2.7.6"
  }
 },
 "nbformat": 4,
 "nbformat_minor": 0
}
