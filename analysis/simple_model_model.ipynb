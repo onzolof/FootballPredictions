{
 "cells": [
  {
   "cell_type": "code",
   "execution_count": 1,
   "metadata": {
    "collapsed": true,
    "ExecuteTime": {
     "start_time": "2023-05-13T15:44:57.566131Z",
     "end_time": "2023-05-13T15:44:58.354801Z"
    }
   },
   "outputs": [],
   "source": [
    "import numpy as np\n",
    "import pandas as pd\n",
    "from scipy.stats import randint, uniform\n",
    "from sklearn.ensemble import RandomForestRegressor\n",
    "from xgboost import XGBRegressor\n",
    "\n",
    "from analysis.utils import optimise_model, plot_variable_importance, recursive_feature_elimination, load_model, \\\n",
    "    save_model, print_performance_measures"
   ]
  },
  {
   "cell_type": "code",
   "execution_count": 2,
   "outputs": [],
   "source": [
    "df = pd.read_csv('../data/df_simple_model.csv', index_col=0)\n",
    "results = pd.DataFrame(index=df.index)"
   ],
   "metadata": {
    "collapsed": false,
    "ExecuteTime": {
     "start_time": "2023-05-13T15:44:58.355674Z",
     "end_time": "2023-05-13T15:44:58.863291Z"
    }
   }
  },
  {
   "cell_type": "code",
   "execution_count": 3,
   "outputs": [
    {
     "name": "stdout",
     "output_type": "stream",
     "text": [
      "<class 'pandas.core.frame.DataFrame'>\n",
      "Int64Index: 15747 entries, 5 to 18334\n",
      "Columns: 1447 entries, Age to PositionCategory_Sturm\n",
      "dtypes: float64(5), int64(1442)\n",
      "memory usage: 174.0 MB\n"
     ]
    }
   ],
   "source": [
    "df.info()"
   ],
   "metadata": {
    "collapsed": false,
    "ExecuteTime": {
     "start_time": "2023-05-13T15:44:58.881904Z",
     "end_time": "2023-05-13T15:44:58.883610Z"
    }
   }
  },
  {
   "cell_type": "code",
   "execution_count": 4,
   "outputs": [],
   "source": [
    "y = df[\"Value\"]\n",
    "X = df.drop(\"Value\", axis = 1)"
   ],
   "metadata": {
    "collapsed": false,
    "ExecuteTime": {
     "start_time": "2023-05-13T15:44:58.884145Z",
     "end_time": "2023-05-13T15:44:58.913113Z"
    }
   }
  },
  {
   "cell_type": "markdown",
   "source": [
    "# XGBoost"
   ],
   "metadata": {
    "collapsed": false
   }
  },
  {
   "cell_type": "code",
   "execution_count": null,
   "outputs": [],
   "source": [
    "%%timeit -r 1 -n 1\n",
    "\n",
    "param_dist = {\n",
    "    \"learning_rate\": uniform(0.01, 0.5),\n",
    "    \"max_depth\": randint(1, 10),\n",
    "    \"n_estimators\": randint(50, 500),\n",
    "    \"gamma\": uniform(0, 5),\n",
    "    \"subsample\": uniform(0.1, 0.9),\n",
    "    \"colsample_bytree\": uniform(0.1, 0.9),\n",
    "    \"reg_alpha\": uniform(0, 1),\n",
    "    \"reg_lambda\": uniform(0, 1)\n",
    "}\n",
    "\n",
    "xgb_optimized, cv_results = optimise_model(XGBRegressor(), param_dist, X, y, n_iter=1)\n",
    "\n",
    "save_model(xgb_optimized, 'simple-model-xgb')\n",
    "\n",
    "cv_results"
   ],
   "metadata": {
    "collapsed": false,
    "ExecuteTime": {
     "start_time": "2023-05-13T15:13:50.296668Z",
     "end_time": "2023-05-13T15:17:29.424163Z"
    },
    "pycharm": {
     "is_executing": true
    }
   }
  },
  {
   "cell_type": "code",
   "execution_count": null,
   "outputs": [],
   "source": [
    "xgb_optimized = load_model('simple-model-xgb')\n",
    "plot_variable_importance(xgb_optimized, X, n=15)"
   ],
   "metadata": {
    "collapsed": false,
    "ExecuteTime": {
     "start_time": "2023-05-13T15:33:44.755461Z",
     "end_time": "2023-05-13T15:33:44.904952Z"
    },
    "pycharm": {
     "is_executing": true
    }
   }
  },
  {
   "cell_type": "code",
   "execution_count": null,
   "outputs": [],
   "source": [
    "y_pred_xgb = xgb_optimized.predict(X)\n",
    "results['PredictedValueSimpleModelXGB'] = y_pred_xgb\n",
    "print_performance_measures(y, y_pred_xgb)"
   ],
   "metadata": {
    "collapsed": false,
    "ExecuteTime": {
     "start_time": "2023-05-13T15:35:28.491122Z",
     "end_time": "2023-05-13T15:35:28.577754Z"
    },
    "pycharm": {
     "is_executing": true
    }
   }
  },
  {
   "cell_type": "markdown",
   "source": [
    "# Export Results"
   ],
   "metadata": {
    "collapsed": false
   }
  },
  {
   "cell_type": "code",
   "execution_count": null,
   "outputs": [],
   "source": [
    "results.to_csv('../data/df_simple_model_results.csv')"
   ],
   "metadata": {
    "collapsed": false,
    "ExecuteTime": {
     "start_time": "2023-05-13T15:21:02.199257Z",
     "end_time": "2023-05-13T15:21:02.220895Z"
    },
    "pycharm": {
     "is_executing": true
    }
   }
  },
  {
   "cell_type": "markdown",
   "source": [
    "# Recursive Feature Elimination"
   ],
   "metadata": {
    "collapsed": false
   }
  },
  {
   "cell_type": "code",
   "execution_count": null,
   "outputs": [],
   "source": [
    "%%timeit -r 1 -n 1\n",
    "\n",
    "recursive_feature_elimination(xgb_optimized, X, y)"
   ],
   "metadata": {
    "collapsed": false
   }
  },
  {
   "cell_type": "code",
   "execution_count": null,
   "outputs": [],
   "source": [],
   "metadata": {
    "collapsed": false
   }
  }
 ],
 "metadata": {
  "kernelspec": {
   "display_name": "Python 3",
   "language": "python",
   "name": "python3"
  },
  "language_info": {
   "codemirror_mode": {
    "name": "ipython",
    "version": 2
   },
   "file_extension": ".py",
   "mimetype": "text/x-python",
   "name": "python",
   "nbconvert_exporter": "python",
   "pygments_lexer": "ipython2",
   "version": "2.7.6"
  }
 },
 "nbformat": 4,
 "nbformat_minor": 0
}
