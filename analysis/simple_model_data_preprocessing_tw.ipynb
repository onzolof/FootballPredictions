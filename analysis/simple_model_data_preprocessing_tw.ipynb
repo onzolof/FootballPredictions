{
 "cells": [
  {
   "cell_type": "code",
   "execution_count": 3,
   "metadata": {
    "collapsed": true,
    "ExecuteTime": {
     "start_time": "2023-05-17T18:58:20.212599Z",
     "end_time": "2023-05-17T18:58:20.222273Z"
    }
   },
   "outputs": [],
   "source": [
    "import pandas as pd\n",
    "import numpy as np\n",
    "from analysis.utils import process_categorical"
   ]
  },
  {
   "cell_type": "code",
   "execution_count": 4,
   "outputs": [],
   "source": [
    "df = pd.read_csv('../data/df_clean.csv', index_col=0)"
   ],
   "metadata": {
    "collapsed": false,
    "ExecuteTime": {
     "start_time": "2023-05-17T18:58:20.582864Z",
     "end_time": "2023-05-17T18:58:20.647124Z"
    }
   }
  },
  {
   "cell_type": "code",
   "execution_count": 5,
   "outputs": [
    {
     "name": "stdout",
     "output_type": "stream",
     "text": [
      "<class 'pandas.core.frame.DataFrame'>\n",
      "Int64Index: 17796 entries, 0 to 18357\n",
      "Data columns (total 46 columns):\n",
      " #   Column                    Non-Null Count  Dtype  \n",
      "---  ------                    --------------  -----  \n",
      " 0   LeagueCountry             17796 non-null  object \n",
      " 1   League                    17796 non-null  object \n",
      " 2   NationalLeagueLevel       17796 non-null  object \n",
      " 3   Club                      17796 non-null  object \n",
      " 4   No                        17511 non-null  float64\n",
      " 5   Name                      17796 non-null  object \n",
      " 6   Value                     17796 non-null  float64\n",
      " 7   HighestValue              17796 non-null  float64\n",
      " 8   Age                       17794 non-null  float64\n",
      " 9   Height                    16717 non-null  float64\n",
      " 10  Nationality               17796 non-null  object \n",
      " 11  Foot                      16124 non-null  object \n",
      " 12  Position                  17796 non-null  object \n",
      " 13  Consultancy               14524 non-null  object \n",
      " 14  Supplier                  2739 non-null   object \n",
      " 15  ClubSince                 17761 non-null  float64\n",
      " 16  ContractUntil             16740 non-null  float64\n",
      " 17  Injury                    17796 non-null  int64  \n",
      " 18  InternationalTeam         9708 non-null   object \n",
      " 19  ActiveInternational       17796 non-null  int64  \n",
      " 20  FormerInternational       17796 non-null  int64  \n",
      " 21  InternationalGames        10724 non-null  float64\n",
      " 22  InternationalGoals        10724 non-null  float64\n",
      " 23  StartingElevenQuote       15759 non-null  float64\n",
      " 24  MinutesQuote              15759 non-null  float64\n",
      " 25  TwPenaltySavesQuote       1742 non-null   float64\n",
      " 26  FsGoalParticipationQuote  14017 non-null  float64\n",
      " 27  Games                     13229 non-null  float64\n",
      " 28  PointsPerGame             12551 non-null  float64\n",
      " 29  Goals                     13229 non-null  float64\n",
      " 30  OwnGoals                  13229 non-null  float64\n",
      " 31  Ins                       13229 non-null  float64\n",
      " 32  Outs                      13229 non-null  float64\n",
      " 33  YellowCards               13229 non-null  float64\n",
      " 34  YellowRedCards            13229 non-null  float64\n",
      " 35  RedCards                  13229 non-null  float64\n",
      " 36  Minutes                   12510 non-null  float64\n",
      " 37  TwGoalsConceded           1461 non-null   float64\n",
      " 38  TwCleanSheets             1461 non-null   float64\n",
      " 39  FsAssists                 11768 non-null  float64\n",
      " 40  FsPenaltyGoals            11768 non-null  float64\n",
      " 41  FsMinutesPerGoal          6400 non-null   float64\n",
      " 42  Image                     14885 non-null  object \n",
      " 43  PositionCategory          17796 non-null  object \n",
      " 44  Cards                     13229 non-null  float64\n",
      " 45  Trending                  17796 non-null  int64  \n",
      "dtypes: float64(29), int64(4), object(13)\n",
      "memory usage: 6.4+ MB\n"
     ]
    }
   ],
   "source": [
    "df.info()"
   ],
   "metadata": {
    "collapsed": false,
    "ExecuteTime": {
     "start_time": "2023-05-17T18:58:20.993664Z",
     "end_time": "2023-05-17T18:58:21.021454Z"
    }
   }
  },
  {
   "cell_type": "code",
   "execution_count": 6,
   "outputs": [],
   "source": [
    "df = df.loc[df['Position'] == 'Torwart']"
   ],
   "metadata": {
    "collapsed": false,
    "ExecuteTime": {
     "start_time": "2023-05-17T18:58:21.644712Z",
     "end_time": "2023-05-17T18:58:21.651793Z"
    }
   }
  },
  {
   "cell_type": "code",
   "execution_count": 8,
   "outputs": [],
   "source": [
    "features = ['LeagueCountry', 'NationalLeagueLevel', 'InternationalTeam', 'League', 'Club', 'Age', 'ClubSince', 'ActiveInternational', 'FormerInternational', 'InternationalGames', 'Trending', 'Value']\n",
    "\n",
    "df = df[features]"
   ],
   "metadata": {
    "collapsed": false,
    "ExecuteTime": {
     "start_time": "2023-05-17T18:59:21.279257Z",
     "end_time": "2023-05-17T18:59:21.287515Z"
    }
   }
  },
  {
   "cell_type": "code",
   "execution_count": 10,
   "outputs": [],
   "source": [
    "df = df.dropna(subset=['Age', 'ClubSince'])"
   ],
   "metadata": {
    "collapsed": false,
    "ExecuteTime": {
     "start_time": "2023-05-17T18:59:30.725949Z",
     "end_time": "2023-05-17T18:59:30.733290Z"
    }
   }
  },
  {
   "cell_type": "code",
   "execution_count": 14,
   "outputs": [],
   "source": [
    "df = df.fillna({'InternationalGames': 0, 'InternationalGoals': 0})"
   ],
   "metadata": {
    "collapsed": false,
    "ExecuteTime": {
     "start_time": "2023-05-17T18:59:41.969772Z",
     "end_time": "2023-05-17T18:59:41.978983Z"
    }
   }
  },
  {
   "cell_type": "code",
   "execution_count": 15,
   "outputs": [
    {
     "name": "stdout",
     "output_type": "stream",
     "text": [
      "<class 'pandas.core.frame.DataFrame'>\n",
      "Int64Index: 2019 entries, 0 to 18336\n",
      "Data columns (total 12 columns):\n",
      " #   Column               Non-Null Count  Dtype  \n",
      "---  ------               --------------  -----  \n",
      " 0   LeagueCountry        2019 non-null   object \n",
      " 1   NationalLeagueLevel  2019 non-null   object \n",
      " 2   InternationalTeam    1051 non-null   object \n",
      " 3   League               2019 non-null   object \n",
      " 4   Club                 2019 non-null   object \n",
      " 5   Age                  2019 non-null   float64\n",
      " 6   ClubSince            2019 non-null   float64\n",
      " 7   ActiveInternational  2019 non-null   int64  \n",
      " 8   FormerInternational  2019 non-null   int64  \n",
      " 9   InternationalGames   2019 non-null   float64\n",
      " 10  Trending             2019 non-null   int64  \n",
      " 11  Value                2019 non-null   float64\n",
      "dtypes: float64(4), int64(3), object(5)\n",
      "memory usage: 205.1+ KB\n"
     ]
    }
   ],
   "source": [
    "df.info()"
   ],
   "metadata": {
    "collapsed": false,
    "ExecuteTime": {
     "start_time": "2023-05-17T18:59:43.535101Z",
     "end_time": "2023-05-17T18:59:43.539472Z"
    }
   }
  },
  {
   "cell_type": "code",
   "execution_count": 16,
   "outputs": [
    {
     "name": "stdout",
     "output_type": "stream",
     "text": [
      "Column: Age, NaN values: 0\n",
      "Column: ClubSince, NaN values: 0\n",
      "Column: ActiveInternational, NaN values: 0\n",
      "Column: FormerInternational, NaN values: 0\n",
      "Column: InternationalGames, NaN values: 0\n",
      "Column: Trending, NaN values: 0\n",
      "Column: Value, NaN values: 0\n"
     ]
    }
   ],
   "source": [
    "# Select numerical columns\n",
    "numerical_columns = df.select_dtypes(include=[np.number])\n",
    "\n",
    "# Print column names and count of NaN values for each numerical column\n",
    "for col in numerical_columns.columns:\n",
    "    print(f\"Column: {col}, NaN values: {numerical_columns[col].isna().sum()}\")"
   ],
   "metadata": {
    "collapsed": false,
    "ExecuteTime": {
     "start_time": "2023-05-17T18:59:44.177756Z",
     "end_time": "2023-05-17T18:59:44.184775Z"
    }
   }
  },
  {
   "cell_type": "code",
   "execution_count": 17,
   "outputs": [],
   "source": [
    "df = process_categorical(df, 'InternationalTeam', 5)"
   ],
   "metadata": {
    "collapsed": false,
    "ExecuteTime": {
     "start_time": "2023-05-17T18:59:45.142316Z",
     "end_time": "2023-05-17T18:59:45.149084Z"
    }
   }
  },
  {
   "cell_type": "code",
   "execution_count": 18,
   "outputs": [],
   "source": [
    "df = process_categorical(df, 'League')"
   ],
   "metadata": {
    "collapsed": false,
    "ExecuteTime": {
     "start_time": "2023-05-17T18:59:45.628978Z",
     "end_time": "2023-05-17T18:59:45.634855Z"
    }
   }
  },
  {
   "cell_type": "code",
   "execution_count": 19,
   "outputs": [],
   "source": [
    "df = process_categorical(df, 'Club')"
   ],
   "metadata": {
    "collapsed": false,
    "ExecuteTime": {
     "start_time": "2023-05-17T18:59:46.017086Z",
     "end_time": "2023-05-17T18:59:46.022743Z"
    }
   }
  },
  {
   "cell_type": "code",
   "execution_count": 20,
   "outputs": [],
   "source": [
    "df = process_categorical(df, 'LeagueCountry', 5)"
   ],
   "metadata": {
    "collapsed": false,
    "ExecuteTime": {
     "start_time": "2023-05-17T18:59:46.471236Z",
     "end_time": "2023-05-17T18:59:46.475662Z"
    }
   }
  },
  {
   "cell_type": "code",
   "execution_count": 21,
   "outputs": [],
   "source": [
    "df = process_categorical(df, 'NationalLeagueLevel', 5)"
   ],
   "metadata": {
    "collapsed": false,
    "ExecuteTime": {
     "start_time": "2023-05-17T18:59:47.759405Z",
     "end_time": "2023-05-17T18:59:47.764869Z"
    }
   }
  },
  {
   "cell_type": "code",
   "execution_count": 23,
   "outputs": [],
   "source": [
    "df.to_csv('../data/df_simple_model_tw.csv')"
   ],
   "metadata": {
    "collapsed": false,
    "ExecuteTime": {
     "start_time": "2023-05-17T18:59:59.570711Z",
     "end_time": "2023-05-17T18:59:59.610382Z"
    }
   }
  },
  {
   "cell_type": "code",
   "execution_count": null,
   "outputs": [],
   "source": [],
   "metadata": {
    "collapsed": false
   }
  }
 ],
 "metadata": {
  "kernelspec": {
   "display_name": "Python 3",
   "language": "python",
   "name": "python3"
  },
  "language_info": {
   "codemirror_mode": {
    "name": "ipython",
    "version": 2
   },
   "file_extension": ".py",
   "mimetype": "text/x-python",
   "name": "python",
   "nbconvert_exporter": "python",
   "pygments_lexer": "ipython2",
   "version": "2.7.6"
  }
 },
 "nbformat": 4,
 "nbformat_minor": 0
}
