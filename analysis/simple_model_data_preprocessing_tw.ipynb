{
 "cells": [
  {
   "cell_type": "code",
   "execution_count": 1,
   "metadata": {
    "collapsed": true,
    "ExecuteTime": {
     "start_time": "2023-05-15T16:42:13.721733Z",
     "end_time": "2023-05-15T16:42:17.268117Z"
    }
   },
   "outputs": [],
   "source": [
    "import pandas as pd\n",
    "import numpy as np\n",
    "from analysis.utils import process_categorical"
   ]
  },
  {
   "cell_type": "code",
   "execution_count": 2,
   "outputs": [],
   "source": [
    "df = pd.read_csv('../data/df_clean.csv', index_col=0)"
   ],
   "metadata": {
    "collapsed": false,
    "ExecuteTime": {
     "start_time": "2023-05-15T16:42:17.272188Z",
     "end_time": "2023-05-15T16:42:17.403785Z"
    }
   }
  },
  {
   "cell_type": "code",
   "execution_count": 3,
   "outputs": [
    {
     "name": "stdout",
     "output_type": "stream",
     "text": [
      "<class 'pandas.core.frame.DataFrame'>\n",
      "Int64Index: 17803 entries, 0 to 18334\n",
      "Data columns (total 44 columns):\n",
      " #   Column                    Non-Null Count  Dtype  \n",
      "---  ------                    --------------  -----  \n",
      " 0   LeagueCountry             17803 non-null  object \n",
      " 1   League                    17803 non-null  object \n",
      " 2   NationalLeagueLevel       17803 non-null  object \n",
      " 3   Club                      17803 non-null  object \n",
      " 4   No                        17494 non-null  float64\n",
      " 5   Name                      17803 non-null  object \n",
      " 6   Value                     17803 non-null  float64\n",
      " 7   HighestValue              17803 non-null  float64\n",
      " 8   Age                       17800 non-null  float64\n",
      " 9   Height                    16713 non-null  float64\n",
      " 10  Nationality               17803 non-null  object \n",
      " 11  Foot                      16118 non-null  object \n",
      " 12  Position                  17803 non-null  object \n",
      " 13  Consultancy               14496 non-null  object \n",
      " 14  Supplier                  2736 non-null   object \n",
      " 15  ClubSince                 17768 non-null  float64\n",
      " 16  ContractUntil             16730 non-null  float64\n",
      " 17  Injury                    17803 non-null  int64  \n",
      " 18  InternationalTeam         11967 non-null  object \n",
      " 19  ActiveInternational       17803 non-null  int64  \n",
      " 20  FormerInternational       17803 non-null  int64  \n",
      " 21  InternationalGames        11967 non-null  float64\n",
      " 22  InternationalGoals        11967 non-null  float64\n",
      " 23  StartingElevenQuote       15773 non-null  float64\n",
      " 24  MinutesQuote              15773 non-null  float64\n",
      " 25  TwPenaltySavesQuote       1737 non-null   float64\n",
      " 26  FsGoalParticipationQuote  14036 non-null  float64\n",
      " 27  Games                     13227 non-null  float64\n",
      " 28  PointsPerGame             12484 non-null  float64\n",
      " 29  Goals                     13227 non-null  float64\n",
      " 30  OwnGoals                  13227 non-null  float64\n",
      " 31  Ins                       13227 non-null  float64\n",
      " 32  Outs                      13227 non-null  float64\n",
      " 33  YellowCards               13227 non-null  float64\n",
      " 34  YellowRedCards            13227 non-null  float64\n",
      " 35  RedCards                  13227 non-null  float64\n",
      " 36  Minutes                   12437 non-null  float64\n",
      " 37  TwGoalsConceded           1459 non-null   float64\n",
      " 38  TwCleanSheets             1459 non-null   float64\n",
      " 39  FsAssists                 11768 non-null  float64\n",
      " 40  FsPenaltyGoals            11768 non-null  float64\n",
      " 41  FsMinutesPerGoal          6119 non-null   float64\n",
      " 42  PositionCategory          17803 non-null  object \n",
      " 43  Trending                  17803 non-null  int64  \n",
      "dtypes: float64(28), int64(4), object(12)\n",
      "memory usage: 6.1+ MB\n"
     ]
    }
   ],
   "source": [
    "df.info()"
   ],
   "metadata": {
    "collapsed": false,
    "ExecuteTime": {
     "start_time": "2023-05-15T16:42:17.404852Z",
     "end_time": "2023-05-15T16:42:17.468568Z"
    }
   }
  },
  {
   "cell_type": "code",
   "execution_count": 4,
   "outputs": [],
   "source": [
    "df = df.loc[df['Position'] == 'Torwart']"
   ],
   "metadata": {
    "collapsed": false,
    "ExecuteTime": {
     "start_time": "2023-05-15T16:42:17.461823Z",
     "end_time": "2023-05-15T16:42:17.480718Z"
    }
   }
  },
  {
   "cell_type": "code",
   "execution_count": 5,
   "outputs": [],
   "source": [
    "features = ['LeagueCountry', 'League', 'NationalLeagueLevel', 'Club', 'Age', 'Nationality', 'Consultancy', 'Supplier', 'ClubSince', 'Injury', 'InternationalTeam', 'ActiveInternational', 'FormerInternational', 'InternationalGames', 'InternationalGoals', 'Trending', 'Value']\n",
    "\n",
    "df = df[features]"
   ],
   "metadata": {
    "collapsed": false,
    "ExecuteTime": {
     "start_time": "2023-05-15T16:42:17.480718Z",
     "end_time": "2023-05-15T16:42:17.557308Z"
    }
   }
  },
  {
   "cell_type": "code",
   "execution_count": 6,
   "outputs": [],
   "source": [
    "df = df.dropna(subset=['Age', 'ClubSince'])"
   ],
   "metadata": {
    "collapsed": false,
    "ExecuteTime": {
     "start_time": "2023-05-15T16:42:17.503534Z",
     "end_time": "2023-05-15T16:42:17.567114Z"
    }
   }
  },
  {
   "cell_type": "code",
   "execution_count": 7,
   "outputs": [],
   "source": [
    "df = df.fillna({'InternationalGames': 0, 'InternationalGoals': 0})"
   ],
   "metadata": {
    "collapsed": false,
    "ExecuteTime": {
     "start_time": "2023-05-15T16:42:17.515296Z",
     "end_time": "2023-05-15T16:42:17.567114Z"
    }
   }
  },
  {
   "cell_type": "code",
   "execution_count": 8,
   "outputs": [
    {
     "name": "stdout",
     "output_type": "stream",
     "text": [
      "<class 'pandas.core.frame.DataFrame'>\n",
      "Int64Index: 2016 entries, 0 to 18313\n",
      "Data columns (total 17 columns):\n",
      " #   Column               Non-Null Count  Dtype  \n",
      "---  ------               --------------  -----  \n",
      " 0   LeagueCountry        2016 non-null   object \n",
      " 1   League               2016 non-null   object \n",
      " 2   NationalLeagueLevel  2016 non-null   object \n",
      " 3   Club                 2016 non-null   object \n",
      " 4   Age                  2016 non-null   float64\n",
      " 5   Nationality          2016 non-null   object \n",
      " 6   Consultancy          1544 non-null   object \n",
      " 7   Supplier             245 non-null    object \n",
      " 8   ClubSince            2016 non-null   float64\n",
      " 9   Injury               2016 non-null   int64  \n",
      " 10  InternationalTeam    1300 non-null   object \n",
      " 11  ActiveInternational  2016 non-null   int64  \n",
      " 12  FormerInternational  2016 non-null   int64  \n",
      " 13  InternationalGames   2016 non-null   float64\n",
      " 14  InternationalGoals   2016 non-null   float64\n",
      " 15  Trending             2016 non-null   int64  \n",
      " 16  Value                2016 non-null   float64\n",
      "dtypes: float64(5), int64(4), object(8)\n",
      "memory usage: 283.5+ KB\n"
     ]
    }
   ],
   "source": [
    "df.info()"
   ],
   "metadata": {
    "collapsed": false,
    "ExecuteTime": {
     "start_time": "2023-05-15T16:42:17.535690Z",
     "end_time": "2023-05-15T16:42:17.567114Z"
    }
   }
  },
  {
   "cell_type": "code",
   "execution_count": 9,
   "outputs": [
    {
     "name": "stdout",
     "output_type": "stream",
     "text": [
      "Column: Age, NaN values: 0\n",
      "Column: ClubSince, NaN values: 0\n",
      "Column: Injury, NaN values: 0\n",
      "Column: ActiveInternational, NaN values: 0\n",
      "Column: FormerInternational, NaN values: 0\n",
      "Column: InternationalGames, NaN values: 0\n",
      "Column: InternationalGoals, NaN values: 0\n",
      "Column: Trending, NaN values: 0\n",
      "Column: Value, NaN values: 0\n"
     ]
    }
   ],
   "source": [
    "# Select numerical columns\n",
    "numerical_columns = df.select_dtypes(include=[np.number])\n",
    "\n",
    "# Print column names and count of NaN values for each numerical column\n",
    "for col in numerical_columns.columns:\n",
    "    print(f\"Column: {col}, NaN values: {numerical_columns[col].isna().sum()}\")"
   ],
   "metadata": {
    "collapsed": false,
    "ExecuteTime": {
     "start_time": "2023-05-15T16:42:17.564894Z",
     "end_time": "2023-05-15T16:42:17.589086Z"
    }
   }
  },
  {
   "cell_type": "code",
   "execution_count": 10,
   "outputs": [],
   "source": [
    "df = process_categorical(df, 'Supplier')"
   ],
   "metadata": {
    "collapsed": false,
    "ExecuteTime": {
     "start_time": "2023-05-15T16:42:17.585257Z",
     "end_time": "2023-05-15T16:42:17.668272Z"
    }
   }
  },
  {
   "cell_type": "code",
   "execution_count": 11,
   "outputs": [],
   "source": [
    "df = process_categorical(df, 'Consultancy')"
   ],
   "metadata": {
    "collapsed": false,
    "ExecuteTime": {
     "start_time": "2023-05-15T16:42:17.604754Z",
     "end_time": "2023-05-15T16:42:17.673119Z"
    }
   }
  },
  {
   "cell_type": "code",
   "execution_count": 12,
   "outputs": [],
   "source": [
    "df = process_categorical(df, 'InternationalTeam', 5)"
   ],
   "metadata": {
    "collapsed": false,
    "ExecuteTime": {
     "start_time": "2023-05-15T16:42:17.631596Z",
     "end_time": "2023-05-15T16:42:17.673119Z"
    }
   }
  },
  {
   "cell_type": "code",
   "execution_count": 13,
   "outputs": [],
   "source": [
    "df = process_categorical(df, 'League')"
   ],
   "metadata": {
    "collapsed": false,
    "ExecuteTime": {
     "start_time": "2023-05-15T16:42:17.641917Z",
     "end_time": "2023-05-15T16:42:17.679346Z"
    }
   }
  },
  {
   "cell_type": "code",
   "execution_count": 14,
   "outputs": [],
   "source": [
    "df = process_categorical(df, 'Club')"
   ],
   "metadata": {
    "collapsed": false,
    "ExecuteTime": {
     "start_time": "2023-05-15T16:42:17.673119Z",
     "end_time": "2023-05-15T16:42:17.732224Z"
    }
   }
  },
  {
   "cell_type": "code",
   "execution_count": 15,
   "outputs": [],
   "source": [
    "df = process_categorical(df, 'LeagueCountry', 5)"
   ],
   "metadata": {
    "collapsed": false,
    "ExecuteTime": {
     "start_time": "2023-05-15T16:42:17.707435Z",
     "end_time": "2023-05-15T16:42:17.732224Z"
    }
   }
  },
  {
   "cell_type": "code",
   "execution_count": 16,
   "outputs": [],
   "source": [
    "df = process_categorical(df, 'NationalLeagueLevel', 5)"
   ],
   "metadata": {
    "collapsed": false,
    "ExecuteTime": {
     "start_time": "2023-05-15T16:42:17.721355Z",
     "end_time": "2023-05-15T16:42:17.741374Z"
    }
   }
  },
  {
   "cell_type": "code",
   "execution_count": 17,
   "outputs": [],
   "source": [
    "df = process_categorical(df, 'Nationality')"
   ],
   "metadata": {
    "collapsed": false,
    "ExecuteTime": {
     "start_time": "2023-05-15T16:42:17.741374Z",
     "end_time": "2023-05-15T16:42:17.755501Z"
    }
   }
  },
  {
   "cell_type": "code",
   "execution_count": 18,
   "outputs": [],
   "source": [
    "df.to_csv('../data/df_simple_model_tw.csv')"
   ],
   "metadata": {
    "collapsed": false,
    "ExecuteTime": {
     "start_time": "2023-05-15T16:42:17.752446Z",
     "end_time": "2023-05-15T16:42:17.829050Z"
    }
   }
  }
 ],
 "metadata": {
  "kernelspec": {
   "display_name": "Python 3",
   "language": "python",
   "name": "python3"
  },
  "language_info": {
   "codemirror_mode": {
    "name": "ipython",
    "version": 2
   },
   "file_extension": ".py",
   "mimetype": "text/x-python",
   "name": "python",
   "nbconvert_exporter": "python",
   "pygments_lexer": "ipython2",
   "version": "2.7.6"
  }
 },
 "nbformat": 4,
 "nbformat_minor": 0
}
