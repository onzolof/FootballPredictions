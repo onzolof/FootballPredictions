{
 "cells": [
  {
   "cell_type": "code",
   "execution_count": 120,
   "metadata": {
    "collapsed": true,
    "ExecuteTime": {
     "start_time": "2023-05-18T09:45:19.657893Z",
     "end_time": "2023-05-18T09:45:19.665817Z"
    }
   },
   "outputs": [],
   "source": [
    "import numpy as np\n",
    "import pandas as pd"
   ]
  },
  {
   "cell_type": "code",
   "execution_count": 121,
   "outputs": [],
   "source": [
    "df = pd.read_csv('../data/df_clean.csv', index_col=0)"
   ],
   "metadata": {
    "collapsed": false,
    "ExecuteTime": {
     "start_time": "2023-05-18T09:45:19.663158Z",
     "end_time": "2023-05-18T09:45:19.740193Z"
    }
   }
  },
  {
   "cell_type": "markdown",
   "source": [
    "Load all result file with the prediction from the individual models"
   ],
   "metadata": {
    "collapsed": false
   }
  },
  {
   "cell_type": "code",
   "execution_count": 122,
   "outputs": [],
   "source": [
    "simple_results_fs = pd.read_csv('../data/df_simple_model_fs_results.csv', index_col=0)\n",
    "simple_results_fs.columns = ['PredictedValueSimpleModelFs']\n",
    "\n",
    "simple_results_tw = pd.read_csv('../data/df_simple_model_tw_results.csv', index_col=0)\n",
    "simple_results_tw.columns = ['PredictedValueSimpleModelTw']\n",
    "\n",
    "extensive_results_fs = pd.read_csv('../data/df_extensive_model_fs_results.csv', index_col=0)\n",
    "extensive_results_fs.columns = ['PredictedValueExtensiveModelFs']\n",
    "\n",
    "extensive_results_tw = pd.read_csv('../data/df_extensive_model_tw_results.csv', index_col=0)\n",
    "extensive_results_tw.columns = ['PredictedValueExtensiveModelTw']"
   ],
   "metadata": {
    "collapsed": false
   }
  },
  {
   "cell_type": "markdown",
   "source": [
    "Combine all predictions in one file."
   ],
   "metadata": {
    "collapsed": false
   }
  },
  {
   "cell_type": "code",
   "execution_count": 123,
   "outputs": [],
   "source": [
    "df = pd.concat([df, simple_results_fs, simple_results_tw, extensive_results_fs, extensive_results_tw], axis=1)"
   ],
   "metadata": {
    "collapsed": false
   }
  },
  {
   "cell_type": "markdown",
   "source": [
    "Aggregate the prediction score in one score:\n",
    "    - use extended model if available, otherwise use the simple model\n",
    "\n",
    "Create a consistent predicted value column in which all values 10'000 is used as a min-value and if the predicted value is below. Then, fill all records without a prediction with the minimum value, because it is probably not a very good player if essential information is missing in the data."
   ],
   "metadata": {
    "collapsed": false
   }
  },
  {
   "cell_type": "code",
   "execution_count": 124,
   "outputs": [],
   "source": [
    "def find_best_prediction(row):\n",
    "    if row['PositionCategory'] == 'Torwart':\n",
    "        if np.isnan(row['PredictedValueExtensiveModelTw']):\n",
    "            return row['PredictedValueSimpleModelTw']\n",
    "        else:\n",
    "            return row['PredictedValueExtensiveModelTw']\n",
    "    else:\n",
    "        if np.isnan(row['PredictedValueExtensiveModelFs']):\n",
    "            return row['PredictedValueSimpleModelFs']\n",
    "        else:\n",
    "            return row['PredictedValueExtensiveModelFs']\n",
    "\n",
    "\n",
    "df['PredictedValue'] = df.apply(find_best_prediction, axis=1)\n",
    "\n",
    "ZERO_VALUE = 10000\n",
    "df['PredictedValueConsistent'] = df['PredictedValue'].apply(lambda value: max(value, ZERO_VALUE))\n",
    "df['PredictedValueConsistent'] = df['PredictedValueConsistent'].fillna(ZERO_VALUE)\n"
   ],
   "metadata": {
    "collapsed": false,
    "ExecuteTime": {
     "start_time": "2023-05-18T09:45:19.756650Z",
     "end_time": "2023-05-18T09:45:19.849191Z"
    }
   }
  },
  {
   "cell_type": "code",
   "execution_count": 125,
   "outputs": [],
   "source": [
    "def normalize_variable(df, col):\n",
    "   df[col + 'Normalized'] = (df[col] - df[col].mean()) / df[col].std()\n",
    "   return df\n",
    "\n",
    "df = normalize_variable(df, 'Value')\n",
    "df = normalize_variable(df, 'PredictedValue')\n",
    "df = normalize_variable(df, 'PredictedValueConsistent')"
   ],
   "metadata": {
    "collapsed": false,
    "ExecuteTime": {
     "start_time": "2023-05-18T09:45:19.849894Z",
     "end_time": "2023-05-18T09:45:19.852936Z"
    }
   }
  },
  {
   "cell_type": "markdown",
   "source": [
    "create and try different measures for sorting and evaluating if a player is over- or undervalued"
   ],
   "metadata": {
    "collapsed": false
   }
  },
  {
   "cell_type": "code",
   "execution_count": 126,
   "outputs": [],
   "source": [
    "# positive difference means overvalued, negative difference means undervalued\n",
    "\n",
    "df['AbsoluteDifference'] = df['Value'] - df['PredictedValue']\n",
    "df['AbsoluteDifferenceNormalized'] = df['ValueNormalized'] - df['PredictedValueNormalized']\n",
    "df['AbsoluteDifferenceConsistent'] = df['Value'] - df['PredictedValueConsistent']\n",
    "df['AbsoluteDifferenceConsistentNormalized'] = df['ValueNormalized'] - df['PredictedValueConsistentNormalized']\n",
    "\n",
    "df['PercentDifference'] = df['PredictedValue'] / df['Value'] * 100\n",
    "df['PercentDifferenceNormalized'] = df['PredictedValueNormalized'] / df['ValueNormalized'] * 100\n",
    "df['PercentDifferenceConsistent'] = df['PredictedValueConsistent'] / df['Value'] * 100\n",
    "df['PercentDifferenceConsistentNormalized'] = df['PredictedValueConsistentNormalized'] / df['ValueNormalized'] * 100"
   ],
   "metadata": {
    "collapsed": false
   }
  },
  {
   "cell_type": "code",
   "execution_count": 127,
   "outputs": [
    {
     "data": {
      "text/plain": "               League             Club                     Name  \\\n3423          Ligue 1         Paris SG            Kylian Mbappé   \n7677   Premier League  Manchester City           Erling Haaland   \n9479       Eredivisie    PSV Eindhoven           Walter Benítez   \n9503       Eredivisie        Feyenoord            Justin Bijlow   \n9453       Eredivisie   Ajax Amsterdam           Gerónimo Rulli   \n9976        Süper Lig       Fenerbahce           Altay Bayindir   \n1107       Bundesliga    B. Leverkusen            Florian Wirtz   \n7683   Premier League       FC Chelsea            Wesley Fofana   \n8141   Premier League        FC Fulham                Issa Diop   \n8111   Premier League     Leeds United         Georginio Rutter   \n9456       Eredivisie   Ajax Amsterdam           Jurrien Timber   \n9494       Eredivisie    PSV Eindhoven              Xavi Simons   \n5711           LaLiga    FC Villarreal              Yéremy Pino   \n8242     Championship       FC Watford               João Pedro   \n5713           LaLiga    FC Villarreal            Gerard Moreno   \n8033   Premier League     Nottm Forest          Moussa Niakhaté   \n1316       Bundesliga    VfB Stuttgart  Konstantinos Mavropanos   \n15824  SuperSport HNL    Dinamo Zagreb             Josip Sutalo   \n7693   Premier League       FC Chelsea           Enzo Fernández   \n5685           LaLiga    Real Sociedad          Mikel Oyarzabal   \n\n                    Position        Value  PredictedValue  AbsoluteDifference  \n3423           Mittelstürmer  180000000.0      89146340.0          90853660.0  \n7677           Mittelstürmer  170000000.0      80677110.0          89322890.0  \n9479                 Torwart   12000000.0        596159.7          11403840.3  \n9503                 Torwart   13000000.0       3268679.8           9731320.2  \n9453                 Torwart   10000000.0        930885.6           9069114.4  \n9976                 Torwart   13000000.0       5757902.0           7242098.0  \n1107   Offensives Mittelfeld   85000000.0      77868024.0           7131976.0  \n7683        Innenverteidiger   65000000.0      57985588.0           7014412.0  \n8141        Innenverteidiger   18000000.0      11240158.0           6759842.0  \n8111           Mittelstürmer   22000000.0      15247075.0           6752925.0  \n9456        Innenverteidiger   42000000.0      35361296.0           6638704.0  \n9494   Offensives Mittelfeld   30000000.0      23370034.0           6629966.0  \n5711             Rechtsaußen   38000000.0      31517198.0           6482802.0  \n8242           Mittelstürmer   24000000.0      17761638.0           6238362.0  \n5713           Mittelstürmer   30000000.0      24137590.0           5862410.0  \n8033        Innenverteidiger   18000000.0      12189702.0           5810298.0  \n1316        Innenverteidiger   15000000.0       9266683.0           5733317.0  \n15824       Innenverteidiger   18000000.0      12314225.0           5685775.0  \n7693   Defensives Mittelfeld   85000000.0      79325350.0           5674650.0  \n5685              Linksaußen   50000000.0      44397880.0           5602120.0  ",
      "text/html": "<div>\n<style scoped>\n    .dataframe tbody tr th:only-of-type {\n        vertical-align: middle;\n    }\n\n    .dataframe tbody tr th {\n        vertical-align: top;\n    }\n\n    .dataframe thead th {\n        text-align: right;\n    }\n</style>\n<table border=\"1\" class=\"dataframe\">\n  <thead>\n    <tr style=\"text-align: right;\">\n      <th></th>\n      <th>League</th>\n      <th>Club</th>\n      <th>Name</th>\n      <th>Position</th>\n      <th>Value</th>\n      <th>PredictedValue</th>\n      <th>AbsoluteDifference</th>\n    </tr>\n  </thead>\n  <tbody>\n    <tr>\n      <th>3423</th>\n      <td>Ligue 1</td>\n      <td>Paris SG</td>\n      <td>Kylian Mbappé</td>\n      <td>Mittelstürmer</td>\n      <td>180000000.0</td>\n      <td>89146340.0</td>\n      <td>90853660.0</td>\n    </tr>\n    <tr>\n      <th>7677</th>\n      <td>Premier League</td>\n      <td>Manchester City</td>\n      <td>Erling Haaland</td>\n      <td>Mittelstürmer</td>\n      <td>170000000.0</td>\n      <td>80677110.0</td>\n      <td>89322890.0</td>\n    </tr>\n    <tr>\n      <th>9479</th>\n      <td>Eredivisie</td>\n      <td>PSV Eindhoven</td>\n      <td>Walter Benítez</td>\n      <td>Torwart</td>\n      <td>12000000.0</td>\n      <td>596159.7</td>\n      <td>11403840.3</td>\n    </tr>\n    <tr>\n      <th>9503</th>\n      <td>Eredivisie</td>\n      <td>Feyenoord</td>\n      <td>Justin Bijlow</td>\n      <td>Torwart</td>\n      <td>13000000.0</td>\n      <td>3268679.8</td>\n      <td>9731320.2</td>\n    </tr>\n    <tr>\n      <th>9453</th>\n      <td>Eredivisie</td>\n      <td>Ajax Amsterdam</td>\n      <td>Gerónimo Rulli</td>\n      <td>Torwart</td>\n      <td>10000000.0</td>\n      <td>930885.6</td>\n      <td>9069114.4</td>\n    </tr>\n    <tr>\n      <th>9976</th>\n      <td>Süper Lig</td>\n      <td>Fenerbahce</td>\n      <td>Altay Bayindir</td>\n      <td>Torwart</td>\n      <td>13000000.0</td>\n      <td>5757902.0</td>\n      <td>7242098.0</td>\n    </tr>\n    <tr>\n      <th>1107</th>\n      <td>Bundesliga</td>\n      <td>B. Leverkusen</td>\n      <td>Florian Wirtz</td>\n      <td>Offensives Mittelfeld</td>\n      <td>85000000.0</td>\n      <td>77868024.0</td>\n      <td>7131976.0</td>\n    </tr>\n    <tr>\n      <th>7683</th>\n      <td>Premier League</td>\n      <td>FC Chelsea</td>\n      <td>Wesley Fofana</td>\n      <td>Innenverteidiger</td>\n      <td>65000000.0</td>\n      <td>57985588.0</td>\n      <td>7014412.0</td>\n    </tr>\n    <tr>\n      <th>8141</th>\n      <td>Premier League</td>\n      <td>FC Fulham</td>\n      <td>Issa Diop</td>\n      <td>Innenverteidiger</td>\n      <td>18000000.0</td>\n      <td>11240158.0</td>\n      <td>6759842.0</td>\n    </tr>\n    <tr>\n      <th>8111</th>\n      <td>Premier League</td>\n      <td>Leeds United</td>\n      <td>Georginio Rutter</td>\n      <td>Mittelstürmer</td>\n      <td>22000000.0</td>\n      <td>15247075.0</td>\n      <td>6752925.0</td>\n    </tr>\n    <tr>\n      <th>9456</th>\n      <td>Eredivisie</td>\n      <td>Ajax Amsterdam</td>\n      <td>Jurrien Timber</td>\n      <td>Innenverteidiger</td>\n      <td>42000000.0</td>\n      <td>35361296.0</td>\n      <td>6638704.0</td>\n    </tr>\n    <tr>\n      <th>9494</th>\n      <td>Eredivisie</td>\n      <td>PSV Eindhoven</td>\n      <td>Xavi Simons</td>\n      <td>Offensives Mittelfeld</td>\n      <td>30000000.0</td>\n      <td>23370034.0</td>\n      <td>6629966.0</td>\n    </tr>\n    <tr>\n      <th>5711</th>\n      <td>LaLiga</td>\n      <td>FC Villarreal</td>\n      <td>Yéremy Pino</td>\n      <td>Rechtsaußen</td>\n      <td>38000000.0</td>\n      <td>31517198.0</td>\n      <td>6482802.0</td>\n    </tr>\n    <tr>\n      <th>8242</th>\n      <td>Championship</td>\n      <td>FC Watford</td>\n      <td>João Pedro</td>\n      <td>Mittelstürmer</td>\n      <td>24000000.0</td>\n      <td>17761638.0</td>\n      <td>6238362.0</td>\n    </tr>\n    <tr>\n      <th>5713</th>\n      <td>LaLiga</td>\n      <td>FC Villarreal</td>\n      <td>Gerard Moreno</td>\n      <td>Mittelstürmer</td>\n      <td>30000000.0</td>\n      <td>24137590.0</td>\n      <td>5862410.0</td>\n    </tr>\n    <tr>\n      <th>8033</th>\n      <td>Premier League</td>\n      <td>Nottm Forest</td>\n      <td>Moussa Niakhaté</td>\n      <td>Innenverteidiger</td>\n      <td>18000000.0</td>\n      <td>12189702.0</td>\n      <td>5810298.0</td>\n    </tr>\n    <tr>\n      <th>1316</th>\n      <td>Bundesliga</td>\n      <td>VfB Stuttgart</td>\n      <td>Konstantinos Mavropanos</td>\n      <td>Innenverteidiger</td>\n      <td>15000000.0</td>\n      <td>9266683.0</td>\n      <td>5733317.0</td>\n    </tr>\n    <tr>\n      <th>15824</th>\n      <td>SuperSport HNL</td>\n      <td>Dinamo Zagreb</td>\n      <td>Josip Sutalo</td>\n      <td>Innenverteidiger</td>\n      <td>18000000.0</td>\n      <td>12314225.0</td>\n      <td>5685775.0</td>\n    </tr>\n    <tr>\n      <th>7693</th>\n      <td>Premier League</td>\n      <td>FC Chelsea</td>\n      <td>Enzo Fernández</td>\n      <td>Defensives Mittelfeld</td>\n      <td>85000000.0</td>\n      <td>79325350.0</td>\n      <td>5674650.0</td>\n    </tr>\n    <tr>\n      <th>5685</th>\n      <td>LaLiga</td>\n      <td>Real Sociedad</td>\n      <td>Mikel Oyarzabal</td>\n      <td>Linksaußen</td>\n      <td>50000000.0</td>\n      <td>44397880.0</td>\n      <td>5602120.0</td>\n    </tr>\n  </tbody>\n</table>\n</div>"
     },
     "execution_count": 127,
     "metadata": {},
     "output_type": "execute_result"
    }
   ],
   "source": [
    "df.sort_values('AbsoluteDifference', ascending=False)[['League', 'Club', 'Name', 'Position', 'Value', 'PredictedValue', 'AbsoluteDifference']].head(20)"
   ],
   "metadata": {
    "collapsed": false,
    "ExecuteTime": {
     "start_time": "2023-05-18T09:45:19.857764Z",
     "end_time": "2023-05-18T09:45:19.868921Z"
    }
   }
  },
  {
   "cell_type": "code",
   "execution_count": 128,
   "outputs": [
    {
     "data": {
      "text/plain": "            League            Club                   Name  \\\n15186  Ekstraklasa     Jagiellonia            Michal Ozga   \n5348       Serie B       Benevento  Francesco Perlingieri   \n17292    SuperLiga    FC Voluntari           Aymar Meleke   \n17825  Allsvenskan     IFK Värnamo  Johnbosco Samuel Kalu   \n10804        1.Lig  Genclerbirligi      Chukwuma Akabueze   \n7574   Liga Sabseg  Vilafranquense                   Nenê   \n18262  Eliteserien          HamKam         Lars Brotangen   \n7504   Liga Sabseg      CF Estrela           Miguel Lopes   \n12055   U19 M-Liga       Akhmat II      Abubakar Inalkaev   \n17724  Allsvenskan       Kalmar FF           Rony Jansson   \n\n                    Position    Value  PredictedValue  PercentDifference  \n15186       Innenverteidiger  25000.0      6457719.50         25830.8780  \n5348     Rechter Verteidiger  10000.0       637620.25          6376.2025  \n17292          Mittelstürmer  10000.0       597704.80          5977.0480  \n17825          Mittelstürmer  10000.0       591292.06          5912.9206  \n10804  Offensives Mittelfeld  25000.0      1341897.20          5367.5888  \n7574           Mittelstürmer  25000.0      1043500.40          4174.0016  \n18262       Innenverteidiger  10000.0       414704.62          4147.0462  \n7504     Rechter Verteidiger  50000.0      1987235.50          3974.4710  \n12055  Defensives Mittelfeld  50000.0      1969307.60          3938.6152  \n17724       Innenverteidiger  10000.0       345408.78          3454.0878  ",
      "text/html": "<div>\n<style scoped>\n    .dataframe tbody tr th:only-of-type {\n        vertical-align: middle;\n    }\n\n    .dataframe tbody tr th {\n        vertical-align: top;\n    }\n\n    .dataframe thead th {\n        text-align: right;\n    }\n</style>\n<table border=\"1\" class=\"dataframe\">\n  <thead>\n    <tr style=\"text-align: right;\">\n      <th></th>\n      <th>League</th>\n      <th>Club</th>\n      <th>Name</th>\n      <th>Position</th>\n      <th>Value</th>\n      <th>PredictedValue</th>\n      <th>PercentDifference</th>\n    </tr>\n  </thead>\n  <tbody>\n    <tr>\n      <th>15186</th>\n      <td>Ekstraklasa</td>\n      <td>Jagiellonia</td>\n      <td>Michal Ozga</td>\n      <td>Innenverteidiger</td>\n      <td>25000.0</td>\n      <td>6457719.50</td>\n      <td>25830.8780</td>\n    </tr>\n    <tr>\n      <th>5348</th>\n      <td>Serie B</td>\n      <td>Benevento</td>\n      <td>Francesco Perlingieri</td>\n      <td>Rechter Verteidiger</td>\n      <td>10000.0</td>\n      <td>637620.25</td>\n      <td>6376.2025</td>\n    </tr>\n    <tr>\n      <th>17292</th>\n      <td>SuperLiga</td>\n      <td>FC Voluntari</td>\n      <td>Aymar Meleke</td>\n      <td>Mittelstürmer</td>\n      <td>10000.0</td>\n      <td>597704.80</td>\n      <td>5977.0480</td>\n    </tr>\n    <tr>\n      <th>17825</th>\n      <td>Allsvenskan</td>\n      <td>IFK Värnamo</td>\n      <td>Johnbosco Samuel Kalu</td>\n      <td>Mittelstürmer</td>\n      <td>10000.0</td>\n      <td>591292.06</td>\n      <td>5912.9206</td>\n    </tr>\n    <tr>\n      <th>10804</th>\n      <td>1.Lig</td>\n      <td>Genclerbirligi</td>\n      <td>Chukwuma Akabueze</td>\n      <td>Offensives Mittelfeld</td>\n      <td>25000.0</td>\n      <td>1341897.20</td>\n      <td>5367.5888</td>\n    </tr>\n    <tr>\n      <th>7574</th>\n      <td>Liga Sabseg</td>\n      <td>Vilafranquense</td>\n      <td>Nenê</td>\n      <td>Mittelstürmer</td>\n      <td>25000.0</td>\n      <td>1043500.40</td>\n      <td>4174.0016</td>\n    </tr>\n    <tr>\n      <th>18262</th>\n      <td>Eliteserien</td>\n      <td>HamKam</td>\n      <td>Lars Brotangen</td>\n      <td>Innenverteidiger</td>\n      <td>10000.0</td>\n      <td>414704.62</td>\n      <td>4147.0462</td>\n    </tr>\n    <tr>\n      <th>7504</th>\n      <td>Liga Sabseg</td>\n      <td>CF Estrela</td>\n      <td>Miguel Lopes</td>\n      <td>Rechter Verteidiger</td>\n      <td>50000.0</td>\n      <td>1987235.50</td>\n      <td>3974.4710</td>\n    </tr>\n    <tr>\n      <th>12055</th>\n      <td>U19 M-Liga</td>\n      <td>Akhmat II</td>\n      <td>Abubakar Inalkaev</td>\n      <td>Defensives Mittelfeld</td>\n      <td>50000.0</td>\n      <td>1969307.60</td>\n      <td>3938.6152</td>\n    </tr>\n    <tr>\n      <th>17724</th>\n      <td>Allsvenskan</td>\n      <td>Kalmar FF</td>\n      <td>Rony Jansson</td>\n      <td>Innenverteidiger</td>\n      <td>10000.0</td>\n      <td>345408.78</td>\n      <td>3454.0878</td>\n    </tr>\n  </tbody>\n</table>\n</div>"
     },
     "execution_count": 128,
     "metadata": {},
     "output_type": "execute_result"
    }
   ],
   "source": [
    "df.sort_values('PercentDifference', ascending=False)[['League', 'Club', 'Name', 'Position', 'Value', 'PredictedValue', 'PercentDifference']].head(10)"
   ],
   "metadata": {
    "collapsed": false,
    "ExecuteTime": {
     "start_time": "2023-05-18T09:45:19.869538Z",
     "end_time": "2023-05-18T09:45:19.896596Z"
    }
   }
  },
  {
   "cell_type": "code",
   "execution_count": 129,
   "outputs": [
    {
     "data": {
      "text/plain": "                   League             Club                     Name  \\\n3423              Ligue 1         Paris SG            Kylian Mbappé   \n7677       Premier League  Manchester City           Erling Haaland   \n9479           Eredivisie    PSV Eindhoven           Walter Benítez   \n9503           Eredivisie        Feyenoord            Justin Bijlow   \n9453           Eredivisie   Ajax Amsterdam           Gerónimo Rulli   \n9976            Süper Lig       Fenerbahce           Altay Bayindir   \n8141       Premier League        FC Fulham                Issa Diop   \n8111       Premier League     Leeds United         Georginio Rutter   \n9494           Eredivisie    PSV Eindhoven              Xavi Simons   \n8242         Championship       FC Watford               João Pedro   \n1316           Bundesliga    VfB Stuttgart  Konstantinos Mavropanos   \n8033       Premier League     Nottm Forest          Moussa Niakhaté   \n11075  Jupiler Pro League  Royal Antwerpen         Arthur Vermeeren   \n15824      SuperSport HNL    Dinamo Zagreb             Josip Sutalo   \n4947              Serie A    Hellas Verona                Josh Doig   \n5711               LaLiga    FC Villarreal              Yéremy Pino   \n6688        Liga Portugal         FC Porto                   Galeno   \n9627           Eredivisie  Vitesse Arnheim         Kacper Kozlowski   \n9456           Eredivisie   Ajax Amsterdam           Jurrien Timber   \n6740        Liga Portugal         SC Braga               Al-Musrati   \n4864              Serie A   US Salernitana          Giulio Maggiore   \n5713               LaLiga    FC Villarreal            Gerard Moreno   \n3810              Ligue 1   Stade Brest 29           Franck Honorat   \n12740      Super League 1    Olymp. Piräus              Sergi Canós   \n12728      Super League 1    Olymp. Piräus        Diadié Samassékou   \n6021               LaLiga  Real Valladolid            Iván Fresneda   \n8186       Premier League      Bournemouth             David Brooks   \n3629              Ligue 1        FC Nantes              Andy Delort   \n7970       Premier League      Southampton       Kamaldeen Sulemana   \n3623              Ligue 1        FC Nantes             Ludovic Blas   \n\n                    Position        Value  PredictedValueConsistent  \\\n3423           Mittelstürmer  180000000.0                89146340.0   \n7677           Mittelstürmer  170000000.0                80677110.0   \n9479                 Torwart   12000000.0                  596159.7   \n9503                 Torwart   13000000.0                 3268679.8   \n9453                 Torwart   10000000.0                  930885.6   \n9976                 Torwart   13000000.0                 5757902.0   \n8141        Innenverteidiger   18000000.0                11240158.0   \n8111           Mittelstürmer   22000000.0                15247075.0   \n9494   Offensives Mittelfeld   30000000.0                23370034.0   \n8242           Mittelstürmer   24000000.0                17761638.0   \n1316        Innenverteidiger   15000000.0                 9266683.0   \n8033        Innenverteidiger   18000000.0                12189702.0   \n11075  Defensives Mittelfeld    8500000.0                 3227344.5   \n15824       Innenverteidiger   18000000.0                12314225.0   \n4947      Linker Verteidiger   10000000.0                 4995227.0   \n5711             Rechtsaußen   38000000.0                31517198.0   \n6688              Linksaußen   20000000.0                14519840.0   \n9627    Zentrales Mittelfeld    8000000.0                 3187324.8   \n9456        Innenverteidiger   42000000.0                35361296.0   \n6740   Defensives Mittelfeld   16000000.0                10817753.0   \n4864    Zentrales Mittelfeld    7500000.0                 2804411.8   \n5713           Mittelstürmer   30000000.0                24137590.0   \n3810             Rechtsaußen    9000000.0                 4313634.5   \n12740            Rechtsaußen   12000000.0                 7200893.5   \n12728  Defensives Mittelfeld   10000000.0                 5344861.0   \n6021     Rechter Verteidiger   10000000.0                 5363563.5   \n8186             Rechtsaußen   12000000.0                 7276397.5   \n3629           Mittelstürmer   10000000.0                 5433175.0   \n7970              Linksaußen   22000000.0                16779866.0   \n3623   Offensives Mittelfeld   18000000.0                13008807.0   \n\n       AbsoluteDifferenceConsistentNormalized  \n3423                                11.933662  \n7677                                11.789791  \n9479                                 1.605818  \n9503                                 1.351432  \n9453                                 1.278388  \n9976                                 0.984958  \n8141                                 0.873210  \n8111                                 0.839593  \n9494                                 0.756295  \n8242                                 0.747538  \n1316                                 0.746529  \n8033                                 0.733414  \n11075                                0.731680  \n15824                                0.715081  \n4947                                 0.680017  \n5711                                 0.669432  \n6688                                 0.668510  \n9627                                 0.668035  \n9456                                 0.659787  \n6740                                 0.657248  \n4864                                 0.654871  \n5713                                 0.643291  \n3810                                 0.641289  \n12740                                0.633439  \n12728                                0.628542  \n6021                                 0.625789  \n8186                                 0.622323  \n3629                                 0.615540  \n7970                                 0.613929  \n3623                                 0.612821  ",
      "text/html": "<div>\n<style scoped>\n    .dataframe tbody tr th:only-of-type {\n        vertical-align: middle;\n    }\n\n    .dataframe tbody tr th {\n        vertical-align: top;\n    }\n\n    .dataframe thead th {\n        text-align: right;\n    }\n</style>\n<table border=\"1\" class=\"dataframe\">\n  <thead>\n    <tr style=\"text-align: right;\">\n      <th></th>\n      <th>League</th>\n      <th>Club</th>\n      <th>Name</th>\n      <th>Position</th>\n      <th>Value</th>\n      <th>PredictedValueConsistent</th>\n      <th>AbsoluteDifferenceConsistentNormalized</th>\n    </tr>\n  </thead>\n  <tbody>\n    <tr>\n      <th>3423</th>\n      <td>Ligue 1</td>\n      <td>Paris SG</td>\n      <td>Kylian Mbappé</td>\n      <td>Mittelstürmer</td>\n      <td>180000000.0</td>\n      <td>89146340.0</td>\n      <td>11.933662</td>\n    </tr>\n    <tr>\n      <th>7677</th>\n      <td>Premier League</td>\n      <td>Manchester City</td>\n      <td>Erling Haaland</td>\n      <td>Mittelstürmer</td>\n      <td>170000000.0</td>\n      <td>80677110.0</td>\n      <td>11.789791</td>\n    </tr>\n    <tr>\n      <th>9479</th>\n      <td>Eredivisie</td>\n      <td>PSV Eindhoven</td>\n      <td>Walter Benítez</td>\n      <td>Torwart</td>\n      <td>12000000.0</td>\n      <td>596159.7</td>\n      <td>1.605818</td>\n    </tr>\n    <tr>\n      <th>9503</th>\n      <td>Eredivisie</td>\n      <td>Feyenoord</td>\n      <td>Justin Bijlow</td>\n      <td>Torwart</td>\n      <td>13000000.0</td>\n      <td>3268679.8</td>\n      <td>1.351432</td>\n    </tr>\n    <tr>\n      <th>9453</th>\n      <td>Eredivisie</td>\n      <td>Ajax Amsterdam</td>\n      <td>Gerónimo Rulli</td>\n      <td>Torwart</td>\n      <td>10000000.0</td>\n      <td>930885.6</td>\n      <td>1.278388</td>\n    </tr>\n    <tr>\n      <th>9976</th>\n      <td>Süper Lig</td>\n      <td>Fenerbahce</td>\n      <td>Altay Bayindir</td>\n      <td>Torwart</td>\n      <td>13000000.0</td>\n      <td>5757902.0</td>\n      <td>0.984958</td>\n    </tr>\n    <tr>\n      <th>8141</th>\n      <td>Premier League</td>\n      <td>FC Fulham</td>\n      <td>Issa Diop</td>\n      <td>Innenverteidiger</td>\n      <td>18000000.0</td>\n      <td>11240158.0</td>\n      <td>0.873210</td>\n    </tr>\n    <tr>\n      <th>8111</th>\n      <td>Premier League</td>\n      <td>Leeds United</td>\n      <td>Georginio Rutter</td>\n      <td>Mittelstürmer</td>\n      <td>22000000.0</td>\n      <td>15247075.0</td>\n      <td>0.839593</td>\n    </tr>\n    <tr>\n      <th>9494</th>\n      <td>Eredivisie</td>\n      <td>PSV Eindhoven</td>\n      <td>Xavi Simons</td>\n      <td>Offensives Mittelfeld</td>\n      <td>30000000.0</td>\n      <td>23370034.0</td>\n      <td>0.756295</td>\n    </tr>\n    <tr>\n      <th>8242</th>\n      <td>Championship</td>\n      <td>FC Watford</td>\n      <td>João Pedro</td>\n      <td>Mittelstürmer</td>\n      <td>24000000.0</td>\n      <td>17761638.0</td>\n      <td>0.747538</td>\n    </tr>\n    <tr>\n      <th>1316</th>\n      <td>Bundesliga</td>\n      <td>VfB Stuttgart</td>\n      <td>Konstantinos Mavropanos</td>\n      <td>Innenverteidiger</td>\n      <td>15000000.0</td>\n      <td>9266683.0</td>\n      <td>0.746529</td>\n    </tr>\n    <tr>\n      <th>8033</th>\n      <td>Premier League</td>\n      <td>Nottm Forest</td>\n      <td>Moussa Niakhaté</td>\n      <td>Innenverteidiger</td>\n      <td>18000000.0</td>\n      <td>12189702.0</td>\n      <td>0.733414</td>\n    </tr>\n    <tr>\n      <th>11075</th>\n      <td>Jupiler Pro League</td>\n      <td>Royal Antwerpen</td>\n      <td>Arthur Vermeeren</td>\n      <td>Defensives Mittelfeld</td>\n      <td>8500000.0</td>\n      <td>3227344.5</td>\n      <td>0.731680</td>\n    </tr>\n    <tr>\n      <th>15824</th>\n      <td>SuperSport HNL</td>\n      <td>Dinamo Zagreb</td>\n      <td>Josip Sutalo</td>\n      <td>Innenverteidiger</td>\n      <td>18000000.0</td>\n      <td>12314225.0</td>\n      <td>0.715081</td>\n    </tr>\n    <tr>\n      <th>4947</th>\n      <td>Serie A</td>\n      <td>Hellas Verona</td>\n      <td>Josh Doig</td>\n      <td>Linker Verteidiger</td>\n      <td>10000000.0</td>\n      <td>4995227.0</td>\n      <td>0.680017</td>\n    </tr>\n    <tr>\n      <th>5711</th>\n      <td>LaLiga</td>\n      <td>FC Villarreal</td>\n      <td>Yéremy Pino</td>\n      <td>Rechtsaußen</td>\n      <td>38000000.0</td>\n      <td>31517198.0</td>\n      <td>0.669432</td>\n    </tr>\n    <tr>\n      <th>6688</th>\n      <td>Liga Portugal</td>\n      <td>FC Porto</td>\n      <td>Galeno</td>\n      <td>Linksaußen</td>\n      <td>20000000.0</td>\n      <td>14519840.0</td>\n      <td>0.668510</td>\n    </tr>\n    <tr>\n      <th>9627</th>\n      <td>Eredivisie</td>\n      <td>Vitesse Arnheim</td>\n      <td>Kacper Kozlowski</td>\n      <td>Zentrales Mittelfeld</td>\n      <td>8000000.0</td>\n      <td>3187324.8</td>\n      <td>0.668035</td>\n    </tr>\n    <tr>\n      <th>9456</th>\n      <td>Eredivisie</td>\n      <td>Ajax Amsterdam</td>\n      <td>Jurrien Timber</td>\n      <td>Innenverteidiger</td>\n      <td>42000000.0</td>\n      <td>35361296.0</td>\n      <td>0.659787</td>\n    </tr>\n    <tr>\n      <th>6740</th>\n      <td>Liga Portugal</td>\n      <td>SC Braga</td>\n      <td>Al-Musrati</td>\n      <td>Defensives Mittelfeld</td>\n      <td>16000000.0</td>\n      <td>10817753.0</td>\n      <td>0.657248</td>\n    </tr>\n    <tr>\n      <th>4864</th>\n      <td>Serie A</td>\n      <td>US Salernitana</td>\n      <td>Giulio Maggiore</td>\n      <td>Zentrales Mittelfeld</td>\n      <td>7500000.0</td>\n      <td>2804411.8</td>\n      <td>0.654871</td>\n    </tr>\n    <tr>\n      <th>5713</th>\n      <td>LaLiga</td>\n      <td>FC Villarreal</td>\n      <td>Gerard Moreno</td>\n      <td>Mittelstürmer</td>\n      <td>30000000.0</td>\n      <td>24137590.0</td>\n      <td>0.643291</td>\n    </tr>\n    <tr>\n      <th>3810</th>\n      <td>Ligue 1</td>\n      <td>Stade Brest 29</td>\n      <td>Franck Honorat</td>\n      <td>Rechtsaußen</td>\n      <td>9000000.0</td>\n      <td>4313634.5</td>\n      <td>0.641289</td>\n    </tr>\n    <tr>\n      <th>12740</th>\n      <td>Super League 1</td>\n      <td>Olymp. Piräus</td>\n      <td>Sergi Canós</td>\n      <td>Rechtsaußen</td>\n      <td>12000000.0</td>\n      <td>7200893.5</td>\n      <td>0.633439</td>\n    </tr>\n    <tr>\n      <th>12728</th>\n      <td>Super League 1</td>\n      <td>Olymp. Piräus</td>\n      <td>Diadié Samassékou</td>\n      <td>Defensives Mittelfeld</td>\n      <td>10000000.0</td>\n      <td>5344861.0</td>\n      <td>0.628542</td>\n    </tr>\n    <tr>\n      <th>6021</th>\n      <td>LaLiga</td>\n      <td>Real Valladolid</td>\n      <td>Iván Fresneda</td>\n      <td>Rechter Verteidiger</td>\n      <td>10000000.0</td>\n      <td>5363563.5</td>\n      <td>0.625789</td>\n    </tr>\n    <tr>\n      <th>8186</th>\n      <td>Premier League</td>\n      <td>Bournemouth</td>\n      <td>David Brooks</td>\n      <td>Rechtsaußen</td>\n      <td>12000000.0</td>\n      <td>7276397.5</td>\n      <td>0.622323</td>\n    </tr>\n    <tr>\n      <th>3629</th>\n      <td>Ligue 1</td>\n      <td>FC Nantes</td>\n      <td>Andy Delort</td>\n      <td>Mittelstürmer</td>\n      <td>10000000.0</td>\n      <td>5433175.0</td>\n      <td>0.615540</td>\n    </tr>\n    <tr>\n      <th>7970</th>\n      <td>Premier League</td>\n      <td>Southampton</td>\n      <td>Kamaldeen Sulemana</td>\n      <td>Linksaußen</td>\n      <td>22000000.0</td>\n      <td>16779866.0</td>\n      <td>0.613929</td>\n    </tr>\n    <tr>\n      <th>3623</th>\n      <td>Ligue 1</td>\n      <td>FC Nantes</td>\n      <td>Ludovic Blas</td>\n      <td>Offensives Mittelfeld</td>\n      <td>18000000.0</td>\n      <td>13008807.0</td>\n      <td>0.612821</td>\n    </tr>\n  </tbody>\n</table>\n</div>"
     },
     "execution_count": 129,
     "metadata": {},
     "output_type": "execute_result"
    }
   ],
   "source": [
    "df.sort_values('AbsoluteDifferenceConsistentNormalized', ascending=False)[['League', 'Club', 'Name', 'Position', 'Value', 'PredictedValueConsistent', 'AbsoluteDifferenceConsistentNormalized']].head(30)"
   ],
   "metadata": {
    "collapsed": false,
    "ExecuteTime": {
     "start_time": "2023-05-18T09:45:19.882343Z",
     "end_time": "2023-05-18T09:45:19.900115Z"
    }
   }
  },
  {
   "cell_type": "code",
   "execution_count": 130,
   "outputs": [
    {
     "name": "stdout",
     "output_type": "stream",
     "text": [
      "<class 'pandas.core.frame.DataFrame'>\n",
      "Int64Index: 17796 entries, 0 to 18357\n",
      "Data columns (total 63 columns):\n",
      " #   Column                                  Non-Null Count  Dtype  \n",
      "---  ------                                  --------------  -----  \n",
      " 0   LeagueCountry                           17796 non-null  object \n",
      " 1   League                                  17796 non-null  object \n",
      " 2   NationalLeagueLevel                     17796 non-null  object \n",
      " 3   Club                                    17796 non-null  object \n",
      " 4   No                                      17511 non-null  float64\n",
      " 5   Name                                    17796 non-null  object \n",
      " 6   Value                                   17796 non-null  float64\n",
      " 7   HighestValue                            17796 non-null  float64\n",
      " 8   Age                                     17794 non-null  float64\n",
      " 9   Height                                  16717 non-null  float64\n",
      " 10  Nationality                             17796 non-null  object \n",
      " 11  Foot                                    16124 non-null  object \n",
      " 12  Position                                17796 non-null  object \n",
      " 13  Consultancy                             14524 non-null  object \n",
      " 14  Supplier                                2739 non-null   object \n",
      " 15  ClubSince                               17761 non-null  float64\n",
      " 16  ContractUntil                           16740 non-null  float64\n",
      " 17  Injury                                  17796 non-null  int64  \n",
      " 18  InternationalTeam                       9708 non-null   object \n",
      " 19  ActiveInternational                     17796 non-null  int64  \n",
      " 20  FormerInternational                     17796 non-null  int64  \n",
      " 21  InternationalGames                      10724 non-null  float64\n",
      " 22  InternationalGoals                      10724 non-null  float64\n",
      " 23  StartingElevenQuote                     15759 non-null  float64\n",
      " 24  MinutesQuote                            15759 non-null  float64\n",
      " 25  TwPenaltySavesQuote                     1742 non-null   float64\n",
      " 26  FsGoalParticipationQuote                14017 non-null  float64\n",
      " 27  Games                                   13229 non-null  float64\n",
      " 28  PointsPerGame                           13229 non-null  float64\n",
      " 29  Goals                                   13229 non-null  float64\n",
      " 30  OwnGoals                                13229 non-null  float64\n",
      " 31  Ins                                     13229 non-null  float64\n",
      " 32  Outs                                    13229 non-null  float64\n",
      " 33  YellowCards                             13229 non-null  float64\n",
      " 34  YellowRedCards                          13229 non-null  float64\n",
      " 35  RedCards                                13229 non-null  float64\n",
      " 36  Minutes                                 13229 non-null  float64\n",
      " 37  TwGoalsConceded                         1461 non-null   float64\n",
      " 38  TwCleanSheets                           1461 non-null   float64\n",
      " 39  FsAssists                               11768 non-null  float64\n",
      " 40  FsPenaltyGoals                          11768 non-null  float64\n",
      " 41  FsMinutesPerGoal                        11768 non-null  float64\n",
      " 42  Image                                   14885 non-null  object \n",
      " 43  PositionCategory                        17796 non-null  object \n",
      " 44  Cards                                   13229 non-null  float64\n",
      " 45  Trending                                17796 non-null  int64  \n",
      " 46  PredictedValueSimpleModelFs             15740 non-null  float64\n",
      " 47  PredictedValueSimpleModelTw             2019 non-null   float64\n",
      " 48  PredictedValueExtensiveModelFs          11761 non-null  float64\n",
      " 49  PredictedValueExtensiveModelTw          1459 non-null   float64\n",
      " 50  PredictedValue                          17759 non-null  float64\n",
      " 51  PredictedValueConsistent                17796 non-null  float64\n",
      " 52  ValueNormalized                         17796 non-null  float64\n",
      " 53  PredictedValueNormalized                17759 non-null  float64\n",
      " 54  PredictedValueConsistentNormalized      17796 non-null  float64\n",
      " 55  AbsoluteDifference                      17759 non-null  float64\n",
      " 56  AbsoluteDifferenceNormalized            17759 non-null  float64\n",
      " 57  AbsoluteDifferenceConsistent            17796 non-null  float64\n",
      " 58  AbsoluteDifferenceConsistentNormalized  17796 non-null  float64\n",
      " 59  PercentDifference                       17759 non-null  float64\n",
      " 60  PercentDifferenceNormalized             17759 non-null  float64\n",
      " 61  PercentDifferenceConsistent             17796 non-null  float64\n",
      " 62  PercentDifferenceConsistentNormalized   17796 non-null  float64\n",
      "dtypes: float64(46), int64(4), object(13)\n",
      "memory usage: 8.7+ MB\n"
     ]
    }
   ],
   "source": [
    "df.info()"
   ],
   "metadata": {
    "collapsed": false,
    "ExecuteTime": {
     "start_time": "2023-05-18T09:45:19.895016Z",
     "end_time": "2023-05-18T09:45:19.915912Z"
    }
   }
  },
  {
   "cell_type": "code",
   "execution_count": 131,
   "outputs": [],
   "source": [
    "df.to_csv('../data/df_model_full_merge.csv')  # write the file which is then used by the streamlit app"
   ],
   "metadata": {
    "collapsed": false,
    "ExecuteTime": {
     "start_time": "2023-05-18T09:45:19.916411Z",
     "end_time": "2023-05-18T09:45:20.371113Z"
    }
   }
  }
 ],
 "metadata": {
  "kernelspec": {
   "display_name": "Python 3",
   "language": "python",
   "name": "python3"
  },
  "language_info": {
   "codemirror_mode": {
    "name": "ipython",
    "version": 2
   },
   "file_extension": ".py",
   "mimetype": "text/x-python",
   "name": "python",
   "nbconvert_exporter": "python",
   "pygments_lexer": "ipython2",
   "version": "2.7.6"
  }
 },
 "nbformat": 4,
 "nbformat_minor": 0
}
