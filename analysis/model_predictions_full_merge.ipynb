{
 "cells": [
  {
   "cell_type": "code",
   "execution_count": 6,
   "metadata": {
    "collapsed": true,
    "ExecuteTime": {
     "start_time": "2023-05-17T15:48:19.305904Z",
     "end_time": "2023-05-17T15:48:19.308055Z"
    }
   },
   "outputs": [],
   "source": [
    "import pandas as pd"
   ]
  },
  {
   "cell_type": "code",
   "execution_count": 7,
   "outputs": [],
   "source": [
    "df = pd.read_csv('../data/df_clean.csv')"
   ],
   "metadata": {
    "collapsed": false,
    "ExecuteTime": {
     "start_time": "2023-05-17T15:48:19.660765Z",
     "end_time": "2023-05-17T15:48:19.733320Z"
    }
   }
  },
  {
   "cell_type": "code",
   "execution_count": 8,
   "outputs": [],
   "source": [
    "simple_results_fs = pd.read_csv('../data/df_simple_model_fs_results.csv')\n",
    "simple_results_tw = pd.read_csv('../data/df_simple_model_fs_results.csv')\n",
    "\n",
    "extensive_results_fs = pd.read_csv('../data/df_extensive_model_fs_results.csv')\n",
    "extensive_results_tw = pd.read_csv('../data/df_extensive_model_fs_results.csv')"
   ],
   "metadata": {
    "collapsed": false,
    "ExecuteTime": {
     "start_time": "2023-05-17T15:48:19.959571Z",
     "end_time": "2023-05-17T15:48:19.975892Z"
    }
   }
  },
  {
   "cell_type": "code",
   "execution_count": 9,
   "outputs": [],
   "source": [
    "merged_df = df.merge(simple_results_fs['PredictedValueSimpleModel'], left_index=True, right_index=True)\n",
    "merged_df = df.merge(simple_results_tw['PredictedValueSimpleModel'], left_index=True, right_index=True)\n",
    "\n",
    "merged_df = df.merge(extensive_results_fs['PredictedValueExtensiveModel'], left_index=True, right_index=True)\n",
    "merged_df = df.merge(extensive_results_tw['PredictedValueExtensiveModel'], left_index=True, right_index=True)"
   ],
   "metadata": {
    "collapsed": false,
    "ExecuteTime": {
     "start_time": "2023-05-17T15:48:20.900539Z",
     "end_time": "2023-05-17T15:48:20.926548Z"
    }
   }
  },
  {
   "cell_type": "code",
   "execution_count": null,
   "outputs": [],
   "source": [],
   "metadata": {
    "collapsed": false
   }
  },
  {
   "cell_type": "code",
   "execution_count": null,
   "outputs": [],
   "source": [
    "def find_best_prediction(row):\n",
    "\n",
    "merged_df['PredictedValueCombined'] = merged_df.apply(find_best_prediction)"
   ],
   "metadata": {
    "collapsed": false
   }
  },
  {
   "cell_type": "code",
   "execution_count": 15,
   "outputs": [],
   "source": [
    "merged_df['PercentDifferenceSimpleModel'] = merged_df['PredictedValueSimpleModel'] / merged_df['Value'] * 100\n",
    "merged_df['PercentDifferenceExtensiveModel'] = merged_df['PredictedValueExtensiveModel'] / merged_df['Value'] * 100\n",
    "merged_df['PercentDifferenceCombined'] = merged_df['PredictedValueCombined'] / merged_df['Value'] * 100"
   ],
   "metadata": {
    "collapsed": false
   }
  },
  {
   "cell_type": "code",
   "execution_count": 16,
   "outputs": [],
   "source": [
    "merged_df.to_csv('../data/df_simple_model_full_merge.csv', index=False)"
   ],
   "metadata": {
    "collapsed": false,
    "ExecuteTime": {
     "start_time": "2023-05-17T13:57:24.107877Z",
     "end_time": "2023-05-17T13:57:24.558920Z"
    }
   }
  }
 ],
 "metadata": {
  "kernelspec": {
   "display_name": "Python 3",
   "language": "python",
   "name": "python3"
  },
  "language_info": {
   "codemirror_mode": {
    "name": "ipython",
    "version": 2
   },
   "file_extension": ".py",
   "mimetype": "text/x-python",
   "name": "python",
   "nbconvert_exporter": "python",
   "pygments_lexer": "ipython2",
   "version": "2.7.6"
  }
 },
 "nbformat": 4,
 "nbformat_minor": 0
}
