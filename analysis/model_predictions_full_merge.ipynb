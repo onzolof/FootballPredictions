{
 "cells": [
  {
   "cell_type": "code",
   "execution_count": 89,
   "metadata": {
    "collapsed": true,
    "ExecuteTime": {
     "start_time": "2023-05-17T19:13:30.981066Z",
     "end_time": "2023-05-17T19:13:30.991008Z"
    }
   },
   "outputs": [],
   "source": [
    "import numpy as np\n",
    "import pandas as pd"
   ]
  },
  {
   "cell_type": "code",
   "execution_count": 90,
   "outputs": [],
   "source": [
    "df = pd.read_csv('../data/df_clean.csv', index_col=0)"
   ],
   "metadata": {
    "collapsed": false,
    "ExecuteTime": {
     "start_time": "2023-05-17T19:13:30.983408Z",
     "end_time": "2023-05-17T19:13:31.059080Z"
    }
   }
  },
  {
   "cell_type": "code",
   "execution_count": 91,
   "outputs": [],
   "source": [
    "simple_results_fs = pd.read_csv('../data/df_simple_model_fs_results.csv', index_col=0)\n",
    "simple_results_fs.columns = ['PredictedValueSimpleModelFs']\n",
    "\n",
    "simple_results_tw = pd.read_csv('../data/df_simple_model_tw_results.csv', index_col=0)\n",
    "simple_results_tw.columns = ['PredictedValueSimpleModelTw']\n",
    "\n",
    "extensive_results_fs = pd.read_csv('../data/df_extensive_model_fs_results.csv', index_col=0)\n",
    "extensive_results_fs.columns = ['PredictedValueExtensiveModelFs']\n",
    "\n",
    "extensive_results_tw = pd.read_csv('../data/df_extensive_model_tw_results.csv', index_col=0)\n",
    "extensive_results_tw.columns = ['PredictedValueExtensiveModelTw']"
   ],
   "metadata": {
    "collapsed": false,
    "ExecuteTime": {
     "start_time": "2023-05-17T19:13:31.060336Z",
     "end_time": "2023-05-17T19:13:31.069713Z"
    }
   }
  },
  {
   "cell_type": "code",
   "execution_count": 92,
   "outputs": [],
   "source": [
    "df = pd.concat([df, simple_results_fs, simple_results_tw, extensive_results_fs, extensive_results_tw], axis=1)"
   ],
   "metadata": {
    "collapsed": false,
    "ExecuteTime": {
     "start_time": "2023-05-17T19:13:31.070895Z",
     "end_time": "2023-05-17T19:13:31.076082Z"
    }
   }
  },
  {
   "cell_type": "code",
   "execution_count": 93,
   "outputs": [
    {
     "name": "stdout",
     "output_type": "stream",
     "text": [
      "<class 'pandas.core.frame.DataFrame'>\n",
      "Int64Index: 17796 entries, 0 to 18357\n",
      "Data columns (total 51 columns):\n",
      " #   Column                          Non-Null Count  Dtype  \n",
      "---  ------                          --------------  -----  \n",
      " 0   LeagueCountry                   17796 non-null  object \n",
      " 1   League                          17796 non-null  object \n",
      " 2   NationalLeagueLevel             17796 non-null  object \n",
      " 3   Club                            17796 non-null  object \n",
      " 4   No                              17511 non-null  float64\n",
      " 5   Name                            17796 non-null  object \n",
      " 6   Value                           17796 non-null  float64\n",
      " 7   HighestValue                    17796 non-null  float64\n",
      " 8   Age                             17794 non-null  float64\n",
      " 9   Height                          16717 non-null  float64\n",
      " 10  Nationality                     17796 non-null  object \n",
      " 11  Foot                            16124 non-null  object \n",
      " 12  Position                        17796 non-null  object \n",
      " 13  Consultancy                     14524 non-null  object \n",
      " 14  Supplier                        2739 non-null   object \n",
      " 15  ClubSince                       17761 non-null  float64\n",
      " 16  ContractUntil                   16740 non-null  float64\n",
      " 17  Injury                          17796 non-null  int64  \n",
      " 18  InternationalTeam               9708 non-null   object \n",
      " 19  ActiveInternational             17796 non-null  int64  \n",
      " 20  FormerInternational             17796 non-null  int64  \n",
      " 21  InternationalGames              10724 non-null  float64\n",
      " 22  InternationalGoals              10724 non-null  float64\n",
      " 23  StartingElevenQuote             15759 non-null  float64\n",
      " 24  MinutesQuote                    15759 non-null  float64\n",
      " 25  TwPenaltySavesQuote             1742 non-null   float64\n",
      " 26  FsGoalParticipationQuote        14017 non-null  float64\n",
      " 27  Games                           13229 non-null  float64\n",
      " 28  PointsPerGame                   12551 non-null  float64\n",
      " 29  Goals                           13229 non-null  float64\n",
      " 30  OwnGoals                        13229 non-null  float64\n",
      " 31  Ins                             13229 non-null  float64\n",
      " 32  Outs                            13229 non-null  float64\n",
      " 33  YellowCards                     13229 non-null  float64\n",
      " 34  YellowRedCards                  13229 non-null  float64\n",
      " 35  RedCards                        13229 non-null  float64\n",
      " 36  Minutes                         12510 non-null  float64\n",
      " 37  TwGoalsConceded                 1461 non-null   float64\n",
      " 38  TwCleanSheets                   1461 non-null   float64\n",
      " 39  FsAssists                       11768 non-null  float64\n",
      " 40  FsPenaltyGoals                  11768 non-null  float64\n",
      " 41  FsMinutesPerGoal                6400 non-null   float64\n",
      " 42  Image                           14885 non-null  object \n",
      " 43  PositionCategory                17796 non-null  object \n",
      " 44  Cards                           13229 non-null  float64\n",
      " 45  Trending                        17796 non-null  int64  \n",
      " 46  PredictedValueSimpleModelFs     15740 non-null  float64\n",
      " 47  PredictedValueSimpleModelTw     2019 non-null   float64\n",
      " 48  PredictedValueExtensiveModelFs  11471 non-null  float64\n",
      " 49  PredictedValueExtensiveModelTw  1031 non-null   float64\n",
      " 50  PredictedValue                  17759 non-null  float64\n",
      "dtypes: float64(34), int64(4), object(13)\n",
      "memory usage: 7.1+ MB\n"
     ]
    }
   ],
   "source": [
    "def find_best_prediction(row):\n",
    "    if row['PositionCategory'] == 'Torwart':\n",
    "        if np.isnan(row['PredictedValueExtensiveModelTw']):\n",
    "            return row['PredictedValueSimpleModelTw']\n",
    "        else:\n",
    "            return row['PredictedValueExtensiveModelTw']\n",
    "    else:\n",
    "        if np.isnan(row['PredictedValueExtensiveModelFs']):\n",
    "            return row['PredictedValueSimpleModelFs']\n",
    "        else:\n",
    "            return row['PredictedValueExtensiveModelFs']\n",
    "\n",
    "\n",
    "df['PredictedValue'] = df.apply(find_best_prediction, axis=1)\n",
    "df['PredictedValue'] = df['PredictedValue'].apply(lambda value: max(value, 0))\n",
    "df.info()"
   ],
   "metadata": {
    "collapsed": false,
    "ExecuteTime": {
     "start_time": "2023-05-17T19:13:31.077327Z",
     "end_time": "2023-05-17T19:13:31.184242Z"
    }
   }
  },
  {
   "cell_type": "code",
   "execution_count": 94,
   "outputs": [],
   "source": [
    "df['PredictedValue'] = df['PredictedValue'].fillna(0)"
   ],
   "metadata": {
    "collapsed": false,
    "ExecuteTime": {
     "start_time": "2023-05-17T19:13:31.184237Z",
     "end_time": "2023-05-17T19:13:31.186802Z"
    }
   }
  },
  {
   "cell_type": "code",
   "execution_count": 95,
   "outputs": [],
   "source": [
    "df['PercentDifference'] = df['PredictedValue'] / df['Value'] * 100"
   ],
   "metadata": {
    "collapsed": false,
    "ExecuteTime": {
     "start_time": "2023-05-17T19:13:31.187174Z",
     "end_time": "2023-05-17T19:13:31.189156Z"
    }
   }
  },
  {
   "cell_type": "code",
   "execution_count": 96,
   "outputs": [
    {
     "name": "stdout",
     "output_type": "stream",
     "text": [
      "<class 'pandas.core.frame.DataFrame'>\n",
      "Int64Index: 17796 entries, 0 to 18357\n",
      "Data columns (total 52 columns):\n",
      " #   Column                          Non-Null Count  Dtype  \n",
      "---  ------                          --------------  -----  \n",
      " 0   LeagueCountry                   17796 non-null  object \n",
      " 1   League                          17796 non-null  object \n",
      " 2   NationalLeagueLevel             17796 non-null  object \n",
      " 3   Club                            17796 non-null  object \n",
      " 4   No                              17511 non-null  float64\n",
      " 5   Name                            17796 non-null  object \n",
      " 6   Value                           17796 non-null  float64\n",
      " 7   HighestValue                    17796 non-null  float64\n",
      " 8   Age                             17794 non-null  float64\n",
      " 9   Height                          16717 non-null  float64\n",
      " 10  Nationality                     17796 non-null  object \n",
      " 11  Foot                            16124 non-null  object \n",
      " 12  Position                        17796 non-null  object \n",
      " 13  Consultancy                     14524 non-null  object \n",
      " 14  Supplier                        2739 non-null   object \n",
      " 15  ClubSince                       17761 non-null  float64\n",
      " 16  ContractUntil                   16740 non-null  float64\n",
      " 17  Injury                          17796 non-null  int64  \n",
      " 18  InternationalTeam               9708 non-null   object \n",
      " 19  ActiveInternational             17796 non-null  int64  \n",
      " 20  FormerInternational             17796 non-null  int64  \n",
      " 21  InternationalGames              10724 non-null  float64\n",
      " 22  InternationalGoals              10724 non-null  float64\n",
      " 23  StartingElevenQuote             15759 non-null  float64\n",
      " 24  MinutesQuote                    15759 non-null  float64\n",
      " 25  TwPenaltySavesQuote             1742 non-null   float64\n",
      " 26  FsGoalParticipationQuote        14017 non-null  float64\n",
      " 27  Games                           13229 non-null  float64\n",
      " 28  PointsPerGame                   12551 non-null  float64\n",
      " 29  Goals                           13229 non-null  float64\n",
      " 30  OwnGoals                        13229 non-null  float64\n",
      " 31  Ins                             13229 non-null  float64\n",
      " 32  Outs                            13229 non-null  float64\n",
      " 33  YellowCards                     13229 non-null  float64\n",
      " 34  YellowRedCards                  13229 non-null  float64\n",
      " 35  RedCards                        13229 non-null  float64\n",
      " 36  Minutes                         12510 non-null  float64\n",
      " 37  TwGoalsConceded                 1461 non-null   float64\n",
      " 38  TwCleanSheets                   1461 non-null   float64\n",
      " 39  FsAssists                       11768 non-null  float64\n",
      " 40  FsPenaltyGoals                  11768 non-null  float64\n",
      " 41  FsMinutesPerGoal                6400 non-null   float64\n",
      " 42  Image                           14885 non-null  object \n",
      " 43  PositionCategory                17796 non-null  object \n",
      " 44  Cards                           13229 non-null  float64\n",
      " 45  Trending                        17796 non-null  int64  \n",
      " 46  PredictedValueSimpleModelFs     15740 non-null  float64\n",
      " 47  PredictedValueSimpleModelTw     2019 non-null   float64\n",
      " 48  PredictedValueExtensiveModelFs  11471 non-null  float64\n",
      " 49  PredictedValueExtensiveModelTw  1031 non-null   float64\n",
      " 50  PredictedValue                  17796 non-null  float64\n",
      " 51  PercentDifference               17796 non-null  float64\n",
      "dtypes: float64(35), int64(4), object(13)\n",
      "memory usage: 7.2+ MB\n"
     ]
    }
   ],
   "source": [
    "df.info()"
   ],
   "metadata": {
    "collapsed": false,
    "ExecuteTime": {
     "start_time": "2023-05-17T19:13:31.190076Z",
     "end_time": "2023-05-17T19:13:31.227453Z"
    }
   }
  },
  {
   "cell_type": "code",
   "execution_count": 97,
   "outputs": [],
   "source": [
    "df.to_csv('../data/df_model_full_merge.csv')"
   ],
   "metadata": {
    "collapsed": false,
    "ExecuteTime": {
     "start_time": "2023-05-17T19:13:31.207522Z",
     "end_time": "2023-05-17T19:13:31.409362Z"
    }
   }
  },
  {
   "cell_type": "code",
   "execution_count": 97,
   "outputs": [],
   "source": [],
   "metadata": {
    "collapsed": false,
    "ExecuteTime": {
     "start_time": "2023-05-17T19:13:31.410809Z",
     "end_time": "2023-05-17T19:13:31.411963Z"
    }
   }
  }
 ],
 "metadata": {
  "kernelspec": {
   "display_name": "Python 3",
   "language": "python",
   "name": "python3"
  },
  "language_info": {
   "codemirror_mode": {
    "name": "ipython",
    "version": 2
   },
   "file_extension": ".py",
   "mimetype": "text/x-python",
   "name": "python",
   "nbconvert_exporter": "python",
   "pygments_lexer": "ipython2",
   "version": "2.7.6"
  }
 },
 "nbformat": 4,
 "nbformat_minor": 0
}
