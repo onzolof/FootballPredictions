{
 "cells": [
  {
   "cell_type": "code",
   "execution_count": 3,
   "metadata": {
    "collapsed": true,
    "ExecuteTime": {
     "start_time": "2023-05-08T09:58:29.187741Z",
     "end_time": "2023-05-08T09:58:29.275407Z"
    }
   },
   "outputs": [],
   "source": [
    "import pandas as pd\n",
    "import numpy as np"
   ]
  },
  {
   "cell_type": "code",
   "execution_count": 4,
   "outputs": [
    {
     "name": "stdout",
     "output_type": "stream",
     "text": [
      "<class 'pandas.core.frame.DataFrame'>\n",
      "RangeIndex: 17803 entries, 0 to 17802\n",
      "Data columns (total 46 columns):\n",
      " #   Column                    Non-Null Count  Dtype  \n",
      "---  ------                    --------------  -----  \n",
      " 0   LeagueCountry             17803 non-null  object \n",
      " 1   League                    17803 non-null  object \n",
      " 2   NationalLeagueLevel       17803 non-null  int64  \n",
      " 3   Club                      17803 non-null  object \n",
      " 4   No                        17803 non-null  float64\n",
      " 5   Name                      17803 non-null  object \n",
      " 6   Value                     17803 non-null  float64\n",
      " 7   ValueLastUpdate           17803 non-null  object \n",
      " 8   HighestValue              17803 non-null  float64\n",
      " 9   HighestValueDate          17803 non-null  object \n",
      " 10  Age                       17800 non-null  float64\n",
      " 11  Height                    16713 non-null  float64\n",
      " 12  Nationality               17803 non-null  object \n",
      " 13  Foot                      17803 non-null  object \n",
      " 14  Position                  17803 non-null  object \n",
      " 15  Consultancy               17803 non-null  object \n",
      " 16  Supplier                  17803 non-null  object \n",
      " 17  ClubSince                 17768 non-null  float64\n",
      " 18  ContractUntil             16730 non-null  float64\n",
      " 19  Injury                    17803 non-null  int64  \n",
      " 20  InternationalTeam         17803 non-null  object \n",
      " 21  ActiveInternational       17803 non-null  int64  \n",
      " 22  FormerInternational       17803 non-null  int64  \n",
      " 23  InternationalGames        17803 non-null  float64\n",
      " 24  InternationalGoals        17803 non-null  float64\n",
      " 25  StartingElevenQuote       15773 non-null  float64\n",
      " 26  MinutesQuote              15773 non-null  float64\n",
      " 27  TwPenaltySavesQuote       17513 non-null  float64\n",
      " 28  FsGoalParticipationQuote  17271 non-null  float64\n",
      " 29  Games                     13227 non-null  float64\n",
      " 30  PointsPerGame             12484 non-null  float64\n",
      " 31  Goals                     13227 non-null  float64\n",
      " 32  OwnGoals                  13227 non-null  float64\n",
      " 33  Ins                       13227 non-null  float64\n",
      " 34  Outs                      13227 non-null  float64\n",
      " 35  YellowCards               17803 non-null  float64\n",
      " 36  YellowRedCards            17803 non-null  float64\n",
      " 37  RedCards                  17803 non-null  float64\n",
      " 38  Minutes                   12437 non-null  float64\n",
      " 39  TwGoalsConceded           17235 non-null  float64\n",
      " 40  TwCleanSheets             17235 non-null  float64\n",
      " 41  FsAssists                 16646 non-null  float64\n",
      " 42  FsPenaltyGoals            16646 non-null  float64\n",
      " 43  FsMinutesPerGoal          15713 non-null  float64\n",
      " 44  Instagram                 17803 non-null  object \n",
      " 45  PositionCategory          17803 non-null  object \n",
      "dtypes: float64(28), int64(4), object(14)\n",
      "memory usage: 6.2+ MB\n"
     ]
    }
   ],
   "source": [
    "df = pd.read_csv('../data/df_clean.csv', sep=',')\n",
    "\n",
    "# Erstelle eine Kopie des Dataframes\n",
    "df_copy = df.copy()\n",
    "df.info()"
   ],
   "metadata": {
    "collapsed": false,
    "ExecuteTime": {
     "start_time": "2023-05-08T09:58:30.295006Z",
     "end_time": "2023-05-08T09:58:30.595344Z"
    }
   }
  },
  {
   "cell_type": "code",
   "execution_count": 5,
   "outputs": [
    {
     "name": "stdout",
     "output_type": "stream",
     "text": [
      "<class 'pandas.core.frame.DataFrame'>\n",
      "RangeIndex: 17803 entries, 0 to 17802\n",
      "Columns: 30377 entries, NationalLeagueLevel to PositionCategory_Torwart\n",
      "dtypes: float64(28), int64(4), uint8(30345)\n",
      "memory usage: 519.6 MB\n"
     ]
    }
   ],
   "source": [
    "df = pd.get_dummies(df, drop_first=True)\n",
    "df.info()"
   ],
   "metadata": {
    "collapsed": false,
    "ExecuteTime": {
     "start_time": "2023-05-08T09:58:33.283847Z",
     "end_time": "2023-05-08T09:58:38.219514Z"
    }
   }
  },
  {
   "cell_type": "code",
   "execution_count": 3,
   "outputs": [],
   "source": [
    "from sklearn.preprocessing import LabelEncoder\n",
    "\n",
    "# LabelEncoder-Objekt erzeugen\n",
    "le = LabelEncoder()\n",
    "\n",
    "# Liste aller Spalten, die kategorische Variablen enthalten\n",
    "cat_cols = ['LeagueCountry', 'League', 'Club', 'Name', 'ValueLastUpdate', 'HighestValueDate',\n",
    "            'Nationality', 'Foot', 'Position', 'Consultancy', 'Supplier',\n",
    "            'InternationalTeam', 'Instagram', 'PositionCategory']\n",
    "\n",
    "# Jede Spalte in cat_cols label encoden\n",
    "for col in cat_cols:\n",
    "    if df[col].dtype == 'object':  # nur Spalten vom Typ 'object' label encoden\n",
    "        df[col] = le.fit_transform(df[col].astype(str))"
   ],
   "metadata": {
    "collapsed": false,
    "ExecuteTime": {
     "start_time": "2023-05-06T11:02:37.948322Z",
     "end_time": "2023-05-06T11:02:38.837465Z"
    }
   }
  },
  {
   "cell_type": "code",
   "execution_count": 6,
   "outputs": [],
   "source": [
    "# X und y festlegen\n",
    "y = df[\"Value\"]\n",
    "X = df.drop(\"Value\", axis = 1)"
   ],
   "metadata": {
    "collapsed": false,
    "ExecuteTime": {
     "start_time": "2023-05-08T09:58:47.787013Z",
     "end_time": "2023-05-08T09:58:48.302949Z"
    }
   }
  },
  {
   "cell_type": "code",
   "execution_count": 7,
   "outputs": [],
   "source": [
    "from sklearn.model_selection import train_test_split\n",
    "# Test- und Trainingsdaten Aufteilung\n",
    "X_train, X_test, y_train, y_test = train_test_split(X, y, test_size=0.25, random_state=42)"
   ],
   "metadata": {
    "collapsed": false,
    "ExecuteTime": {
     "start_time": "2023-05-08T09:58:49.932819Z",
     "end_time": "2023-05-08T09:58:58.379509Z"
    }
   }
  },
  {
   "cell_type": "code",
   "execution_count": null,
   "outputs": [],
   "source": [
    "# Import für K-Nearest-Neighbor-Imputer\n",
    "from sklearn.impute import KNNImputer\n",
    "\n",
    "# K-Nearest-Neighbor-Imputer verwenden um fehlende Werte in den Trainingsdaten zu ersetzen\n",
    "imputer = KNNImputer()\n",
    "imputer.fit(X_train)\n",
    "X_train_imputed = imputer.transform(X_train)"
   ],
   "metadata": {
    "collapsed": false,
    "ExecuteTime": {
     "start_time": "2023-05-06T11:02:39.028600Z",
     "end_time": "2023-05-06T11:03:22.376960Z"
    },
    "pycharm": {
     "is_executing": true
    }
   }
  },
  {
   "cell_type": "code",
   "execution_count": null,
   "outputs": [],
   "source": [
    "# Namen der Features des imputierten Datensatzes bekommen\n",
    "names = imputer.feature_names_in_"
   ],
   "metadata": {
    "collapsed": false,
    "ExecuteTime": {
     "start_time": "2023-05-06T11:03:22.377989Z",
     "end_time": "2023-05-06T11:03:22.402336Z"
    },
    "pycharm": {
     "is_executing": true
    }
   }
  },
  {
   "cell_type": "code",
   "execution_count": null,
   "outputs": [],
   "source": [
    "# Dataframe aus den imputierten Daten erstellen\n",
    "X_train_imputed = pd.DataFrame(X_train_imputed, columns=names, index = X_train.index)\n",
    "X_train_imputed.info()"
   ],
   "metadata": {
    "collapsed": false,
    "ExecuteTime": {
     "start_time": "2023-05-06T11:03:22.405382Z",
     "end_time": "2023-05-06T11:03:22.480644Z"
    },
    "pycharm": {
     "is_executing": true
    }
   }
  },
  {
   "cell_type": "code",
   "execution_count": null,
   "outputs": [],
   "source": [
    "# Imputation für die Traingsdaten separat vornehmen\n",
    "X_test_imputed = imputer.transform(X_test)\n",
    "X_test_imputed = pd.DataFrame(X_test_imputed, columns = names, index=X_test.index)\n",
    "X_test_imputed.info()"
   ],
   "metadata": {
    "collapsed": false,
    "ExecuteTime": {
     "start_time": "2023-05-06T11:03:22.437510Z",
     "end_time": "2023-05-06T11:03:35.258374Z"
    },
    "pycharm": {
     "is_executing": true
    }
   }
  },
  {
   "cell_type": "code",
   "execution_count": null,
   "outputs": [],
   "source": [
    "import matplotlib.pyplot as plt\n",
    "from pandas import DataFrame\n",
    "# Kopiert aus TreesForestsEnsembles.ipynb\n",
    "def plot_variable_importance(model, X_train):\n",
    "    imp=DataFrame({\"imp\":model.feature_importances_, \"names\":X_train.columns}).sort_values(\"imp\", ascending=True)\n",
    "    fig, ax = plt.subplots(figsize=(imp.shape[0]/6,imp.shape[0]/5), dpi=300)\n",
    "    ax.barh(imp[\"names\"],imp[\"imp\"], color=\"green\")\n",
    "    ax.set_xlabel('\\nVariable Importance')\n",
    "    ax.set_ylabel('Features\\n')\n",
    "    ax.set_title('Variable Importance Plot\\n')\n",
    "    plt.show()"
   ],
   "metadata": {
    "collapsed": false,
    "ExecuteTime": {
     "start_time": "2023-05-06T11:05:09.381323Z",
     "end_time": "2023-05-06T11:05:09.478981Z"
    },
    "pycharm": {
     "is_executing": true
    }
   }
  },
  {
   "cell_type": "code",
   "execution_count": null,
   "outputs": [],
   "source": [
    "# Import Functions\n",
    "from xgboost import XGBRegressor\n",
    "from sklearn.metrics import mean_squared_error\n",
    "\n",
    "# Instantiate Model\n",
    "model = XGBRegressor()\n",
    "\n",
    "# fit model\n",
    "model.fit(X_train, y_train)\n",
    "\n",
    "#make prediction\n",
    "y_pred = model.predict(X_test)\n",
    "\n",
    "# Evaluate Model Performance\n",
    "mean_squared_error(y_test, y_pred, squared=False)"
   ],
   "metadata": {
    "collapsed": false,
    "ExecuteTime": {
     "start_time": "2023-05-06T11:04:40.795495Z",
     "end_time": "2023-05-06T11:04:52.799421Z"
    },
    "pycharm": {
     "is_executing": true
    }
   }
  },
  {
   "cell_type": "code",
   "execution_count": null,
   "outputs": [],
   "source": [
    "plot_variable_importance(model, X_train)"
   ],
   "metadata": {
    "collapsed": false,
    "ExecuteTime": {
     "start_time": "2023-05-06T11:05:12.097087Z",
     "end_time": "2023-05-06T11:05:14.829668Z"
    },
    "pycharm": {
     "is_executing": true
    }
   }
  }
 ],
 "metadata": {
  "kernelspec": {
   "display_name": "Python 3",
   "language": "python",
   "name": "python3"
  },
  "language_info": {
   "codemirror_mode": {
    "name": "ipython",
    "version": 2
   },
   "file_extension": ".py",
   "mimetype": "text/x-python",
   "name": "python",
   "nbconvert_exporter": "python",
   "pygments_lexer": "ipython2",
   "version": "2.7.6"
  }
 },
 "nbformat": 4,
 "nbformat_minor": 0
}
