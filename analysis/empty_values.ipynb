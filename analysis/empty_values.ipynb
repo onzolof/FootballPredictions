{
 "cells": [
  {
   "cell_type": "code",
   "execution_count": 23,
   "metadata": {
    "collapsed": true,
    "ExecuteTime": {
     "start_time": "2023-05-10T16:27:36.613056Z",
     "end_time": "2023-05-10T16:27:36.613138Z"
    }
   },
   "outputs": [],
   "source": [
    "import pandas as pd\n",
    "import numpy as np"
   ]
  },
  {
   "cell_type": "code",
   "execution_count": 24,
   "outputs": [
    {
     "name": "stdout",
     "output_type": "stream",
     "text": [
      "<class 'pandas.core.frame.DataFrame'>\n",
      "RangeIndex: 18335 entries, 0 to 18334\n",
      "Data columns (total 48 columns):\n",
      " #   Column                    Non-Null Count  Dtype  \n",
      "---  ------                    --------------  -----  \n",
      " 0   LeagueCountry             18335 non-null  object \n",
      " 1   League                    18238 non-null  object \n",
      " 2   NationalLeagueLevel       18234 non-null  object \n",
      " 3   Club                      18331 non-null  object \n",
      " 4   No                        17905 non-null  float64\n",
      " 5   Name                      18331 non-null  object \n",
      " 6   Value                     17899 non-null  float64\n",
      " 7   ValueLastUpdate           17899 non-null  object \n",
      " 8   HighestValue              18004 non-null  float64\n",
      " 9   HighestValueDate          18004 non-null  object \n",
      " 10  ValueCurrency             17899 non-null  object \n",
      " 11  Age                       18328 non-null  float64\n",
      " 12  Height                    17052 non-null  float64\n",
      " 13  Nationality               18331 non-null  object \n",
      " 14  Foot                      16435 non-null  object \n",
      " 15  Position                  18331 non-null  object \n",
      " 16  Consultancy               14780 non-null  object \n",
      " 17  Supplier                  2775 non-null   object \n",
      " 18  ClubSince                 18257 non-null  object \n",
      " 19  ContractUntil             17149 non-null  object \n",
      " 20  Injury                    18335 non-null  int64  \n",
      " 21  InternationalTeam         12207 non-null  object \n",
      " 22  ActiveInternational       18335 non-null  int64  \n",
      " 23  FormerInternational       18335 non-null  int64  \n",
      " 24  InternationalGames        12207 non-null  float64\n",
      " 25  InternationalGoals        12207 non-null  float64\n",
      " 26  StartingElevenQuote       16094 non-null  float64\n",
      " 27  MinutesQuote              16094 non-null  float64\n",
      " 28  TwPenaltySavesQuote       1783 non-null   float64\n",
      " 29  FsGoalParticipationQuote  14311 non-null  float64\n",
      " 30  Games                     13346 non-null  float64\n",
      " 31  PointsPerGame             12577 non-null  float64\n",
      " 32  Goals                     13346 non-null  float64\n",
      " 33  OwnGoals                  13346 non-null  float64\n",
      " 34  Ins                       13346 non-null  float64\n",
      " 35  Outs                      13346 non-null  float64\n",
      " 36  YellowCards               13346 non-null  float64\n",
      " 37  YellowRedCards            13346 non-null  float64\n",
      " 38  RedCards                  13346 non-null  float64\n",
      " 39  Minutes                   12528 non-null  float64\n",
      " 40  TwGoalsConceded           1478 non-null   float64\n",
      " 41  TwCleanSheets             1478 non-null   float64\n",
      " 42  FsAssists                 11868 non-null  float64\n",
      " 43  FsPenaltyGoals            11868 non-null  float64\n",
      " 44  FsMinutesPerGoal          6147 non-null   float64\n",
      " 45  Instagram                 7148 non-null   object \n",
      " 46  Source                    18335 non-null  object \n",
      " 47  ScrapingTime              18335 non-null  int64  \n",
      "dtypes: float64(26), int64(4), object(18)\n",
      "memory usage: 6.7+ MB\n"
     ]
    }
   ],
   "source": [
    "df = pd.read_csv('../scraping/cleansed_data/players_20230425190937.csv', sep=';')\n",
    "\n",
    "# Erstelle eine Kopie des Dataframes\n",
    "df_copy = df.copy()\n",
    "df.info()"
   ],
   "metadata": {
    "collapsed": false,
    "ExecuteTime": {
     "start_time": "2023-05-10T16:27:36.677971Z",
     "end_time": "2023-05-10T16:27:36.678080Z"
    }
   }
  },
  {
   "cell_type": "markdown",
   "source": [
    "## Entfernen von Spalten und Zeilen"
   ],
   "metadata": {
    "collapsed": false
   }
  },
  {
   "cell_type": "code",
   "execution_count": 25,
   "outputs": [],
   "source": [
    "# Entferne Source, ScrapingTime, Instagram, Value-Dates & -Currency\n",
    "df = df.drop(['Source', 'ScrapingTime', 'Instagram', 'ValueLastUpdate', 'HighestValueDate', 'ValueCurrency'], axis=1)"
   ],
   "metadata": {
    "collapsed": false,
    "ExecuteTime": {
     "start_time": "2023-05-10T16:27:36.681311Z",
     "end_time": "2023-05-10T16:27:36.681370Z"
    }
   }
  },
  {
   "cell_type": "code",
   "execution_count": 26,
   "outputs": [],
   "source": [
    "# Lösche alle Spieler ohne Value\n",
    "df = df[df['Value'].notnull()]"
   ],
   "metadata": {
    "collapsed": false,
    "ExecuteTime": {
     "start_time": "2023-05-10T16:27:36.687176Z",
     "end_time": "2023-05-10T16:27:36.687248Z"
    }
   }
  },
  {
   "cell_type": "code",
   "execution_count": 27,
   "outputs": [
    {
     "name": "stdout",
     "output_type": "stream",
     "text": [
      "<class 'pandas.core.frame.DataFrame'>\n",
      "Int64Index: 17899 entries, 0 to 18334\n",
      "Data columns (total 42 columns):\n",
      " #   Column                    Non-Null Count  Dtype  \n",
      "---  ------                    --------------  -----  \n",
      " 0   LeagueCountry             17899 non-null  object \n",
      " 1   League                    17899 non-null  object \n",
      " 2   NationalLeagueLevel       17899 non-null  object \n",
      " 3   Club                      17899 non-null  object \n",
      " 4   No                        17590 non-null  float64\n",
      " 5   Name                      17899 non-null  object \n",
      " 6   Value                     17899 non-null  float64\n",
      " 7   HighestValue              17899 non-null  float64\n",
      " 8   Age                       17896 non-null  float64\n",
      " 9   Height                    16809 non-null  float64\n",
      " 10  Nationality               17899 non-null  object \n",
      " 11  Foot                      16201 non-null  object \n",
      " 12  Position                  17899 non-null  object \n",
      " 13  Consultancy               14580 non-null  object \n",
      " 14  Supplier                  2753 non-null   object \n",
      " 15  ClubSince                 17864 non-null  object \n",
      " 16  ContractUntil             16816 non-null  object \n",
      " 17  Injury                    17899 non-null  int64  \n",
      " 18  InternationalTeam         12047 non-null  object \n",
      " 19  ActiveInternational       17899 non-null  int64  \n",
      " 20  FormerInternational       17899 non-null  int64  \n",
      " 21  InternationalGames        12047 non-null  float64\n",
      " 22  InternationalGoals        12047 non-null  float64\n",
      " 23  StartingElevenQuote       15847 non-null  float64\n",
      " 24  MinutesQuote              15847 non-null  float64\n",
      " 25  TwPenaltySavesQuote       1749 non-null   float64\n",
      " 26  FsGoalParticipationQuote  14098 non-null  float64\n",
      " 27  Games                     13297 non-null  float64\n",
      " 28  PointsPerGame             12538 non-null  float64\n",
      " 29  Goals                     13297 non-null  float64\n",
      " 30  OwnGoals                  13297 non-null  float64\n",
      " 31  Ins                       13297 non-null  float64\n",
      " 32  Outs                      13297 non-null  float64\n",
      " 33  YellowCards               13297 non-null  float64\n",
      " 34  YellowRedCards            13297 non-null  float64\n",
      " 35  RedCards                  13297 non-null  float64\n",
      " 36  Minutes                   12489 non-null  float64\n",
      " 37  TwGoalsConceded           1470 non-null   float64\n",
      " 38  TwCleanSheets             1470 non-null   float64\n",
      " 39  FsAssists                 11827 non-null  float64\n",
      " 40  FsPenaltyGoals            11827 non-null  float64\n",
      " 41  FsMinutesPerGoal          6134 non-null   float64\n",
      "dtypes: float64(26), int64(3), object(13)\n",
      "memory usage: 5.9+ MB\n"
     ]
    }
   ],
   "source": [
    "df.info()"
   ],
   "metadata": {
    "collapsed": false,
    "ExecuteTime": {
     "start_time": "2023-05-10T16:27:36.732368Z",
     "end_time": "2023-05-10T16:27:36.732438Z"
    }
   }
  },
  {
   "cell_type": "markdown",
   "source": [
    "## Datentypen anpassen"
   ],
   "metadata": {
    "collapsed": false
   }
  },
  {
   "cell_type": "code",
   "execution_count": 28,
   "outputs": [],
   "source": [
    "# 'ClubSince' und 'ContractUntil' als Datumsangaben einlesen\n",
    "df['ClubSince'] = pd.to_datetime(df['ClubSince'])\n",
    "df['ContractUntil'] = pd.to_datetime(df['ContractUntil'])"
   ],
   "metadata": {
    "collapsed": false,
    "ExecuteTime": {
     "start_time": "2023-05-10T16:27:36.732767Z",
     "end_time": "2023-05-10T16:27:36.732791Z"
    }
   }
  },
  {
   "cell_type": "code",
   "execution_count": 29,
   "outputs": [],
   "source": [
    "# 'ClubSince' und 'ContractUntil' als float Werte umwandeln (Differenz in Tagen ab Scrapingtag 11.04.2023, da dann auch die Values ermittelt wurden)\n",
    "df['ClubSince'] = ((pd.to_datetime('2023-04-11') - df['ClubSince']) / np.timedelta64(1, 'D')).astype(float)\n",
    "df['ContractUntil'] = ((df['ContractUntil'] - pd.to_datetime('2023-04-11')) / np.timedelta64(1, 'D')).astype(float)"
   ],
   "metadata": {
    "collapsed": false,
    "ExecuteTime": {
     "start_time": "2023-05-10T16:27:36.732836Z",
     "end_time": "2023-05-10T16:27:36.732851Z"
    }
   }
  },
  {
   "cell_type": "code",
   "execution_count": 30,
   "outputs": [
    {
     "name": "stdout",
     "output_type": "stream",
     "text": [
      "<class 'pandas.core.frame.DataFrame'>\n",
      "Int64Index: 17899 entries, 0 to 18334\n",
      "Data columns (total 42 columns):\n",
      " #   Column                    Non-Null Count  Dtype  \n",
      "---  ------                    --------------  -----  \n",
      " 0   LeagueCountry             17899 non-null  object \n",
      " 1   League                    17899 non-null  object \n",
      " 2   NationalLeagueLevel       17899 non-null  object \n",
      " 3   Club                      17899 non-null  object \n",
      " 4   No                        17590 non-null  float64\n",
      " 5   Name                      17899 non-null  object \n",
      " 6   Value                     17899 non-null  float64\n",
      " 7   HighestValue              17899 non-null  float64\n",
      " 8   Age                       17896 non-null  float64\n",
      " 9   Height                    16809 non-null  float64\n",
      " 10  Nationality               17899 non-null  object \n",
      " 11  Foot                      16201 non-null  object \n",
      " 12  Position                  17899 non-null  object \n",
      " 13  Consultancy               14580 non-null  object \n",
      " 14  Supplier                  2753 non-null   object \n",
      " 15  ClubSince                 17864 non-null  float64\n",
      " 16  ContractUntil             16816 non-null  float64\n",
      " 17  Injury                    17899 non-null  int64  \n",
      " 18  InternationalTeam         12047 non-null  object \n",
      " 19  ActiveInternational       17899 non-null  int64  \n",
      " 20  FormerInternational       17899 non-null  int64  \n",
      " 21  InternationalGames        12047 non-null  float64\n",
      " 22  InternationalGoals        12047 non-null  float64\n",
      " 23  StartingElevenQuote       15847 non-null  float64\n",
      " 24  MinutesQuote              15847 non-null  float64\n",
      " 25  TwPenaltySavesQuote       1749 non-null   float64\n",
      " 26  FsGoalParticipationQuote  14098 non-null  float64\n",
      " 27  Games                     13297 non-null  float64\n",
      " 28  PointsPerGame             12538 non-null  float64\n",
      " 29  Goals                     13297 non-null  float64\n",
      " 30  OwnGoals                  13297 non-null  float64\n",
      " 31  Ins                       13297 non-null  float64\n",
      " 32  Outs                      13297 non-null  float64\n",
      " 33  YellowCards               13297 non-null  float64\n",
      " 34  YellowRedCards            13297 non-null  float64\n",
      " 35  RedCards                  13297 non-null  float64\n",
      " 36  Minutes                   12489 non-null  float64\n",
      " 37  TwGoalsConceded           1470 non-null   float64\n",
      " 38  TwCleanSheets             1470 non-null   float64\n",
      " 39  FsAssists                 11827 non-null  float64\n",
      " 40  FsPenaltyGoals            11827 non-null  float64\n",
      " 41  FsMinutesPerGoal          6134 non-null   float64\n",
      "dtypes: float64(28), int64(3), object(11)\n",
      "memory usage: 5.9+ MB\n"
     ]
    }
   ],
   "source": [
    "df.info()"
   ],
   "metadata": {
    "collapsed": false,
    "ExecuteTime": {
     "start_time": "2023-05-10T16:27:36.746156Z",
     "end_time": "2023-05-10T16:27:36.746301Z"
    }
   }
  },
  {
   "cell_type": "markdown",
   "source": [
    "## Entferne Duplikate"
   ],
   "metadata": {
    "collapsed": false
   }
  },
  {
   "cell_type": "code",
   "execution_count": 31,
   "outputs": [],
   "source": [
    "# Doppelte Spieler aus dem Dataframe entfernen\n",
    "df = df.drop_duplicates(subset=['Name', 'Age', 'Nationality', 'Club'], keep='first')"
   ],
   "metadata": {
    "collapsed": false,
    "ExecuteTime": {
     "start_time": "2023-05-10T16:27:36.795472Z",
     "end_time": "2023-05-10T16:27:36.795610Z"
    }
   }
  },
  {
   "cell_type": "markdown",
   "source": [
    "## Fehlende Werte ersetzen (Objekte und logische Werte)"
   ],
   "metadata": {
    "collapsed": false
   }
  },
  {
   "cell_type": "code",
   "execution_count": 32,
   "outputs": [],
   "source": [
    "# Erstelle ein Dictionary mit den Positionen und ihren entsprechenden Kategorien\n",
    "pos_dict = {'Torwart': 'Torwart',\n",
    "            'Innenverteidiger': 'Abwehr',\n",
    "            'Linker Verteidiger': 'Abwehr',\n",
    "            'Rechter Verteidiger': 'Abwehr',\n",
    "            'Defensives Mittelfeld': 'Mittelfeld',\n",
    "            'Zentrales Mittelfeld': 'Mittelfeld',\n",
    "            'Linkes Mittelfeld': 'Mittelfeld',\n",
    "            'Offensives Mittelfeld': 'Mittelfeld',\n",
    "            'Linksaußen': 'Sturm',\n",
    "            'Rechtsaußen': 'Sturm',\n",
    "            'Mittelstürmer': 'Sturm',\n",
    "            'Rechtes Mittelfeld': 'Mittelfeld',\n",
    "            'Hängende Spitze': 'Mittelfeld',\n",
    "            'Mittelfeld': 'Mittelfeld',\n",
    "            'Abwehr': 'Abwehr',\n",
    "            'Sturm': 'Sturm'}\n",
    "\n",
    "# Erstelle eine neue Spalte mit der Positionskategorie\n",
    "df['PositionCategory'] = df['Position'].map(pos_dict)"
   ],
   "metadata": {
    "collapsed": false,
    "ExecuteTime": {
     "start_time": "2023-05-10T16:27:36.805678Z",
     "end_time": "2023-05-10T16:27:36.805773Z"
    }
   }
  },
  {
   "cell_type": "code",
   "execution_count": 33,
   "outputs": [],
   "source": [
    "# Neue Spalte 'trending' erstellen\n",
    "df['Trending'] = df.apply(lambda row: 1 if row['Value'] == row['HighestValue'] else 0, axis=1)"
   ],
   "metadata": {
    "collapsed": false,
    "ExecuteTime": {
     "start_time": "2023-05-10T16:27:36.848723Z",
     "end_time": "2023-05-10T16:27:36.849000Z"
    }
   }
  },
  {
   "cell_type": "code",
   "execution_count": 34,
   "outputs": [],
   "source": [
    "df.to_csv('../data/df_clean.csv', index=False)"
   ],
   "metadata": {
    "collapsed": false,
    "ExecuteTime": {
     "start_time": "2023-05-10T16:27:37.006257Z",
     "end_time": "2023-05-10T16:27:37.006365Z"
    }
   }
  },
  {
   "cell_type": "markdown",
   "source": [
    "## Nicht verwendeter Code"
   ],
   "metadata": {
    "collapsed": false
   }
  },
  {
   "cell_type": "code",
   "execution_count": 35,
   "outputs": [],
   "source": [
    "df['InternationalTeam'].fillna('kein_internationales_Team', inplace=True)"
   ],
   "metadata": {
    "collapsed": false,
    "ExecuteTime": {
     "start_time": "2023-05-10T16:27:37.009737Z",
     "end_time": "2023-05-10T16:27:37.009807Z"
    }
   }
  },
  {
   "cell_type": "code",
   "execution_count": 36,
   "outputs": [],
   "source": [
    "df.loc[df['InternationalTeam'] == 'kein_internationales_Team', ['InternationalGames', 'InternationalGoals']] = 0"
   ],
   "metadata": {
    "collapsed": false,
    "ExecuteTime": {
     "start_time": "2023-05-10T16:27:37.014792Z",
     "end_time": "2023-05-10T16:27:37.014867Z"
    }
   }
  },
  {
   "cell_type": "code",
   "execution_count": 37,
   "outputs": [],
   "source": [
    "# Setze die Torwart-spezifischen Werte auf 0, wenn die Position des Spielers keine Torwart-Position ist und der jeweilige Wert NaN ist\n",
    "df.loc[(df['Position'] != 'Torwart') & (df['TwPenaltySavesQuote'].isna()), 'TwPenaltySavesQuote'] = 0\n",
    "df.loc[(df['Position'] != 'Torwart') & (df['TwGoalsConceded'].isna()), 'TwGoalsConceded'] = 0\n",
    "df.loc[(df['Position'] != 'Torwart') & (df['TwCleanSheets'].isna()), 'TwCleanSheets'] = 0"
   ],
   "metadata": {
    "collapsed": false,
    "ExecuteTime": {
     "start_time": "2023-05-10T16:27:37.019892Z",
     "end_time": "2023-05-10T16:27:37.019973Z"
    }
   }
  },
  {
   "cell_type": "code",
   "execution_count": 38,
   "outputs": [],
   "source": [
    "# Gruppieren Sie das DataFrame nach Position und berechnen Sie den Modus der Spieler-Nummern für jede Position\n",
    "mode_no_by_position = df.groupby('Position')['No'].agg(lambda x: x.mode()[0])\n",
    "\n",
    "# Funktion zum Imputieren von fehlenden Spieler-Nummern (No) basierend auf der Position\n",
    "def impute_no_by_position(row):\n",
    "    if pd.isnull(row['No']):\n",
    "        return mode_no_by_position[row['Position']]\n",
    "    else:\n",
    "        return row['No']\n",
    "\n",
    "# Anwenden der Funktion auf das gesamte DataFrame, um fehlende Spieler-Nummern zu imputieren\n",
    "df['No'] = df.apply(impute_no_by_position, axis=1)"
   ],
   "metadata": {
    "collapsed": false,
    "ExecuteTime": {
     "start_time": "2023-05-10T16:27:37.097584Z",
     "end_time": "2023-05-10T16:27:37.097748Z"
    }
   }
  },
  {
   "cell_type": "code",
   "execution_count": 39,
   "outputs": [],
   "source": [
    "# Setze NaN-Werte in Karten-Werten auf 0\n",
    "df['YellowCards'].fillna(0, inplace=True)\n",
    "df['YellowRedCards'].fillna(0, inplace=True)\n",
    "df['RedCards'].fillna(0, inplace=True)"
   ],
   "metadata": {
    "collapsed": false,
    "ExecuteTime": {
     "start_time": "2023-05-10T16:27:37.101525Z",
     "end_time": "2023-05-10T16:27:37.101649Z"
    }
   }
  },
  {
   "cell_type": "code",
   "execution_count": 40,
   "outputs": [
    {
     "name": "stdout",
     "output_type": "stream",
     "text": [
      "<class 'pandas.core.frame.DataFrame'>\n",
      "Int64Index: 17803 entries, 0 to 18334\n",
      "Data columns (total 44 columns):\n",
      " #   Column                    Non-Null Count  Dtype  \n",
      "---  ------                    --------------  -----  \n",
      " 0   LeagueCountry             17803 non-null  object \n",
      " 1   League                    17803 non-null  object \n",
      " 2   NationalLeagueLevel       17803 non-null  object \n",
      " 3   Club                      17803 non-null  object \n",
      " 4   No                        17803 non-null  float64\n",
      " 5   Name                      17803 non-null  object \n",
      " 6   Value                     17803 non-null  float64\n",
      " 7   HighestValue              17803 non-null  float64\n",
      " 8   Age                       17800 non-null  float64\n",
      " 9   Height                    16713 non-null  float64\n",
      " 10  Nationality               17803 non-null  object \n",
      " 11  Foot                      16118 non-null  object \n",
      " 12  Position                  17803 non-null  object \n",
      " 13  Consultancy               14496 non-null  object \n",
      " 14  Supplier                  2736 non-null   object \n",
      " 15  ClubSince                 17768 non-null  float64\n",
      " 16  ContractUntil             16730 non-null  float64\n",
      " 17  Injury                    17803 non-null  int64  \n",
      " 18  InternationalTeam         17803 non-null  object \n",
      " 19  ActiveInternational       17803 non-null  int64  \n",
      " 20  FormerInternational       17803 non-null  int64  \n",
      " 21  InternationalGames        17803 non-null  float64\n",
      " 22  InternationalGoals        17803 non-null  float64\n",
      " 23  StartingElevenQuote       15773 non-null  float64\n",
      " 24  MinutesQuote              15773 non-null  float64\n",
      " 25  TwPenaltySavesQuote       17513 non-null  float64\n",
      " 26  FsGoalParticipationQuote  14036 non-null  float64\n",
      " 27  Games                     13227 non-null  float64\n",
      " 28  PointsPerGame             12484 non-null  float64\n",
      " 29  Goals                     13227 non-null  float64\n",
      " 30  OwnGoals                  13227 non-null  float64\n",
      " 31  Ins                       13227 non-null  float64\n",
      " 32  Outs                      13227 non-null  float64\n",
      " 33  YellowCards               17803 non-null  float64\n",
      " 34  YellowRedCards            17803 non-null  float64\n",
      " 35  RedCards                  17803 non-null  float64\n",
      " 36  Minutes                   12437 non-null  float64\n",
      " 37  TwGoalsConceded           17235 non-null  float64\n",
      " 38  TwCleanSheets             17235 non-null  float64\n",
      " 39  FsAssists                 11768 non-null  float64\n",
      " 40  FsPenaltyGoals            11768 non-null  float64\n",
      " 41  FsMinutesPerGoal          6119 non-null   float64\n",
      " 42  PositionCategory          17803 non-null  object \n",
      " 43  Trending                  17803 non-null  int64  \n",
      "dtypes: float64(28), int64(4), object(12)\n",
      "memory usage: 6.1+ MB\n"
     ]
    }
   ],
   "source": [
    "# Objekte haben keine fehlenden Werte mehr\n",
    "df.info()"
   ],
   "metadata": {
    "collapsed": false,
    "ExecuteTime": {
     "start_time": "2023-05-10T16:27:37.119938Z",
     "end_time": "2023-05-10T16:27:37.120004Z"
    }
   }
  },
  {
   "cell_type": "code",
   "execution_count": 41,
   "outputs": [
    {
     "name": "stdout",
     "output_type": "stream",
     "text": [
      "LeagueCountry                0.000000\n",
      "League                       0.000000\n",
      "NationalLeagueLevel          0.000000\n",
      "Club                         0.000000\n",
      "No                           0.000000\n",
      "Name                         0.000000\n",
      "Value                        0.000000\n",
      "HighestValue                 0.000000\n",
      "Age                          0.016851\n",
      "Height                       6.122564\n",
      "Nationality                  0.000000\n",
      "Foot                         9.464697\n",
      "Position                     0.000000\n",
      "Consultancy                 18.575521\n",
      "Supplier                    84.631804\n",
      "ClubSince                    0.196596\n",
      "ContractUntil                6.027074\n",
      "Injury                       0.000000\n",
      "InternationalTeam            0.000000\n",
      "ActiveInternational          0.000000\n",
      "FormerInternational          0.000000\n",
      "InternationalGames           0.000000\n",
      "InternationalGoals           0.000000\n",
      "StartingElevenQuote         11.402573\n",
      "MinutesQuote                11.402573\n",
      "TwPenaltySavesQuote          1.628939\n",
      "FsGoalParticipationQuote    21.159355\n",
      "Games                       25.703533\n",
      "PointsPerGame               29.876987\n",
      "Goals                       25.703533\n",
      "OwnGoals                    25.703533\n",
      "Ins                         25.703533\n",
      "Outs                        25.703533\n",
      "YellowCards                  0.000000\n",
      "YellowRedCards               0.000000\n",
      "RedCards                     0.000000\n",
      "Minutes                     30.140987\n",
      "TwGoalsConceded              3.190474\n",
      "TwCleanSheets                3.190474\n",
      "FsAssists                   33.898781\n",
      "FsPenaltyGoals              33.898781\n",
      "FsMinutesPerGoal            65.629388\n",
      "PositionCategory             0.000000\n",
      "Trending                     0.000000\n",
      "dtype: float64\n"
     ]
    }
   ],
   "source": [
    "# Fehlende Werte in Prozent pro Variable\n",
    "print(df.isnull().sum() / len(df) * 100)"
   ],
   "metadata": {
    "collapsed": false,
    "ExecuteTime": {
     "start_time": "2023-05-10T16:27:37.145929Z",
     "end_time": "2023-05-10T16:27:37.146116Z"
    }
   }
  },
  {
   "cell_type": "code",
   "execution_count": 42,
   "outputs": [],
   "source": [
    "# Manuelles Mapping erstellen\n",
    "league_level_mapping = {\n",
    "    \"1.Liga\": 1,\n",
    "    \"2.Liga\": 2,\n",
    "    \"3.Liga\": 3,\n",
    "    \"4.Liga\": 4,\n",
    "    \"5.Liga\": 5,\n",
    "    \"Reserveliga\": 6,\n",
    "    \"Jugendliga\": 6,\n",
    "    \"Playoff/Relegation\": 7\n",
    "}\n",
    "\n",
    "# Ersetzen Sie die Werte in der Spalte \"NationalLeagueLevel\" basierend auf dem manuellen Mapping\n",
    "df['NationalLeagueLevelCategory'] = df['NationalLeagueLevel'].map(league_level_mapping)"
   ],
   "metadata": {
    "collapsed": false,
    "ExecuteTime": {
     "start_time": "2023-05-10T16:27:37.152712Z",
     "end_time": "2023-05-10T16:27:37.152795Z"
    }
   }
  },
  {
   "cell_type": "code",
   "execution_count": 43,
   "outputs": [
    {
     "name": "stdout",
     "output_type": "stream",
     "text": [
      "                                     NullValues  Players  NullValuesRelative\n",
      "LeagueCountry League                                                        \n",
      "Türkei        Süper Lig                     520      520          100.000000\n",
      "Niederlande   Eredivisie                    481      481          100.000000\n",
      "Griechenland  Super League 2                521      725           71.862069\n",
      "Norwegen      Eliteserien                   279      414           67.391304\n",
      "Schottland    Championship                  153      237           64.556962\n",
      "Schweiz       Promotion League              250      394           63.451777\n",
      "Spanien       LaLiga2                       300      531           56.497175\n",
      "Schweden      Allsvenskan                   217      389           55.784062\n",
      "England       League One                    333      624           53.365385\n",
      "Tschechien    Fortuna Liga                  160      405           39.506173\n",
      "Dänemark      Superligaen                   108      289           37.370242\n",
      "Portugal      Liga Sabseg                   170      465           36.559140\n",
      "Griechenland  Super League 1                137      405           33.827160\n",
      "Kroatien      SuperSport HNL                 67      276           24.275362\n",
      "Rumänien      SuperLiga                     109      467           23.340471\n",
      "Serbien       Super liga Srbije              89      403           22.084367\n",
      "Schweiz       Challenge League               55      267           20.599251\n",
      "Österreich    2. Liga                        84      410           20.487805\n",
      "Polen         Ekstraklasa                   102      516           19.767442\n",
      "Belgien       Challenger Pro League          60      308           19.480519\n",
      "Türkei        1.Lig                          97      541           17.929760\n",
      "Portugal      Liga Portugal                  85      485           17.525773\n",
      "Österreich    Bundesliga                     59      350           16.857143\n",
      "Schweiz       Super League                   41      276           14.855072\n",
      "Frankreich    Ligue 2                        76      516           14.728682\n",
      "England       Championship                   90      626           14.376997\n",
      "Schottland    Premiership                    43      309           13.915858\n",
      "Deutschland   2. Bundesliga                  68      515           13.203883\n",
      "              Bundesliga                     65      497           13.078471\n",
      "Belgien       Jupiler Pro League             54      477           11.320755\n",
      "Italien       Serie B                        65      576           11.284722\n",
      "Frankreich    Ligue 1                        57      518           11.003861\n",
      "Italien       Serie A                        55      557            9.874327\n",
      "Ukraine       Premier Liga                   41      422            9.715640\n",
      "England       Premier League                 50      531            9.416196\n",
      "Deutschland   3. Liga                        41      542            7.564576\n",
      "Russland      Premier Liga                   26      400            6.500000\n",
      "              1.Division                     30      474            6.329114\n",
      "Spanien       LaLiga                         23      484            4.752066\n"
     ]
    }
   ],
   "source": [
    "null_values = df['Minutes'].isnull().groupby([df['LeagueCountry'], df['League']]).sum().to_frame()\n",
    "size_values = df.groupby(['LeagueCountry', 'League']).size()\n",
    "\n",
    "null_values['Players'] = size_values\n",
    "null_values = null_values.rename(columns={'Minutes': 'NullValues'})\n",
    "null_values['NullValuesRelative'] = null_values['NullValues'] / null_values['Players'] * 100\n",
    "\n",
    "null_values = null_values[null_values['Players'] > 20]  # exclude minor leagues\n",
    "null_values = null_values.sort_values('NullValuesRelative', ascending=False)\n",
    "\n",
    "print(null_values)"
   ],
   "metadata": {
    "collapsed": false,
    "ExecuteTime": {
     "start_time": "2023-05-10T16:27:37.164702Z",
     "end_time": "2023-05-10T16:27:37.164861Z"
    }
   }
  },
  {
   "cell_type": "code",
   "execution_count": 44,
   "outputs": [],
   "source": [
    "# Ersetze NaN-Werte mit 'Unbekannt'\n",
    "df['Nationality'].fillna('unbekannt', inplace=True)\n",
    "df['Foot'].fillna('unbekannt', inplace=True)\n",
    "df['Position'].fillna('unbekannt', inplace=True)\n",
    "df['Supplier'].fillna('unbekannt', inplace=True)\n",
    "df['Consultancy'].fillna('unbekannt', inplace=True)"
   ],
   "metadata": {
    "collapsed": false,
    "ExecuteTime": {
     "start_time": "2023-05-10T16:27:37.191895Z",
     "end_time": "2023-05-10T16:27:37.191965Z"
    }
   }
  }
 ],
 "metadata": {
  "kernelspec": {
   "display_name": "Python 3",
   "language": "python",
   "name": "python3"
  },
  "language_info": {
   "codemirror_mode": {
    "name": "ipython",
    "version": 2
   },
   "file_extension": ".py",
   "mimetype": "text/x-python",
   "name": "python",
   "nbconvert_exporter": "python",
   "pygments_lexer": "ipython2",
   "version": "2.7.6"
  }
 },
 "nbformat": 4,
 "nbformat_minor": 0
}
