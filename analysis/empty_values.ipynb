{
 "cells": [
  {
   "cell_type": "code",
   "execution_count": 1,
   "metadata": {
    "collapsed": true,
    "ExecuteTime": {
     "start_time": "2023-04-26T18:20:54.391253Z",
     "end_time": "2023-04-26T18:20:54.741178Z"
    }
   },
   "outputs": [],
   "source": [
    "import pandas as pd"
   ]
  },
  {
   "cell_type": "code",
   "execution_count": 3,
   "outputs": [
    {
     "name": "stdout",
     "output_type": "stream",
     "text": [
      "<class 'pandas.core.frame.DataFrame'>\n",
      "RangeIndex: 18335 entries, 0 to 18334\n",
      "Data columns (total 48 columns):\n",
      " #   Column                    Non-Null Count  Dtype  \n",
      "---  ------                    --------------  -----  \n",
      " 0   LeagueCountry             18335 non-null  object \n",
      " 1   League                    18238 non-null  object \n",
      " 2   NationalLeagueLevel       18335 non-null  int64  \n",
      " 3   Club                      18331 non-null  object \n",
      " 4   No                        17905 non-null  float64\n",
      " 5   Name                      18331 non-null  object \n",
      " 6   Value                     17899 non-null  float64\n",
      " 7   ValueLastUpdate           17899 non-null  object \n",
      " 8   HighestValue              18004 non-null  float64\n",
      " 9   HighestValueDate          18004 non-null  object \n",
      " 10  ValueCurrency             17899 non-null  object \n",
      " 11  Age                       18328 non-null  float64\n",
      " 12  Height                    17052 non-null  float64\n",
      " 13  Nationality               18331 non-null  object \n",
      " 14  Foot                      16435 non-null  object \n",
      " 15  Position                  18331 non-null  object \n",
      " 16  Consultancy               14780 non-null  object \n",
      " 17  Supplier                  2775 non-null   object \n",
      " 18  ClubSince                 18257 non-null  object \n",
      " 19  ContractUntil             17149 non-null  object \n",
      " 20  Injury                    18335 non-null  int64  \n",
      " 21  InternationalTeam         12207 non-null  object \n",
      " 22  ActiveInternational       18335 non-null  int64  \n",
      " 23  FormerInternational       18335 non-null  int64  \n",
      " 24  InternationalGames        12207 non-null  float64\n",
      " 25  InternationalGoals        12207 non-null  float64\n",
      " 26  StartingElevenQuote       16094 non-null  float64\n",
      " 27  MinutesQuote              16094 non-null  float64\n",
      " 28  TwPenaltySavesQuote       1783 non-null   float64\n",
      " 29  FsGoalParticipationQuote  14311 non-null  float64\n",
      " 30  Games                     13346 non-null  float64\n",
      " 31  PointsPerGame             12577 non-null  float64\n",
      " 32  Goals                     13346 non-null  float64\n",
      " 33  OwnGoals                  13346 non-null  float64\n",
      " 34  Ins                       13346 non-null  float64\n",
      " 35  Outs                      13346 non-null  float64\n",
      " 36  YellowCards               13346 non-null  float64\n",
      " 37  YellowRedCards            13346 non-null  float64\n",
      " 38  RedCards                  13346 non-null  float64\n",
      " 39  Minutes                   12528 non-null  float64\n",
      " 40  TwGoalsConceded           1478 non-null   float64\n",
      " 41  TwCleanSheets             1478 non-null   float64\n",
      " 42  FsAssists                 11868 non-null  float64\n",
      " 43  FsPenaltyGoals            11868 non-null  float64\n",
      " 44  FsMinutesPerGoal          6147 non-null   float64\n",
      " 45  Instagram                 7148 non-null   object \n",
      " 46  Source                    18335 non-null  object \n",
      " 47  ScrapingTime              18335 non-null  int64  \n",
      "dtypes: float64(26), int64(5), object(17)\n",
      "memory usage: 6.7+ MB\n"
     ]
    }
   ],
   "source": [
    "df = pd.read_csv('../scraping/cleansed_data/players_20230425190937.csv', sep=';')\n",
    "df.info()"
   ],
   "metadata": {
    "collapsed": false,
    "ExecuteTime": {
     "start_time": "2023-04-26T18:21:44.716968Z",
     "end_time": "2023-04-26T18:21:44.807667Z"
    }
   }
  },
  {
   "cell_type": "code",
   "execution_count": 35,
   "outputs": [
    {
     "name": "stdout",
     "output_type": "stream",
     "text": [
      "                                     NullValues  Players  NullValuesRelative\n",
      "LeagueCountry League                                                        \n",
      "Türkei        Süper Lig                     520      520          100.000000\n",
      "Niederlande   Eredivisie                    483      483          100.000000\n",
      "Serbien       Omladinska liga                23       26           88.461538\n",
      "Griechenland  Super League 2                616      828           74.396135\n",
      "Norwegen      Eliteserien                   279      414           67.391304\n",
      "Schottland    Championship                  155      239           64.853556\n",
      "Schweiz       Promotion League              269      419           64.200477\n",
      "Schweden      Allsvenskan                   266      438           60.730594\n",
      "Spanien       LaLiga2                       300      531           56.497175\n",
      "England       League One                    333      624           53.365385\n",
      "Tschechien    Fortuna Liga                  162      407           39.803440\n",
      "Dänemark      Superligaen                   114      295           38.644068\n",
      "Portugal      Liga Sabseg                   180      482           37.344398\n",
      "Griechenland  Super League 1                157      429           36.596737\n",
      "Kroatien      SuperSport HNL                 71      283           25.088339\n",
      "Serbien       Super liga Srbije             103      418           24.641148\n",
      "Rumänien      SuperLiga                     111      470           23.617021\n",
      "Polen         Ekstraklasa                   127      543           23.388582\n",
      "Österreich    2. Liga                        90      416           21.634615\n",
      "Schweiz       Challenge League               58      271           21.402214\n",
      "Belgien       Challenger Pro League          64      314           20.382166\n",
      "Österreich    Bundesliga                     69      368           18.750000\n",
      "Schweiz       Super League                   54      296           18.243243\n",
      "Türkei        1.Lig                          99      543           18.232044\n",
      "Portugal      Liga Portugal                  87      490           17.755102\n",
      "Frankreich    Ligue 2                        76      516           14.728682\n",
      "England       Championship                   91      628           14.490446\n",
      "Deutschland   Bundesliga                     72      509           14.145383\n",
      "Schottland    Premiership                    43      309           13.915858\n",
      "Deutschland   2. Bundesliga                  68      516           13.178295\n",
      "Belgien       Jupiler Pro League             59      494           11.943320\n",
      "Italien       Serie B                        65      577           11.265165\n",
      "Frankreich    Ligue 1                        57      518           11.003861\n",
      "Italien       Serie A                        57      559           10.196780\n",
      "Ukraine       Premier Liga                   42      423            9.929078\n",
      "England       Premier League                 53      534            9.925094\n",
      "Deutschland   3. Liga                        44      548            8.029197\n",
      "Russland      1.Division                     31      477            6.498952\n",
      "              Premier Liga                   26      401            6.483791\n",
      "Spanien       LaLiga                         23      485            4.742268\n"
     ]
    }
   ],
   "source": [
    "null_values = df['Minutes'].isnull().groupby([df['LeagueCountry'], df['League']]).sum().to_frame()\n",
    "size_values = df.groupby(['LeagueCountry', 'League']).size()\n",
    "\n",
    "null_values['Players'] = size_values\n",
    "null_values = null_values.rename(columns={'Minutes': 'NullValues'})\n",
    "null_values['NullValuesRelative'] = null_values['NullValues'] / null_values['Players'] * 100\n",
    "\n",
    "null_values = null_values[null_values['Players'] > 20]  # exclude minor leagues\n",
    "null_values = null_values.sort_values('NullValuesRelative', ascending=False)\n",
    "\n",
    "print(null_values)"
   ],
   "metadata": {
    "collapsed": false,
    "ExecuteTime": {
     "start_time": "2023-04-26T18:37:47.385659Z",
     "end_time": "2023-04-26T18:37:47.392213Z"
    }
   }
  },
  {
   "cell_type": "code",
   "execution_count": null,
   "outputs": [],
   "source": [],
   "metadata": {
    "collapsed": false
   }
  }
 ],
 "metadata": {
  "kernelspec": {
   "display_name": "Python 3",
   "language": "python",
   "name": "python3"
  },
  "language_info": {
   "codemirror_mode": {
    "name": "ipython",
    "version": 2
   },
   "file_extension": ".py",
   "mimetype": "text/x-python",
   "name": "python",
   "nbconvert_exporter": "python",
   "pygments_lexer": "ipython2",
   "version": "2.7.6"
  }
 },
 "nbformat": 4,
 "nbformat_minor": 0
}
