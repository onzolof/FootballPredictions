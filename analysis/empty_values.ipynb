{
 "cells": [
  {
   "cell_type": "code",
   "execution_count": 1,
   "metadata": {
    "collapsed": true,
    "ExecuteTime": {
     "start_time": "2023-05-18T07:52:00.244719Z",
     "end_time": "2023-05-18T07:52:00.560964Z"
    }
   },
   "outputs": [],
   "source": [
    "import pandas as pd\n",
    "import numpy as np"
   ]
  },
  {
   "cell_type": "code",
   "execution_count": 2,
   "outputs": [
    {
     "name": "stdout",
     "output_type": "stream",
     "text": [
      "<class 'pandas.core.frame.DataFrame'>\n",
      "RangeIndex: 18358 entries, 0 to 18357\n",
      "Data columns (total 49 columns):\n",
      " #   Column                    Non-Null Count  Dtype  \n",
      "---  ------                    --------------  -----  \n",
      " 0   LeagueCountry             18358 non-null  object \n",
      " 1   League                    18257 non-null  object \n",
      " 2   NationalLeagueLevel       18253 non-null  object \n",
      " 3   Club                      18352 non-null  object \n",
      " 4   No                        17950 non-null  float64\n",
      " 5   Name                      18352 non-null  object \n",
      " 6   Value                     17890 non-null  float64\n",
      " 7   ValueLastUpdate           17890 non-null  object \n",
      " 8   HighestValue              18000 non-null  float64\n",
      " 9   HighestValueDate          18000 non-null  object \n",
      " 10  ValueCurrency             17890 non-null  object \n",
      " 11  Age                       18349 non-null  float64\n",
      " 12  Height                    17069 non-null  float64\n",
      " 13  Nationality               18352 non-null  object \n",
      " 14  Foot                      16453 non-null  object \n",
      " 15  Position                  18352 non-null  object \n",
      " 16  Consultancy               14819 non-null  object \n",
      " 17  Supplier                  2779 non-null   object \n",
      " 18  ClubSince                 18271 non-null  object \n",
      " 19  ContractUntil             17169 non-null  object \n",
      " 20  Injury                    18358 non-null  int64  \n",
      " 21  InternationalTeam         9927 non-null   object \n",
      " 22  ActiveInternational       18358 non-null  int64  \n",
      " 23  FormerInternational       18358 non-null  int64  \n",
      " 24  InternationalGames        10954 non-null  float64\n",
      " 25  InternationalGoals        10954 non-null  float64\n",
      " 26  StartingElevenQuote       16111 non-null  float64\n",
      " 27  MinutesQuote              16111 non-null  float64\n",
      " 28  TwPenaltySavesQuote       1792 non-null   float64\n",
      " 29  FsGoalParticipationQuote  14319 non-null  float64\n",
      " 30  Games                     13359 non-null  float64\n",
      " 31  PointsPerGame             13359 non-null  float64\n",
      " 32  Goals                     13359 non-null  float64\n",
      " 33  OwnGoals                  13359 non-null  float64\n",
      " 34  Ins                       13359 non-null  float64\n",
      " 35  Outs                      13359 non-null  float64\n",
      " 36  YellowCards               13359 non-null  float64\n",
      " 37  YellowRedCards            13359 non-null  float64\n",
      " 38  RedCards                  13359 non-null  float64\n",
      " 39  Minutes                   13359 non-null  float64\n",
      " 40  TwGoalsConceded           1481 non-null   float64\n",
      " 41  TwCleanSheets             1481 non-null   float64\n",
      " 42  FsAssists                 11878 non-null  float64\n",
      " 43  FsPenaltyGoals            11878 non-null  float64\n",
      " 44  FsMinutesPerGoal          11878 non-null  float64\n",
      " 45  Instagram                 7179 non-null   object \n",
      " 46  Image                     15093 non-null  object \n",
      " 47  Source                    18358 non-null  object \n",
      " 48  ScrapingTime              18358 non-null  int64  \n",
      "dtypes: float64(26), int64(4), object(19)\n",
      "memory usage: 6.9+ MB\n"
     ]
    }
   ],
   "source": [
    "df = pd.read_csv('../scraping/cleansed_data/players_20230515230306.csv', sep=';')\n",
    "\n",
    "# Erstelle eine Kopie des Dataframes\n",
    "df_copy = df.copy()\n",
    "df.info()"
   ],
   "metadata": {
    "collapsed": false,
    "ExecuteTime": {
     "start_time": "2023-05-18T07:52:00.560715Z",
     "end_time": "2023-05-18T07:52:00.664327Z"
    }
   }
  },
  {
   "cell_type": "markdown",
   "source": [
    "## Entfernen von Spalten und Zeilen"
   ],
   "metadata": {
    "collapsed": false
   }
  },
  {
   "cell_type": "code",
   "execution_count": 3,
   "outputs": [],
   "source": [
    "# Entferne Source, ScrapingTime, Instagram, Value-Dates & -Currency\n",
    "df = df.drop(['Source', 'ScrapingTime', 'Instagram', 'ValueLastUpdate', 'HighestValueDate', 'ValueCurrency'], axis=1)"
   ],
   "metadata": {
    "collapsed": false,
    "ExecuteTime": {
     "start_time": "2023-05-18T07:52:00.664768Z",
     "end_time": "2023-05-18T07:52:00.669275Z"
    }
   }
  },
  {
   "cell_type": "code",
   "execution_count": 4,
   "outputs": [],
   "source": [
    "# Lösche alle Spieler ohne Value\n",
    "df = df[df['Value'].notnull()]"
   ],
   "metadata": {
    "collapsed": false,
    "ExecuteTime": {
     "start_time": "2023-05-18T07:52:00.669618Z",
     "end_time": "2023-05-18T07:52:00.674096Z"
    }
   }
  },
  {
   "cell_type": "code",
   "execution_count": 5,
   "outputs": [
    {
     "name": "stdout",
     "output_type": "stream",
     "text": [
      "<class 'pandas.core.frame.DataFrame'>\n",
      "Int64Index: 17890 entries, 0 to 18357\n",
      "Data columns (total 43 columns):\n",
      " #   Column                    Non-Null Count  Dtype  \n",
      "---  ------                    --------------  -----  \n",
      " 0   LeagueCountry             17890 non-null  object \n",
      " 1   League                    17890 non-null  object \n",
      " 2   NationalLeagueLevel       17890 non-null  object \n",
      " 3   Club                      17890 non-null  object \n",
      " 4   No                        17605 non-null  float64\n",
      " 5   Name                      17890 non-null  object \n",
      " 6   Value                     17890 non-null  float64\n",
      " 7   HighestValue              17890 non-null  float64\n",
      " 8   Age                       17888 non-null  float64\n",
      " 9   Height                    16811 non-null  float64\n",
      " 10  Nationality               17890 non-null  object \n",
      " 11  Foot                      16205 non-null  object \n",
      " 12  Position                  17890 non-null  object \n",
      " 13  Consultancy               14606 non-null  object \n",
      " 14  Supplier                  2757 non-null   object \n",
      " 15  ClubSince                 17855 non-null  object \n",
      " 16  ContractUntil             16823 non-null  object \n",
      " 17  Injury                    17890 non-null  int64  \n",
      " 18  InternationalTeam         9785 non-null   object \n",
      " 19  ActiveInternational       17890 non-null  int64  \n",
      " 20  FormerInternational       17890 non-null  int64  \n",
      " 21  InternationalGames        10801 non-null  float64\n",
      " 22  InternationalGoals        10801 non-null  float64\n",
      " 23  StartingElevenQuote       15832 non-null  float64\n",
      " 24  MinutesQuote              15832 non-null  float64\n",
      " 25  TwPenaltySavesQuote       1754 non-null   float64\n",
      " 26  FsGoalParticipationQuote  14078 non-null  float64\n",
      " 27  Games                     13298 non-null  float64\n",
      " 28  PointsPerGame             13298 non-null  float64\n",
      " 29  Goals                     13298 non-null  float64\n",
      " 30  OwnGoals                  13298 non-null  float64\n",
      " 31  Ins                       13298 non-null  float64\n",
      " 32  Outs                      13298 non-null  float64\n",
      " 33  YellowCards               13298 non-null  float64\n",
      " 34  YellowRedCards            13298 non-null  float64\n",
      " 35  RedCards                  13298 non-null  float64\n",
      " 36  Minutes                   13298 non-null  float64\n",
      " 37  TwGoalsConceded           1472 non-null   float64\n",
      " 38  TwCleanSheets             1472 non-null   float64\n",
      " 39  FsAssists                 11826 non-null  float64\n",
      " 40  FsPenaltyGoals            11826 non-null  float64\n",
      " 41  FsMinutesPerGoal          11826 non-null  float64\n",
      " 42  Image                     14974 non-null  object \n",
      "dtypes: float64(26), int64(3), object(14)\n",
      "memory usage: 6.0+ MB\n"
     ]
    }
   ],
   "source": [
    "df.info()"
   ],
   "metadata": {
    "collapsed": false,
    "ExecuteTime": {
     "start_time": "2023-05-18T07:52:00.675232Z",
     "end_time": "2023-05-18T07:52:00.707157Z"
    }
   }
  },
  {
   "cell_type": "markdown",
   "source": [
    "## Datentypen anpassen"
   ],
   "metadata": {
    "collapsed": false
   }
  },
  {
   "cell_type": "code",
   "execution_count": 6,
   "outputs": [],
   "source": [
    "# 'ClubSince' und 'ContractUntil' als Datumsangaben einlesen\n",
    "df['ClubSince'] = pd.to_datetime(df['ClubSince'])\n",
    "df['ContractUntil'] = pd.to_datetime(df['ContractUntil'])"
   ],
   "metadata": {
    "collapsed": false,
    "ExecuteTime": {
     "start_time": "2023-05-18T07:52:00.695612Z",
     "end_time": "2023-05-18T07:52:00.707445Z"
    }
   }
  },
  {
   "cell_type": "code",
   "execution_count": 7,
   "outputs": [],
   "source": [
    "# 'ClubSince' und 'ContractUntil' als float Werte umwandeln (Differenz in Tagen ab finalem Scrapingtag 17.05.2023, da dann auch die Values ermittelt wurden)\n",
    "df['ClubSince'] = ((pd.to_datetime('2023-05-17') - df['ClubSince']) / np.timedelta64(1, 'D')).astype(float)\n",
    "df['ContractUntil'] = ((df['ContractUntil'] - pd.to_datetime('2023-05-17')) / np.timedelta64(1, 'D')).astype(float)"
   ],
   "metadata": {
    "collapsed": false,
    "ExecuteTime": {
     "start_time": "2023-05-18T07:52:00.701625Z",
     "end_time": "2023-05-18T07:52:00.707541Z"
    }
   }
  },
  {
   "cell_type": "code",
   "execution_count": 8,
   "outputs": [
    {
     "name": "stdout",
     "output_type": "stream",
     "text": [
      "<class 'pandas.core.frame.DataFrame'>\n",
      "Int64Index: 17890 entries, 0 to 18357\n",
      "Data columns (total 43 columns):\n",
      " #   Column                    Non-Null Count  Dtype  \n",
      "---  ------                    --------------  -----  \n",
      " 0   LeagueCountry             17890 non-null  object \n",
      " 1   League                    17890 non-null  object \n",
      " 2   NationalLeagueLevel       17890 non-null  object \n",
      " 3   Club                      17890 non-null  object \n",
      " 4   No                        17605 non-null  float64\n",
      " 5   Name                      17890 non-null  object \n",
      " 6   Value                     17890 non-null  float64\n",
      " 7   HighestValue              17890 non-null  float64\n",
      " 8   Age                       17888 non-null  float64\n",
      " 9   Height                    16811 non-null  float64\n",
      " 10  Nationality               17890 non-null  object \n",
      " 11  Foot                      16205 non-null  object \n",
      " 12  Position                  17890 non-null  object \n",
      " 13  Consultancy               14606 non-null  object \n",
      " 14  Supplier                  2757 non-null   object \n",
      " 15  ClubSince                 17855 non-null  float64\n",
      " 16  ContractUntil             16823 non-null  float64\n",
      " 17  Injury                    17890 non-null  int64  \n",
      " 18  InternationalTeam         9785 non-null   object \n",
      " 19  ActiveInternational       17890 non-null  int64  \n",
      " 20  FormerInternational       17890 non-null  int64  \n",
      " 21  InternationalGames        10801 non-null  float64\n",
      " 22  InternationalGoals        10801 non-null  float64\n",
      " 23  StartingElevenQuote       15832 non-null  float64\n",
      " 24  MinutesQuote              15832 non-null  float64\n",
      " 25  TwPenaltySavesQuote       1754 non-null   float64\n",
      " 26  FsGoalParticipationQuote  14078 non-null  float64\n",
      " 27  Games                     13298 non-null  float64\n",
      " 28  PointsPerGame             13298 non-null  float64\n",
      " 29  Goals                     13298 non-null  float64\n",
      " 30  OwnGoals                  13298 non-null  float64\n",
      " 31  Ins                       13298 non-null  float64\n",
      " 32  Outs                      13298 non-null  float64\n",
      " 33  YellowCards               13298 non-null  float64\n",
      " 34  YellowRedCards            13298 non-null  float64\n",
      " 35  RedCards                  13298 non-null  float64\n",
      " 36  Minutes                   13298 non-null  float64\n",
      " 37  TwGoalsConceded           1472 non-null   float64\n",
      " 38  TwCleanSheets             1472 non-null   float64\n",
      " 39  FsAssists                 11826 non-null  float64\n",
      " 40  FsPenaltyGoals            11826 non-null  float64\n",
      " 41  FsMinutesPerGoal          11826 non-null  float64\n",
      " 42  Image                     14974 non-null  object \n",
      "dtypes: float64(28), int64(3), object(12)\n",
      "memory usage: 6.0+ MB\n"
     ]
    }
   ],
   "source": [
    "df.info()"
   ],
   "metadata": {
    "collapsed": false,
    "ExecuteTime": {
     "start_time": "2023-05-18T07:52:00.704011Z",
     "end_time": "2023-05-18T07:52:00.721246Z"
    }
   }
  },
  {
   "cell_type": "markdown",
   "source": [
    "## Entferne Duplikate"
   ],
   "metadata": {
    "collapsed": false
   }
  },
  {
   "cell_type": "code",
   "execution_count": 9,
   "outputs": [],
   "source": [
    "# Doppelte Spieler aus dem Dataframe entfernen\n",
    "df = df.drop_duplicates(subset=['Name', 'Age', 'Nationality', 'Club'], keep='first')"
   ],
   "metadata": {
    "collapsed": false,
    "ExecuteTime": {
     "start_time": "2023-05-18T07:52:00.722187Z",
     "end_time": "2023-05-18T07:52:00.745187Z"
    }
   }
  },
  {
   "cell_type": "markdown",
   "source": [
    "## Fehlende Werte ersetzen (Objekte und logische Werte)"
   ],
   "metadata": {
    "collapsed": false
   }
  },
  {
   "cell_type": "code",
   "execution_count": 10,
   "outputs": [],
   "source": [
    "# Erstelle ein Dictionary mit den Positionen und ihren entsprechenden Kategorien\n",
    "pos_dict = {'Torwart': 'Torwart',\n",
    "            'Innenverteidiger': 'Abwehr',\n",
    "            'Linker Verteidiger': 'Abwehr',\n",
    "            'Rechter Verteidiger': 'Abwehr',\n",
    "            'Defensives Mittelfeld': 'Mittelfeld',\n",
    "            'Zentrales Mittelfeld': 'Mittelfeld',\n",
    "            'Linkes Mittelfeld': 'Mittelfeld',\n",
    "            'Offensives Mittelfeld': 'Mittelfeld',\n",
    "            'Linksaußen': 'Sturm',\n",
    "            'Rechtsaußen': 'Sturm',\n",
    "            'Mittelstürmer': 'Sturm',\n",
    "            'Rechtes Mittelfeld': 'Mittelfeld',\n",
    "            'Hängende Spitze': 'Mittelfeld',\n",
    "            'Mittelfeld': 'Mittelfeld',\n",
    "            'Abwehr': 'Abwehr',\n",
    "            'Sturm': 'Sturm'}\n",
    "\n",
    "# Erstelle eine neue Spalte mit der Positionskategorie\n",
    "df['PositionCategory'] = df['Position'].map(pos_dict)\n",
    "df['Cards'] = df['YellowCards'] + df['YellowRedCards'] + df['RedCards']"
   ],
   "metadata": {
    "collapsed": false,
    "ExecuteTime": {
     "start_time": "2023-05-18T07:52:00.731202Z",
     "end_time": "2023-05-18T07:52:00.748655Z"
    }
   }
  },
  {
   "cell_type": "code",
   "execution_count": 11,
   "outputs": [],
   "source": [
    "# Neue Spalte 'trending' erstellen\n",
    "df['Trending'] = df.apply(lambda row: 1 if row['Value'] == row['HighestValue'] else 0, axis=1)"
   ],
   "metadata": {
    "collapsed": false,
    "ExecuteTime": {
     "start_time": "2023-05-18T07:52:00.734408Z",
     "end_time": "2023-05-18T07:52:00.802951Z"
    }
   }
  },
  {
   "cell_type": "code",
   "execution_count": 12,
   "outputs": [],
   "source": [
    "df.to_csv('../data/df_clean.csv')"
   ],
   "metadata": {
    "collapsed": false,
    "ExecuteTime": {
     "start_time": "2023-05-18T07:52:00.803085Z",
     "end_time": "2023-05-18T07:52:00.981570Z"
    }
   }
  },
  {
   "cell_type": "markdown",
   "source": [
    "## Nicht verwendeter Code"
   ],
   "metadata": {
    "collapsed": false
   }
  },
  {
   "cell_type": "code",
   "execution_count": 13,
   "outputs": [],
   "source": [
    "df['InternationalTeam'].fillna('kein_internationales_Team', inplace=True)"
   ],
   "metadata": {
    "collapsed": false,
    "ExecuteTime": {
     "start_time": "2023-05-18T07:52:00.982126Z",
     "end_time": "2023-05-18T07:52:00.984219Z"
    }
   }
  },
  {
   "cell_type": "code",
   "execution_count": 14,
   "outputs": [],
   "source": [
    "df.loc[df['InternationalTeam'] == 'kein_internationales_Team', ['InternationalGames', 'InternationalGoals']] = 0"
   ],
   "metadata": {
    "collapsed": false,
    "ExecuteTime": {
     "start_time": "2023-05-18T07:52:00.987183Z",
     "end_time": "2023-05-18T07:52:00.988749Z"
    }
   }
  },
  {
   "cell_type": "code",
   "execution_count": 15,
   "outputs": [],
   "source": [
    "# Setze die Torwart-spezifischen Werte auf 0, wenn die Position des Spielers keine Torwart-Position ist und der jeweilige Wert NaN ist\n",
    "df.loc[(df['Position'] != 'Torwart') & (df['TwPenaltySavesQuote'].isna()), 'TwPenaltySavesQuote'] = 0\n",
    "df.loc[(df['Position'] != 'Torwart') & (df['TwGoalsConceded'].isna()), 'TwGoalsConceded'] = 0\n",
    "df.loc[(df['Position'] != 'Torwart') & (df['TwCleanSheets'].isna()), 'TwCleanSheets'] = 0"
   ],
   "metadata": {
    "collapsed": false,
    "ExecuteTime": {
     "start_time": "2023-05-18T07:52:00.990294Z",
     "end_time": "2023-05-18T07:52:00.993405Z"
    }
   }
  },
  {
   "cell_type": "code",
   "execution_count": 16,
   "outputs": [],
   "source": [
    "# Gruppieren Sie das DataFrame nach Position und berechnen Sie den Modus der Spieler-Nummern für jede Position\n",
    "mode_no_by_position = df.groupby('Position')['No'].agg(lambda x: x.mode()[0])\n",
    "\n",
    "# Funktion zum Imputieren von fehlenden Spieler-Nummern (No) basierend auf der Position\n",
    "def impute_no_by_position(row):\n",
    "    if pd.isnull(row['No']):\n",
    "        return mode_no_by_position[row['Position']]\n",
    "    else:\n",
    "        return row['No']\n",
    "\n",
    "# Anwenden der Funktion auf das gesamte DataFrame, um fehlende Spieler-Nummern zu imputieren\n",
    "df['No'] = df.apply(impute_no_by_position, axis=1)"
   ],
   "metadata": {
    "collapsed": false,
    "ExecuteTime": {
     "start_time": "2023-05-18T07:52:00.994866Z",
     "end_time": "2023-05-18T07:52:01.062838Z"
    }
   }
  },
  {
   "cell_type": "code",
   "execution_count": 17,
   "outputs": [],
   "source": [
    "# Setze NaN-Werte in Karten-Werten auf 0\n",
    "df['YellowCards'].fillna(0, inplace=True)\n",
    "df['YellowRedCards'].fillna(0, inplace=True)\n",
    "df['RedCards'].fillna(0, inplace=True)"
   ],
   "metadata": {
    "collapsed": false,
    "ExecuteTime": {
     "start_time": "2023-05-18T07:52:01.063333Z",
     "end_time": "2023-05-18T07:52:01.065994Z"
    }
   }
  },
  {
   "cell_type": "code",
   "execution_count": 18,
   "outputs": [
    {
     "name": "stdout",
     "output_type": "stream",
     "text": [
      "<class 'pandas.core.frame.DataFrame'>\n",
      "Int64Index: 17796 entries, 0 to 18357\n",
      "Data columns (total 46 columns):\n",
      " #   Column                    Non-Null Count  Dtype  \n",
      "---  ------                    --------------  -----  \n",
      " 0   LeagueCountry             17796 non-null  object \n",
      " 1   League                    17796 non-null  object \n",
      " 2   NationalLeagueLevel       17796 non-null  object \n",
      " 3   Club                      17796 non-null  object \n",
      " 4   No                        17796 non-null  float64\n",
      " 5   Name                      17796 non-null  object \n",
      " 6   Value                     17796 non-null  float64\n",
      " 7   HighestValue              17796 non-null  float64\n",
      " 8   Age                       17794 non-null  float64\n",
      " 9   Height                    16717 non-null  float64\n",
      " 10  Nationality               17796 non-null  object \n",
      " 11  Foot                      16124 non-null  object \n",
      " 12  Position                  17796 non-null  object \n",
      " 13  Consultancy               14524 non-null  object \n",
      " 14  Supplier                  2739 non-null   object \n",
      " 15  ClubSince                 17761 non-null  float64\n",
      " 16  ContractUntil             16740 non-null  float64\n",
      " 17  Injury                    17796 non-null  int64  \n",
      " 18  InternationalTeam         17796 non-null  object \n",
      " 19  ActiveInternational       17796 non-null  int64  \n",
      " 20  FormerInternational       17796 non-null  int64  \n",
      " 21  InternationalGames        17796 non-null  float64\n",
      " 22  InternationalGoals        17796 non-null  float64\n",
      " 23  StartingElevenQuote       15759 non-null  float64\n",
      " 24  MinutesQuote              15759 non-null  float64\n",
      " 25  TwPenaltySavesQuote       17509 non-null  float64\n",
      " 26  FsGoalParticipationQuote  14017 non-null  float64\n",
      " 27  Games                     13229 non-null  float64\n",
      " 28  PointsPerGame             13229 non-null  float64\n",
      " 29  Goals                     13229 non-null  float64\n",
      " 30  OwnGoals                  13229 non-null  float64\n",
      " 31  Ins                       13229 non-null  float64\n",
      " 32  Outs                      13229 non-null  float64\n",
      " 33  YellowCards               17796 non-null  float64\n",
      " 34  YellowRedCards            17796 non-null  float64\n",
      " 35  RedCards                  17796 non-null  float64\n",
      " 36  Minutes                   13229 non-null  float64\n",
      " 37  TwGoalsConceded           17228 non-null  float64\n",
      " 38  TwCleanSheets             17228 non-null  float64\n",
      " 39  FsAssists                 11768 non-null  float64\n",
      " 40  FsPenaltyGoals            11768 non-null  float64\n",
      " 41  FsMinutesPerGoal          11768 non-null  float64\n",
      " 42  Image                     14885 non-null  object \n",
      " 43  PositionCategory          17796 non-null  object \n",
      " 44  Cards                     13229 non-null  float64\n",
      " 45  Trending                  17796 non-null  int64  \n",
      "dtypes: float64(29), int64(4), object(13)\n",
      "memory usage: 6.4+ MB\n"
     ]
    }
   ],
   "source": [
    "# Objekte haben keine fehlenden Werte mehr\n",
    "df.info()"
   ],
   "metadata": {
    "collapsed": false,
    "ExecuteTime": {
     "start_time": "2023-05-18T07:52:01.066566Z",
     "end_time": "2023-05-18T07:52:01.099555Z"
    }
   }
  },
  {
   "cell_type": "code",
   "execution_count": 19,
   "outputs": [
    {
     "name": "stdout",
     "output_type": "stream",
     "text": [
      "LeagueCountry                0.000000\n",
      "League                       0.000000\n",
      "NationalLeagueLevel          0.000000\n",
      "Club                         0.000000\n",
      "No                           0.000000\n",
      "Name                         0.000000\n",
      "Value                        0.000000\n",
      "HighestValue                 0.000000\n",
      "Age                          0.011238\n",
      "Height                       6.063160\n",
      "Nationality                  0.000000\n",
      "Foot                         9.395370\n",
      "Position                     0.000000\n",
      "Consultancy                 18.386154\n",
      "Supplier                    84.608901\n",
      "ClubSince                    0.196673\n",
      "ContractUntil                5.933918\n",
      "Injury                       0.000000\n",
      "InternationalTeam            0.000000\n",
      "ActiveInternational          0.000000\n",
      "FormerInternational          0.000000\n",
      "InternationalGames           0.000000\n",
      "InternationalGoals           0.000000\n",
      "StartingElevenQuote         11.446392\n",
      "MinutesQuote                11.446392\n",
      "TwPenaltySavesQuote          1.612722\n",
      "FsGoalParticipationQuote    21.235109\n",
      "Games                       25.663070\n",
      "PointsPerGame               25.663070\n",
      "Goals                       25.663070\n",
      "OwnGoals                    25.663070\n",
      "Ins                         25.663070\n",
      "Outs                        25.663070\n",
      "YellowCards                  0.000000\n",
      "YellowRedCards               0.000000\n",
      "RedCards                     0.000000\n",
      "Minutes                     25.663070\n",
      "TwGoalsConceded              3.191728\n",
      "TwCleanSheets                3.191728\n",
      "FsAssists                   33.872780\n",
      "FsPenaltyGoals              33.872780\n",
      "FsMinutesPerGoal            33.872780\n",
      "Image                       16.357608\n",
      "PositionCategory             0.000000\n",
      "Cards                       25.663070\n",
      "Trending                     0.000000\n",
      "dtype: float64\n"
     ]
    }
   ],
   "source": [
    "# Fehlende Werte in Prozent pro Variable\n",
    "print(df.isnull().sum() / len(df) * 100)"
   ],
   "metadata": {
    "collapsed": false,
    "ExecuteTime": {
     "start_time": "2023-05-18T07:52:01.083844Z",
     "end_time": "2023-05-18T07:52:01.102835Z"
    }
   }
  },
  {
   "cell_type": "code",
   "execution_count": 20,
   "outputs": [],
   "source": [
    "# Manuelles Mapping erstellen\n",
    "league_level_mapping = {\n",
    "    \"1.Liga\": 1,\n",
    "    \"2.Liga\": 2,\n",
    "    \"3.Liga\": 3,\n",
    "    \"4.Liga\": 4,\n",
    "    \"5.Liga\": 5,\n",
    "    \"Reserveliga\": 6,\n",
    "    \"Jugendliga\": 6,\n",
    "    \"Playoff/Relegation\": 7\n",
    "}\n",
    "\n",
    "# Ersetzen Sie die Werte in der Spalte \"NationalLeagueLevel\" basierend auf dem manuellen Mapping\n",
    "df['NationalLeagueLevelCategory'] = df['NationalLeagueLevel'].map(league_level_mapping)"
   ],
   "metadata": {
    "collapsed": false,
    "ExecuteTime": {
     "start_time": "2023-05-18T07:52:01.101287Z",
     "end_time": "2023-05-18T07:52:01.105488Z"
    }
   }
  },
  {
   "cell_type": "code",
   "execution_count": 21,
   "outputs": [
    {
     "name": "stdout",
     "output_type": "stream",
     "text": [
      "                                     NullValues  Players  NullValuesRelative\n",
      "LeagueCountry League                                                        \n",
      "Türkei        Süper Lig                     517      517          100.000000\n",
      "Niederlande   Eredivisie                    483      483          100.000000\n",
      "Griechenland  Super League 2                516      724           71.270718\n",
      "Schottland    Championship                  155      239           64.853556\n",
      "Norwegen      Eliteserien                   260      412           63.106796\n",
      "Schweiz       Promotion League              247      392           63.010204\n",
      "Spanien       LaLiga2                       315      533           59.099437\n",
      "England       League One                    343      625           54.880000\n",
      "Schweden      Allsvenskan                   196      389           50.385604\n",
      "Tschechien    Fortuna Liga                  149      403           36.972705\n",
      "Dänemark      Superligaen                    98      291           33.676976\n",
      "Portugal      Liga Sabseg                   150      464           32.327586\n",
      "Griechenland  Super League 1                121      403           30.024814\n",
      "Kroatien      SuperSport HNL                 54      275           19.636364\n",
      "Serbien       Super liga Srbije              76      400           19.000000\n",
      "Rumänien      SuperLiga                      86      468           18.376068\n",
      "Schweiz       Challenge League               44      267           16.479401\n",
      "Österreich    2. Liga                        67      408           16.421569\n",
      "Portugal      Liga Portugal                  71      484           14.669421\n",
      "England       Championship                   78      627           12.440191\n",
      "Belgien       Challenger Pro League          35      306           11.437908\n",
      "Frankreich    Ligue 2                        58      518           11.196911\n",
      "Schottland    Premiership                    34      313           10.862620\n",
      "Österreich    Bundesliga                     36      349           10.315186\n",
      "Polen         Ekstraklasa                    53      516           10.271318\n",
      "Türkei        1.Lig                          33      536            6.156716\n",
      "Schweiz       Super League                   17      277            6.137184\n",
      "Belgien       Jupiler Pro League             23      476            4.831933\n",
      "Deutschland   Bundesliga                     21      497            4.225352\n",
      "Frankreich    Ligue 1                        22      522            4.214559\n",
      "Deutschland   2. Bundesliga                  21      514            4.085603\n",
      "Italien       Serie B                        23      575            4.000000\n",
      "England       Premier League                 18      532            3.383459\n",
      "Russland      Premier Liga                    8      403            1.985112\n",
      "Deutschland   3. Liga                        10      543            1.841621\n",
      "Spanien       LaLiga                          7      485            1.443299\n",
      "Italien       Serie A                         8      557            1.436266\n",
      "Ukraine       Premier Liga                    5      422            1.184834\n",
      "Russland      1.Division                      5      474            1.054852\n"
     ]
    }
   ],
   "source": [
    "null_values = df['Minutes'].isnull().groupby([df['LeagueCountry'], df['League']]).sum().to_frame()\n",
    "size_values = df.groupby(['LeagueCountry', 'League']).size()\n",
    "\n",
    "null_values['Players'] = size_values\n",
    "null_values = null_values.rename(columns={'Minutes': 'NullValues'})\n",
    "null_values['NullValuesRelative'] = null_values['NullValues'] / null_values['Players'] * 100\n",
    "\n",
    "null_values = null_values[null_values['Players'] > 20]  # exclude minor leagues\n",
    "null_values = null_values.sort_values('NullValuesRelative', ascending=False)\n",
    "\n",
    "print(null_values)"
   ],
   "metadata": {
    "collapsed": false,
    "ExecuteTime": {
     "start_time": "2023-05-18T07:52:01.104607Z",
     "end_time": "2023-05-18T07:52:01.112510Z"
    }
   }
  },
  {
   "cell_type": "code",
   "execution_count": 22,
   "outputs": [],
   "source": [
    "# Ersetze NaN-Werte mit 'Unbekannt'\n",
    "df['Nationality'].fillna('unbekannt', inplace=True)\n",
    "df['Foot'].fillna('unbekannt', inplace=True)\n",
    "df['Position'].fillna('unbekannt', inplace=True)\n",
    "df['Supplier'].fillna('unbekannt', inplace=True)\n",
    "df['Consultancy'].fillna('unbekannt', inplace=True)"
   ],
   "metadata": {
    "collapsed": false,
    "ExecuteTime": {
     "start_time": "2023-05-18T07:52:01.114073Z",
     "end_time": "2023-05-18T07:52:01.117518Z"
    }
   }
  }
 ],
 "metadata": {
  "kernelspec": {
   "display_name": "Python 3",
   "language": "python",
   "name": "python3"
  },
  "language_info": {
   "codemirror_mode": {
    "name": "ipython",
    "version": 2
   },
   "file_extension": ".py",
   "mimetype": "text/x-python",
   "name": "python",
   "nbconvert_exporter": "python",
   "pygments_lexer": "ipython2",
   "version": "2.7.6"
  }
 },
 "nbformat": 4,
 "nbformat_minor": 0
}
