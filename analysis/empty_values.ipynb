{
 "cells": [
  {
   "cell_type": "code",
   "execution_count": 24,
   "metadata": {
    "collapsed": true,
    "ExecuteTime": {
     "start_time": "2023-05-08T12:48:44.894069Z",
     "end_time": "2023-05-08T12:48:44.963412Z"
    }
   },
   "outputs": [],
   "source": [
    "import pandas as pd\n",
    "import numpy as np"
   ]
  },
  {
   "cell_type": "code",
   "execution_count": 25,
   "outputs": [
    {
     "name": "stdout",
     "output_type": "stream",
     "text": [
      "<class 'pandas.core.frame.DataFrame'>\n",
      "RangeIndex: 18335 entries, 0 to 18334\n",
      "Data columns (total 48 columns):\n",
      " #   Column                    Non-Null Count  Dtype  \n",
      "---  ------                    --------------  -----  \n",
      " 0   LeagueCountry             18335 non-null  object \n",
      " 1   League                    18238 non-null  object \n",
      " 2   NationalLeagueLevel       18234 non-null  object \n",
      " 3   Club                      18331 non-null  object \n",
      " 4   No                        17905 non-null  float64\n",
      " 5   Name                      18331 non-null  object \n",
      " 6   Value                     17899 non-null  float64\n",
      " 7   ValueLastUpdate           17899 non-null  object \n",
      " 8   HighestValue              18004 non-null  float64\n",
      " 9   HighestValueDate          18004 non-null  object \n",
      " 10  ValueCurrency             17899 non-null  object \n",
      " 11  Age                       18328 non-null  float64\n",
      " 12  Height                    17052 non-null  float64\n",
      " 13  Nationality               18331 non-null  object \n",
      " 14  Foot                      16435 non-null  object \n",
      " 15  Position                  18331 non-null  object \n",
      " 16  Consultancy               14780 non-null  object \n",
      " 17  Supplier                  2775 non-null   object \n",
      " 18  ClubSince                 18257 non-null  object \n",
      " 19  ContractUntil             17149 non-null  object \n",
      " 20  Injury                    18335 non-null  int64  \n",
      " 21  InternationalTeam         12207 non-null  object \n",
      " 22  ActiveInternational       18335 non-null  int64  \n",
      " 23  FormerInternational       18335 non-null  int64  \n",
      " 24  InternationalGames        12207 non-null  float64\n",
      " 25  InternationalGoals        12207 non-null  float64\n",
      " 26  StartingElevenQuote       16094 non-null  float64\n",
      " 27  MinutesQuote              16094 non-null  float64\n",
      " 28  TwPenaltySavesQuote       1783 non-null   float64\n",
      " 29  FsGoalParticipationQuote  14311 non-null  float64\n",
      " 30  Games                     13346 non-null  float64\n",
      " 31  PointsPerGame             12577 non-null  float64\n",
      " 32  Goals                     13346 non-null  float64\n",
      " 33  OwnGoals                  13346 non-null  float64\n",
      " 34  Ins                       13346 non-null  float64\n",
      " 35  Outs                      13346 non-null  float64\n",
      " 36  YellowCards               13346 non-null  float64\n",
      " 37  YellowRedCards            13346 non-null  float64\n",
      " 38  RedCards                  13346 non-null  float64\n",
      " 39  Minutes                   12528 non-null  float64\n",
      " 40  TwGoalsConceded           1478 non-null   float64\n",
      " 41  TwCleanSheets             1478 non-null   float64\n",
      " 42  FsAssists                 11868 non-null  float64\n",
      " 43  FsPenaltyGoals            11868 non-null  float64\n",
      " 44  FsMinutesPerGoal          6147 non-null   float64\n",
      " 45  Instagram                 7148 non-null   object \n",
      " 46  Source                    18335 non-null  object \n",
      " 47  ScrapingTime              18335 non-null  int64  \n",
      "dtypes: float64(26), int64(4), object(18)\n",
      "memory usage: 6.7+ MB\n"
     ]
    }
   ],
   "source": [
    "df = pd.read_csv('../scraping/cleansed_data/players_20230425190937.csv', sep=';')\n",
    "\n",
    "# Erstelle eine Kopie des Dataframes\n",
    "df_copy = df.copy()\n",
    "df.info()"
   ],
   "metadata": {
    "collapsed": false,
    "ExecuteTime": {
     "start_time": "2023-05-08T12:48:44.909806Z",
     "end_time": "2023-05-08T12:48:45.131744Z"
    }
   }
  },
  {
   "cell_type": "markdown",
   "source": [
    "## Entfernen von Spalten und Zeilen"
   ],
   "metadata": {
    "collapsed": false
   }
  },
  {
   "cell_type": "code",
   "execution_count": 26,
   "outputs": [],
   "source": [
    "# Entferne Source und ScrapingTime\n",
    "df = df.drop(['Source', 'ScrapingTime'], axis=1)"
   ],
   "metadata": {
    "collapsed": false,
    "ExecuteTime": {
     "start_time": "2023-05-08T12:48:45.130726Z",
     "end_time": "2023-05-08T12:48:45.142554Z"
    }
   }
  },
  {
   "cell_type": "code",
   "execution_count": 27,
   "outputs": [],
   "source": [
    "# Entferne ValueLastUpdate und HighestValueDate\n",
    "df = df.drop(['ValueLastUpdate', 'HighestValueDate'], axis=1)"
   ],
   "metadata": {
    "collapsed": false,
    "ExecuteTime": {
     "start_time": "2023-05-08T12:48:45.153335Z",
     "end_time": "2023-05-08T12:48:45.195858Z"
    }
   }
  },
  {
   "cell_type": "code",
   "execution_count": 28,
   "outputs": [],
   "source": [
    "# Entferne ValueCurrency da immer Euro\n",
    "df = df.drop(['ValueCurrency'], axis=1)"
   ],
   "metadata": {
    "collapsed": false,
    "ExecuteTime": {
     "start_time": "2023-05-08T12:48:45.172086Z",
     "end_time": "2023-05-08T12:48:45.211543Z"
    }
   }
  },
  {
   "cell_type": "code",
   "execution_count": 29,
   "outputs": [],
   "source": [
    "# Lösche alle Spieler ohne Value\n",
    "df = df[df['Value'].notnull()]"
   ],
   "metadata": {
    "collapsed": false,
    "ExecuteTime": {
     "start_time": "2023-05-08T12:48:45.187203Z",
     "end_time": "2023-05-08T12:48:45.213425Z"
    }
   }
  },
  {
   "cell_type": "code",
   "execution_count": 30,
   "outputs": [
    {
     "name": "stdout",
     "output_type": "stream",
     "text": [
      "<class 'pandas.core.frame.DataFrame'>\n",
      "Int64Index: 17899 entries, 0 to 18334\n",
      "Data columns (total 43 columns):\n",
      " #   Column                    Non-Null Count  Dtype  \n",
      "---  ------                    --------------  -----  \n",
      " 0   LeagueCountry             17899 non-null  object \n",
      " 1   League                    17899 non-null  object \n",
      " 2   NationalLeagueLevel       17899 non-null  object \n",
      " 3   Club                      17899 non-null  object \n",
      " 4   No                        17590 non-null  float64\n",
      " 5   Name                      17899 non-null  object \n",
      " 6   Value                     17899 non-null  float64\n",
      " 7   HighestValue              17899 non-null  float64\n",
      " 8   Age                       17896 non-null  float64\n",
      " 9   Height                    16809 non-null  float64\n",
      " 10  Nationality               17899 non-null  object \n",
      " 11  Foot                      16201 non-null  object \n",
      " 12  Position                  17899 non-null  object \n",
      " 13  Consultancy               14580 non-null  object \n",
      " 14  Supplier                  2753 non-null   object \n",
      " 15  ClubSince                 17864 non-null  object \n",
      " 16  ContractUntil             16816 non-null  object \n",
      " 17  Injury                    17899 non-null  int64  \n",
      " 18  InternationalTeam         12047 non-null  object \n",
      " 19  ActiveInternational       17899 non-null  int64  \n",
      " 20  FormerInternational       17899 non-null  int64  \n",
      " 21  InternationalGames        12047 non-null  float64\n",
      " 22  InternationalGoals        12047 non-null  float64\n",
      " 23  StartingElevenQuote       15847 non-null  float64\n",
      " 24  MinutesQuote              15847 non-null  float64\n",
      " 25  TwPenaltySavesQuote       1749 non-null   float64\n",
      " 26  FsGoalParticipationQuote  14098 non-null  float64\n",
      " 27  Games                     13297 non-null  float64\n",
      " 28  PointsPerGame             12538 non-null  float64\n",
      " 29  Goals                     13297 non-null  float64\n",
      " 30  OwnGoals                  13297 non-null  float64\n",
      " 31  Ins                       13297 non-null  float64\n",
      " 32  Outs                      13297 non-null  float64\n",
      " 33  YellowCards               13297 non-null  float64\n",
      " 34  YellowRedCards            13297 non-null  float64\n",
      " 35  RedCards                  13297 non-null  float64\n",
      " 36  Minutes                   12489 non-null  float64\n",
      " 37  TwGoalsConceded           1470 non-null   float64\n",
      " 38  TwCleanSheets             1470 non-null   float64\n",
      " 39  FsAssists                 11827 non-null  float64\n",
      " 40  FsPenaltyGoals            11827 non-null  float64\n",
      " 41  FsMinutesPerGoal          6134 non-null   float64\n",
      " 42  Instagram                 7121 non-null   object \n",
      "dtypes: float64(26), int64(3), object(14)\n",
      "memory usage: 6.0+ MB\n"
     ]
    }
   ],
   "source": [
    "df.info()"
   ],
   "metadata": {
    "collapsed": false,
    "ExecuteTime": {
     "start_time": "2023-05-08T12:48:45.226402Z",
     "end_time": "2023-05-08T12:48:45.279848Z"
    }
   }
  },
  {
   "cell_type": "markdown",
   "source": [
    "## Datentypen anpassen"
   ],
   "metadata": {
    "collapsed": false
   }
  },
  {
   "cell_type": "code",
   "execution_count": 31,
   "outputs": [],
   "source": [
    "# 'ClubSince' und 'ContractUntil' als Datumsangaben einlesen\n",
    "df['ClubSince'] = pd.to_datetime(df['ClubSince'])\n",
    "df['ContractUntil'] = pd.to_datetime(df['ContractUntil'])"
   ],
   "metadata": {
    "collapsed": false,
    "ExecuteTime": {
     "start_time": "2023-05-08T12:48:45.248320Z",
     "end_time": "2023-05-08T12:48:45.281352Z"
    }
   }
  },
  {
   "cell_type": "code",
   "execution_count": 32,
   "outputs": [],
   "source": [
    "# 'ClubSince' und 'ContractUntil' als float Werte umwandeln (Differenz in Tagen ab Scrapingtag 11.04.2023, da dann auch die Values ermittelt wurden)\n",
    "df['ClubSince'] = ((pd.to_datetime('2023-04-11') - df['ClubSince']) / np.timedelta64(1, 'D')).astype(float)\n",
    "df['ContractUntil'] = ((df['ContractUntil'] - pd.to_datetime('2023-04-11')) / np.timedelta64(1, 'D')).astype(float)"
   ],
   "metadata": {
    "collapsed": false,
    "ExecuteTime": {
     "start_time": "2023-05-08T12:48:45.281352Z",
     "end_time": "2023-05-08T12:48:45.296930Z"
    }
   }
  },
  {
   "cell_type": "code",
   "execution_count": 33,
   "outputs": [
    {
     "name": "stdout",
     "output_type": "stream",
     "text": [
      "<class 'pandas.core.frame.DataFrame'>\n",
      "Int64Index: 17899 entries, 0 to 18334\n",
      "Data columns (total 43 columns):\n",
      " #   Column                    Non-Null Count  Dtype  \n",
      "---  ------                    --------------  -----  \n",
      " 0   LeagueCountry             17899 non-null  object \n",
      " 1   League                    17899 non-null  object \n",
      " 2   NationalLeagueLevel       17899 non-null  object \n",
      " 3   Club                      17899 non-null  object \n",
      " 4   No                        17590 non-null  float64\n",
      " 5   Name                      17899 non-null  object \n",
      " 6   Value                     17899 non-null  float64\n",
      " 7   HighestValue              17899 non-null  float64\n",
      " 8   Age                       17896 non-null  float64\n",
      " 9   Height                    16809 non-null  float64\n",
      " 10  Nationality               17899 non-null  object \n",
      " 11  Foot                      16201 non-null  object \n",
      " 12  Position                  17899 non-null  object \n",
      " 13  Consultancy               14580 non-null  object \n",
      " 14  Supplier                  2753 non-null   object \n",
      " 15  ClubSince                 17864 non-null  float64\n",
      " 16  ContractUntil             16816 non-null  float64\n",
      " 17  Injury                    17899 non-null  int64  \n",
      " 18  InternationalTeam         12047 non-null  object \n",
      " 19  ActiveInternational       17899 non-null  int64  \n",
      " 20  FormerInternational       17899 non-null  int64  \n",
      " 21  InternationalGames        12047 non-null  float64\n",
      " 22  InternationalGoals        12047 non-null  float64\n",
      " 23  StartingElevenQuote       15847 non-null  float64\n",
      " 24  MinutesQuote              15847 non-null  float64\n",
      " 25  TwPenaltySavesQuote       1749 non-null   float64\n",
      " 26  FsGoalParticipationQuote  14098 non-null  float64\n",
      " 27  Games                     13297 non-null  float64\n",
      " 28  PointsPerGame             12538 non-null  float64\n",
      " 29  Goals                     13297 non-null  float64\n",
      " 30  OwnGoals                  13297 non-null  float64\n",
      " 31  Ins                       13297 non-null  float64\n",
      " 32  Outs                      13297 non-null  float64\n",
      " 33  YellowCards               13297 non-null  float64\n",
      " 34  YellowRedCards            13297 non-null  float64\n",
      " 35  RedCards                  13297 non-null  float64\n",
      " 36  Minutes                   12489 non-null  float64\n",
      " 37  TwGoalsConceded           1470 non-null   float64\n",
      " 38  TwCleanSheets             1470 non-null   float64\n",
      " 39  FsAssists                 11827 non-null  float64\n",
      " 40  FsPenaltyGoals            11827 non-null  float64\n",
      " 41  FsMinutesPerGoal          6134 non-null   float64\n",
      " 42  Instagram                 7121 non-null   object \n",
      "dtypes: float64(28), int64(3), object(12)\n",
      "memory usage: 6.0+ MB\n"
     ]
    }
   ],
   "source": [
    "df.info()"
   ],
   "metadata": {
    "collapsed": false,
    "ExecuteTime": {
     "start_time": "2023-05-08T12:48:45.296930Z",
     "end_time": "2023-05-08T12:48:45.398145Z"
    }
   }
  },
  {
   "cell_type": "markdown",
   "source": [
    "## Entferne Dublikate"
   ],
   "metadata": {
    "collapsed": false
   }
  },
  {
   "cell_type": "code",
   "execution_count": 34,
   "outputs": [],
   "source": [
    "# Doppelte Spieler aus dem Dataframe entfernen\n",
    "df = df.drop_duplicates(subset=['Name', 'Age', 'Nationality', 'Club'], keep='first')"
   ],
   "metadata": {
    "collapsed": false,
    "ExecuteTime": {
     "start_time": "2023-05-08T12:48:45.339911Z",
     "end_time": "2023-05-08T12:48:45.399679Z"
    }
   }
  },
  {
   "cell_type": "markdown",
   "source": [
    "## Fehlende Werte ersetzen (Objekte und logische Werte)"
   ],
   "metadata": {
    "collapsed": false
   }
  },
  {
   "cell_type": "code",
   "execution_count": 35,
   "outputs": [],
   "source": [
    "# Ersetze NaN-Werte mit 'Unbekannt'\n",
    "df['Nationality'].fillna('unbekannt', inplace=True)\n",
    "df['Foot'].fillna('unbekannt', inplace=True)\n",
    "df['Position'].fillna('unbekannt', inplace=True)\n",
    "df['Supplier'].fillna('unbekannt', inplace=True)\n",
    "df['Consultancy'].fillna('unbekannt', inplace=True)"
   ],
   "metadata": {
    "collapsed": false,
    "ExecuteTime": {
     "start_time": "2023-05-08T12:48:45.383900Z",
     "end_time": "2023-05-08T12:48:45.399679Z"
    }
   }
  },
  {
   "cell_type": "code",
   "execution_count": 36,
   "outputs": [],
   "source": [
    "# Erstelle ein Dictionary mit den Positionen und ihren entsprechenden Kategorien\n",
    "pos_dict = {'Torwart': 'Torwart',\n",
    "            'Innenverteidiger': 'Abwehr',\n",
    "            'Linker Verteidiger': 'Abwehr',\n",
    "            'Rechter Verteidiger': 'Abwehr',\n",
    "            'Defensives Mittelfeld': 'Mittelfeld',\n",
    "            'Zentrales Mittelfeld': 'Mittelfeld',\n",
    "            'Linkes Mittelfeld': 'Mittelfeld',\n",
    "            'Offensives Mittelfeld': 'Mittelfeld',\n",
    "            'Linksaußen': 'Sturm',\n",
    "            'Rechtsaußen': 'Sturm',\n",
    "            'Mittelstürmer': 'Sturm',\n",
    "            'Rechtes Mittelfeld': 'Mittelfeld',\n",
    "            'Hängende Spitze': 'Mittelfeld',\n",
    "            'Mittelfeld': 'Mittelfeld',\n",
    "            'Abwehr': 'Abwehr',\n",
    "            'Sturm': 'Sturm'}\n",
    "\n",
    "# Erstelle eine neue Spalte mit der Positionskategorie\n",
    "df['PositionCategory'] = df['Position'].map(pos_dict)"
   ],
   "metadata": {
    "collapsed": false,
    "ExecuteTime": {
     "start_time": "2023-05-08T12:48:45.391484Z",
     "end_time": "2023-05-08T12:48:45.418060Z"
    }
   }
  },
  {
   "cell_type": "code",
   "execution_count": 37,
   "outputs": [],
   "source": [
    "df['InternationalTeam'].fillna('kein_internationales_Team', inplace=True)"
   ],
   "metadata": {
    "collapsed": false,
    "ExecuteTime": {
     "start_time": "2023-05-08T12:48:45.409799Z",
     "end_time": "2023-05-08T12:48:45.474330Z"
    }
   }
  },
  {
   "cell_type": "code",
   "execution_count": 38,
   "outputs": [],
   "source": [
    "df.loc[df['InternationalTeam'] == 'kein_internationales_Team', ['InternationalGames', 'InternationalGoals']] = 0"
   ],
   "metadata": {
    "collapsed": false,
    "ExecuteTime": {
     "start_time": "2023-05-08T12:48:45.429122Z",
     "end_time": "2023-05-08T12:48:45.492007Z"
    }
   }
  },
  {
   "cell_type": "code",
   "execution_count": 39,
   "outputs": [],
   "source": [
    "df['Instagram'].fillna('kein_instagram', inplace=True)\n",
    "# Alle Werte in der Spalte 'Instagram' ändern, die nicht 'kein_instagram' sind\n",
    "df['Instagram'] = df['Instagram'].apply(lambda x: 'hat_instagram' if x != 'kein_instagram' else x)"
   ],
   "metadata": {
    "collapsed": false,
    "ExecuteTime": {
     "start_time": "2023-05-08T12:48:45.439130Z",
     "end_time": "2023-05-08T12:48:45.492007Z"
    }
   }
  },
  {
   "cell_type": "code",
   "execution_count": 40,
   "outputs": [],
   "source": [
    "# Setze die Torwart-spezifischen Werte auf 0, wenn die Position des Spielers keine Torwart-Position ist und der jeweilige Wert NaN ist\n",
    "df.loc[(df['Position'] != 'Torwart') & (df['TwPenaltySavesQuote'].isna()), 'TwPenaltySavesQuote'] = 0\n",
    "df.loc[(df['Position'] != 'Torwart') & (df['TwGoalsConceded'].isna()), 'TwGoalsConceded'] = 0\n",
    "df.loc[(df['Position'] != 'Torwart') & (df['TwCleanSheets'].isna()), 'TwCleanSheets'] = 0"
   ],
   "metadata": {
    "collapsed": false,
    "ExecuteTime": {
     "start_time": "2023-05-08T12:48:45.458696Z",
     "end_time": "2023-05-08T12:48:45.492007Z"
    }
   }
  },
  {
   "cell_type": "code",
   "execution_count": 41,
   "outputs": [],
   "source": [
    "# Gruppieren Sie das DataFrame nach Position und berechnen Sie den Modus der Spieler-Nummern für jede Position\n",
    "mode_no_by_position = df.groupby('Position')['No'].agg(lambda x: x.mode()[0])\n",
    "\n",
    "# Funktion zum Imputieren von fehlenden Spieler-Nummern (No) basierend auf der Position\n",
    "def impute_no_by_position(row):\n",
    "    if pd.isnull(row['No']):\n",
    "        return mode_no_by_position[row['Position']]\n",
    "    else:\n",
    "        return row['No']\n",
    "\n",
    "# Anwenden der Funktion auf das gesamte DataFrame, um fehlende Spieler-Nummern zu imputieren\n",
    "df['No'] = df.apply(impute_no_by_position, axis=1)"
   ],
   "metadata": {
    "collapsed": false,
    "ExecuteTime": {
     "start_time": "2023-05-08T12:48:45.474330Z",
     "end_time": "2023-05-08T12:48:45.657287Z"
    }
   }
  },
  {
   "cell_type": "code",
   "execution_count": 42,
   "outputs": [],
   "source": [
    "# Manuelles Mapping erstellen\n",
    "league_level_mapping = {\n",
    "    \"1.Liga\": 1,\n",
    "    \"2.Liga\": 2,\n",
    "    \"3.Liga\": 3,\n",
    "    \"4.Liga\": 4,\n",
    "    \"5.Liga\": 5,\n",
    "    \"Reserveliga\": 6,\n",
    "    \"Jugendliga\": 6,\n",
    "    \"Playoff/Relegation\": 7\n",
    "}\n",
    "\n",
    "# Ersetzen Sie die Werte in der Spalte \"NationalLeagueLevel\" basierend auf dem manuellen Mapping\n",
    "df['NationalLeagueLevelCategory'] = df['NationalLeagueLevel'].map(league_level_mapping)"
   ],
   "metadata": {
    "collapsed": false,
    "ExecuteTime": {
     "start_time": "2023-05-08T12:48:45.657287Z",
     "end_time": "2023-05-08T12:48:45.672962Z"
    }
   }
  },
  {
   "cell_type": "code",
   "execution_count": 43,
   "outputs": [],
   "source": [
    "# Neue Spalte 'trending' erstellen\n",
    "df['Trending'] = df.apply(lambda row: 1 if row['Value'] == row['HighestValue'] else 0, axis=1)"
   ],
   "metadata": {
    "collapsed": false,
    "ExecuteTime": {
     "start_time": "2023-05-08T12:48:45.680597Z",
     "end_time": "2023-05-08T12:48:45.842707Z"
    }
   }
  },
  {
   "cell_type": "code",
   "execution_count": 44,
   "outputs": [],
   "source": [
    "# Setze NaN-Werte in Karten-Werten auf 0\n",
    "df['YellowCards'].fillna(0, inplace=True)\n",
    "df['YellowRedCards'].fillna(0, inplace=True)\n",
    "df['RedCards'].fillna(0, inplace=True)"
   ],
   "metadata": {
    "collapsed": false,
    "ExecuteTime": {
     "start_time": "2023-05-08T12:48:45.842707Z",
     "end_time": "2023-05-08T12:48:45.856559Z"
    }
   }
  },
  {
   "cell_type": "code",
   "execution_count": 45,
   "outputs": [
    {
     "name": "stdout",
     "output_type": "stream",
     "text": [
      "<class 'pandas.core.frame.DataFrame'>\n",
      "Int64Index: 17803 entries, 0 to 18334\n",
      "Data columns (total 46 columns):\n",
      " #   Column                       Non-Null Count  Dtype  \n",
      "---  ------                       --------------  -----  \n",
      " 0   LeagueCountry                17803 non-null  object \n",
      " 1   League                       17803 non-null  object \n",
      " 2   NationalLeagueLevel          17803 non-null  object \n",
      " 3   Club                         17803 non-null  object \n",
      " 4   No                           17803 non-null  float64\n",
      " 5   Name                         17803 non-null  object \n",
      " 6   Value                        17803 non-null  float64\n",
      " 7   HighestValue                 17803 non-null  float64\n",
      " 8   Age                          17800 non-null  float64\n",
      " 9   Height                       16713 non-null  float64\n",
      " 10  Nationality                  17803 non-null  object \n",
      " 11  Foot                         17803 non-null  object \n",
      " 12  Position                     17803 non-null  object \n",
      " 13  Consultancy                  17803 non-null  object \n",
      " 14  Supplier                     17803 non-null  object \n",
      " 15  ClubSince                    17768 non-null  float64\n",
      " 16  ContractUntil                16730 non-null  float64\n",
      " 17  Injury                       17803 non-null  int64  \n",
      " 18  InternationalTeam            17803 non-null  object \n",
      " 19  ActiveInternational          17803 non-null  int64  \n",
      " 20  FormerInternational          17803 non-null  int64  \n",
      " 21  InternationalGames           17803 non-null  float64\n",
      " 22  InternationalGoals           17803 non-null  float64\n",
      " 23  StartingElevenQuote          15773 non-null  float64\n",
      " 24  MinutesQuote                 15773 non-null  float64\n",
      " 25  TwPenaltySavesQuote          17513 non-null  float64\n",
      " 26  FsGoalParticipationQuote     14036 non-null  float64\n",
      " 27  Games                        13227 non-null  float64\n",
      " 28  PointsPerGame                12484 non-null  float64\n",
      " 29  Goals                        13227 non-null  float64\n",
      " 30  OwnGoals                     13227 non-null  float64\n",
      " 31  Ins                          13227 non-null  float64\n",
      " 32  Outs                         13227 non-null  float64\n",
      " 33  YellowCards                  17803 non-null  float64\n",
      " 34  YellowRedCards               17803 non-null  float64\n",
      " 35  RedCards                     17803 non-null  float64\n",
      " 36  Minutes                      12437 non-null  float64\n",
      " 37  TwGoalsConceded              17235 non-null  float64\n",
      " 38  TwCleanSheets                17235 non-null  float64\n",
      " 39  FsAssists                    11768 non-null  float64\n",
      " 40  FsPenaltyGoals               11768 non-null  float64\n",
      " 41  FsMinutesPerGoal             6119 non-null   float64\n",
      " 42  Instagram                    17803 non-null  object \n",
      " 43  PositionCategory             17803 non-null  object \n",
      " 44  NationalLeagueLevelCategory  17803 non-null  int64  \n",
      " 45  Trending                     17803 non-null  int64  \n",
      "dtypes: float64(28), int64(5), object(13)\n",
      "memory usage: 6.4+ MB\n"
     ]
    }
   ],
   "source": [
    "# Objekte haben keine fehlenden Werte mehr\n",
    "df.info()"
   ],
   "metadata": {
    "collapsed": false,
    "ExecuteTime": {
     "start_time": "2023-05-08T12:48:45.856559Z",
     "end_time": "2023-05-08T12:48:45.920106Z"
    }
   }
  },
  {
   "cell_type": "code",
   "execution_count": 46,
   "outputs": [
    {
     "name": "stdout",
     "output_type": "stream",
     "text": [
      "LeagueCountry                   0.000000\n",
      "League                          0.000000\n",
      "NationalLeagueLevel             0.000000\n",
      "Club                            0.000000\n",
      "No                              0.000000\n",
      "Name                            0.000000\n",
      "Value                           0.000000\n",
      "HighestValue                    0.000000\n",
      "Age                             0.016851\n",
      "Height                          6.122564\n",
      "Nationality                     0.000000\n",
      "Foot                            0.000000\n",
      "Position                        0.000000\n",
      "Consultancy                     0.000000\n",
      "Supplier                        0.000000\n",
      "ClubSince                       0.196596\n",
      "ContractUntil                   6.027074\n",
      "Injury                          0.000000\n",
      "InternationalTeam               0.000000\n",
      "ActiveInternational             0.000000\n",
      "FormerInternational             0.000000\n",
      "InternationalGames              0.000000\n",
      "InternationalGoals              0.000000\n",
      "StartingElevenQuote            11.402573\n",
      "MinutesQuote                   11.402573\n",
      "TwPenaltySavesQuote             1.628939\n",
      "FsGoalParticipationQuote       21.159355\n",
      "Games                          25.703533\n",
      "PointsPerGame                  29.876987\n",
      "Goals                          25.703533\n",
      "OwnGoals                       25.703533\n",
      "Ins                            25.703533\n",
      "Outs                           25.703533\n",
      "YellowCards                     0.000000\n",
      "YellowRedCards                  0.000000\n",
      "RedCards                        0.000000\n",
      "Minutes                        30.140987\n",
      "TwGoalsConceded                 3.190474\n",
      "TwCleanSheets                   3.190474\n",
      "FsAssists                      33.898781\n",
      "FsPenaltyGoals                 33.898781\n",
      "FsMinutesPerGoal               65.629388\n",
      "Instagram                       0.000000\n",
      "PositionCategory                0.000000\n",
      "NationalLeagueLevelCategory     0.000000\n",
      "Trending                        0.000000\n",
      "dtype: float64\n"
     ]
    }
   ],
   "source": [
    "# Fehlende Werte in Prozent pro Variable\n",
    "print(df.isnull().sum() / len(df) * 100)"
   ],
   "metadata": {
    "collapsed": false,
    "ExecuteTime": {
     "start_time": "2023-05-08T12:48:45.903899Z",
     "end_time": "2023-05-08T12:48:46.008767Z"
    }
   }
  },
  {
   "cell_type": "code",
   "execution_count": 47,
   "outputs": [],
   "source": [
    "df.to_csv('../data/df_clean.csv', index=False)"
   ],
   "metadata": {
    "collapsed": false,
    "ExecuteTime": {
     "start_time": "2023-05-08T12:48:48.085979Z",
     "end_time": "2023-05-08T12:48:48.444718Z"
    }
   }
  },
  {
   "cell_type": "markdown",
   "source": [
    "## Nicht verwendeter Code"
   ],
   "metadata": {
    "collapsed": false
   }
  },
  {
   "cell_type": "code",
   "execution_count": 3,
   "outputs": [
    {
     "name": "stdout",
     "output_type": "stream",
     "text": [
      "                                     NullValues  Players  NullValuesRelative\n",
      "LeagueCountry League                                                        \n",
      "Türkei        Süper Lig                     520      520          100.000000\n",
      "Niederlande   Eredivisie                    483      483          100.000000\n",
      "Serbien       Omladinska liga                23       26           88.461538\n",
      "Griechenland  Super League 2                616      828           74.396135\n",
      "Norwegen      Eliteserien                   279      414           67.391304\n",
      "Schottland    Championship                  155      239           64.853556\n",
      "Schweiz       Promotion League              269      419           64.200477\n",
      "Schweden      Allsvenskan                   266      438           60.730594\n",
      "Spanien       LaLiga2                       300      531           56.497175\n",
      "England       League One                    333      624           53.365385\n",
      "Tschechien    Fortuna Liga                  162      407           39.803440\n",
      "Dänemark      Superligaen                   114      295           38.644068\n",
      "Portugal      Liga Sabseg                   180      482           37.344398\n",
      "Griechenland  Super League 1                157      429           36.596737\n",
      "Kroatien      SuperSport HNL                 71      283           25.088339\n",
      "Serbien       Super liga Srbije             103      418           24.641148\n",
      "Rumänien      SuperLiga                     111      470           23.617021\n",
      "Polen         Ekstraklasa                   127      543           23.388582\n",
      "Österreich    2. Liga                        90      416           21.634615\n",
      "Schweiz       Challenge League               58      271           21.402214\n",
      "Belgien       Challenger Pro League          64      314           20.382166\n",
      "Österreich    Bundesliga                     69      368           18.750000\n",
      "Schweiz       Super League                   54      296           18.243243\n",
      "Türkei        1.Lig                          99      543           18.232044\n",
      "Portugal      Liga Portugal                  87      490           17.755102\n",
      "Frankreich    Ligue 2                        76      516           14.728682\n",
      "England       Championship                   91      628           14.490446\n",
      "Deutschland   Bundesliga                     72      509           14.145383\n",
      "Schottland    Premiership                    43      309           13.915858\n",
      "Deutschland   2. Bundesliga                  68      516           13.178295\n",
      "Belgien       Jupiler Pro League             59      494           11.943320\n",
      "Italien       Serie B                        65      577           11.265165\n",
      "Frankreich    Ligue 1                        57      518           11.003861\n",
      "Italien       Serie A                        57      559           10.196780\n",
      "Ukraine       Premier Liga                   42      423            9.929078\n",
      "England       Premier League                 53      534            9.925094\n",
      "Deutschland   3. Liga                        44      548            8.029197\n",
      "Russland      1.Division                     31      477            6.498952\n",
      "              Premier Liga                   26      401            6.483791\n",
      "Spanien       LaLiga                         23      485            4.742268\n"
     ]
    }
   ],
   "source": [
    "null_values = df['Minutes'].isnull().groupby([df['LeagueCountry'], df['League']]).sum().to_frame()\n",
    "size_values = df.groupby(['LeagueCountry', 'League']).size()\n",
    "\n",
    "null_values['Players'] = size_values\n",
    "null_values = null_values.rename(columns={'Minutes': 'NullValues'})\n",
    "null_values['NullValuesRelative'] = null_values['NullValues'] / null_values['Players'] * 100\n",
    "\n",
    "null_values = null_values[null_values['Players'] > 20]  # exclude minor leagues\n",
    "null_values = null_values.sort_values('NullValuesRelative', ascending=False)\n",
    "\n",
    "print(null_values)"
   ],
   "metadata": {
    "collapsed": false,
    "ExecuteTime": {
     "start_time": "2023-05-08T09:05:43.815891Z",
     "end_time": "2023-05-08T09:05:43.874351Z"
    }
   }
  }
 ],
 "metadata": {
  "kernelspec": {
   "display_name": "Python 3",
   "language": "python",
   "name": "python3"
  },
  "language_info": {
   "codemirror_mode": {
    "name": "ipython",
    "version": 2
   },
   "file_extension": ".py",
   "mimetype": "text/x-python",
   "name": "python",
   "nbconvert_exporter": "python",
   "pygments_lexer": "ipython2",
   "version": "2.7.6"
  }
 },
 "nbformat": 4,
 "nbformat_minor": 0
}
