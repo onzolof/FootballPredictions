{
 "cells": [
  {
   "cell_type": "code",
   "execution_count": 108,
   "metadata": {
    "collapsed": true,
    "ExecuteTime": {
     "start_time": "2023-05-06T09:39:31.248989Z",
     "end_time": "2023-05-06T09:39:31.278813Z"
    }
   },
   "outputs": [],
   "source": [
    "import pandas as pd\n",
    "import numpy as np"
   ]
  },
  {
   "cell_type": "code",
   "execution_count": 85,
   "outputs": [
    {
     "name": "stdout",
     "output_type": "stream",
     "text": [
      "<class 'pandas.core.frame.DataFrame'>\n",
      "RangeIndex: 18335 entries, 0 to 18334\n",
      "Data columns (total 48 columns):\n",
      " #   Column                    Non-Null Count  Dtype  \n",
      "---  ------                    --------------  -----  \n",
      " 0   LeagueCountry             18335 non-null  object \n",
      " 1   League                    18238 non-null  object \n",
      " 2   NationalLeagueLevel       18335 non-null  int64  \n",
      " 3   Club                      18331 non-null  object \n",
      " 4   No                        17905 non-null  float64\n",
      " 5   Name                      18331 non-null  object \n",
      " 6   Value                     17899 non-null  float64\n",
      " 7   ValueLastUpdate           17899 non-null  object \n",
      " 8   HighestValue              18004 non-null  float64\n",
      " 9   HighestValueDate          18004 non-null  object \n",
      " 10  ValueCurrency             17899 non-null  object \n",
      " 11  Age                       18328 non-null  float64\n",
      " 12  Height                    17052 non-null  float64\n",
      " 13  Nationality               18331 non-null  object \n",
      " 14  Foot                      16435 non-null  object \n",
      " 15  Position                  18331 non-null  object \n",
      " 16  Consultancy               14780 non-null  object \n",
      " 17  Supplier                  2775 non-null   object \n",
      " 18  ClubSince                 18257 non-null  object \n",
      " 19  ContractUntil             17149 non-null  object \n",
      " 20  Injury                    18335 non-null  int64  \n",
      " 21  InternationalTeam         12207 non-null  object \n",
      " 22  ActiveInternational       18335 non-null  int64  \n",
      " 23  FormerInternational       18335 non-null  int64  \n",
      " 24  InternationalGames        12207 non-null  float64\n",
      " 25  InternationalGoals        12207 non-null  float64\n",
      " 26  StartingElevenQuote       16094 non-null  float64\n",
      " 27  MinutesQuote              16094 non-null  float64\n",
      " 28  TwPenaltySavesQuote       1783 non-null   float64\n",
      " 29  FsGoalParticipationQuote  14311 non-null  float64\n",
      " 30  Games                     13346 non-null  float64\n",
      " 31  PointsPerGame             12577 non-null  float64\n",
      " 32  Goals                     13346 non-null  float64\n",
      " 33  OwnGoals                  13346 non-null  float64\n",
      " 34  Ins                       13346 non-null  float64\n",
      " 35  Outs                      13346 non-null  float64\n",
      " 36  YellowCards               13346 non-null  float64\n",
      " 37  YellowRedCards            13346 non-null  float64\n",
      " 38  RedCards                  13346 non-null  float64\n",
      " 39  Minutes                   12528 non-null  float64\n",
      " 40  TwGoalsConceded           1478 non-null   float64\n",
      " 41  TwCleanSheets             1478 non-null   float64\n",
      " 42  FsAssists                 11868 non-null  float64\n",
      " 43  FsPenaltyGoals            11868 non-null  float64\n",
      " 44  FsMinutesPerGoal          6147 non-null   float64\n",
      " 45  Instagram                 7148 non-null   object \n",
      " 46  Source                    18335 non-null  object \n",
      " 47  ScrapingTime              18335 non-null  int64  \n",
      "dtypes: float64(26), int64(5), object(17)\n",
      "memory usage: 6.7+ MB\n"
     ]
    }
   ],
   "source": [
    "df = pd.read_csv('../scraping/cleansed_data/players_20230425190937.csv', sep=';')\n",
    "\n",
    "# Erstelle eine Kopie des Dataframes\n",
    "df_copy = df.copy()\n",
    "df.info()"
   ],
   "metadata": {
    "collapsed": false,
    "ExecuteTime": {
     "start_time": "2023-05-06T09:30:09.814910Z",
     "end_time": "2023-05-06T09:30:10.103998Z"
    }
   }
  },
  {
   "cell_type": "markdown",
   "source": [
    "## Entfernen von Spalten und Zeilen"
   ],
   "metadata": {
    "collapsed": false
   }
  },
  {
   "cell_type": "code",
   "execution_count": 86,
   "outputs": [],
   "source": [
    "# Entferne Source und ScrapingTime\n",
    "df = df.drop(['Source', 'ScrapingTime'], axis=1)"
   ],
   "metadata": {
    "collapsed": false,
    "ExecuteTime": {
     "start_time": "2023-05-06T09:30:10.094507Z",
     "end_time": "2023-05-06T09:30:10.103998Z"
    }
   }
  },
  {
   "cell_type": "code",
   "execution_count": 87,
   "outputs": [],
   "source": [
    "# Lösche alle Spieler ohne Value\n",
    "df = df[df['Value'].notnull()]"
   ],
   "metadata": {
    "collapsed": false,
    "ExecuteTime": {
     "start_time": "2023-05-06T09:30:10.099919Z",
     "end_time": "2023-05-06T09:30:10.189789Z"
    }
   }
  },
  {
   "cell_type": "markdown",
   "source": [
    "## Datentypen anpassen"
   ],
   "metadata": {
    "collapsed": false
   }
  },
  {
   "cell_type": "code",
   "execution_count": 106,
   "outputs": [],
   "source": [
    "# 'ClubSince' und 'ContractUntil' als Datumsangaben einlesen\n",
    "df['ClubSince'] = pd.to_datetime(df['ClubSince'])\n",
    "df['ContractUntil'] = pd.to_datetime(df['ContractUntil'])"
   ],
   "metadata": {
    "collapsed": false,
    "ExecuteTime": {
     "start_time": "2023-05-06T09:39:22.415890Z",
     "end_time": "2023-05-06T09:39:22.455868Z"
    }
   }
  },
  {
   "cell_type": "code",
   "execution_count": 109,
   "outputs": [],
   "source": [
    "# 'ClubSince' und 'ContractUntil' als float Werte umwandeln (Differenz in Tagen ab Scrapingtag 11.04.2023, da dann auch die Values ermittelt wurden)\n",
    "df['ClubSince'] = ((pd.to_datetime('2023-04-11') - df['ClubSince']) / np.timedelta64(1, 'D')).astype(float)\n",
    "df['ContractUntil'] = ((df['ContractUntil'] - pd.to_datetime('2023-04-11')) / np.timedelta64(1, 'D')).astype(float)"
   ],
   "metadata": {
    "collapsed": false,
    "ExecuteTime": {
     "start_time": "2023-05-06T09:39:33.824071Z",
     "end_time": "2023-05-06T09:39:33.860951Z"
    }
   }
  },
  {
   "cell_type": "markdown",
   "source": [
    "## Entferne Dublikate"
   ],
   "metadata": {
    "collapsed": false
   }
  },
  {
   "cell_type": "code",
   "execution_count": 89,
   "outputs": [],
   "source": [
    "# Doppelte Spieler aus dem Dataframe entfernen\n",
    "df = df.drop_duplicates(subset=['Name', 'Age', 'Nationality', 'Club'], keep='first')"
   ],
   "metadata": {
    "collapsed": false,
    "ExecuteTime": {
     "start_time": "2023-05-06T09:30:10.162323Z",
     "end_time": "2023-05-06T09:30:10.223350Z"
    }
   }
  },
  {
   "cell_type": "markdown",
   "source": [
    "## Fehlende Werte ersetzen (Objekte und logische Werte)"
   ],
   "metadata": {
    "collapsed": false
   }
  },
  {
   "cell_type": "code",
   "execution_count": 90,
   "outputs": [],
   "source": [
    "# Ersetze NaN-Werte mit 'Unbekannt'\n",
    "df['Nationality'].fillna('unbekannt', inplace=True)\n",
    "df['Foot'].fillna('unbekannt', inplace=True)\n",
    "df['Position'].fillna('unbekannt', inplace=True)\n",
    "df['Supplier'].fillna('unbekannt', inplace=True)\n",
    "df['Consultancy'].fillna('unbekannt', inplace=True)"
   ],
   "metadata": {
    "collapsed": false,
    "ExecuteTime": {
     "start_time": "2023-05-06T09:30:10.195808Z",
     "end_time": "2023-05-06T09:30:10.223350Z"
    }
   }
  },
  {
   "cell_type": "code",
   "execution_count": 101,
   "outputs": [],
   "source": [
    "# Erstelle ein Dictionary mit den Positionen und ihren entsprechenden Kategorien\n",
    "pos_dict = {'Torwart': 'Torwart',\n",
    "            'Innenverteidiger': 'Abwehr',\n",
    "            'Linker Verteidiger': 'Abwehr',\n",
    "            'Rechter Verteidiger': 'Abwehr',\n",
    "            'Defensives Mittelfeld': 'Mittelfeld',\n",
    "            'Zentrales Mittelfeld': 'Mittelfeld',\n",
    "            'Linkes Mittelfeld': 'Mittelfeld',\n",
    "            'Offensives Mittelfeld': 'Mittelfeld',\n",
    "            'Linksaußen': 'Sturm',\n",
    "            'Rechtsaußen': 'Sturm',\n",
    "            'Mittelstürmer': 'Sturm',\n",
    "            'Rechtes Mittelfeld': 'Mittelfeld',\n",
    "            'Hängende Spitze': 'Mittelfeld',\n",
    "            'Mittelfeld': 'Mittelfeld',\n",
    "            'Abwehr': 'Abwehr',\n",
    "            'Sturm': 'Sturm'}\n",
    "\n",
    "# Erstelle eine neue Spalte mit der Positionskategorie\n",
    "df['PositionCategory'] = df['Position'].map(pos_dict)"
   ],
   "metadata": {
    "collapsed": false,
    "ExecuteTime": {
     "start_time": "2023-05-06T09:32:38.983184Z",
     "end_time": "2023-05-06T09:32:38.998803Z"
    }
   }
  },
  {
   "cell_type": "code",
   "execution_count": 92,
   "outputs": [],
   "source": [
    "df['InternationalTeam'].fillna('kein_internationales_Team', inplace=True)"
   ],
   "metadata": {
    "collapsed": false,
    "ExecuteTime": {
     "start_time": "2023-05-06T09:30:10.229064Z",
     "end_time": "2023-05-06T09:30:10.279658Z"
    }
   }
  },
  {
   "cell_type": "code",
   "execution_count": 116,
   "outputs": [],
   "source": [
    "df.loc[df['InternationalTeam'] == 'kein_internationales_Team', ['InternationalGames', 'InternationalGoals']] = 0"
   ],
   "metadata": {
    "collapsed": false,
    "ExecuteTime": {
     "start_time": "2023-05-06T09:47:37.285498Z",
     "end_time": "2023-05-06T09:47:37.335845Z"
    }
   }
  },
  {
   "cell_type": "code",
   "execution_count": 103,
   "outputs": [],
   "source": [
    "df['Instagram'].fillna('kein_instagram', inplace=True)"
   ],
   "metadata": {
    "collapsed": false,
    "ExecuteTime": {
     "start_time": "2023-05-06T09:33:12.371739Z",
     "end_time": "2023-05-06T09:33:12.401276Z"
    }
   }
  },
  {
   "cell_type": "code",
   "execution_count": 93,
   "outputs": [],
   "source": [
    "# Setze die Torwart-spezifischen Werte auf 0, wenn die Position des Spielers keine Torwart-Position ist und der jeweilige Wert NaN ist\n",
    "df.loc[(df['Position'] != 'Torwart') & (df['TwPenaltySavesQuote'].isna()), 'TwPenaltySavesQuote'] = 0\n",
    "df.loc[(df['Position'] != 'Torwart') & (df['TwGoalsConceded'].isna()), 'TwGoalsConceded'] = 0\n",
    "df.loc[(df['Position'] != 'Torwart') & (df['TwCleanSheets'].isna()), 'TwCleanSheets'] = 0"
   ],
   "metadata": {
    "collapsed": false,
    "ExecuteTime": {
     "start_time": "2023-05-06T09:30:10.253374Z",
     "end_time": "2023-05-06T09:30:10.279658Z"
    }
   }
  },
  {
   "cell_type": "code",
   "execution_count": 98,
   "outputs": [],
   "source": [
    "# Setze die Werte auf 0, wenn die Position des Spielers nicht im Sturm ist\n",
    "df.loc[df['PositionCategory'] != 'Sturm', ['FsAssists', 'FsPenaltyGoals', 'FsMinutesPerGoal', 'FsGoalParticipationQuote']] = 0"
   ],
   "metadata": {
    "collapsed": false,
    "ExecuteTime": {
     "start_time": "2023-05-06T09:31:05.659237Z",
     "end_time": "2023-05-06T09:31:05.686940Z"
    }
   }
  },
  {
   "cell_type": "code",
   "execution_count": 95,
   "outputs": [],
   "source": [
    "# Ein Wörterbuch erstellen, um den Verein und die entsprechende Liga zu speichern\n",
    "club_league_dict = df[df['League'].notnull()][['Club', 'League']].set_index('Club').to_dict()['League']\n",
    "\n",
    "# Eine Funktion definieren, um fehlende Ligawerte anhand des Vereinsnamens zu ersetzen\n",
    "def impute_league(row):\n",
    "    if pd.isnull(row['League']) and row['Club'] in club_league_dict:\n",
    "        return club_league_dict[row['Club']]\n",
    "    else:\n",
    "        return row['League']\n",
    "\n",
    "# Die Funktion anwenden, um fehlende Werte zu ersetzen\n",
    "df['League'] = df.apply(impute_league, axis=1)"
   ],
   "metadata": {
    "collapsed": false,
    "ExecuteTime": {
     "start_time": "2023-05-06T09:30:10.277886Z",
     "end_time": "2023-05-06T09:30:10.585974Z"
    }
   }
  },
  {
   "cell_type": "code",
   "execution_count": 96,
   "outputs": [],
   "source": [
    "# Gruppieren Sie das DataFrame nach Position und berechnen Sie den Modus der Spieler-Nummern für jede Position\n",
    "mode_no_by_position = df.groupby('Position')['No'].agg(lambda x: x.mode()[0])\n",
    "\n",
    "# Funktion zum Imputieren von fehlenden Spieler-Nummern (No) basierend auf der Position\n",
    "def impute_no_by_position(row):\n",
    "    if pd.isnull(row['No']):\n",
    "        return mode_no_by_position[row['Position']]\n",
    "    else:\n",
    "        return row['No']\n",
    "\n",
    "# Anwenden der Funktion auf das gesamte DataFrame, um fehlende Spieler-Nummern zu imputieren\n",
    "df['No'] = df.apply(impute_no_by_position, axis=1)"
   ],
   "metadata": {
    "collapsed": false,
    "ExecuteTime": {
     "start_time": "2023-05-06T09:30:10.579729Z",
     "end_time": "2023-05-06T09:30:10.793522Z"
    }
   }
  },
  {
   "cell_type": "code",
   "execution_count": 118,
   "outputs": [],
   "source": [
    "# Setze NaN-Werte in Karten-Werten auf 0\n",
    "df['YellowCards'].fillna(0, inplace=True)\n",
    "df['YellowRedCards'].fillna(0, inplace=True)\n",
    "df['RedCards'].fillna(0, inplace=True)"
   ],
   "metadata": {
    "collapsed": false,
    "ExecuteTime": {
     "start_time": "2023-05-06T09:49:52.156200Z",
     "end_time": "2023-05-06T09:49:52.179881Z"
    }
   }
  },
  {
   "cell_type": "code",
   "execution_count": 119,
   "outputs": [
    {
     "name": "stdout",
     "output_type": "stream",
     "text": [
      "<class 'pandas.core.frame.DataFrame'>\n",
      "Int64Index: 17803 entries, 0 to 18334\n",
      "Data columns (total 47 columns):\n",
      " #   Column                    Non-Null Count  Dtype  \n",
      "---  ------                    --------------  -----  \n",
      " 0   LeagueCountry             17803 non-null  object \n",
      " 1   League                    17803 non-null  object \n",
      " 2   NationalLeagueLevel       17803 non-null  int64  \n",
      " 3   Club                      17803 non-null  object \n",
      " 4   No                        17803 non-null  float64\n",
      " 5   Name                      17803 non-null  object \n",
      " 6   Value                     17803 non-null  float64\n",
      " 7   ValueLastUpdate           17803 non-null  object \n",
      " 8   HighestValue              17803 non-null  float64\n",
      " 9   HighestValueDate          17803 non-null  object \n",
      " 10  ValueCurrency             17803 non-null  object \n",
      " 11  Age                       17800 non-null  float64\n",
      " 12  Height                    16713 non-null  float64\n",
      " 13  Nationality               17803 non-null  object \n",
      " 14  Foot                      17803 non-null  object \n",
      " 15  Position                  17803 non-null  object \n",
      " 16  Consultancy               17803 non-null  object \n",
      " 17  Supplier                  17803 non-null  object \n",
      " 18  ClubSince                 17768 non-null  float64\n",
      " 19  ContractUntil             16730 non-null  float64\n",
      " 20  Injury                    17803 non-null  int64  \n",
      " 21  InternationalTeam         17803 non-null  object \n",
      " 22  ActiveInternational       17803 non-null  int64  \n",
      " 23  FormerInternational       17803 non-null  int64  \n",
      " 24  InternationalGames        17803 non-null  float64\n",
      " 25  InternationalGoals        17803 non-null  float64\n",
      " 26  StartingElevenQuote       15773 non-null  float64\n",
      " 27  MinutesQuote              15773 non-null  float64\n",
      " 28  TwPenaltySavesQuote       17513 non-null  float64\n",
      " 29  FsGoalParticipationQuote  17273 non-null  float64\n",
      " 30  Games                     13227 non-null  float64\n",
      " 31  PointsPerGame             12484 non-null  float64\n",
      " 32  Goals                     13227 non-null  float64\n",
      " 33  OwnGoals                  13227 non-null  float64\n",
      " 34  Ins                       13227 non-null  float64\n",
      " 35  Outs                      13227 non-null  float64\n",
      " 36  YellowCards               17803 non-null  float64\n",
      " 37  YellowRedCards            17803 non-null  float64\n",
      " 38  RedCards                  17803 non-null  float64\n",
      " 39  Minutes                   12437 non-null  float64\n",
      " 40  TwGoalsConceded           17235 non-null  float64\n",
      " 41  TwCleanSheets             17235 non-null  float64\n",
      " 42  FsAssists                 16658 non-null  float64\n",
      " 43  FsPenaltyGoals            16658 non-null  float64\n",
      " 44  FsMinutesPerGoal          15727 non-null  float64\n",
      " 45  Instagram                 17803 non-null  object \n",
      " 46  PositionCategory          17803 non-null  object \n",
      "dtypes: float64(28), int64(4), object(15)\n",
      "memory usage: 6.5+ MB\n"
     ]
    }
   ],
   "source": [
    "# Objekte haben keine fehlenden Werte mehr\n",
    "df.info()"
   ],
   "metadata": {
    "collapsed": false,
    "ExecuteTime": {
     "start_time": "2023-05-06T09:49:54.436146Z",
     "end_time": "2023-05-06T09:49:54.504288Z"
    }
   }
  },
  {
   "cell_type": "code",
   "execution_count": 121,
   "outputs": [
    {
     "name": "stdout",
     "output_type": "stream",
     "text": [
      "LeagueCountry                0.000000\n",
      "League                       0.000000\n",
      "NationalLeagueLevel          0.000000\n",
      "Club                         0.000000\n",
      "No                           0.000000\n",
      "Name                         0.000000\n",
      "Value                        0.000000\n",
      "ValueLastUpdate              0.000000\n",
      "HighestValue                 0.000000\n",
      "HighestValueDate             0.000000\n",
      "ValueCurrency                0.000000\n",
      "Age                          0.016851\n",
      "Height                       6.122564\n",
      "Nationality                  0.000000\n",
      "Foot                         0.000000\n",
      "Position                     0.000000\n",
      "Consultancy                  0.000000\n",
      "Supplier                     0.000000\n",
      "ClubSince                    0.196596\n",
      "ContractUntil                6.027074\n",
      "Injury                       0.000000\n",
      "InternationalTeam            0.000000\n",
      "ActiveInternational          0.000000\n",
      "FormerInternational          0.000000\n",
      "InternationalGames           0.000000\n",
      "InternationalGoals           0.000000\n",
      "StartingElevenQuote         11.402573\n",
      "MinutesQuote                11.402573\n",
      "TwPenaltySavesQuote          1.628939\n",
      "FsGoalParticipationQuote     2.977026\n",
      "Games                       25.703533\n",
      "PointsPerGame               29.876987\n",
      "Goals                       25.703533\n",
      "OwnGoals                    25.703533\n",
      "Ins                         25.703533\n",
      "Outs                        25.703533\n",
      "YellowCards                  0.000000\n",
      "YellowRedCards               0.000000\n",
      "RedCards                     0.000000\n",
      "Minutes                     30.140987\n",
      "TwGoalsConceded              3.190474\n",
      "TwCleanSheets                3.190474\n",
      "FsAssists                    6.431500\n",
      "FsPenaltyGoals               6.431500\n",
      "FsMinutesPerGoal            11.660956\n",
      "Instagram                    0.000000\n",
      "PositionCategory             0.000000\n",
      "dtype: float64\n"
     ]
    }
   ],
   "source": [
    "# Fehlende Werte in Prozent pro Variable\n",
    "print(df.isnull().sum() / len(df) * 100)"
   ],
   "metadata": {
    "collapsed": false,
    "ExecuteTime": {
     "start_time": "2023-05-06T09:49:59.767439Z",
     "end_time": "2023-05-06T09:49:59.827183Z"
    }
   }
  },
  {
   "cell_type": "markdown",
   "source": [
    "## Datenimputation Train-, Testsplit"
   ],
   "metadata": {
    "collapsed": false
   }
  },
  {
   "cell_type": "code",
   "execution_count": null,
   "outputs": [],
   "source": [],
   "metadata": {
    "collapsed": false
   }
  },
  {
   "cell_type": "markdown",
   "source": [
    "## Nicht verwendeter Code"
   ],
   "metadata": {
    "collapsed": false
   }
  },
  {
   "cell_type": "code",
   "execution_count": null,
   "outputs": [],
   "source": [
    "null_values = df['Minutes'].isnull().groupby([df['LeagueCountry'], df['League']]).sum().to_frame()\n",
    "size_values = df.groupby(['LeagueCountry', 'League']).size()\n",
    "\n",
    "null_values['Players'] = size_values\n",
    "null_values = null_values.rename(columns={'Minutes': 'NullValues'})\n",
    "null_values['NullValuesRelative'] = null_values['NullValues'] / null_values['Players'] * 100\n",
    "\n",
    "null_values = null_values[null_values['Players'] > 20]  # exclude minor leagues\n",
    "null_values = null_values.sort_values('NullValuesRelative', ascending=False)\n",
    "\n",
    "print(null_values)"
   ],
   "metadata": {
    "collapsed": false
   }
  }
 ],
 "metadata": {
  "kernelspec": {
   "display_name": "Python 3",
   "language": "python",
   "name": "python3"
  },
  "language_info": {
   "codemirror_mode": {
    "name": "ipython",
    "version": 2
   },
   "file_extension": ".py",
   "mimetype": "text/x-python",
   "name": "python",
   "nbconvert_exporter": "python",
   "pygments_lexer": "ipython2",
   "version": "2.7.6"
  }
 },
 "nbformat": 4,
 "nbformat_minor": 0
}
