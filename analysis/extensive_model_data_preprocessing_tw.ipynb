{
 "cells": [
  {
   "cell_type": "code",
   "execution_count": 1,
   "metadata": {
    "collapsed": true,
    "ExecuteTime": {
     "start_time": "2023-05-18T07:53:25.126507Z",
     "end_time": "2023-05-18T07:53:25.858257Z"
    }
   },
   "outputs": [],
   "source": [
    "import pandas as pd\n",
    "import numpy as np\n",
    "from analysis.utils import process_categorical"
   ]
  },
  {
   "cell_type": "code",
   "execution_count": 2,
   "outputs": [],
   "source": [
    "df = pd.read_csv('../data/df_clean.csv', index_col=0)"
   ],
   "metadata": {
    "collapsed": false,
    "ExecuteTime": {
     "start_time": "2023-05-18T07:53:25.858963Z",
     "end_time": "2023-05-18T07:53:25.928463Z"
    }
   }
  },
  {
   "cell_type": "code",
   "execution_count": 3,
   "outputs": [
    {
     "name": "stdout",
     "output_type": "stream",
     "text": [
      "<class 'pandas.core.frame.DataFrame'>\n",
      "Int64Index: 17796 entries, 0 to 18357\n",
      "Data columns (total 46 columns):\n",
      " #   Column                    Non-Null Count  Dtype  \n",
      "---  ------                    --------------  -----  \n",
      " 0   LeagueCountry             17796 non-null  object \n",
      " 1   League                    17796 non-null  object \n",
      " 2   NationalLeagueLevel       17796 non-null  object \n",
      " 3   Club                      17796 non-null  object \n",
      " 4   No                        17511 non-null  float64\n",
      " 5   Name                      17796 non-null  object \n",
      " 6   Value                     17796 non-null  float64\n",
      " 7   HighestValue              17796 non-null  float64\n",
      " 8   Age                       17794 non-null  float64\n",
      " 9   Height                    16717 non-null  float64\n",
      " 10  Nationality               17796 non-null  object \n",
      " 11  Foot                      16124 non-null  object \n",
      " 12  Position                  17796 non-null  object \n",
      " 13  Consultancy               14524 non-null  object \n",
      " 14  Supplier                  2739 non-null   object \n",
      " 15  ClubSince                 17761 non-null  float64\n",
      " 16  ContractUntil             16740 non-null  float64\n",
      " 17  Injury                    17796 non-null  int64  \n",
      " 18  InternationalTeam         9708 non-null   object \n",
      " 19  ActiveInternational       17796 non-null  int64  \n",
      " 20  FormerInternational       17796 non-null  int64  \n",
      " 21  InternationalGames        10724 non-null  float64\n",
      " 22  InternationalGoals        10724 non-null  float64\n",
      " 23  StartingElevenQuote       15759 non-null  float64\n",
      " 24  MinutesQuote              15759 non-null  float64\n",
      " 25  TwPenaltySavesQuote       1742 non-null   float64\n",
      " 26  FsGoalParticipationQuote  14017 non-null  float64\n",
      " 27  Games                     13229 non-null  float64\n",
      " 28  PointsPerGame             13229 non-null  float64\n",
      " 29  Goals                     13229 non-null  float64\n",
      " 30  OwnGoals                  13229 non-null  float64\n",
      " 31  Ins                       13229 non-null  float64\n",
      " 32  Outs                      13229 non-null  float64\n",
      " 33  YellowCards               13229 non-null  float64\n",
      " 34  YellowRedCards            13229 non-null  float64\n",
      " 35  RedCards                  13229 non-null  float64\n",
      " 36  Minutes                   13229 non-null  float64\n",
      " 37  TwGoalsConceded           1461 non-null   float64\n",
      " 38  TwCleanSheets             1461 non-null   float64\n",
      " 39  FsAssists                 11768 non-null  float64\n",
      " 40  FsPenaltyGoals            11768 non-null  float64\n",
      " 41  FsMinutesPerGoal          11768 non-null  float64\n",
      " 42  Image                     14885 non-null  object \n",
      " 43  PositionCategory          17796 non-null  object \n",
      " 44  Cards                     13229 non-null  float64\n",
      " 45  Trending                  17796 non-null  int64  \n",
      "dtypes: float64(29), int64(4), object(13)\n",
      "memory usage: 6.4+ MB\n"
     ]
    }
   ],
   "source": [
    "df.info()"
   ],
   "metadata": {
    "collapsed": false,
    "ExecuteTime": {
     "start_time": "2023-05-18T07:53:25.918595Z",
     "end_time": "2023-05-18T07:53:25.936421Z"
    }
   }
  },
  {
   "cell_type": "code",
   "execution_count": 4,
   "outputs": [],
   "source": [
    "df = df.loc[df['Position'] == 'Torwart']  # only use tw-data"
   ],
   "metadata": {
    "collapsed": false,
    "ExecuteTime": {
     "start_time": "2023-05-18T07:53:25.938180Z",
     "end_time": "2023-05-18T07:53:25.941290Z"
    }
   }
  },
  {
   "cell_type": "code",
   "execution_count": 5,
   "outputs": [],
   "source": [
    "# select the features which provide value. the feature selection is done by analyzing the 2-dimensional jointplots of the features processing notebook and by comparing the model performance by comparing the r2 on 25%-test-data split\n",
    "features = ['LeagueCountry', 'NationalLeagueLevel', 'InternationalTeam', 'League', 'Club', 'Age', 'ClubSince', 'ActiveInternational', 'FormerInternational', 'InternationalGames', 'Trending', 'Games', 'PointsPerGame', 'Cards', 'Minutes', 'TwCleanSheets', 'TwGoalsConceded', 'TwPenaltySavesQuote', 'Value']\n",
    "\n",
    "df = df[features]"
   ],
   "metadata": {
    "collapsed": false,
    "ExecuteTime": {
     "start_time": "2023-05-18T07:53:25.942548Z",
     "end_time": "2023-05-18T07:53:25.944039Z"
    }
   }
  },
  {
   "cell_type": "code",
   "execution_count": 6,
   "outputs": [
    {
     "name": "stdout",
     "output_type": "stream",
     "text": [
      "Column: Age, NaN values: 0\n",
      "Column: ClubSince, NaN values: 10\n",
      "Column: ActiveInternational, NaN values: 0\n",
      "Column: FormerInternational, NaN values: 0\n",
      "Column: InternationalGames, NaN values: 863\n",
      "Column: Trending, NaN values: 0\n",
      "Column: Games, NaN values: 568\n",
      "Column: PointsPerGame, NaN values: 568\n",
      "Column: Cards, NaN values: 568\n",
      "Column: Minutes, NaN values: 568\n",
      "Column: TwCleanSheets, NaN values: 568\n",
      "Column: TwGoalsConceded, NaN values: 568\n",
      "Column: TwPenaltySavesQuote, NaN values: 287\n",
      "Column: Value, NaN values: 0\n"
     ]
    }
   ],
   "source": [
    "numeric_columns = df.select_dtypes(include=[np.number])\n",
    "for col in numeric_columns.columns:\n",
    "    print(f\"Column: {col}, NaN values: {numeric_columns[col].isna().sum()}\")"
   ],
   "metadata": {
    "collapsed": false,
    "ExecuteTime": {
     "start_time": "2023-05-18T07:53:25.945160Z",
     "end_time": "2023-05-18T07:53:25.947287Z"
    }
   }
  },
  {
   "cell_type": "code",
   "execution_count": 7,
   "outputs": [],
   "source": [
    "# drop the data records which have missing data. due to the fact that we have a simple model trained on almost all the data, we can drop around a third of the data records and still having enough data to train for a more extensive model (see performance-xxx.csv)\n",
    "df = df.dropna(subset=['Age', 'ClubSince', 'Games', 'PointsPerGame', 'Cards', 'Minutes', 'TwCleanSheets', 'TwGoalsConceded', 'TwPenaltySavesQuote'])"
   ],
   "metadata": {
    "collapsed": false,
    "ExecuteTime": {
     "start_time": "2023-05-18T07:53:25.947960Z",
     "end_time": "2023-05-18T07:53:25.964316Z"
    }
   }
  },
  {
   "cell_type": "code",
   "execution_count": 8,
   "outputs": [],
   "source": [
    "# fill nan values with zero if it can be assumed, that missing data equals zero data\n",
    "df = df.fillna({'InternationalGames': 0})"
   ],
   "metadata": {
    "collapsed": false,
    "ExecuteTime": {
     "start_time": "2023-05-18T07:53:25.950677Z",
     "end_time": "2023-05-18T07:53:25.967028Z"
    }
   }
  },
  {
   "cell_type": "code",
   "execution_count": 9,
   "outputs": [
    {
     "name": "stdout",
     "output_type": "stream",
     "text": [
      "Column: Age, NaN values: 0\n",
      "Column: ClubSince, NaN values: 0\n",
      "Column: ActiveInternational, NaN values: 0\n",
      "Column: FormerInternational, NaN values: 0\n",
      "Column: InternationalGames, NaN values: 0\n",
      "Column: Trending, NaN values: 0\n",
      "Column: Games, NaN values: 0\n",
      "Column: PointsPerGame, NaN values: 0\n",
      "Column: Cards, NaN values: 0\n",
      "Column: Minutes, NaN values: 0\n",
      "Column: TwCleanSheets, NaN values: 0\n",
      "Column: TwGoalsConceded, NaN values: 0\n",
      "Column: TwPenaltySavesQuote, NaN values: 0\n",
      "Column: Value, NaN values: 0\n"
     ]
    }
   ],
   "source": [
    "numeric_columns = df.select_dtypes(include=[np.number])\n",
    "for col in numeric_columns.columns:\n",
    "    print(f\"Column: {col}, NaN values: {numeric_columns[col].isna().sum()}\")"
   ],
   "metadata": {
    "collapsed": false,
    "ExecuteTime": {
     "start_time": "2023-05-18T07:53:25.953302Z",
     "end_time": "2023-05-18T07:53:25.967318Z"
    }
   }
  },
  {
   "cell_type": "code",
   "execution_count": 10,
   "outputs": [
    {
     "name": "stdout",
     "output_type": "stream",
     "text": [
      "<class 'pandas.core.frame.DataFrame'>\n",
      "Int64Index: 1459 entries, 0 to 18333\n",
      "Data columns (total 19 columns):\n",
      " #   Column               Non-Null Count  Dtype  \n",
      "---  ------               --------------  -----  \n",
      " 0   LeagueCountry        1459 non-null   object \n",
      " 1   NationalLeagueLevel  1459 non-null   object \n",
      " 2   InternationalTeam    826 non-null    object \n",
      " 3   League               1459 non-null   object \n",
      " 4   Club                 1459 non-null   object \n",
      " 5   Age                  1459 non-null   float64\n",
      " 6   ClubSince            1459 non-null   float64\n",
      " 7   ActiveInternational  1459 non-null   int64  \n",
      " 8   FormerInternational  1459 non-null   int64  \n",
      " 9   InternationalGames   1459 non-null   float64\n",
      " 10  Trending             1459 non-null   int64  \n",
      " 11  Games                1459 non-null   float64\n",
      " 12  PointsPerGame        1459 non-null   float64\n",
      " 13  Cards                1459 non-null   float64\n",
      " 14  Minutes              1459 non-null   float64\n",
      " 15  TwCleanSheets        1459 non-null   float64\n",
      " 16  TwGoalsConceded      1459 non-null   float64\n",
      " 17  TwPenaltySavesQuote  1459 non-null   float64\n",
      " 18  Value                1459 non-null   float64\n",
      "dtypes: float64(11), int64(3), object(5)\n",
      "memory usage: 228.0+ KB\n"
     ]
    }
   ],
   "source": [
    "df.info()"
   ],
   "metadata": {
    "collapsed": false,
    "ExecuteTime": {
     "start_time": "2023-05-18T07:53:25.958287Z",
     "end_time": "2023-05-18T07:53:25.967552Z"
    }
   }
  },
  {
   "cell_type": "code",
   "execution_count": 11,
   "outputs": [],
   "source": [
    "# create dummy variables for nominal variables. make sure, only a dummy variable is created, if the value occurs 5 or 10 times. The other, less important, values are assigned to a 'other'-class\n",
    "df = process_categorical(df, 'InternationalTeam', 5)\n",
    "df = process_categorical(df, 'League')\n",
    "df = process_categorical(df, 'Club')\n",
    "df = process_categorical(df, 'LeagueCountry', 5)\n",
    "df = process_categorical(df, 'NationalLeagueLevel', 5)"
   ],
   "metadata": {
    "collapsed": false,
    "ExecuteTime": {
     "start_time": "2023-05-18T07:53:25.963787Z",
     "end_time": "2023-05-18T07:53:25.973518Z"
    }
   }
  },
  {
   "cell_type": "code",
   "execution_count": 12,
   "outputs": [],
   "source": [
    "df.to_csv('../data/df_extensive_model_tw.csv')"
   ],
   "metadata": {
    "collapsed": false,
    "ExecuteTime": {
     "start_time": "2023-05-18T07:53:25.973891Z",
     "end_time": "2023-05-18T07:53:26.008328Z"
    }
   }
  }
 ],
 "metadata": {
  "kernelspec": {
   "display_name": "Python 3",
   "language": "python",
   "name": "python3"
  },
  "language_info": {
   "codemirror_mode": {
    "name": "ipython",
    "version": 2
   },
   "file_extension": ".py",
   "mimetype": "text/x-python",
   "name": "python",
   "nbconvert_exporter": "python",
   "pygments_lexer": "ipython2",
   "version": "2.7.6"
  }
 },
 "nbformat": 4,
 "nbformat_minor": 0
}
