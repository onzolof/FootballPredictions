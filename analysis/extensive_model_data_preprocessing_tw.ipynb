{
 "cells": [
  {
   "cell_type": "code",
   "execution_count": 76,
   "metadata": {
    "collapsed": true,
    "ExecuteTime": {
     "start_time": "2023-05-17T13:58:04.753455Z",
     "end_time": "2023-05-17T13:58:04.753597Z"
    }
   },
   "outputs": [],
   "source": [
    "import pandas as pd\n",
    "import numpy as np\n",
    "from analysis.utils import process_categorical"
   ]
  },
  {
   "cell_type": "code",
   "execution_count": 77,
   "outputs": [],
   "source": [
    "df = pd.read_csv('../data/df_clean.csv', index_col=0)"
   ],
   "metadata": {
    "collapsed": false,
    "ExecuteTime": {
     "start_time": "2023-05-17T13:58:04.804732Z",
     "end_time": "2023-05-17T13:58:04.804890Z"
    }
   }
  },
  {
   "cell_type": "code",
   "execution_count": 78,
   "outputs": [
    {
     "name": "stdout",
     "output_type": "stream",
     "text": [
      "<class 'pandas.core.frame.DataFrame'>\n",
      "Int64Index: 17803 entries, 0 to 18334\n",
      "Data columns (total 45 columns):\n",
      " #   Column                    Non-Null Count  Dtype  \n",
      "---  ------                    --------------  -----  \n",
      " 0   LeagueCountry             17803 non-null  object \n",
      " 1   League                    17803 non-null  object \n",
      " 2   NationalLeagueLevel       17803 non-null  object \n",
      " 3   Club                      17803 non-null  object \n",
      " 4   No                        17494 non-null  float64\n",
      " 5   Name                      17803 non-null  object \n",
      " 6   Value                     17803 non-null  float64\n",
      " 7   HighestValue              17803 non-null  float64\n",
      " 8   Age                       17800 non-null  float64\n",
      " 9   Height                    16713 non-null  float64\n",
      " 10  Nationality               17803 non-null  object \n",
      " 11  Foot                      16118 non-null  object \n",
      " 12  Position                  17803 non-null  object \n",
      " 13  Consultancy               14496 non-null  object \n",
      " 14  Supplier                  2736 non-null   object \n",
      " 15  ClubSince                 17768 non-null  float64\n",
      " 16  ContractUntil             16730 non-null  float64\n",
      " 17  Injury                    17803 non-null  int64  \n",
      " 18  InternationalTeam         11967 non-null  object \n",
      " 19  ActiveInternational       17803 non-null  int64  \n",
      " 20  FormerInternational       17803 non-null  int64  \n",
      " 21  InternationalGames        11967 non-null  float64\n",
      " 22  InternationalGoals        11967 non-null  float64\n",
      " 23  StartingElevenQuote       15773 non-null  float64\n",
      " 24  MinutesQuote              15773 non-null  float64\n",
      " 25  TwPenaltySavesQuote       1737 non-null   float64\n",
      " 26  FsGoalParticipationQuote  14036 non-null  float64\n",
      " 27  Games                     13227 non-null  float64\n",
      " 28  PointsPerGame             12484 non-null  float64\n",
      " 29  Goals                     13227 non-null  float64\n",
      " 30  OwnGoals                  13227 non-null  float64\n",
      " 31  Ins                       13227 non-null  float64\n",
      " 32  Outs                      13227 non-null  float64\n",
      " 33  YellowCards               13227 non-null  float64\n",
      " 34  YellowRedCards            13227 non-null  float64\n",
      " 35  RedCards                  13227 non-null  float64\n",
      " 36  Minutes                   12437 non-null  float64\n",
      " 37  TwGoalsConceded           1459 non-null   float64\n",
      " 38  TwCleanSheets             1459 non-null   float64\n",
      " 39  FsAssists                 11768 non-null  float64\n",
      " 40  FsPenaltyGoals            11768 non-null  float64\n",
      " 41  FsMinutesPerGoal          6119 non-null   float64\n",
      " 42  PositionCategory          17803 non-null  object \n",
      " 43  Cards                     13227 non-null  float64\n",
      " 44  Trending                  17803 non-null  int64  \n",
      "dtypes: float64(29), int64(4), object(12)\n",
      "memory usage: 6.2+ MB\n"
     ]
    }
   ],
   "source": [
    "df.info()"
   ],
   "metadata": {
    "collapsed": false,
    "ExecuteTime": {
     "start_time": "2023-05-17T13:58:04.823048Z",
     "end_time": "2023-05-17T13:58:04.823179Z"
    }
   }
  },
  {
   "cell_type": "code",
   "execution_count": 79,
   "outputs": [],
   "source": [
    "df = df.loc[df['Position'] == 'Torwart']"
   ],
   "metadata": {
    "collapsed": false,
    "ExecuteTime": {
     "start_time": "2023-05-17T13:58:04.851042Z",
     "end_time": "2023-05-17T13:58:04.851175Z"
    }
   }
  },
  {
   "cell_type": "code",
   "execution_count": 80,
   "outputs": [],
   "source": [
    "features = ['LeagueCountry', 'NationalLeagueLevel', 'InternationalTeam', 'League', 'Club', 'Age', 'ClubSince', 'ActiveInternational', 'FormerInternational', 'InternationalGames', 'Trending', 'Games', 'PointsPerGame', 'Goals', 'Ins', 'Cards', 'Minutes', 'TwCleanSheets', 'TwGoalsConceded', 'TwPenaltySavesQuote', 'Value']\n",
    "\n",
    "df = df[features]"
   ],
   "metadata": {
    "collapsed": false,
    "ExecuteTime": {
     "start_time": "2023-05-17T13:58:04.856684Z",
     "end_time": "2023-05-17T13:58:04.856800Z"
    }
   }
  },
  {
   "cell_type": "code",
   "execution_count": 81,
   "outputs": [
    {
     "name": "stdout",
     "output_type": "stream",
     "text": [
      "Column: Age, NaN values: 1\n",
      "Column: ClubSince, NaN values: 10\n",
      "Column: ActiveInternational, NaN values: 0\n",
      "Column: FormerInternational, NaN values: 0\n",
      "Column: InternationalGames, NaN values: 725\n",
      "Column: Trending, NaN values: 0\n",
      "Column: Games, NaN values: 568\n",
      "Column: PointsPerGame, NaN values: 1016\n",
      "Column: Goals, NaN values: 568\n",
      "Column: Ins, NaN values: 568\n",
      "Column: Cards, NaN values: 568\n",
      "Column: Minutes, NaN values: 1018\n",
      "Column: TwCleanSheets, NaN values: 568\n",
      "Column: TwGoalsConceded, NaN values: 568\n",
      "Column: TwPenaltySavesQuote, NaN values: 290\n",
      "Column: Value, NaN values: 0\n"
     ]
    }
   ],
   "source": [
    "numeric_columns = df.select_dtypes(include=[np.number])\n",
    "for col in numeric_columns.columns:\n",
    "    print(f\"Column: {col}, NaN values: {numeric_columns[col].isna().sum()}\")"
   ],
   "metadata": {
    "collapsed": false,
    "ExecuteTime": {
     "start_time": "2023-05-17T13:58:04.857099Z",
     "end_time": "2023-05-17T13:58:04.857146Z"
    }
   }
  },
  {
   "cell_type": "code",
   "execution_count": 82,
   "outputs": [],
   "source": [
    "df = df.dropna(subset=['Age', 'ClubSince', 'Games', 'PointsPerGame', 'Goals', 'Ins', 'Cards', 'Minutes', 'TwCleanSheets', 'TwGoalsConceded', 'TwPenaltySavesQuote'])"
   ],
   "metadata": {
    "collapsed": false,
    "ExecuteTime": {
     "start_time": "2023-05-17T13:58:04.857198Z",
     "end_time": "2023-05-17T13:58:04.857226Z"
    }
   }
  },
  {
   "cell_type": "code",
   "execution_count": 83,
   "outputs": [],
   "source": [
    "df = df.fillna({'InternationalGames': 0})"
   ],
   "metadata": {
    "collapsed": false,
    "ExecuteTime": {
     "start_time": "2023-05-17T13:58:04.857265Z",
     "end_time": "2023-05-17T13:58:04.857284Z"
    }
   }
  },
  {
   "cell_type": "code",
   "execution_count": 84,
   "outputs": [
    {
     "name": "stdout",
     "output_type": "stream",
     "text": [
      "Column: Age, NaN values: 0\n",
      "Column: ClubSince, NaN values: 0\n",
      "Column: ActiveInternational, NaN values: 0\n",
      "Column: FormerInternational, NaN values: 0\n",
      "Column: InternationalGames, NaN values: 0\n",
      "Column: Trending, NaN values: 0\n",
      "Column: Games, NaN values: 0\n",
      "Column: PointsPerGame, NaN values: 0\n",
      "Column: Goals, NaN values: 0\n",
      "Column: Ins, NaN values: 0\n",
      "Column: Cards, NaN values: 0\n",
      "Column: Minutes, NaN values: 0\n",
      "Column: TwCleanSheets, NaN values: 0\n",
      "Column: TwGoalsConceded, NaN values: 0\n",
      "Column: TwPenaltySavesQuote, NaN values: 0\n",
      "Column: Value, NaN values: 0\n"
     ]
    }
   ],
   "source": [
    "numeric_columns = df.select_dtypes(include=[np.number])\n",
    "for col in numeric_columns.columns:\n",
    "    print(f\"Column: {col}, NaN values: {numeric_columns[col].isna().sum()}\")"
   ],
   "metadata": {
    "collapsed": false,
    "ExecuteTime": {
     "start_time": "2023-05-17T13:58:04.857377Z",
     "end_time": "2023-05-17T13:58:04.857399Z"
    }
   }
  },
  {
   "cell_type": "code",
   "execution_count": 85,
   "outputs": [
    {
     "name": "stdout",
     "output_type": "stream",
     "text": [
      "<class 'pandas.core.frame.DataFrame'>\n",
      "Int64Index: 1007 entries, 0 to 18310\n",
      "Data columns (total 21 columns):\n",
      " #   Column               Non-Null Count  Dtype  \n",
      "---  ------               --------------  -----  \n",
      " 0   LeagueCountry        1007 non-null   object \n",
      " 1   NationalLeagueLevel  1007 non-null   object \n",
      " 2   InternationalTeam    742 non-null    object \n",
      " 3   League               1007 non-null   object \n",
      " 4   Club                 1007 non-null   object \n",
      " 5   Age                  1007 non-null   float64\n",
      " 6   ClubSince            1007 non-null   float64\n",
      " 7   ActiveInternational  1007 non-null   int64  \n",
      " 8   FormerInternational  1007 non-null   int64  \n",
      " 9   InternationalGames   1007 non-null   float64\n",
      " 10  Trending             1007 non-null   int64  \n",
      " 11  Games                1007 non-null   float64\n",
      " 12  PointsPerGame        1007 non-null   float64\n",
      " 13  Goals                1007 non-null   float64\n",
      " 14  Ins                  1007 non-null   float64\n",
      " 15  Cards                1007 non-null   float64\n",
      " 16  Minutes              1007 non-null   float64\n",
      " 17  TwCleanSheets        1007 non-null   float64\n",
      " 18  TwGoalsConceded      1007 non-null   float64\n",
      " 19  TwPenaltySavesQuote  1007 non-null   float64\n",
      " 20  Value                1007 non-null   float64\n",
      "dtypes: float64(13), int64(3), object(5)\n",
      "memory usage: 173.1+ KB\n"
     ]
    }
   ],
   "source": [
    "df.info()"
   ],
   "metadata": {
    "collapsed": false,
    "ExecuteTime": {
     "start_time": "2023-05-17T13:58:04.857500Z",
     "end_time": "2023-05-17T13:58:04.857521Z"
    }
   }
  },
  {
   "cell_type": "code",
   "execution_count": 86,
   "outputs": [],
   "source": [
    "df = process_categorical(df, 'InternationalTeam', 5)\n",
    "df = process_categorical(df, 'League')\n",
    "df = process_categorical(df, 'Club')\n",
    "df = process_categorical(df, 'LeagueCountry', 5)\n",
    "df = process_categorical(df, 'NationalLeagueLevel', 5)"
   ],
   "metadata": {
    "collapsed": false,
    "ExecuteTime": {
     "start_time": "2023-05-17T13:58:04.868653Z",
     "end_time": "2023-05-17T13:58:04.868740Z"
    }
   }
  },
  {
   "cell_type": "code",
   "execution_count": 87,
   "outputs": [],
   "source": [
    "df.to_csv('../data/df_extensive_model_tw.csv')"
   ],
   "metadata": {
    "collapsed": false,
    "ExecuteTime": {
     "start_time": "2023-05-17T13:58:04.900811Z",
     "end_time": "2023-05-17T13:58:04.900897Z"
    }
   }
  },
  {
   "cell_type": "code",
   "execution_count": 87,
   "outputs": [],
   "source": [],
   "metadata": {
    "collapsed": false,
    "ExecuteTime": {
     "start_time": "2023-05-17T13:58:04.901084Z",
     "end_time": "2023-05-17T13:58:04.901116Z"
    }
   }
  }
 ],
 "metadata": {
  "kernelspec": {
   "display_name": "Python 3",
   "language": "python",
   "name": "python3"
  },
  "language_info": {
   "codemirror_mode": {
    "name": "ipython",
    "version": 2
   },
   "file_extension": ".py",
   "mimetype": "text/x-python",
   "name": "python",
   "nbconvert_exporter": "python",
   "pygments_lexer": "ipython2",
   "version": "2.7.6"
  }
 },
 "nbformat": 4,
 "nbformat_minor": 0
}
