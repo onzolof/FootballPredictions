{
 "cells": [
  {
   "cell_type": "code",
   "execution_count": 7,
   "outputs": [],
   "source": [
    "import pandas as pd"
   ],
   "metadata": {
    "collapsed": false,
    "ExecuteTime": {
     "start_time": "2023-05-14T12:21:09.546346Z",
     "end_time": "2023-05-14T12:21:09.575101Z"
    }
   }
  },
  {
   "cell_type": "code",
   "execution_count": 8,
   "metadata": {
    "collapsed": true,
    "ExecuteTime": {
     "start_time": "2023-05-14T12:21:10.327221Z",
     "end_time": "2023-05-14T12:21:11.774301Z"
    }
   },
   "outputs": [],
   "source": [
    "df = pd.read_csv('../data/df_simple_model.csv')"
   ]
  },
  {
   "cell_type": "code",
   "execution_count": 9,
   "outputs": [],
   "source": [
    "results = pd.read_csv('../data/df_simple_model_results.csv')"
   ],
   "metadata": {
    "collapsed": false,
    "ExecuteTime": {
     "start_time": "2023-05-14T12:21:11.773794Z",
     "end_time": "2023-05-14T12:21:11.823740Z"
    }
   }
  },
  {
   "cell_type": "code",
   "execution_count": 11,
   "outputs": [],
   "source": [
    "merged_df = df.merge(results['PredictedValueSimpleModelXGB'], left_index=True, right_index=True)"
   ],
   "metadata": {
    "collapsed": false,
    "ExecuteTime": {
     "start_time": "2023-05-14T12:23:12.522734Z",
     "end_time": "2023-05-14T12:23:12.606554Z"
    }
   }
  },
  {
   "cell_type": "code",
   "execution_count": 12,
   "outputs": [
    {
     "data": {
      "text/plain": "       Unnamed: 0   Age  ClubSince  Injury  ActiveInternational  \\\n15742       18330  28.0       32.0       0                    0   \n15743       18331  26.0      440.0       0                    0   \n15744       18332  23.0       57.0       0                    0   \n15745       18333  32.0      701.0       0                    0   \n15746       18334  20.0      225.0       0                    0   \n\n       FormerInternational  InternationalGames  InternationalGoals  Trending  \\\n15742                    1                 1.0                 0.0         0   \n15743                    0                 0.0                 0.0         0   \n15744                    1                 2.0                 0.0         1   \n15745                    1                 2.0                 0.0         0   \n15746                    0                 0.0                 0.0         1   \n\n          Value  ...  Position_Offensives Mittelfeld  \\\n15742  450000.0  ...                               0   \n15743  100000.0  ...                               0   \n15744  100000.0  ...                               0   \n15745  300000.0  ...                               0   \n15746   50000.0  ...                               0   \n\n       Position_Rechter Verteidiger  Position_Rechtes Mittelfeld  \\\n15742                             0                            0   \n15743                             0                            0   \n15744                             0                            0   \n15745                             0                            0   \n15746                             0                            0   \n\n       Position_Rechtsaußen  Position_Sturm  Position_Zentrales Mittelfeld  \\\n15742                     1               0                              0   \n15743                     1               0                              0   \n15744                     1               0                              0   \n15745                     0               0                              0   \n15746                     0               0                              0   \n\n       PositionCategory_Abwehr  PositionCategory_Mittelfeld  \\\n15742                        0                            0   \n15743                        0                            0   \n15744                        0                            0   \n15745                        0                            0   \n15746                        0                            0   \n\n       PositionCategory_Sturm  PredictedValueSimpleModelXGB  \n15742                       1                     467549.28  \n15743                       1                     478773.16  \n15744                       1                     617364.60  \n15745                       1                     136776.62  \n15746                       1                     327482.60  \n\n[5 rows x 1449 columns]",
      "text/html": "<div>\n<style scoped>\n    .dataframe tbody tr th:only-of-type {\n        vertical-align: middle;\n    }\n\n    .dataframe tbody tr th {\n        vertical-align: top;\n    }\n\n    .dataframe thead th {\n        text-align: right;\n    }\n</style>\n<table border=\"1\" class=\"dataframe\">\n  <thead>\n    <tr style=\"text-align: right;\">\n      <th></th>\n      <th>Unnamed: 0</th>\n      <th>Age</th>\n      <th>ClubSince</th>\n      <th>Injury</th>\n      <th>ActiveInternational</th>\n      <th>FormerInternational</th>\n      <th>InternationalGames</th>\n      <th>InternationalGoals</th>\n      <th>Trending</th>\n      <th>Value</th>\n      <th>...</th>\n      <th>Position_Offensives Mittelfeld</th>\n      <th>Position_Rechter Verteidiger</th>\n      <th>Position_Rechtes Mittelfeld</th>\n      <th>Position_Rechtsaußen</th>\n      <th>Position_Sturm</th>\n      <th>Position_Zentrales Mittelfeld</th>\n      <th>PositionCategory_Abwehr</th>\n      <th>PositionCategory_Mittelfeld</th>\n      <th>PositionCategory_Sturm</th>\n      <th>PredictedValueSimpleModelXGB</th>\n    </tr>\n  </thead>\n  <tbody>\n    <tr>\n      <th>15742</th>\n      <td>18330</td>\n      <td>28.0</td>\n      <td>32.0</td>\n      <td>0</td>\n      <td>0</td>\n      <td>1</td>\n      <td>1.0</td>\n      <td>0.0</td>\n      <td>0</td>\n      <td>450000.0</td>\n      <td>...</td>\n      <td>0</td>\n      <td>0</td>\n      <td>0</td>\n      <td>1</td>\n      <td>0</td>\n      <td>0</td>\n      <td>0</td>\n      <td>0</td>\n      <td>1</td>\n      <td>467549.28</td>\n    </tr>\n    <tr>\n      <th>15743</th>\n      <td>18331</td>\n      <td>26.0</td>\n      <td>440.0</td>\n      <td>0</td>\n      <td>0</td>\n      <td>0</td>\n      <td>0.0</td>\n      <td>0.0</td>\n      <td>0</td>\n      <td>100000.0</td>\n      <td>...</td>\n      <td>0</td>\n      <td>0</td>\n      <td>0</td>\n      <td>1</td>\n      <td>0</td>\n      <td>0</td>\n      <td>0</td>\n      <td>0</td>\n      <td>1</td>\n      <td>478773.16</td>\n    </tr>\n    <tr>\n      <th>15744</th>\n      <td>18332</td>\n      <td>23.0</td>\n      <td>57.0</td>\n      <td>0</td>\n      <td>0</td>\n      <td>1</td>\n      <td>2.0</td>\n      <td>0.0</td>\n      <td>1</td>\n      <td>100000.0</td>\n      <td>...</td>\n      <td>0</td>\n      <td>0</td>\n      <td>0</td>\n      <td>1</td>\n      <td>0</td>\n      <td>0</td>\n      <td>0</td>\n      <td>0</td>\n      <td>1</td>\n      <td>617364.60</td>\n    </tr>\n    <tr>\n      <th>15745</th>\n      <td>18333</td>\n      <td>32.0</td>\n      <td>701.0</td>\n      <td>0</td>\n      <td>0</td>\n      <td>1</td>\n      <td>2.0</td>\n      <td>0.0</td>\n      <td>0</td>\n      <td>300000.0</td>\n      <td>...</td>\n      <td>0</td>\n      <td>0</td>\n      <td>0</td>\n      <td>0</td>\n      <td>0</td>\n      <td>0</td>\n      <td>0</td>\n      <td>0</td>\n      <td>1</td>\n      <td>136776.62</td>\n    </tr>\n    <tr>\n      <th>15746</th>\n      <td>18334</td>\n      <td>20.0</td>\n      <td>225.0</td>\n      <td>0</td>\n      <td>0</td>\n      <td>0</td>\n      <td>0.0</td>\n      <td>0.0</td>\n      <td>1</td>\n      <td>50000.0</td>\n      <td>...</td>\n      <td>0</td>\n      <td>0</td>\n      <td>0</td>\n      <td>0</td>\n      <td>0</td>\n      <td>0</td>\n      <td>0</td>\n      <td>0</td>\n      <td>1</td>\n      <td>327482.60</td>\n    </tr>\n  </tbody>\n</table>\n<p>5 rows × 1449 columns</p>\n</div>"
     },
     "execution_count": 12,
     "metadata": {},
     "output_type": "execute_result"
    }
   ],
   "source": [
    "merged_df.tail()"
   ],
   "metadata": {
    "collapsed": false,
    "ExecuteTime": {
     "start_time": "2023-05-14T12:23:14.799574Z",
     "end_time": "2023-05-14T12:23:14.872375Z"
    }
   }
  },
  {
   "cell_type": "code",
   "execution_count": null,
   "outputs": [],
   "source": [
    "merged_df.to_csv('../data/simple_model_merged.csv', index=False)"
   ],
   "metadata": {
    "collapsed": false
   }
  }
 ],
 "metadata": {
  "kernelspec": {
   "display_name": "Python 3",
   "language": "python",
   "name": "python3"
  },
  "language_info": {
   "codemirror_mode": {
    "name": "ipython",
    "version": 2
   },
   "file_extension": ".py",
   "mimetype": "text/x-python",
   "name": "python",
   "nbconvert_exporter": "python",
   "pygments_lexer": "ipython2",
   "version": "2.7.6"
  }
 },
 "nbformat": 4,
 "nbformat_minor": 0
}
