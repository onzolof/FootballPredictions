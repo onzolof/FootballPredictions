{
 "cells": [
  {
   "cell_type": "code",
   "execution_count": 1,
   "outputs": [],
   "source": [
    "import pandas as pd"
   ],
   "metadata": {
    "collapsed": false,
    "ExecuteTime": {
     "start_time": "2023-05-14T14:19:59.420610Z",
     "end_time": "2023-05-14T14:19:59.462969Z"
    }
   }
  },
  {
   "cell_type": "code",
   "execution_count": 2,
   "metadata": {
    "collapsed": true,
    "ExecuteTime": {
     "start_time": "2023-05-14T14:19:59.431627Z",
     "end_time": "2023-05-14T14:19:59.597312Z"
    }
   },
   "outputs": [],
   "source": [
    "df = pd.read_csv('../data/df_simple_model_fs_merge.csv')"
   ]
  },
  {
   "cell_type": "code",
   "execution_count": 3,
   "outputs": [],
   "source": [
    "results = pd.read_csv('../data/df_simple_model_fs_results.csv')"
   ],
   "metadata": {
    "collapsed": false,
    "ExecuteTime": {
     "start_time": "2023-05-14T14:19:59.576043Z",
     "end_time": "2023-05-14T14:19:59.644236Z"
    }
   }
  },
  {
   "cell_type": "code",
   "execution_count": 4,
   "outputs": [],
   "source": [
    "merged_df = df.merge(results['PredictedValueSimpleModelXGB'], left_index=True, right_index=True)"
   ],
   "metadata": {
    "collapsed": false,
    "ExecuteTime": {
     "start_time": "2023-05-14T14:19:59.623071Z",
     "end_time": "2023-05-14T14:19:59.798613Z"
    }
   }
  },
  {
   "cell_type": "code",
   "execution_count": 5,
   "outputs": [],
   "source": [
    "merged_df['DifferenceSimpleModelXGB'] = merged_df['PredictedValueSimpleModelXGB'] - merged_df['Value']"
   ],
   "metadata": {
    "collapsed": false,
    "ExecuteTime": {
     "start_time": "2023-05-14T14:19:59.647238Z",
     "end_time": "2023-05-14T14:19:59.925001Z"
    }
   }
  },
  {
   "cell_type": "code",
   "execution_count": 6,
   "outputs": [],
   "source": [
    "merged_df['PercentDifferenceSimpleModelXGB'] = (merged_df['PredictedValueSimpleModelXGB'] - merged_df['Value']) / merged_df['Value'] * 100"
   ],
   "metadata": {
    "collapsed": false,
    "ExecuteTime": {
     "start_time": "2023-05-14T14:19:59.670066Z",
     "end_time": "2023-05-14T14:19:59.955936Z"
    }
   }
  },
  {
   "cell_type": "code",
   "execution_count": 7,
   "outputs": [
    {
     "data": {
      "text/plain": "array(['Abwehr', 'Mittelfeld', 'Sturm'], dtype=object)"
     },
     "execution_count": 7,
     "metadata": {},
     "output_type": "execute_result"
    }
   ],
   "source": [
    "merged_df['PositionCategory'].unique()"
   ],
   "metadata": {
    "collapsed": false,
    "ExecuteTime": {
     "start_time": "2023-05-14T14:20:00.552580Z",
     "end_time": "2023-05-14T14:20:00.661958Z"
    }
   }
  },
  {
   "cell_type": "code",
   "execution_count": 8,
   "outputs": [
    {
     "data": {
      "text/plain": "   Unnamed: 0                 Name LeagueCountry        League  \\\n0           5       Mohamed Camara       Schweiz  Super League   \n1           6       Cédric Zesiger       Schweiz  Super League   \n2           7        Sandro Lauper       Schweiz  Super League   \n3           8        Aurèle Amenda       Schweiz  Super League   \n4           9  Fabian Lustenberger       Schweiz  Super League   \n\n  NationalLeagueLevel            Club   Age Nationality          Position  \\\n0              1.Liga  BSC Young Boys  25.0      Guinea  Innenverteidiger   \n1              1.Liga  BSC Young Boys  24.0     Schweiz  Innenverteidiger   \n2              1.Liga  BSC Young Boys  26.0     Schweiz  Innenverteidiger   \n3              1.Liga  BSC Young Boys  19.0     Schweiz  Innenverteidiger   \n4              1.Liga  BSC Young Boys  34.0     Schweiz  Innenverteidiger   \n\n  PositionCategory  ... InternationalTeam ActiveInternational  \\\n0           Abwehr  ...            Guinea                   1   \n1           Abwehr  ...           Schweiz                   1   \n2           Abwehr  ...           Schweiz                   0   \n3           Abwehr  ...       Schweiz U21                   1   \n4           Abwehr  ...           Schweiz                   0   \n\n   FormerInternational  InternationalGames InternationalGoals  Trending  \\\n0                    0                19.0                0.0         1   \n1                    0                 2.0                0.0         1   \n2                    1                 0.0                0.0         0   \n3                    0                 1.0                0.0         1   \n4                    1                 3.0                0.0         0   \n\n       Value  PredictedValueSimpleModelXGB  DifferenceSimpleModelXGB  \\\n0  5000000.0                    3490080.00               -1509920.00   \n1  4000000.0                    3551661.20                -448338.80   \n2  1500000.0                     998809.25                -501190.75   \n3   500000.0                    1422679.50                 922679.50   \n4   400000.0                     232612.20                -167387.80   \n\n   PercentDifferenceSimpleModelXGB  \n0                       -30.198400  \n1                       -11.208470  \n2                       -33.412717  \n3                       184.535900  \n4                       -41.846950  \n\n[5 rows x 24 columns]",
      "text/html": "<div>\n<style scoped>\n    .dataframe tbody tr th:only-of-type {\n        vertical-align: middle;\n    }\n\n    .dataframe tbody tr th {\n        vertical-align: top;\n    }\n\n    .dataframe thead th {\n        text-align: right;\n    }\n</style>\n<table border=\"1\" class=\"dataframe\">\n  <thead>\n    <tr style=\"text-align: right;\">\n      <th></th>\n      <th>Unnamed: 0</th>\n      <th>Name</th>\n      <th>LeagueCountry</th>\n      <th>League</th>\n      <th>NationalLeagueLevel</th>\n      <th>Club</th>\n      <th>Age</th>\n      <th>Nationality</th>\n      <th>Position</th>\n      <th>PositionCategory</th>\n      <th>...</th>\n      <th>InternationalTeam</th>\n      <th>ActiveInternational</th>\n      <th>FormerInternational</th>\n      <th>InternationalGames</th>\n      <th>InternationalGoals</th>\n      <th>Trending</th>\n      <th>Value</th>\n      <th>PredictedValueSimpleModelXGB</th>\n      <th>DifferenceSimpleModelXGB</th>\n      <th>PercentDifferenceSimpleModelXGB</th>\n    </tr>\n  </thead>\n  <tbody>\n    <tr>\n      <th>0</th>\n      <td>5</td>\n      <td>Mohamed Camara</td>\n      <td>Schweiz</td>\n      <td>Super League</td>\n      <td>1.Liga</td>\n      <td>BSC Young Boys</td>\n      <td>25.0</td>\n      <td>Guinea</td>\n      <td>Innenverteidiger</td>\n      <td>Abwehr</td>\n      <td>...</td>\n      <td>Guinea</td>\n      <td>1</td>\n      <td>0</td>\n      <td>19.0</td>\n      <td>0.0</td>\n      <td>1</td>\n      <td>5000000.0</td>\n      <td>3490080.00</td>\n      <td>-1509920.00</td>\n      <td>-30.198400</td>\n    </tr>\n    <tr>\n      <th>1</th>\n      <td>6</td>\n      <td>Cédric Zesiger</td>\n      <td>Schweiz</td>\n      <td>Super League</td>\n      <td>1.Liga</td>\n      <td>BSC Young Boys</td>\n      <td>24.0</td>\n      <td>Schweiz</td>\n      <td>Innenverteidiger</td>\n      <td>Abwehr</td>\n      <td>...</td>\n      <td>Schweiz</td>\n      <td>1</td>\n      <td>0</td>\n      <td>2.0</td>\n      <td>0.0</td>\n      <td>1</td>\n      <td>4000000.0</td>\n      <td>3551661.20</td>\n      <td>-448338.80</td>\n      <td>-11.208470</td>\n    </tr>\n    <tr>\n      <th>2</th>\n      <td>7</td>\n      <td>Sandro Lauper</td>\n      <td>Schweiz</td>\n      <td>Super League</td>\n      <td>1.Liga</td>\n      <td>BSC Young Boys</td>\n      <td>26.0</td>\n      <td>Schweiz</td>\n      <td>Innenverteidiger</td>\n      <td>Abwehr</td>\n      <td>...</td>\n      <td>Schweiz</td>\n      <td>0</td>\n      <td>1</td>\n      <td>0.0</td>\n      <td>0.0</td>\n      <td>0</td>\n      <td>1500000.0</td>\n      <td>998809.25</td>\n      <td>-501190.75</td>\n      <td>-33.412717</td>\n    </tr>\n    <tr>\n      <th>3</th>\n      <td>8</td>\n      <td>Aurèle Amenda</td>\n      <td>Schweiz</td>\n      <td>Super League</td>\n      <td>1.Liga</td>\n      <td>BSC Young Boys</td>\n      <td>19.0</td>\n      <td>Schweiz</td>\n      <td>Innenverteidiger</td>\n      <td>Abwehr</td>\n      <td>...</td>\n      <td>Schweiz U21</td>\n      <td>1</td>\n      <td>0</td>\n      <td>1.0</td>\n      <td>0.0</td>\n      <td>1</td>\n      <td>500000.0</td>\n      <td>1422679.50</td>\n      <td>922679.50</td>\n      <td>184.535900</td>\n    </tr>\n    <tr>\n      <th>4</th>\n      <td>9</td>\n      <td>Fabian Lustenberger</td>\n      <td>Schweiz</td>\n      <td>Super League</td>\n      <td>1.Liga</td>\n      <td>BSC Young Boys</td>\n      <td>34.0</td>\n      <td>Schweiz</td>\n      <td>Innenverteidiger</td>\n      <td>Abwehr</td>\n      <td>...</td>\n      <td>Schweiz</td>\n      <td>0</td>\n      <td>1</td>\n      <td>3.0</td>\n      <td>0.0</td>\n      <td>0</td>\n      <td>400000.0</td>\n      <td>232612.20</td>\n      <td>-167387.80</td>\n      <td>-41.846950</td>\n    </tr>\n  </tbody>\n</table>\n<p>5 rows × 24 columns</p>\n</div>"
     },
     "execution_count": 8,
     "metadata": {},
     "output_type": "execute_result"
    }
   ],
   "source": [
    "merged_df.head()"
   ],
   "metadata": {
    "collapsed": false,
    "ExecuteTime": {
     "start_time": "2023-05-14T14:20:03.259098Z",
     "end_time": "2023-05-14T14:20:03.429659Z"
    }
   }
  },
  {
   "cell_type": "code",
   "execution_count": 9,
   "outputs": [],
   "source": [
    "merged_df = merged_df[['Name', 'Age', 'PositionCategory', 'Club', 'Value', 'DifferenceSimpleModelXGB', 'PredictedValueSimpleModelXGB', 'PercentDifferenceSimpleModelXGB']]"
   ],
   "metadata": {
    "collapsed": false,
    "ExecuteTime": {
     "start_time": "2023-05-14T14:20:05.531505Z",
     "end_time": "2023-05-14T14:20:05.690236Z"
    }
   }
  },
  {
   "cell_type": "code",
   "execution_count": 10,
   "outputs": [],
   "source": [
    "merged_df.to_csv('../data/simple_model_fs_merged.csv', index=False)"
   ],
   "metadata": {
    "collapsed": false,
    "ExecuteTime": {
     "start_time": "2023-05-14T14:20:07.739066Z",
     "end_time": "2023-05-14T14:20:07.988224Z"
    }
   }
  }
 ],
 "metadata": {
  "kernelspec": {
   "display_name": "Python 3",
   "language": "python",
   "name": "python3"
  },
  "language_info": {
   "codemirror_mode": {
    "name": "ipython",
    "version": 2
   },
   "file_extension": ".py",
   "mimetype": "text/x-python",
   "name": "python",
   "nbconvert_exporter": "python",
   "pygments_lexer": "ipython2",
   "version": "2.7.6"
  }
 },
 "nbformat": 4,
 "nbformat_minor": 0
}
