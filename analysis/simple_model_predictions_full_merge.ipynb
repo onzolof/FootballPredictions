{
 "cells": [
  {
   "cell_type": "code",
   "execution_count": 27,
   "metadata": {
    "collapsed": true,
    "ExecuteTime": {
     "start_time": "2023-05-15T17:57:50.478062Z",
     "end_time": "2023-05-15T17:57:50.493438Z"
    }
   },
   "outputs": [],
   "source": [
    "import pandas as pd"
   ]
  },
  {
   "cell_type": "code",
   "execution_count": 28,
   "outputs": [],
   "source": [
    "df = pd.read_csv('../data/df_clean.csv')"
   ],
   "metadata": {
    "collapsed": false,
    "ExecuteTime": {
     "start_time": "2023-05-15T17:57:50.490986Z",
     "end_time": "2023-05-15T17:57:50.622993Z"
    }
   }
  },
  {
   "cell_type": "code",
   "execution_count": 29,
   "outputs": [],
   "source": [
    "results_fs = pd.read_csv('../data/df_simple_model_fs_results.csv')"
   ],
   "metadata": {
    "collapsed": false,
    "ExecuteTime": {
     "start_time": "2023-05-15T17:57:50.618014Z",
     "end_time": "2023-05-15T17:57:50.644578Z"
    }
   }
  },
  {
   "cell_type": "code",
   "execution_count": 30,
   "outputs": [],
   "source": [
    "results_tw = pd.read_csv('../data/df_simple_model_fs_results.csv')"
   ],
   "metadata": {
    "collapsed": false,
    "ExecuteTime": {
     "start_time": "2023-05-15T17:57:50.648673Z",
     "end_time": "2023-05-15T17:57:50.679697Z"
    }
   }
  },
  {
   "cell_type": "code",
   "execution_count": 31,
   "outputs": [],
   "source": [
    "merged_df = df.merge(results_fs['PredictedValueSimpleModelXGB'], left_index=True, right_index=True)"
   ],
   "metadata": {
    "collapsed": false,
    "ExecuteTime": {
     "start_time": "2023-05-15T17:57:50.673003Z",
     "end_time": "2023-05-15T17:57:50.689999Z"
    }
   }
  },
  {
   "cell_type": "code",
   "execution_count": 32,
   "outputs": [],
   "source": [
    "merged_df = df.merge(results_tw['PredictedValueSimpleModelXGB'], left_index=True, right_index=True)"
   ],
   "metadata": {
    "collapsed": false,
    "ExecuteTime": {
     "start_time": "2023-05-15T17:57:50.696073Z",
     "end_time": "2023-05-15T17:57:50.722915Z"
    }
   }
  },
  {
   "cell_type": "code",
   "execution_count": 33,
   "outputs": [],
   "source": [
    "merged_df['PercentDifferenceSimpleModelXGB'] = merged_df['PredictedValueSimpleModelXGB'] / merged_df['Value'] * 100"
   ],
   "metadata": {
    "collapsed": false,
    "ExecuteTime": {
     "start_time": "2023-05-15T17:57:50.724379Z",
     "end_time": "2023-05-15T17:57:50.737251Z"
    }
   }
  },
  {
   "cell_type": "code",
   "execution_count": 34,
   "outputs": [],
   "source": [
    "merged_df.to_csv('../data/df_simple_model_full_merge.csv', index=False)"
   ],
   "metadata": {
    "collapsed": false,
    "ExecuteTime": {
     "start_time": "2023-05-15T17:57:50.739772Z",
     "end_time": "2023-05-15T17:57:51.110597Z"
    }
   }
  }
 ],
 "metadata": {
  "kernelspec": {
   "display_name": "Python 3",
   "language": "python",
   "name": "python3"
  },
  "language_info": {
   "codemirror_mode": {
    "name": "ipython",
    "version": 2
   },
   "file_extension": ".py",
   "mimetype": "text/x-python",
   "name": "python",
   "nbconvert_exporter": "python",
   "pygments_lexer": "ipython2",
   "version": "2.7.6"
  }
 },
 "nbformat": 4,
 "nbformat_minor": 0
}
