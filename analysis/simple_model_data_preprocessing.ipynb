{
 "cells": [
  {
   "cell_type": "code",
   "execution_count": 338,
   "metadata": {
    "collapsed": true,
    "ExecuteTime": {
     "start_time": "2023-05-13T11:57:43.110412Z",
     "end_time": "2023-05-13T11:57:43.309473Z"
    }
   },
   "outputs": [],
   "source": [
    "import pandas as pd\n",
    "import numpy as np"
   ]
  },
  {
   "cell_type": "code",
   "execution_count": 339,
   "outputs": [],
   "source": [
    "def process_categorical(df, column, min_count):\n",
    "    value_counts = df[column].value_counts()\n",
    "    frequent_categories = value_counts[value_counts >= min_count].index\n",
    "    df.loc[:, 'processed_' + column] = df[column].apply(lambda x: x if x in frequent_categories else 'other')\n",
    "    dummies = pd.get_dummies(df['processed_' + column], prefix=column)\n",
    "    df = df.drop(column, axis=1)\n",
    "    df = df.drop('processed_' + column, axis=1)\n",
    "    df = pd.concat([df, dummies], axis=1)\n",
    "    return df"
   ],
   "metadata": {
    "collapsed": false,
    "ExecuteTime": {
     "start_time": "2023-05-13T11:57:43.135499Z",
     "end_time": "2023-05-13T11:57:43.309473Z"
    }
   }
  },
  {
   "cell_type": "code",
   "execution_count": 340,
   "outputs": [],
   "source": [
    "df = pd.read_csv('../data/df_clean.csv')"
   ],
   "metadata": {
    "collapsed": false,
    "ExecuteTime": {
     "start_time": "2023-05-13T11:57:43.150309Z",
     "end_time": "2023-05-13T11:57:43.406211Z"
    }
   }
  },
  {
   "cell_type": "code",
   "execution_count": 341,
   "outputs": [
    {
     "name": "stdout",
     "output_type": "stream",
     "text": [
      "<class 'pandas.core.frame.DataFrame'>\n",
      "RangeIndex: 17803 entries, 0 to 17802\n",
      "Data columns (total 44 columns):\n",
      " #   Column                    Non-Null Count  Dtype  \n",
      "---  ------                    --------------  -----  \n",
      " 0   LeagueCountry             17803 non-null  object \n",
      " 1   League                    17803 non-null  object \n",
      " 2   NationalLeagueLevel       17803 non-null  object \n",
      " 3   Club                      17803 non-null  object \n",
      " 4   No                        17494 non-null  float64\n",
      " 5   Name                      17803 non-null  object \n",
      " 6   Value                     17803 non-null  float64\n",
      " 7   HighestValue              17803 non-null  float64\n",
      " 8   Age                       17800 non-null  float64\n",
      " 9   Height                    16713 non-null  float64\n",
      " 10  Nationality               17803 non-null  object \n",
      " 11  Foot                      16118 non-null  object \n",
      " 12  Position                  17803 non-null  object \n",
      " 13  Consultancy               14496 non-null  object \n",
      " 14  Supplier                  2736 non-null   object \n",
      " 15  ClubSince                 17768 non-null  float64\n",
      " 16  ContractUntil             16730 non-null  float64\n",
      " 17  Injury                    17803 non-null  int64  \n",
      " 18  InternationalTeam         11967 non-null  object \n",
      " 19  ActiveInternational       17803 non-null  int64  \n",
      " 20  FormerInternational       17803 non-null  int64  \n",
      " 21  InternationalGames        11967 non-null  float64\n",
      " 22  InternationalGoals        11967 non-null  float64\n",
      " 23  StartingElevenQuote       15773 non-null  float64\n",
      " 24  MinutesQuote              15773 non-null  float64\n",
      " 25  TwPenaltySavesQuote       1737 non-null   float64\n",
      " 26  FsGoalParticipationQuote  14036 non-null  float64\n",
      " 27  Games                     13227 non-null  float64\n",
      " 28  PointsPerGame             12484 non-null  float64\n",
      " 29  Goals                     13227 non-null  float64\n",
      " 30  OwnGoals                  13227 non-null  float64\n",
      " 31  Ins                       13227 non-null  float64\n",
      " 32  Outs                      13227 non-null  float64\n",
      " 33  YellowCards               13227 non-null  float64\n",
      " 34  YellowRedCards            13227 non-null  float64\n",
      " 35  RedCards                  13227 non-null  float64\n",
      " 36  Minutes                   12437 non-null  float64\n",
      " 37  TwGoalsConceded           1459 non-null   float64\n",
      " 38  TwCleanSheets             1459 non-null   float64\n",
      " 39  FsAssists                 11768 non-null  float64\n",
      " 40  FsPenaltyGoals            11768 non-null  float64\n",
      " 41  FsMinutesPerGoal          6119 non-null   float64\n",
      " 42  PositionCategory          17803 non-null  object \n",
      " 43  Trending                  17803 non-null  int64  \n",
      "dtypes: float64(28), int64(4), object(12)\n",
      "memory usage: 6.0+ MB\n"
     ]
    }
   ],
   "source": [
    "df.info()"
   ],
   "metadata": {
    "collapsed": false,
    "ExecuteTime": {
     "start_time": "2023-05-13T11:57:43.349290Z",
     "end_time": "2023-05-13T11:57:43.420676Z"
    }
   }
  },
  {
   "cell_type": "code",
   "execution_count": 342,
   "outputs": [],
   "source": [
    "df = df[df['Value'] <= 150000000]"
   ],
   "metadata": {
    "collapsed": false,
    "ExecuteTime": {
     "start_time": "2023-05-13T11:57:43.415767Z",
     "end_time": "2023-05-13T11:57:43.472907Z"
    }
   }
  },
  {
   "cell_type": "code",
   "execution_count": 343,
   "outputs": [],
   "source": [
    "df = df.loc[df['Position'] != 'Torwart']  # remove position Torwart"
   ],
   "metadata": {
    "collapsed": false,
    "ExecuteTime": {
     "start_time": "2023-05-13T11:57:43.447541Z",
     "end_time": "2023-05-13T11:57:43.473928Z"
    }
   }
  },
  {
   "cell_type": "code",
   "execution_count": 344,
   "outputs": [],
   "source": [
    "features = ['LeagueCountry', 'League', 'NationalLeagueLevel', 'Club', 'Age', 'Nationality', 'Position', 'PositionCategory', 'Consultancy', 'Supplier', 'ClubSince', 'Injury', 'InternationalTeam', 'ActiveInternational', 'FormerInternational', 'InternationalGames', 'InternationalGoals', 'Trending', 'Value'] #Possibly include Games\n",
    "\n",
    "df = df[features]"
   ],
   "metadata": {
    "collapsed": false,
    "ExecuteTime": {
     "start_time": "2023-05-13T11:57:43.482637Z",
     "end_time": "2023-05-13T11:57:43.511758Z"
    }
   }
  },
  {
   "cell_type": "code",
   "execution_count": 345,
   "outputs": [],
   "source": [
    "df = df.dropna(subset=['Age', 'ClubSince'])"
   ],
   "metadata": {
    "collapsed": false,
    "ExecuteTime": {
     "start_time": "2023-05-13T11:57:43.492046Z",
     "end_time": "2023-05-13T11:57:43.597836Z"
    }
   }
  },
  {
   "cell_type": "code",
   "execution_count": 346,
   "outputs": [],
   "source": [
    "df = df.fillna({'InternationalGames': 0, 'InternationalGoals': 0})"
   ],
   "metadata": {
    "collapsed": false,
    "ExecuteTime": {
     "start_time": "2023-05-13T11:57:43.529251Z",
     "end_time": "2023-05-13T11:57:43.598779Z"
    }
   }
  },
  {
   "cell_type": "code",
   "execution_count": 347,
   "outputs": [
    {
     "name": "stdout",
     "output_type": "stream",
     "text": [
      "<class 'pandas.core.frame.DataFrame'>\n",
      "Int64Index: 15747 entries, 5 to 17802\n",
      "Data columns (total 19 columns):\n",
      " #   Column               Non-Null Count  Dtype  \n",
      "---  ------               --------------  -----  \n",
      " 0   LeagueCountry        15747 non-null  object \n",
      " 1   League               15747 non-null  object \n",
      " 2   NationalLeagueLevel  15747 non-null  object \n",
      " 3   Club                 15747 non-null  object \n",
      " 4   Age                  15747 non-null  float64\n",
      " 5   Nationality          15747 non-null  object \n",
      " 6   Position             15747 non-null  object \n",
      " 7   PositionCategory     15747 non-null  object \n",
      " 8   Consultancy          12933 non-null  object \n",
      " 9   Supplier             2488 non-null   object \n",
      " 10  ClubSince            15747 non-null  float64\n",
      " 11  Injury               15747 non-null  int64  \n",
      " 12  InternationalTeam    10656 non-null  object \n",
      " 13  ActiveInternational  15747 non-null  int64  \n",
      " 14  FormerInternational  15747 non-null  int64  \n",
      " 15  InternationalGames   15747 non-null  float64\n",
      " 16  InternationalGoals   15747 non-null  float64\n",
      " 17  Trending             15747 non-null  int64  \n",
      " 18  Value                15747 non-null  float64\n",
      "dtypes: float64(5), int64(4), object(10)\n",
      "memory usage: 2.4+ MB\n"
     ]
    }
   ],
   "source": [
    "df.info()"
   ],
   "metadata": {
    "collapsed": false,
    "ExecuteTime": {
     "start_time": "2023-05-13T11:57:43.553048Z",
     "end_time": "2023-05-13T11:57:43.614529Z"
    }
   }
  },
  {
   "cell_type": "code",
   "execution_count": 348,
   "outputs": [
    {
     "name": "stdout",
     "output_type": "stream",
     "text": [
      "Column: Age, NaN values: 0\n",
      "Column: ClubSince, NaN values: 0\n",
      "Column: Injury, NaN values: 0\n",
      "Column: ActiveInternational, NaN values: 0\n",
      "Column: FormerInternational, NaN values: 0\n",
      "Column: InternationalGames, NaN values: 0\n",
      "Column: InternationalGoals, NaN values: 0\n",
      "Column: Trending, NaN values: 0\n",
      "Column: Value, NaN values: 0\n"
     ]
    }
   ],
   "source": [
    "# Select numerical columns\n",
    "numerical_columns = df.select_dtypes(include=[np.number])\n",
    "\n",
    "# Print column names and count of NaN values for each numerical column\n",
    "for col in numerical_columns.columns:\n",
    "    print(f\"Column: {col}, NaN values: {numerical_columns[col].isna().sum()}\")"
   ],
   "metadata": {
    "collapsed": false,
    "ExecuteTime": {
     "start_time": "2023-05-13T11:57:43.616519Z",
     "end_time": "2023-05-13T11:57:43.716361Z"
    }
   }
  },
  {
   "cell_type": "code",
   "execution_count": 349,
   "outputs": [],
   "source": [
    "df = process_categorical(df, 'Supplier', 10)"
   ],
   "metadata": {
    "collapsed": false,
    "ExecuteTime": {
     "start_time": "2023-05-13T11:57:43.650733Z",
     "end_time": "2023-05-13T11:57:43.809352Z"
    }
   }
  },
  {
   "cell_type": "code",
   "execution_count": 350,
   "outputs": [],
   "source": [
    "df = process_categorical(df, 'Consultancy', 10)"
   ],
   "metadata": {
    "collapsed": false,
    "ExecuteTime": {
     "start_time": "2023-05-13T11:57:43.736637Z",
     "end_time": "2023-05-13T11:57:43.835317Z"
    }
   }
  },
  {
   "cell_type": "code",
   "execution_count": 351,
   "outputs": [],
   "source": [
    "df = process_categorical(df, 'InternationalTeam', 5)"
   ],
   "metadata": {
    "collapsed": false,
    "ExecuteTime": {
     "start_time": "2023-05-13T11:57:43.819519Z",
     "end_time": "2023-05-13T11:57:43.933250Z"
    }
   }
  },
  {
   "cell_type": "code",
   "execution_count": 352,
   "outputs": [],
   "source": [
    "df = process_categorical(df, 'League', 10)"
   ],
   "metadata": {
    "collapsed": false,
    "ExecuteTime": {
     "start_time": "2023-05-13T11:57:43.924794Z",
     "end_time": "2023-05-13T11:57:43.999035Z"
    }
   }
  },
  {
   "cell_type": "code",
   "execution_count": 353,
   "outputs": [],
   "source": [
    "df = process_categorical(df, 'Club', 10)"
   ],
   "metadata": {
    "collapsed": false,
    "ExecuteTime": {
     "start_time": "2023-05-13T11:57:43.988887Z",
     "end_time": "2023-05-13T11:57:44.107751Z"
    }
   }
  },
  {
   "cell_type": "code",
   "execution_count": 354,
   "outputs": [],
   "source": [
    "df = process_categorical(df, 'LeagueCountry', 5)"
   ],
   "metadata": {
    "collapsed": false,
    "ExecuteTime": {
     "start_time": "2023-05-13T11:57:44.110907Z",
     "end_time": "2023-05-13T11:57:44.203056Z"
    }
   }
  },
  {
   "cell_type": "code",
   "execution_count": 355,
   "outputs": [],
   "source": [
    "df = process_categorical(df, 'NationalLeagueLevel', 5)"
   ],
   "metadata": {
    "collapsed": false,
    "ExecuteTime": {
     "start_time": "2023-05-13T11:57:44.211599Z",
     "end_time": "2023-05-13T11:57:44.300712Z"
    }
   }
  },
  {
   "cell_type": "code",
   "execution_count": 356,
   "outputs": [],
   "source": [
    "df = process_categorical(df, 'Nationality', 10)"
   ],
   "metadata": {
    "collapsed": false,
    "ExecuteTime": {
     "start_time": "2023-05-13T11:57:44.321827Z",
     "end_time": "2023-05-13T11:57:44.406644Z"
    }
   }
  },
  {
   "cell_type": "code",
   "execution_count": 357,
   "outputs": [],
   "source": [
    "df = process_categorical(df, 'Position', 5)"
   ],
   "metadata": {
    "collapsed": false,
    "ExecuteTime": {
     "start_time": "2023-05-13T11:57:44.405639Z",
     "end_time": "2023-05-13T11:57:44.503400Z"
    }
   }
  },
  {
   "cell_type": "code",
   "execution_count": 358,
   "outputs": [],
   "source": [
    "df = process_categorical(df, 'PositionCategory', 5)"
   ],
   "metadata": {
    "collapsed": false,
    "ExecuteTime": {
     "start_time": "2023-05-13T11:57:44.519608Z",
     "end_time": "2023-05-13T11:57:44.596822Z"
    }
   }
  },
  {
   "cell_type": "code",
   "execution_count": 359,
   "outputs": [],
   "source": [
    "df.to_csv('../data/df_simple_model.csv', index=False)"
   ],
   "metadata": {
    "collapsed": false,
    "ExecuteTime": {
     "start_time": "2023-05-13T11:57:44.594016Z",
     "end_time": "2023-05-13T11:57:49.836964Z"
    }
   }
  }
 ],
 "metadata": {
  "kernelspec": {
   "display_name": "Python 3",
   "language": "python",
   "name": "python3"
  },
  "language_info": {
   "codemirror_mode": {
    "name": "ipython",
    "version": 2
   },
   "file_extension": ".py",
   "mimetype": "text/x-python",
   "name": "python",
   "nbconvert_exporter": "python",
   "pygments_lexer": "ipython2",
   "version": "2.7.6"
  }
 },
 "nbformat": 4,
 "nbformat_minor": 0
}
