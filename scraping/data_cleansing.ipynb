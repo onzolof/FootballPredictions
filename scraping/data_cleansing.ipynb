{
 "cells": [
  {
   "cell_type": "code",
   "execution_count": 24,
   "metadata": {
    "collapsed": true,
    "ExecuteTime": {
     "start_time": "2023-04-22T13:52:21.023768Z",
     "end_time": "2023-04-22T13:52:21.023900Z"
    }
   },
   "outputs": [],
   "source": [
    "import numpy as np\n",
    "import pandas as pd"
   ]
  },
  {
   "cell_type": "code",
   "execution_count": 25,
   "outputs": [],
   "source": [
    "timestamp = '20230422105449'"
   ],
   "metadata": {
    "collapsed": false,
    "ExecuteTime": {
     "start_time": "2023-04-22T13:52:21.030305Z",
     "end_time": "2023-04-22T13:52:21.030395Z"
    }
   }
  },
  {
   "cell_type": "code",
   "execution_count": 26,
   "outputs": [
    {
     "data": {
      "text/plain": "    league_country   scraping_time  \\\n0          Schweiz  20230422105459   \n1          Schweiz  20230422105510   \n2          Schweiz  20230422105524   \n3          Schweiz  20230422105542   \n4          Schweiz  20230422105559   \n..             ...             ...   \n259       Kroatien  20230422110651   \n260       Kroatien  20230422110714   \n261       Kroatien  20230422110754   \n262       Kroatien  20230422110812   \n263       Kroatien  20230422110827   \n\n                                                  link    no  \\\n0    https://www.transfermarkt.ch/david-von-ballmoo...  26.0   \n1    https://www.transfermarkt.ch/anthony-racioppi/...   1.0   \n2    https://www.transfermarkt.ch/marvin-keller/pro...  33.0   \n3    https://www.transfermarkt.ch/dario-marzino/pro...  40.0   \n4    https://www.transfermarkt.ch/leandro-zbinden/p...  61.0   \n..                                                 ...   ...   \n259  https://www.transfermarkt.ch/ivan-calusic/prof...   NaN   \n260  https://www.transfermarkt.ch/marko-capan/profi...  34.0   \n261  https://www.transfermarkt.ch/rokas-pukstas/pro...  21.0   \n262  https://www.transfermarkt.ch/filip-krovinovic/...  23.0   \n263  https://www.transfermarkt.ch/yassine-benrahou/...  11.0   \n\n                   name          league            club league_level  \\\n0    David von Ballmoos    Super League  BSC Young Boys       1.Liga   \n1      Anthony Racioppi    Super League  BSC Young Boys       1.Liga   \n2         Marvin Keller    Super League  BSC Young Boys       1.Liga   \n3         Dario Marzino    Super League  BSC Young Boys       1.Liga   \n4       Leandro Zbinden    Super League  BSC Young Boys       1.Liga   \n..                  ...             ...             ...          ...   \n259        Ivan Calusic  SuperSport HNL    Hajduk Split       1.Liga   \n260         Marko Capan  SuperSport HNL    Hajduk Split       1.Liga   \n261       Rokas Pukstas  SuperSport HNL    Hajduk Split       1.Liga   \n262    Filip Krovinovic  SuperSport HNL    Hajduk Split       1.Liga   \n263    Yassine Benrahou  SuperSport HNL    Hajduk Split       1.Liga   \n\n                               market_value market_value_currency  ...  \\\n0    2,50 Mio. €Letzte Änderung: 10.11.2022                Mio. €  ...   \n1    1,30 Mio. €Letzte Änderung: 28.03.2023                Mio. €  ...   \n2     500 Tsd. €Letzte Änderung: 29.12.2022                Tsd. €  ...   \n3     100 Tsd. €Letzte Änderung: 28.03.2023                Tsd. €  ...   \n4     100 Tsd. €Letzte Änderung: 10.11.2022                Tsd. €  ...   \n..                                      ...                   ...  ...   \n259   350 Tsd. €Letzte Änderung: 08.11.2022                Tsd. €  ...   \n260                                     NaN                   NaN  ...   \n261  1,00 Mio. €Letzte Änderung: 30.12.2022                Mio. €  ...   \n262  5,00 Mio. €Letzte Änderung: 08.11.2022                Mio. €  ...   \n263  2,20 Mio. €Letzte Änderung: 28.10.2022                Mio. €  ...   \n\n    assists own_goals  ins  outs yellow_cards yellow_red_cards red_cards  \\\n0       NaN         -    -     1            -                -         -   \n1       NaN         -    1     -            -                -         -   \n2       NaN         -    -     -            -                -         -   \n3       NaN         -    -     -            -                -         -   \n4       NaN       NaN  NaN   NaN          NaN              NaN       NaN   \n..      ...       ...  ...   ...          ...              ...       ...   \n259     NaN       NaN  NaN   NaN          NaN              NaN       NaN   \n260       2         -    1     3            -                -         -   \n261       1         -    6     2            2                -         -   \n262       3         -    -     8            3                -         -   \n263       3         -    6     2            2                -         -   \n\n    penalty_goals minutes_per_goal minutes  \n0             NaN              NaN  1.324'  \n1             NaN              NaN  1.196'  \n2             NaN              NaN       -  \n3             NaN              NaN       -  \n4             NaN              NaN     NaN  \n..            ...              ...     ...  \n259           NaN              NaN     NaN  \n260             -                -    188'  \n261             -             257'  1.028'  \n262             -           2.488'  2.488'  \n263             -             576'    576'  \n\n[264 rows x 47 columns]",
      "text/html": "<div>\n<style scoped>\n    .dataframe tbody tr th:only-of-type {\n        vertical-align: middle;\n    }\n\n    .dataframe tbody tr th {\n        vertical-align: top;\n    }\n\n    .dataframe thead th {\n        text-align: right;\n    }\n</style>\n<table border=\"1\" class=\"dataframe\">\n  <thead>\n    <tr style=\"text-align: right;\">\n      <th></th>\n      <th>league_country</th>\n      <th>scraping_time</th>\n      <th>link</th>\n      <th>no</th>\n      <th>name</th>\n      <th>league</th>\n      <th>club</th>\n      <th>league_level</th>\n      <th>market_value</th>\n      <th>market_value_currency</th>\n      <th>...</th>\n      <th>assists</th>\n      <th>own_goals</th>\n      <th>ins</th>\n      <th>outs</th>\n      <th>yellow_cards</th>\n      <th>yellow_red_cards</th>\n      <th>red_cards</th>\n      <th>penalty_goals</th>\n      <th>minutes_per_goal</th>\n      <th>minutes</th>\n    </tr>\n  </thead>\n  <tbody>\n    <tr>\n      <th>0</th>\n      <td>Schweiz</td>\n      <td>20230422105459</td>\n      <td>https://www.transfermarkt.ch/david-von-ballmoo...</td>\n      <td>26.0</td>\n      <td>David von Ballmoos</td>\n      <td>Super League</td>\n      <td>BSC Young Boys</td>\n      <td>1.Liga</td>\n      <td>2,50 Mio. €Letzte Änderung: 10.11.2022</td>\n      <td>Mio. €</td>\n      <td>...</td>\n      <td>NaN</td>\n      <td>-</td>\n      <td>-</td>\n      <td>1</td>\n      <td>-</td>\n      <td>-</td>\n      <td>-</td>\n      <td>NaN</td>\n      <td>NaN</td>\n      <td>1.324'</td>\n    </tr>\n    <tr>\n      <th>1</th>\n      <td>Schweiz</td>\n      <td>20230422105510</td>\n      <td>https://www.transfermarkt.ch/anthony-racioppi/...</td>\n      <td>1.0</td>\n      <td>Anthony Racioppi</td>\n      <td>Super League</td>\n      <td>BSC Young Boys</td>\n      <td>1.Liga</td>\n      <td>1,30 Mio. €Letzte Änderung: 28.03.2023</td>\n      <td>Mio. €</td>\n      <td>...</td>\n      <td>NaN</td>\n      <td>-</td>\n      <td>1</td>\n      <td>-</td>\n      <td>-</td>\n      <td>-</td>\n      <td>-</td>\n      <td>NaN</td>\n      <td>NaN</td>\n      <td>1.196'</td>\n    </tr>\n    <tr>\n      <th>2</th>\n      <td>Schweiz</td>\n      <td>20230422105524</td>\n      <td>https://www.transfermarkt.ch/marvin-keller/pro...</td>\n      <td>33.0</td>\n      <td>Marvin Keller</td>\n      <td>Super League</td>\n      <td>BSC Young Boys</td>\n      <td>1.Liga</td>\n      <td>500 Tsd. €Letzte Änderung: 29.12.2022</td>\n      <td>Tsd. €</td>\n      <td>...</td>\n      <td>NaN</td>\n      <td>-</td>\n      <td>-</td>\n      <td>-</td>\n      <td>-</td>\n      <td>-</td>\n      <td>-</td>\n      <td>NaN</td>\n      <td>NaN</td>\n      <td>-</td>\n    </tr>\n    <tr>\n      <th>3</th>\n      <td>Schweiz</td>\n      <td>20230422105542</td>\n      <td>https://www.transfermarkt.ch/dario-marzino/pro...</td>\n      <td>40.0</td>\n      <td>Dario Marzino</td>\n      <td>Super League</td>\n      <td>BSC Young Boys</td>\n      <td>1.Liga</td>\n      <td>100 Tsd. €Letzte Änderung: 28.03.2023</td>\n      <td>Tsd. €</td>\n      <td>...</td>\n      <td>NaN</td>\n      <td>-</td>\n      <td>-</td>\n      <td>-</td>\n      <td>-</td>\n      <td>-</td>\n      <td>-</td>\n      <td>NaN</td>\n      <td>NaN</td>\n      <td>-</td>\n    </tr>\n    <tr>\n      <th>4</th>\n      <td>Schweiz</td>\n      <td>20230422105559</td>\n      <td>https://www.transfermarkt.ch/leandro-zbinden/p...</td>\n      <td>61.0</td>\n      <td>Leandro Zbinden</td>\n      <td>Super League</td>\n      <td>BSC Young Boys</td>\n      <td>1.Liga</td>\n      <td>100 Tsd. €Letzte Änderung: 10.11.2022</td>\n      <td>Tsd. €</td>\n      <td>...</td>\n      <td>NaN</td>\n      <td>NaN</td>\n      <td>NaN</td>\n      <td>NaN</td>\n      <td>NaN</td>\n      <td>NaN</td>\n      <td>NaN</td>\n      <td>NaN</td>\n      <td>NaN</td>\n      <td>NaN</td>\n    </tr>\n    <tr>\n      <th>...</th>\n      <td>...</td>\n      <td>...</td>\n      <td>...</td>\n      <td>...</td>\n      <td>...</td>\n      <td>...</td>\n      <td>...</td>\n      <td>...</td>\n      <td>...</td>\n      <td>...</td>\n      <td>...</td>\n      <td>...</td>\n      <td>...</td>\n      <td>...</td>\n      <td>...</td>\n      <td>...</td>\n      <td>...</td>\n      <td>...</td>\n      <td>...</td>\n      <td>...</td>\n      <td>...</td>\n    </tr>\n    <tr>\n      <th>259</th>\n      <td>Kroatien</td>\n      <td>20230422110651</td>\n      <td>https://www.transfermarkt.ch/ivan-calusic/prof...</td>\n      <td>NaN</td>\n      <td>Ivan Calusic</td>\n      <td>SuperSport HNL</td>\n      <td>Hajduk Split</td>\n      <td>1.Liga</td>\n      <td>350 Tsd. €Letzte Änderung: 08.11.2022</td>\n      <td>Tsd. €</td>\n      <td>...</td>\n      <td>NaN</td>\n      <td>NaN</td>\n      <td>NaN</td>\n      <td>NaN</td>\n      <td>NaN</td>\n      <td>NaN</td>\n      <td>NaN</td>\n      <td>NaN</td>\n      <td>NaN</td>\n      <td>NaN</td>\n    </tr>\n    <tr>\n      <th>260</th>\n      <td>Kroatien</td>\n      <td>20230422110714</td>\n      <td>https://www.transfermarkt.ch/marko-capan/profi...</td>\n      <td>34.0</td>\n      <td>Marko Capan</td>\n      <td>SuperSport HNL</td>\n      <td>Hajduk Split</td>\n      <td>1.Liga</td>\n      <td>NaN</td>\n      <td>NaN</td>\n      <td>...</td>\n      <td>2</td>\n      <td>-</td>\n      <td>1</td>\n      <td>3</td>\n      <td>-</td>\n      <td>-</td>\n      <td>-</td>\n      <td>-</td>\n      <td>-</td>\n      <td>188'</td>\n    </tr>\n    <tr>\n      <th>261</th>\n      <td>Kroatien</td>\n      <td>20230422110754</td>\n      <td>https://www.transfermarkt.ch/rokas-pukstas/pro...</td>\n      <td>21.0</td>\n      <td>Rokas Pukstas</td>\n      <td>SuperSport HNL</td>\n      <td>Hajduk Split</td>\n      <td>1.Liga</td>\n      <td>1,00 Mio. €Letzte Änderung: 30.12.2022</td>\n      <td>Mio. €</td>\n      <td>...</td>\n      <td>1</td>\n      <td>-</td>\n      <td>6</td>\n      <td>2</td>\n      <td>2</td>\n      <td>-</td>\n      <td>-</td>\n      <td>-</td>\n      <td>257'</td>\n      <td>1.028'</td>\n    </tr>\n    <tr>\n      <th>262</th>\n      <td>Kroatien</td>\n      <td>20230422110812</td>\n      <td>https://www.transfermarkt.ch/filip-krovinovic/...</td>\n      <td>23.0</td>\n      <td>Filip Krovinovic</td>\n      <td>SuperSport HNL</td>\n      <td>Hajduk Split</td>\n      <td>1.Liga</td>\n      <td>5,00 Mio. €Letzte Änderung: 08.11.2022</td>\n      <td>Mio. €</td>\n      <td>...</td>\n      <td>3</td>\n      <td>-</td>\n      <td>-</td>\n      <td>8</td>\n      <td>3</td>\n      <td>-</td>\n      <td>-</td>\n      <td>-</td>\n      <td>2.488'</td>\n      <td>2.488'</td>\n    </tr>\n    <tr>\n      <th>263</th>\n      <td>Kroatien</td>\n      <td>20230422110827</td>\n      <td>https://www.transfermarkt.ch/yassine-benrahou/...</td>\n      <td>11.0</td>\n      <td>Yassine Benrahou</td>\n      <td>SuperSport HNL</td>\n      <td>Hajduk Split</td>\n      <td>1.Liga</td>\n      <td>2,20 Mio. €Letzte Änderung: 28.10.2022</td>\n      <td>Mio. €</td>\n      <td>...</td>\n      <td>3</td>\n      <td>-</td>\n      <td>6</td>\n      <td>2</td>\n      <td>2</td>\n      <td>-</td>\n      <td>-</td>\n      <td>-</td>\n      <td>576'</td>\n      <td>576'</td>\n    </tr>\n  </tbody>\n</table>\n<p>264 rows × 47 columns</p>\n</div>"
     },
     "execution_count": 26,
     "metadata": {},
     "output_type": "execute_result"
    }
   ],
   "source": [
    "df = pd.DataFrame()\n",
    "\n",
    "for i in range(1, 7):\n",
    "    partial_df = pd.read_csv(f\"scraped_data/players_{timestamp}_{i}.csv\", sep=';')\n",
    "    df = pd.concat([df, partial_df])\n",
    "\n",
    "df = df.reset_index(drop=True)\n",
    "df"
   ],
   "metadata": {
    "collapsed": false,
    "ExecuteTime": {
     "start_time": "2023-04-22T13:52:21.056981Z",
     "end_time": "2023-04-22T13:52:21.057076Z"
    }
   }
  },
  {
   "cell_type": "code",
   "execution_count": 27,
   "outputs": [],
   "source": [
    "def parse_market_value_with_latest_change(scraped_string):\n",
    "    return parse_market_value(scraped_string[:scraped_string.find('Letzte Änderung')])\n",
    "\n",
    "def parse_market_value(scraped_string):\n",
    "    value_as_string = scraped_string.strip().replace(',', '.')\n",
    "    if value_as_string[-6:] == 'Mio. €':\n",
    "        return float(value_as_string[:-6]) * 1000000\n",
    "    elif value_as_string[-6:] == 'Tsd. €':\n",
    "        return float(value_as_string[:-6]) * 1000\n",
    "    else:\n",
    "        raise ValueError(value_as_string)\n",
    "\n",
    "\n",
    "df['market_value'] = df[df['market_value'].notna()]['market_value'].apply(parse_market_value_with_latest_change)\n",
    "df['market_value_currency'] = df[df['market_value_currency'].notna()]['market_value_currency'].str[-1:]\n",
    "df['market_value_latest_correction'] = pd.to_datetime(df[df['market_value_latest_correction'].notna()]['market_value_latest_correction'].str[-10:], format='%d.%m.%Y')\n",
    "df['highest_market_value'] = df[df['highest_market_value'].notna()]['highest_market_value'].apply(parse_market_value)\n",
    "df['highest_market_value_date'] = pd.to_datetime(df[df['highest_market_value_date'].notna()]['highest_market_value_date'], format='%d.%m.%Y')\n",
    "df['height'] = df[df['height'].notna()]['height'].str[:-2].str.replace(',', '.', regex=False).astype(float) * 100\n",
    "df['club_since'] = pd.to_datetime(df['club_since'], format='%d.%m.%Y')\n",
    "df['contract_until'] = pd.to_datetime(df['contract_until'].replace('-', np.NaN), format='%d.%m.%Y')\n",
    "for col in ['goals_conceded', 'clean_sheets', 'games', 'points_per_game', 'goals', 'assists', 'own_goals', 'ins', 'outs', 'yellow_cards', 'yellow_red_cards', 'red_cards', 'penalty_goals', 'minutes_per_goal', 'minutes']:\n",
    "    df[col] = df[col].replace('-', 0)\n",
    "df['points_per_game'] = df[df['points_per_game'].notna()]['points_per_game'].str.replace(',', '.', regex=False)\n",
    "for col in ['minutes_per_goal', 'minutes']:\n",
    "    df[col] = df[df[col].notna()][col].str.replace('\\'', '', regex=False).str.replace('.', '', regex=False)\n",
    "\n"
   ],
   "metadata": {
    "collapsed": false,
    "ExecuteTime": {
     "start_time": "2023-04-22T13:52:21.073597Z",
     "end_time": "2023-04-22T13:52:21.073681Z"
    }
   }
  },
  {
   "cell_type": "code",
   "execution_count": 28,
   "outputs": [],
   "source": [
    "df = df.rename(columns={'league_country': 'LeagueCountry', 'scraping_time': 'ScrapingTime', 'link': 'Source', 'no': 'No', 'name': 'Name', 'league': 'League', 'club': 'Club', 'league_level': 'LeagueLevel', 'market_value': 'Value', 'market_value_currency': 'ValueCurrency', 'market_value_latest_correction': 'ValueLastUpdate', 'highest_market_value': 'HighestValue', 'highest_market_value_date': 'HighestValueDate', 'age': 'Age', 'height': 'Height', 'nationality': 'Nationality', 'position': 'Position', 'foot': 'Foot', 'consultancy': 'Consultancy', 'supplier': 'Supplier', 'club_since': 'ClubSince', 'contract_until': 'ContractUntil', 'international': 'International', 'international_active': 'ActiveInternational', 'former_international': 'FormerInternational', 'international_games': 'InternationalGames', 'international_goals': 'InternationalGoals', 'starting_eleven_quote': 'StartingElevenQuote', 'minutes_quote': 'MinutesQuote', 'penalty_saves_quote': 'TwPenaltySavesQuote', 'goal_participation_quote': 'FsGoalParticipationQuote', 'instagram': 'Instagram', 'injury': 'Injury', 'goals_conceded': 'TwGoalsConceded', 'clean_sheets': 'TwCleanSheets', 'games': 'Games', 'points_per_game': 'PointsPerGame', 'goals': 'Goals', 'assists': 'FsAssists', 'own_goals': 'OwnGoals', 'ins': 'Ins', 'outs': 'Outs', 'yellow_cards': 'YellowCards', 'yellow_red_cards': 'YellowRedCards', 'red_cards': 'RedCards', 'penalty_goals': 'FsPenaltyGoals', 'minutes_per_goal': 'FsMinutesPerGoal', 'minutes': 'Minutes'})\n",
    "\n",
    "df = df[['LeagueCountry', 'League', 'LeagueLevel', 'Club', 'No', 'Name', 'Value', 'ValueLastUpdate', 'HighestValue', 'HighestValueDate', 'ValueCurrency', 'Age', 'Height', 'Nationality', 'Foot', 'Position', 'Consultancy', 'Supplier', 'ClubSince', 'ContractUntil', 'Injury', 'International', 'ActiveInternational', 'FormerInternational', 'InternationalGames', 'InternationalGoals', 'StartingElevenQuote','MinutesQuote', 'TwPenaltySavesQuote', 'FsGoalParticipationQuote', 'Games', 'PointsPerGame', 'Goals', 'OwnGoals', 'Ins', 'Outs', 'YellowCards', 'YellowRedCards', 'RedCards', 'Minutes', 'TwGoalsConceded', 'TwCleanSheets', 'FsAssists', 'FsPenaltyGoals', 'FsMinutesPerGoal', 'Instagram',  'Source', 'ScrapingTime']]"
   ],
   "metadata": {
    "collapsed": false,
    "ExecuteTime": {
     "start_time": "2023-04-22T13:52:21.083997Z",
     "end_time": "2023-04-22T13:52:21.084149Z"
    }
   }
  },
  {
   "cell_type": "code",
   "execution_count": 29,
   "outputs": [
    {
     "name": "stdout",
     "output_type": "stream",
     "text": [
      "<class 'pandas.core.frame.DataFrame'>\n",
      "RangeIndex: 264 entries, 0 to 263\n",
      "Data columns (total 47 columns):\n",
      " #   Column                    Non-Null Count  Dtype         \n",
      "---  ------                    --------------  -----         \n",
      " 0   LeagueCountry             264 non-null    object        \n",
      " 1   League                    253 non-null    object        \n",
      " 2   LeagueLevel               255 non-null    object        \n",
      " 3   Club                      264 non-null    object        \n",
      " 4   No                        246 non-null    float64       \n",
      " 5   Name                      264 non-null    object        \n",
      " 6   Value                     250 non-null    float64       \n",
      " 7   ValueLastUpdate           250 non-null    datetime64[ns]\n",
      " 8   HighestValue              259 non-null    float64       \n",
      " 9   HighestValueDate          259 non-null    datetime64[ns]\n",
      " 10  ValueCurrency             250 non-null    object        \n",
      " 11  Age                       264 non-null    int64         \n",
      " 12  Height                    245 non-null    float64       \n",
      " 13  Nationality               264 non-null    object        \n",
      " 14  Foot                      242 non-null    object        \n",
      " 15  Position                  264 non-null    object        \n",
      " 16  Consultancy               221 non-null    object        \n",
      " 17  Supplier                  60 non-null     object        \n",
      " 18  ClubSince                 264 non-null    datetime64[ns]\n",
      " 19  ContractUntil             244 non-null    datetime64[ns]\n",
      " 20  Injury                    27 non-null     object        \n",
      " 21  International             102 non-null    object        \n",
      " 22  FormerInternational       103 non-null    object        \n",
      " 23  InternationalGames        205 non-null    float64       \n",
      " 24  InternationalGoals        205 non-null    float64       \n",
      " 25  StartingElevenQuote       239 non-null    float64       \n",
      " 26  MinutesQuote              239 non-null    float64       \n",
      " 27  TwPenaltySavesQuote       36 non-null     float64       \n",
      " 28  FsGoalParticipationQuote  203 non-null    float64       \n",
      " 29  Games                     218 non-null    object        \n",
      " 30  PointsPerGame             200 non-null    object        \n",
      " 31  Goals                     218 non-null    object        \n",
      " 32  OwnGoals                  218 non-null    object        \n",
      " 33  Ins                       218 non-null    object        \n",
      " 34  Outs                      218 non-null    object        \n",
      " 35  YellowCards               218 non-null    object        \n",
      " 36  YellowRedCards            218 non-null    object        \n",
      " 37  RedCards                  218 non-null    object        \n",
      " 38  Minutes                   197 non-null    object        \n",
      " 39  TwGoalsConceded           32 non-null     object        \n",
      " 40  TwCleanSheets             32 non-null     object        \n",
      " 41  FsAssists                 186 non-null    object        \n",
      " 42  FsPenaltyGoals            186 non-null    object        \n",
      " 43  FsMinutesPerGoal          106 non-null    object        \n",
      " 44  Instagram                 138 non-null    object        \n",
      " 45  Source                    264 non-null    object        \n",
      " 46  ScrapingTime              264 non-null    int64         \n",
      "dtypes: datetime64[ns](4), float64(10), int64(2), object(31)\n",
      "memory usage: 97.1+ KB\n"
     ]
    }
   ],
   "source": [
    "df.info()"
   ],
   "metadata": {
    "collapsed": false,
    "ExecuteTime": {
     "start_time": "2023-04-22T13:52:21.120707Z",
     "end_time": "2023-04-22T13:52:21.120769Z"
    }
   }
  },
  {
   "cell_type": "code",
   "execution_count": 32,
   "outputs": [],
   "source": [
    "df.to_csv(f\"cleansed_data/players_{timestamp}.csv\", sep=';', index=False)"
   ],
   "metadata": {
    "collapsed": false,
    "ExecuteTime": {
     "start_time": "2023-04-22T13:53:03.390679Z",
     "end_time": "2023-04-22T13:53:03.390816Z"
    }
   }
  }
 ],
 "metadata": {
  "kernelspec": {
   "display_name": "Python 3",
   "language": "python",
   "name": "python3"
  },
  "language_info": {
   "codemirror_mode": {
    "name": "ipython",
    "version": 2
   },
   "file_extension": ".py",
   "mimetype": "text/x-python",
   "name": "python",
   "nbconvert_exporter": "python",
   "pygments_lexer": "ipython2",
   "version": "2.7.6"
  }
 },
 "nbformat": 4,
 "nbformat_minor": 0
}
