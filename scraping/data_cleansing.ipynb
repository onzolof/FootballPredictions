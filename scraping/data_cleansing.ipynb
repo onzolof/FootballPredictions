{
 "cells": [
  {
   "cell_type": "code",
   "execution_count": 1,
   "metadata": {
    "collapsed": true,
    "ExecuteTime": {
     "start_time": "2023-04-22T14:12:04.661593Z",
     "end_time": "2023-04-22T14:12:05.029236Z"
    }
   },
   "outputs": [],
   "source": [
    "import numpy as np\n",
    "import pandas as pd"
   ]
  },
  {
   "cell_type": "code",
   "execution_count": 2,
   "outputs": [],
   "source": [
    "timestamp = '20230422140621'"
   ],
   "metadata": {
    "collapsed": false,
    "ExecuteTime": {
     "start_time": "2023-04-22T14:12:05.032467Z",
     "end_time": "2023-04-22T14:12:05.035894Z"
    }
   }
  },
  {
   "cell_type": "code",
   "execution_count": 3,
   "outputs": [
    {
     "data": {
      "text/plain": "   league_country   scraping_time  \\\n0         Schweiz  20230422140628   \n1         Schweiz  20230422140639   \n2         Schweiz  20230422140658   \n3         Schweiz  20230422140717   \n4         Schweiz  20230422140736   \n..            ...             ...   \n58       Kroatien  20230422140753   \n59       Kroatien  20230422140808   \n60       Kroatien  20230422140827   \n61       Kroatien  20230422140845   \n62       Kroatien  20230422140921   \n\n                                                 link    no  \\\n0   https://www.transfermarkt.ch/david-von-ballmoo...  26.0   \n1   https://www.transfermarkt.ch/anthony-racioppi/...   1.0   \n2   https://www.transfermarkt.ch/marvin-keller/pro...  33.0   \n3   https://www.transfermarkt.ch/dario-marzino/pro...  40.0   \n4   https://www.transfermarkt.ch/leandro-zbinden/p...  61.0   \n..                                                ...   ...   \n58  https://www.transfermarkt.ch/bosko-sutalo/prof...   4.0   \n59  https://www.transfermarkt.ch/mauro-perkovic/pr...  39.0   \n60  https://www.transfermarkt.ch/kevin-theophile-c...  28.0   \n61  https://www.transfermarkt.ch/jakov-gurlica/pro...  35.0   \n62  https://www.transfermarkt.ch/robert-ljubicic/p...  14.0   \n\n                         name          league            club league_level  \\\n0          David von Ballmoos    Super League  BSC Young Boys       1.Liga   \n1            Anthony Racioppi    Super League  BSC Young Boys       1.Liga   \n2               Marvin Keller    Super League  BSC Young Boys       1.Liga   \n3               Dario Marzino    Super League  BSC Young Boys       1.Liga   \n4             Leandro Zbinden    Super League  BSC Young Boys       1.Liga   \n..                        ...             ...             ...          ...   \n58               Bosko Sutalo  SuperSport HNL   Dinamo Zagreb       1.Liga   \n59             Mauro Perkovic  SuperSport HNL   Dinamo Zagreb       1.Liga   \n60  Kévin Théophile-Catherine  SuperSport HNL   Dinamo Zagreb       1.Liga   \n61              Jakov Gurlica  SuperSport HNL   Dinamo Zagreb       1.Liga   \n62            Robert Ljubicic  SuperSport HNL   Dinamo Zagreb       1.Liga   \n\n                              market_value market_value_currency  ... assists  \\\n0   2,50 Mio. €Letzte Änderung: 10.11.2022                Mio. €  ...     NaN   \n1   1,30 Mio. €Letzte Änderung: 28.03.2023                Mio. €  ...     NaN   \n2    500 Tsd. €Letzte Änderung: 29.12.2022                Tsd. €  ...     NaN   \n3    100 Tsd. €Letzte Änderung: 28.03.2023                Tsd. €  ...     NaN   \n4    100 Tsd. €Letzte Änderung: 10.11.2022                Tsd. €  ...     NaN   \n..                                     ...                   ...  ...     ...   \n58  3,00 Mio. €Letzte Änderung: 08.11.2022                Mio. €  ...       -   \n59  2,50 Mio. €Letzte Änderung: 08.11.2022                Mio. €  ...       1   \n60  1,50 Mio. €Letzte Änderung: 08.11.2022                Mio. €  ...       1   \n61                                     NaN                   NaN  ...     NaN   \n62  3,50 Mio. €Letzte Änderung: 08.11.2022                Mio. €  ...       1   \n\n   own_goals  ins  outs yellow_cards yellow_red_cards red_cards penalty_goals  \\\n0          -    -     1            -                -         -           NaN   \n1          -    1     -            -                -         -           NaN   \n2          -    -     -            -                -         -           NaN   \n3          -    -     -            -                -         -           NaN   \n4        NaN  NaN   NaN          NaN              NaN       NaN           NaN   \n..       ...  ...   ...          ...              ...       ...           ...   \n58         -    -     2            -                -         -             -   \n59         -    2     -            -                -         -             -   \n60         -    -     -            -                -         -             -   \n61       NaN  NaN   NaN          NaN              NaN       NaN           NaN   \n62         -    4     3            5                -         -             -   \n\n   minutes_per_goal minutes  \n0               NaN  1.324'  \n1               NaN  1.196'  \n2               NaN       -  \n3               NaN       -  \n4               NaN     NaN  \n..              ...     ...  \n58             274'    274'  \n59                -    289'  \n60                -    540'  \n61              NaN     NaN  \n62           1.958'  1.958'  \n\n[63 rows x 48 columns]",
      "text/html": "<div>\n<style scoped>\n    .dataframe tbody tr th:only-of-type {\n        vertical-align: middle;\n    }\n\n    .dataframe tbody tr th {\n        vertical-align: top;\n    }\n\n    .dataframe thead th {\n        text-align: right;\n    }\n</style>\n<table border=\"1\" class=\"dataframe\">\n  <thead>\n    <tr style=\"text-align: right;\">\n      <th></th>\n      <th>league_country</th>\n      <th>scraping_time</th>\n      <th>link</th>\n      <th>no</th>\n      <th>name</th>\n      <th>league</th>\n      <th>club</th>\n      <th>league_level</th>\n      <th>market_value</th>\n      <th>market_value_currency</th>\n      <th>...</th>\n      <th>assists</th>\n      <th>own_goals</th>\n      <th>ins</th>\n      <th>outs</th>\n      <th>yellow_cards</th>\n      <th>yellow_red_cards</th>\n      <th>red_cards</th>\n      <th>penalty_goals</th>\n      <th>minutes_per_goal</th>\n      <th>minutes</th>\n    </tr>\n  </thead>\n  <tbody>\n    <tr>\n      <th>0</th>\n      <td>Schweiz</td>\n      <td>20230422140628</td>\n      <td>https://www.transfermarkt.ch/david-von-ballmoo...</td>\n      <td>26.0</td>\n      <td>David von Ballmoos</td>\n      <td>Super League</td>\n      <td>BSC Young Boys</td>\n      <td>1.Liga</td>\n      <td>2,50 Mio. €Letzte Änderung: 10.11.2022</td>\n      <td>Mio. €</td>\n      <td>...</td>\n      <td>NaN</td>\n      <td>-</td>\n      <td>-</td>\n      <td>1</td>\n      <td>-</td>\n      <td>-</td>\n      <td>-</td>\n      <td>NaN</td>\n      <td>NaN</td>\n      <td>1.324'</td>\n    </tr>\n    <tr>\n      <th>1</th>\n      <td>Schweiz</td>\n      <td>20230422140639</td>\n      <td>https://www.transfermarkt.ch/anthony-racioppi/...</td>\n      <td>1.0</td>\n      <td>Anthony Racioppi</td>\n      <td>Super League</td>\n      <td>BSC Young Boys</td>\n      <td>1.Liga</td>\n      <td>1,30 Mio. €Letzte Änderung: 28.03.2023</td>\n      <td>Mio. €</td>\n      <td>...</td>\n      <td>NaN</td>\n      <td>-</td>\n      <td>1</td>\n      <td>-</td>\n      <td>-</td>\n      <td>-</td>\n      <td>-</td>\n      <td>NaN</td>\n      <td>NaN</td>\n      <td>1.196'</td>\n    </tr>\n    <tr>\n      <th>2</th>\n      <td>Schweiz</td>\n      <td>20230422140658</td>\n      <td>https://www.transfermarkt.ch/marvin-keller/pro...</td>\n      <td>33.0</td>\n      <td>Marvin Keller</td>\n      <td>Super League</td>\n      <td>BSC Young Boys</td>\n      <td>1.Liga</td>\n      <td>500 Tsd. €Letzte Änderung: 29.12.2022</td>\n      <td>Tsd. €</td>\n      <td>...</td>\n      <td>NaN</td>\n      <td>-</td>\n      <td>-</td>\n      <td>-</td>\n      <td>-</td>\n      <td>-</td>\n      <td>-</td>\n      <td>NaN</td>\n      <td>NaN</td>\n      <td>-</td>\n    </tr>\n    <tr>\n      <th>3</th>\n      <td>Schweiz</td>\n      <td>20230422140717</td>\n      <td>https://www.transfermarkt.ch/dario-marzino/pro...</td>\n      <td>40.0</td>\n      <td>Dario Marzino</td>\n      <td>Super League</td>\n      <td>BSC Young Boys</td>\n      <td>1.Liga</td>\n      <td>100 Tsd. €Letzte Änderung: 28.03.2023</td>\n      <td>Tsd. €</td>\n      <td>...</td>\n      <td>NaN</td>\n      <td>-</td>\n      <td>-</td>\n      <td>-</td>\n      <td>-</td>\n      <td>-</td>\n      <td>-</td>\n      <td>NaN</td>\n      <td>NaN</td>\n      <td>-</td>\n    </tr>\n    <tr>\n      <th>4</th>\n      <td>Schweiz</td>\n      <td>20230422140736</td>\n      <td>https://www.transfermarkt.ch/leandro-zbinden/p...</td>\n      <td>61.0</td>\n      <td>Leandro Zbinden</td>\n      <td>Super League</td>\n      <td>BSC Young Boys</td>\n      <td>1.Liga</td>\n      <td>100 Tsd. €Letzte Änderung: 10.11.2022</td>\n      <td>Tsd. €</td>\n      <td>...</td>\n      <td>NaN</td>\n      <td>NaN</td>\n      <td>NaN</td>\n      <td>NaN</td>\n      <td>NaN</td>\n      <td>NaN</td>\n      <td>NaN</td>\n      <td>NaN</td>\n      <td>NaN</td>\n      <td>NaN</td>\n    </tr>\n    <tr>\n      <th>...</th>\n      <td>...</td>\n      <td>...</td>\n      <td>...</td>\n      <td>...</td>\n      <td>...</td>\n      <td>...</td>\n      <td>...</td>\n      <td>...</td>\n      <td>...</td>\n      <td>...</td>\n      <td>...</td>\n      <td>...</td>\n      <td>...</td>\n      <td>...</td>\n      <td>...</td>\n      <td>...</td>\n      <td>...</td>\n      <td>...</td>\n      <td>...</td>\n      <td>...</td>\n      <td>...</td>\n    </tr>\n    <tr>\n      <th>58</th>\n      <td>Kroatien</td>\n      <td>20230422140753</td>\n      <td>https://www.transfermarkt.ch/bosko-sutalo/prof...</td>\n      <td>4.0</td>\n      <td>Bosko Sutalo</td>\n      <td>SuperSport HNL</td>\n      <td>Dinamo Zagreb</td>\n      <td>1.Liga</td>\n      <td>3,00 Mio. €Letzte Änderung: 08.11.2022</td>\n      <td>Mio. €</td>\n      <td>...</td>\n      <td>-</td>\n      <td>-</td>\n      <td>-</td>\n      <td>2</td>\n      <td>-</td>\n      <td>-</td>\n      <td>-</td>\n      <td>-</td>\n      <td>274'</td>\n      <td>274'</td>\n    </tr>\n    <tr>\n      <th>59</th>\n      <td>Kroatien</td>\n      <td>20230422140808</td>\n      <td>https://www.transfermarkt.ch/mauro-perkovic/pr...</td>\n      <td>39.0</td>\n      <td>Mauro Perkovic</td>\n      <td>SuperSport HNL</td>\n      <td>Dinamo Zagreb</td>\n      <td>1.Liga</td>\n      <td>2,50 Mio. €Letzte Änderung: 08.11.2022</td>\n      <td>Mio. €</td>\n      <td>...</td>\n      <td>1</td>\n      <td>-</td>\n      <td>2</td>\n      <td>-</td>\n      <td>-</td>\n      <td>-</td>\n      <td>-</td>\n      <td>-</td>\n      <td>-</td>\n      <td>289'</td>\n    </tr>\n    <tr>\n      <th>60</th>\n      <td>Kroatien</td>\n      <td>20230422140827</td>\n      <td>https://www.transfermarkt.ch/kevin-theophile-c...</td>\n      <td>28.0</td>\n      <td>Kévin Théophile-Catherine</td>\n      <td>SuperSport HNL</td>\n      <td>Dinamo Zagreb</td>\n      <td>1.Liga</td>\n      <td>1,50 Mio. €Letzte Änderung: 08.11.2022</td>\n      <td>Mio. €</td>\n      <td>...</td>\n      <td>1</td>\n      <td>-</td>\n      <td>-</td>\n      <td>-</td>\n      <td>-</td>\n      <td>-</td>\n      <td>-</td>\n      <td>-</td>\n      <td>-</td>\n      <td>540'</td>\n    </tr>\n    <tr>\n      <th>61</th>\n      <td>Kroatien</td>\n      <td>20230422140845</td>\n      <td>https://www.transfermarkt.ch/jakov-gurlica/pro...</td>\n      <td>35.0</td>\n      <td>Jakov Gurlica</td>\n      <td>SuperSport HNL</td>\n      <td>Dinamo Zagreb</td>\n      <td>1.Liga</td>\n      <td>NaN</td>\n      <td>NaN</td>\n      <td>...</td>\n      <td>NaN</td>\n      <td>NaN</td>\n      <td>NaN</td>\n      <td>NaN</td>\n      <td>NaN</td>\n      <td>NaN</td>\n      <td>NaN</td>\n      <td>NaN</td>\n      <td>NaN</td>\n      <td>NaN</td>\n    </tr>\n    <tr>\n      <th>62</th>\n      <td>Kroatien</td>\n      <td>20230422140921</td>\n      <td>https://www.transfermarkt.ch/robert-ljubicic/p...</td>\n      <td>14.0</td>\n      <td>Robert Ljubicic</td>\n      <td>SuperSport HNL</td>\n      <td>Dinamo Zagreb</td>\n      <td>1.Liga</td>\n      <td>3,50 Mio. €Letzte Änderung: 08.11.2022</td>\n      <td>Mio. €</td>\n      <td>...</td>\n      <td>1</td>\n      <td>-</td>\n      <td>4</td>\n      <td>3</td>\n      <td>5</td>\n      <td>-</td>\n      <td>-</td>\n      <td>-</td>\n      <td>1.958'</td>\n      <td>1.958'</td>\n    </tr>\n  </tbody>\n</table>\n<p>63 rows × 48 columns</p>\n</div>"
     },
     "execution_count": 3,
     "metadata": {},
     "output_type": "execute_result"
    }
   ],
   "source": [
    "df = pd.DataFrame()\n",
    "\n",
    "for i in range(1, 7):\n",
    "    partial_df = pd.read_csv(f\"scraped_data/players_{timestamp}_{i}.csv\", sep=';')\n",
    "    df = pd.concat([df, partial_df])\n",
    "\n",
    "df = df.reset_index(drop=True)\n",
    "df"
   ],
   "metadata": {
    "collapsed": false,
    "ExecuteTime": {
     "start_time": "2023-04-22T14:12:05.037675Z",
     "end_time": "2023-04-22T14:12:05.066947Z"
    }
   }
  },
  {
   "cell_type": "code",
   "execution_count": 4,
   "outputs": [],
   "source": [
    "def parse_market_value_with_latest_change(scraped_string):\n",
    "    return parse_market_value(scraped_string[:scraped_string.find('Letzte Änderung')])\n",
    "\n",
    "def parse_market_value(scraped_string):\n",
    "    value_as_string = scraped_string.strip().replace(',', '.')\n",
    "    if value_as_string[-6:] == 'Mio. €':\n",
    "        return float(value_as_string[:-6]) * 1000000\n",
    "    elif value_as_string[-6:] == 'Tsd. €':\n",
    "        return float(value_as_string[:-6]) * 1000\n",
    "    else:\n",
    "        raise ValueError(value_as_string)\n",
    "\n",
    "\n",
    "df['market_value'] = df[df['market_value'].notna()]['market_value'].apply(parse_market_value_with_latest_change)\n",
    "df['market_value_currency'] = df[df['market_value_currency'].notna()]['market_value_currency'].str[-1:]\n",
    "df['market_value_latest_correction'] = pd.to_datetime(df[df['market_value_latest_correction'].notna()]['market_value_latest_correction'].str[-10:], format='%d.%m.%Y')\n",
    "df['highest_market_value'] = df[df['highest_market_value'].notna()]['highest_market_value'].apply(parse_market_value)\n",
    "df['highest_market_value_date'] = pd.to_datetime(df[df['highest_market_value_date'].notna()]['highest_market_value_date'], format='%d.%m.%Y')\n",
    "df['height'] = df[df['height'].notna()]['height'].str[:-2].str.replace(',', '.', regex=False).astype(float) * 100\n",
    "df['club_since'] = pd.to_datetime(df['club_since'], format='%d.%m.%Y')\n",
    "df['contract_until'] = pd.to_datetime(df['contract_until'].replace('-', np.NaN), format='%d.%m.%Y')\n",
    "for col in ['goals_conceded', 'clean_sheets', 'games', 'points_per_game', 'goals', 'assists', 'own_goals', 'ins', 'outs', 'yellow_cards', 'yellow_red_cards', 'red_cards', 'penalty_goals', 'minutes_per_goal', 'minutes']:\n",
    "    df[col] = df[col].replace('-', 0)\n",
    "df['points_per_game'] = df[df['points_per_game'].notna()]['points_per_game'].str.replace(',', '.', regex=False)\n",
    "for col in ['minutes_per_goal', 'minutes']:\n",
    "    df[col] = df[df[col].notna()][col].str.replace('\\'', '', regex=False).str.replace('.', '', regex=False)\n",
    "\n"
   ],
   "metadata": {
    "collapsed": false,
    "ExecuteTime": {
     "start_time": "2023-04-22T14:12:05.069410Z",
     "end_time": "2023-04-22T14:12:05.078648Z"
    }
   }
  },
  {
   "cell_type": "code",
   "execution_count": 5,
   "outputs": [],
   "source": [
    "df = df.rename(columns={'league_country': 'LeagueCountry', 'scraping_time': 'ScrapingTime', 'link': 'Source', 'no': 'No', 'name': 'Name', 'league': 'League', 'club': 'Club', 'league_level': 'LeagueLevel', 'market_value': 'Value', 'market_value_currency': 'ValueCurrency', 'market_value_latest_correction': 'ValueLastUpdate', 'highest_market_value': 'HighestValue', 'highest_market_value_date': 'HighestValueDate', 'age': 'Age', 'height': 'Height', 'nationality': 'Nationality', 'position': 'Position', 'foot': 'Foot', 'consultancy': 'Consultancy', 'supplier': 'Supplier', 'club_since': 'ClubSince', 'contract_until': 'ContractUntil', 'international': 'International', 'international_active': 'ActiveInternational', 'former_international': 'FormerInternational', 'international_games': 'InternationalGames', 'international_goals': 'InternationalGoals', 'starting_eleven_quote': 'StartingElevenQuote', 'minutes_quote': 'MinutesQuote', 'penalty_saves_quote': 'TwPenaltySavesQuote', 'goal_participation_quote': 'FsGoalParticipationQuote', 'instagram': 'Instagram', 'injury': 'Injury', 'goals_conceded': 'TwGoalsConceded', 'clean_sheets': 'TwCleanSheets', 'games': 'Games', 'points_per_game': 'PointsPerGame', 'goals': 'Goals', 'assists': 'FsAssists', 'own_goals': 'OwnGoals', 'ins': 'Ins', 'outs': 'Outs', 'yellow_cards': 'YellowCards', 'yellow_red_cards': 'YellowRedCards', 'red_cards': 'RedCards', 'penalty_goals': 'FsPenaltyGoals', 'minutes_per_goal': 'FsMinutesPerGoal', 'minutes': 'Minutes'})\n",
    "\n",
    "df = df[['LeagueCountry', 'League', 'LeagueLevel', 'Club', 'No', 'Name', 'Value', 'ValueLastUpdate', 'HighestValue', 'HighestValueDate', 'ValueCurrency', 'Age', 'Height', 'Nationality', 'Foot', 'Position', 'Consultancy', 'Supplier', 'ClubSince', 'ContractUntil', 'Injury', 'International', 'ActiveInternational', 'FormerInternational', 'InternationalGames', 'InternationalGoals', 'StartingElevenQuote','MinutesQuote', 'TwPenaltySavesQuote', 'FsGoalParticipationQuote', 'Games', 'PointsPerGame', 'Goals', 'OwnGoals', 'Ins', 'Outs', 'YellowCards', 'YellowRedCards', 'RedCards', 'Minutes', 'TwGoalsConceded', 'TwCleanSheets', 'FsAssists', 'FsPenaltyGoals', 'FsMinutesPerGoal', 'Instagram',  'Source', 'ScrapingTime']]"
   ],
   "metadata": {
    "collapsed": false,
    "ExecuteTime": {
     "start_time": "2023-04-22T14:12:05.083265Z",
     "end_time": "2023-04-22T14:12:05.085368Z"
    }
   }
  },
  {
   "cell_type": "code",
   "execution_count": 6,
   "outputs": [
    {
     "name": "stdout",
     "output_type": "stream",
     "text": [
      "<class 'pandas.core.frame.DataFrame'>\n",
      "RangeIndex: 63 entries, 0 to 62\n",
      "Data columns (total 48 columns):\n",
      " #   Column                    Non-Null Count  Dtype         \n",
      "---  ------                    --------------  -----         \n",
      " 0   LeagueCountry             63 non-null     object        \n",
      " 1   League                    63 non-null     object        \n",
      " 2   LeagueLevel               63 non-null     object        \n",
      " 3   Club                      63 non-null     object        \n",
      " 4   No                        62 non-null     float64       \n",
      " 5   Name                      63 non-null     object        \n",
      " 6   Value                     61 non-null     float64       \n",
      " 7   ValueLastUpdate           61 non-null     datetime64[ns]\n",
      " 8   HighestValue              61 non-null     float64       \n",
      " 9   HighestValueDate          61 non-null     datetime64[ns]\n",
      " 10  ValueCurrency             61 non-null     object        \n",
      " 11  Age                       63 non-null     int64         \n",
      " 12  Height                    59 non-null     float64       \n",
      " 13  Nationality               63 non-null     object        \n",
      " 14  Foot                      55 non-null     object        \n",
      " 15  Position                  63 non-null     object        \n",
      " 16  Consultancy               58 non-null     object        \n",
      " 17  Supplier                  13 non-null     object        \n",
      " 18  ClubSince                 63 non-null     datetime64[ns]\n",
      " 19  ContractUntil             58 non-null     datetime64[ns]\n",
      " 20  Injury                    63 non-null     int64         \n",
      " 21  International             7 non-null      object        \n",
      " 22  ActiveInternational       21 non-null     object        \n",
      " 23  FormerInternational       25 non-null     object        \n",
      " 24  InternationalGames        53 non-null     float64       \n",
      " 25  InternationalGoals        53 non-null     float64       \n",
      " 26  StartingElevenQuote       57 non-null     float64       \n",
      " 27  MinutesQuote              57 non-null     float64       \n",
      " 28  TwPenaltySavesQuote       18 non-null     float64       \n",
      " 29  FsGoalParticipationQuote  39 non-null     float64       \n",
      " 30  Games                     51 non-null     object        \n",
      " 31  PointsPerGame             41 non-null     object        \n",
      " 32  Goals                     51 non-null     object        \n",
      " 33  OwnGoals                  51 non-null     object        \n",
      " 34  Ins                       51 non-null     object        \n",
      " 35  Outs                      51 non-null     object        \n",
      " 36  YellowCards               51 non-null     object        \n",
      " 37  YellowRedCards            51 non-null     object        \n",
      " 38  RedCards                  51 non-null     object        \n",
      " 39  Minutes                   41 non-null     object        \n",
      " 40  TwGoalsConceded           16 non-null     object        \n",
      " 41  TwCleanSheets             16 non-null     object        \n",
      " 42  FsAssists                 35 non-null     object        \n",
      " 43  FsPenaltyGoals            35 non-null     float64       \n",
      " 44  FsMinutesPerGoal          18 non-null     object        \n",
      " 45  Instagram                 30 non-null     object        \n",
      " 46  Source                    63 non-null     object        \n",
      " 47  ScrapingTime              63 non-null     int64         \n",
      "dtypes: datetime64[ns](4), float64(11), int64(3), object(30)\n",
      "memory usage: 23.8+ KB\n"
     ]
    }
   ],
   "source": [
    "df.info()"
   ],
   "metadata": {
    "collapsed": false,
    "ExecuteTime": {
     "start_time": "2023-04-22T14:12:05.088881Z",
     "end_time": "2023-04-22T14:12:05.099942Z"
    }
   }
  },
  {
   "cell_type": "code",
   "execution_count": 7,
   "outputs": [],
   "source": [
    "df.to_csv(f\"cleansed_data/players_{timestamp}.csv\", sep=';', index=False)"
   ],
   "metadata": {
    "collapsed": false,
    "ExecuteTime": {
     "start_time": "2023-04-22T14:12:05.097392Z",
     "end_time": "2023-04-22T14:12:05.118756Z"
    }
   }
  }
 ],
 "metadata": {
  "kernelspec": {
   "display_name": "Python 3",
   "language": "python",
   "name": "python3"
  },
  "language_info": {
   "codemirror_mode": {
    "name": "ipython",
    "version": 2
   },
   "file_extension": ".py",
   "mimetype": "text/x-python",
   "name": "python",
   "nbconvert_exporter": "python",
   "pygments_lexer": "ipython2",
   "version": "2.7.6"
  }
 },
 "nbformat": 4,
 "nbformat_minor": 0
}
