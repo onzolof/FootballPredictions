{
 "cells": [
  {
   "cell_type": "code",
   "execution_count": 40,
   "metadata": {
    "collapsed": true,
    "ExecuteTime": {
     "start_time": "2023-04-23T10:04:13.417758Z",
     "end_time": "2023-04-23T10:04:13.420824Z"
    }
   },
   "outputs": [],
   "source": [
    "import numpy as np\n",
    "import pandas as pd"
   ]
  },
  {
   "cell_type": "code",
   "execution_count": 41,
   "outputs": [],
   "source": [
    "timestamp = '20230422151759'"
   ],
   "metadata": {
    "collapsed": false,
    "ExecuteTime": {
     "start_time": "2023-04-23T10:04:13.422641Z",
     "end_time": "2023-04-23T10:04:13.424323Z"
    }
   }
  },
  {
   "cell_type": "code",
   "execution_count": 42,
   "outputs": [
    {
     "data": {
      "text/plain": "     league_country   scraping_time  \\\n0           Schweiz  20230422151815   \n1           Schweiz  20230422151843   \n2           Schweiz  20230422151901   \n3           Schweiz  20230422151932   \n4           Schweiz  20230422151954   \n...             ...             ...   \n7187     Tschechien  20230422223256   \n7188     Tschechien  20230422223315   \n7189     Tschechien  20230422223334   \n7190     Tschechien  20230422223352   \n7191     Tschechien  20230422223406   \n\n                                                   link    no  \\\n0     https://www.transfermarkt.ch/david-von-ballmoo...  26.0   \n1     https://www.transfermarkt.ch/anthony-racioppi/...   1.0   \n2     https://www.transfermarkt.ch/marvin-keller/pro...  33.0   \n3     https://www.transfermarkt.ch/dario-marzino/pro...  40.0   \n4     https://www.transfermarkt.ch/leandro-zbinden/p...  61.0   \n...                                                 ...   ...   \n7187  https://www.transfermarkt.ch/vaclav-prochazka/...  26.0   \n7188  https://www.transfermarkt.ch/lukas-bartosak/pr...  31.0   \n7189  https://www.transfermarkt.ch/adam-hlousek/prof...   5.0   \n7190  https://www.transfermarkt.ch/martin-cedidla/pr...  14.0   \n7191  https://www.transfermarkt.ch/joss-didiba/profi...   6.0   \n\n                    name        league            club league_level  \\\n0     David von Ballmoos  Super League  BSC Young Boys       1.Liga   \n1       Anthony Racioppi  Super League  BSC Young Boys       1.Liga   \n2          Marvin Keller  Super League  BSC Young Boys       1.Liga   \n3          Dario Marzino  Super League  BSC Young Boys       1.Liga   \n4        Leandro Zbinden  Super League  BSC Young Boys       1.Liga   \n...                  ...           ...             ...          ...   \n7187    Vaclav Prochazka  Fortuna Liga    Trinity Zlin       1.Liga   \n7188      Lukas Bartosak  Fortuna Liga    Trinity Zlin       1.Liga   \n7189        Adam Hlousek  Fortuna Liga    Trinity Zlin       1.Liga   \n7190      Martin Cedidla  Fortuna Liga    Trinity Zlin       1.Liga   \n7191         Joss Didiba  Fortuna Liga    Trinity Zlin       1.Liga   \n\n                                market_value market_value_currency  ...  \\\n0     2,50 Mio. €Letzte Änderung: 10.11.2022                Mio. €  ...   \n1     1,30 Mio. €Letzte Änderung: 28.03.2023                Mio. €  ...   \n2      500 Tsd. €Letzte Änderung: 29.12.2022                Tsd. €  ...   \n3      100 Tsd. €Letzte Änderung: 28.03.2023                Tsd. €  ...   \n4      100 Tsd. €Letzte Änderung: 10.11.2022                Tsd. €  ...   \n...                                      ...                   ...  ...   \n7187    50 Tsd. €Letzte Änderung: 14.12.2022                Tsd. €  ...   \n7188   225 Tsd. €Letzte Änderung: 14.12.2022                Tsd. €  ...   \n7189   150 Tsd. €Letzte Änderung: 14.12.2022                Tsd. €  ...   \n7190   300 Tsd. €Letzte Änderung: 14.12.2022                Tsd. €  ...   \n7191   200 Tsd. €Letzte Änderung: 14.12.2022                Tsd. €  ...   \n\n     assists own_goals  ins  outs yellow_cards yellow_red_cards red_cards  \\\n0        NaN         -    -     1            -                -         -   \n1        NaN         -    1     -            -                -         -   \n2        NaN         -    -     -            -                -         -   \n3        NaN         -    -     -            -                -         -   \n4        NaN       NaN  NaN   NaN          NaN              NaN       NaN   \n...      ...       ...  ...   ...          ...              ...       ...   \n7187       -         -    -     1            4                1         -   \n7188     NaN       NaN  NaN   NaN          NaN              NaN       NaN   \n7189       -         -    2     -            -                -         -   \n7190     NaN       NaN  NaN   NaN          NaN              NaN       NaN   \n7191       -         2    7     6            3                -         1   \n\n     penalty_goals minutes_per_goal minutes  \n0              NaN              NaN  1.324'  \n1              NaN              NaN  1.196'  \n2              NaN              NaN       -  \n3              NaN              NaN       -  \n4              NaN              NaN     NaN  \n...            ...              ...     ...  \n7187             -           2.035'  2.035'  \n7188           NaN              NaN     NaN  \n7189             -                -     12'  \n7190           NaN              NaN     NaN  \n7191             -           1.157'  1.157'  \n\n[7192 rows x 48 columns]",
      "text/html": "<div>\n<style scoped>\n    .dataframe tbody tr th:only-of-type {\n        vertical-align: middle;\n    }\n\n    .dataframe tbody tr th {\n        vertical-align: top;\n    }\n\n    .dataframe thead th {\n        text-align: right;\n    }\n</style>\n<table border=\"1\" class=\"dataframe\">\n  <thead>\n    <tr style=\"text-align: right;\">\n      <th></th>\n      <th>league_country</th>\n      <th>scraping_time</th>\n      <th>link</th>\n      <th>no</th>\n      <th>name</th>\n      <th>league</th>\n      <th>club</th>\n      <th>league_level</th>\n      <th>market_value</th>\n      <th>market_value_currency</th>\n      <th>...</th>\n      <th>assists</th>\n      <th>own_goals</th>\n      <th>ins</th>\n      <th>outs</th>\n      <th>yellow_cards</th>\n      <th>yellow_red_cards</th>\n      <th>red_cards</th>\n      <th>penalty_goals</th>\n      <th>minutes_per_goal</th>\n      <th>minutes</th>\n    </tr>\n  </thead>\n  <tbody>\n    <tr>\n      <th>0</th>\n      <td>Schweiz</td>\n      <td>20230422151815</td>\n      <td>https://www.transfermarkt.ch/david-von-ballmoo...</td>\n      <td>26.0</td>\n      <td>David von Ballmoos</td>\n      <td>Super League</td>\n      <td>BSC Young Boys</td>\n      <td>1.Liga</td>\n      <td>2,50 Mio. €Letzte Änderung: 10.11.2022</td>\n      <td>Mio. €</td>\n      <td>...</td>\n      <td>NaN</td>\n      <td>-</td>\n      <td>-</td>\n      <td>1</td>\n      <td>-</td>\n      <td>-</td>\n      <td>-</td>\n      <td>NaN</td>\n      <td>NaN</td>\n      <td>1.324'</td>\n    </tr>\n    <tr>\n      <th>1</th>\n      <td>Schweiz</td>\n      <td>20230422151843</td>\n      <td>https://www.transfermarkt.ch/anthony-racioppi/...</td>\n      <td>1.0</td>\n      <td>Anthony Racioppi</td>\n      <td>Super League</td>\n      <td>BSC Young Boys</td>\n      <td>1.Liga</td>\n      <td>1,30 Mio. €Letzte Änderung: 28.03.2023</td>\n      <td>Mio. €</td>\n      <td>...</td>\n      <td>NaN</td>\n      <td>-</td>\n      <td>1</td>\n      <td>-</td>\n      <td>-</td>\n      <td>-</td>\n      <td>-</td>\n      <td>NaN</td>\n      <td>NaN</td>\n      <td>1.196'</td>\n    </tr>\n    <tr>\n      <th>2</th>\n      <td>Schweiz</td>\n      <td>20230422151901</td>\n      <td>https://www.transfermarkt.ch/marvin-keller/pro...</td>\n      <td>33.0</td>\n      <td>Marvin Keller</td>\n      <td>Super League</td>\n      <td>BSC Young Boys</td>\n      <td>1.Liga</td>\n      <td>500 Tsd. €Letzte Änderung: 29.12.2022</td>\n      <td>Tsd. €</td>\n      <td>...</td>\n      <td>NaN</td>\n      <td>-</td>\n      <td>-</td>\n      <td>-</td>\n      <td>-</td>\n      <td>-</td>\n      <td>-</td>\n      <td>NaN</td>\n      <td>NaN</td>\n      <td>-</td>\n    </tr>\n    <tr>\n      <th>3</th>\n      <td>Schweiz</td>\n      <td>20230422151932</td>\n      <td>https://www.transfermarkt.ch/dario-marzino/pro...</td>\n      <td>40.0</td>\n      <td>Dario Marzino</td>\n      <td>Super League</td>\n      <td>BSC Young Boys</td>\n      <td>1.Liga</td>\n      <td>100 Tsd. €Letzte Änderung: 28.03.2023</td>\n      <td>Tsd. €</td>\n      <td>...</td>\n      <td>NaN</td>\n      <td>-</td>\n      <td>-</td>\n      <td>-</td>\n      <td>-</td>\n      <td>-</td>\n      <td>-</td>\n      <td>NaN</td>\n      <td>NaN</td>\n      <td>-</td>\n    </tr>\n    <tr>\n      <th>4</th>\n      <td>Schweiz</td>\n      <td>20230422151954</td>\n      <td>https://www.transfermarkt.ch/leandro-zbinden/p...</td>\n      <td>61.0</td>\n      <td>Leandro Zbinden</td>\n      <td>Super League</td>\n      <td>BSC Young Boys</td>\n      <td>1.Liga</td>\n      <td>100 Tsd. €Letzte Änderung: 10.11.2022</td>\n      <td>Tsd. €</td>\n      <td>...</td>\n      <td>NaN</td>\n      <td>NaN</td>\n      <td>NaN</td>\n      <td>NaN</td>\n      <td>NaN</td>\n      <td>NaN</td>\n      <td>NaN</td>\n      <td>NaN</td>\n      <td>NaN</td>\n      <td>NaN</td>\n    </tr>\n    <tr>\n      <th>...</th>\n      <td>...</td>\n      <td>...</td>\n      <td>...</td>\n      <td>...</td>\n      <td>...</td>\n      <td>...</td>\n      <td>...</td>\n      <td>...</td>\n      <td>...</td>\n      <td>...</td>\n      <td>...</td>\n      <td>...</td>\n      <td>...</td>\n      <td>...</td>\n      <td>...</td>\n      <td>...</td>\n      <td>...</td>\n      <td>...</td>\n      <td>...</td>\n      <td>...</td>\n      <td>...</td>\n    </tr>\n    <tr>\n      <th>7187</th>\n      <td>Tschechien</td>\n      <td>20230422223256</td>\n      <td>https://www.transfermarkt.ch/vaclav-prochazka/...</td>\n      <td>26.0</td>\n      <td>Vaclav Prochazka</td>\n      <td>Fortuna Liga</td>\n      <td>Trinity Zlin</td>\n      <td>1.Liga</td>\n      <td>50 Tsd. €Letzte Änderung: 14.12.2022</td>\n      <td>Tsd. €</td>\n      <td>...</td>\n      <td>-</td>\n      <td>-</td>\n      <td>-</td>\n      <td>1</td>\n      <td>4</td>\n      <td>1</td>\n      <td>-</td>\n      <td>-</td>\n      <td>2.035'</td>\n      <td>2.035'</td>\n    </tr>\n    <tr>\n      <th>7188</th>\n      <td>Tschechien</td>\n      <td>20230422223315</td>\n      <td>https://www.transfermarkt.ch/lukas-bartosak/pr...</td>\n      <td>31.0</td>\n      <td>Lukas Bartosak</td>\n      <td>Fortuna Liga</td>\n      <td>Trinity Zlin</td>\n      <td>1.Liga</td>\n      <td>225 Tsd. €Letzte Änderung: 14.12.2022</td>\n      <td>Tsd. €</td>\n      <td>...</td>\n      <td>NaN</td>\n      <td>NaN</td>\n      <td>NaN</td>\n      <td>NaN</td>\n      <td>NaN</td>\n      <td>NaN</td>\n      <td>NaN</td>\n      <td>NaN</td>\n      <td>NaN</td>\n      <td>NaN</td>\n    </tr>\n    <tr>\n      <th>7189</th>\n      <td>Tschechien</td>\n      <td>20230422223334</td>\n      <td>https://www.transfermarkt.ch/adam-hlousek/prof...</td>\n      <td>5.0</td>\n      <td>Adam Hlousek</td>\n      <td>Fortuna Liga</td>\n      <td>Trinity Zlin</td>\n      <td>1.Liga</td>\n      <td>150 Tsd. €Letzte Änderung: 14.12.2022</td>\n      <td>Tsd. €</td>\n      <td>...</td>\n      <td>-</td>\n      <td>-</td>\n      <td>2</td>\n      <td>-</td>\n      <td>-</td>\n      <td>-</td>\n      <td>-</td>\n      <td>-</td>\n      <td>-</td>\n      <td>12'</td>\n    </tr>\n    <tr>\n      <th>7190</th>\n      <td>Tschechien</td>\n      <td>20230422223352</td>\n      <td>https://www.transfermarkt.ch/martin-cedidla/pr...</td>\n      <td>14.0</td>\n      <td>Martin Cedidla</td>\n      <td>Fortuna Liga</td>\n      <td>Trinity Zlin</td>\n      <td>1.Liga</td>\n      <td>300 Tsd. €Letzte Änderung: 14.12.2022</td>\n      <td>Tsd. €</td>\n      <td>...</td>\n      <td>NaN</td>\n      <td>NaN</td>\n      <td>NaN</td>\n      <td>NaN</td>\n      <td>NaN</td>\n      <td>NaN</td>\n      <td>NaN</td>\n      <td>NaN</td>\n      <td>NaN</td>\n      <td>NaN</td>\n    </tr>\n    <tr>\n      <th>7191</th>\n      <td>Tschechien</td>\n      <td>20230422223406</td>\n      <td>https://www.transfermarkt.ch/joss-didiba/profi...</td>\n      <td>6.0</td>\n      <td>Joss Didiba</td>\n      <td>Fortuna Liga</td>\n      <td>Trinity Zlin</td>\n      <td>1.Liga</td>\n      <td>200 Tsd. €Letzte Änderung: 14.12.2022</td>\n      <td>Tsd. €</td>\n      <td>...</td>\n      <td>-</td>\n      <td>2</td>\n      <td>7</td>\n      <td>6</td>\n      <td>3</td>\n      <td>-</td>\n      <td>1</td>\n      <td>-</td>\n      <td>1.157'</td>\n      <td>1.157'</td>\n    </tr>\n  </tbody>\n</table>\n<p>7192 rows × 48 columns</p>\n</div>"
     },
     "execution_count": 42,
     "metadata": {},
     "output_type": "execute_result"
    }
   ],
   "source": [
    "df = pd.DataFrame()\n",
    "\n",
    "for i in range(1, 7):\n",
    "    partial_df = pd.read_csv(f\"scraped_data/players_{timestamp}_{i}.csv\", sep=';')\n",
    "    df = pd.concat([df, partial_df])\n",
    "\n",
    "df = df.reset_index(drop=True)\n",
    "df"
   ],
   "metadata": {
    "collapsed": false,
    "ExecuteTime": {
     "start_time": "2023-04-23T10:04:13.427396Z",
     "end_time": "2023-04-23T10:04:13.508174Z"
    }
   }
  },
  {
   "cell_type": "code",
   "execution_count": 43,
   "outputs": [],
   "source": [
    "# handle faulty records\n",
    "df.loc[df['contract_until'] == '00.00.0', 'contract_until'] = np.NaN\n"
   ],
   "metadata": {
    "collapsed": false,
    "ExecuteTime": {
     "start_time": "2023-04-23T10:04:13.511180Z",
     "end_time": "2023-04-23T10:04:13.512466Z"
    }
   }
  },
  {
   "cell_type": "code",
   "execution_count": 48,
   "outputs": [
    {
     "ename": "KeyError",
     "evalue": "'market_value'",
     "output_type": "error",
     "traceback": [
      "\u001B[0;31m---------------------------------------------------------------------------\u001B[0m",
      "\u001B[0;31mKeyError\u001B[0m                                  Traceback (most recent call last)",
      "File \u001B[0;32m~/opt/miniconda3/envs/jonas/lib/python3.10/site-packages/pandas/core/indexes/base.py:3803\u001B[0m, in \u001B[0;36mIndex.get_loc\u001B[0;34m(self, key, method, tolerance)\u001B[0m\n\u001B[1;32m   3802\u001B[0m \u001B[38;5;28;01mtry\u001B[39;00m:\n\u001B[0;32m-> 3803\u001B[0m     \u001B[38;5;28;01mreturn\u001B[39;00m \u001B[38;5;28;43mself\u001B[39;49m\u001B[38;5;241;43m.\u001B[39;49m\u001B[43m_engine\u001B[49m\u001B[38;5;241;43m.\u001B[39;49m\u001B[43mget_loc\u001B[49m\u001B[43m(\u001B[49m\u001B[43mcasted_key\u001B[49m\u001B[43m)\u001B[49m\n\u001B[1;32m   3804\u001B[0m \u001B[38;5;28;01mexcept\u001B[39;00m \u001B[38;5;167;01mKeyError\u001B[39;00m \u001B[38;5;28;01mas\u001B[39;00m err:\n",
      "File \u001B[0;32m~/opt/miniconda3/envs/jonas/lib/python3.10/site-packages/pandas/_libs/index.pyx:138\u001B[0m, in \u001B[0;36mpandas._libs.index.IndexEngine.get_loc\u001B[0;34m()\u001B[0m\n",
      "File \u001B[0;32m~/opt/miniconda3/envs/jonas/lib/python3.10/site-packages/pandas/_libs/index.pyx:165\u001B[0m, in \u001B[0;36mpandas._libs.index.IndexEngine.get_loc\u001B[0;34m()\u001B[0m\n",
      "File \u001B[0;32mpandas/_libs/hashtable_class_helper.pxi:5745\u001B[0m, in \u001B[0;36mpandas._libs.hashtable.PyObjectHashTable.get_item\u001B[0;34m()\u001B[0m\n",
      "File \u001B[0;32mpandas/_libs/hashtable_class_helper.pxi:5753\u001B[0m, in \u001B[0;36mpandas._libs.hashtable.PyObjectHashTable.get_item\u001B[0;34m()\u001B[0m\n",
      "\u001B[0;31mKeyError\u001B[0m: 'market_value'",
      "\nThe above exception was the direct cause of the following exception:\n",
      "\u001B[0;31mKeyError\u001B[0m                                  Traceback (most recent call last)",
      "Cell \u001B[0;32mIn[48], line 14\u001B[0m\n\u001B[1;32m     10\u001B[0m     \u001B[38;5;28;01melse\u001B[39;00m:\n\u001B[1;32m     11\u001B[0m         \u001B[38;5;28;01mraise\u001B[39;00m \u001B[38;5;167;01mValueError\u001B[39;00m(value_as_string)\n\u001B[0;32m---> 14\u001B[0m df[\u001B[38;5;124m'\u001B[39m\u001B[38;5;124mmarket_value\u001B[39m\u001B[38;5;124m'\u001B[39m] \u001B[38;5;241m=\u001B[39m df[\u001B[43mdf\u001B[49m\u001B[43m[\u001B[49m\u001B[38;5;124;43m'\u001B[39;49m\u001B[38;5;124;43mmarket_value\u001B[39;49m\u001B[38;5;124;43m'\u001B[39;49m\u001B[43m]\u001B[49m\u001B[38;5;241m.\u001B[39mnotna()][\u001B[38;5;124m'\u001B[39m\u001B[38;5;124mmarket_value\u001B[39m\u001B[38;5;124m'\u001B[39m]\u001B[38;5;241m.\u001B[39mapply(parse_market_value_with_latest_change)\n\u001B[1;32m     15\u001B[0m df[\u001B[38;5;124m'\u001B[39m\u001B[38;5;124mmarket_value_currency\u001B[39m\u001B[38;5;124m'\u001B[39m] \u001B[38;5;241m=\u001B[39m df[df[\u001B[38;5;124m'\u001B[39m\u001B[38;5;124mmarket_value_currency\u001B[39m\u001B[38;5;124m'\u001B[39m]\u001B[38;5;241m.\u001B[39mnotna()][\u001B[38;5;124m'\u001B[39m\u001B[38;5;124mmarket_value_currency\u001B[39m\u001B[38;5;124m'\u001B[39m]\u001B[38;5;241m.\u001B[39mstr[\u001B[38;5;241m-\u001B[39m\u001B[38;5;241m1\u001B[39m:]\n\u001B[1;32m     16\u001B[0m df[\u001B[38;5;124m'\u001B[39m\u001B[38;5;124mmarket_value_latest_correction\u001B[39m\u001B[38;5;124m'\u001B[39m] \u001B[38;5;241m=\u001B[39m pd\u001B[38;5;241m.\u001B[39mto_datetime(df[df[\u001B[38;5;124m'\u001B[39m\u001B[38;5;124mmarket_value_latest_correction\u001B[39m\u001B[38;5;124m'\u001B[39m]\u001B[38;5;241m.\u001B[39mnotna()][\u001B[38;5;124m'\u001B[39m\u001B[38;5;124mmarket_value_latest_correction\u001B[39m\u001B[38;5;124m'\u001B[39m]\u001B[38;5;241m.\u001B[39mstr[\u001B[38;5;241m-\u001B[39m\u001B[38;5;241m10\u001B[39m:], \u001B[38;5;28mformat\u001B[39m\u001B[38;5;241m=\u001B[39m\u001B[38;5;124m'\u001B[39m\u001B[38;5;132;01m%d\u001B[39;00m\u001B[38;5;124m.\u001B[39m\u001B[38;5;124m%\u001B[39m\u001B[38;5;124mm.\u001B[39m\u001B[38;5;124m%\u001B[39m\u001B[38;5;124mY\u001B[39m\u001B[38;5;124m'\u001B[39m)\n",
      "File \u001B[0;32m~/opt/miniconda3/envs/jonas/lib/python3.10/site-packages/pandas/core/frame.py:3804\u001B[0m, in \u001B[0;36mDataFrame.__getitem__\u001B[0;34m(self, key)\u001B[0m\n\u001B[1;32m   3802\u001B[0m \u001B[38;5;28;01mif\u001B[39;00m \u001B[38;5;28mself\u001B[39m\u001B[38;5;241m.\u001B[39mcolumns\u001B[38;5;241m.\u001B[39mnlevels \u001B[38;5;241m>\u001B[39m \u001B[38;5;241m1\u001B[39m:\n\u001B[1;32m   3803\u001B[0m     \u001B[38;5;28;01mreturn\u001B[39;00m \u001B[38;5;28mself\u001B[39m\u001B[38;5;241m.\u001B[39m_getitem_multilevel(key)\n\u001B[0;32m-> 3804\u001B[0m indexer \u001B[38;5;241m=\u001B[39m \u001B[38;5;28;43mself\u001B[39;49m\u001B[38;5;241;43m.\u001B[39;49m\u001B[43mcolumns\u001B[49m\u001B[38;5;241;43m.\u001B[39;49m\u001B[43mget_loc\u001B[49m\u001B[43m(\u001B[49m\u001B[43mkey\u001B[49m\u001B[43m)\u001B[49m\n\u001B[1;32m   3805\u001B[0m \u001B[38;5;28;01mif\u001B[39;00m is_integer(indexer):\n\u001B[1;32m   3806\u001B[0m     indexer \u001B[38;5;241m=\u001B[39m [indexer]\n",
      "File \u001B[0;32m~/opt/miniconda3/envs/jonas/lib/python3.10/site-packages/pandas/core/indexes/base.py:3805\u001B[0m, in \u001B[0;36mIndex.get_loc\u001B[0;34m(self, key, method, tolerance)\u001B[0m\n\u001B[1;32m   3803\u001B[0m     \u001B[38;5;28;01mreturn\u001B[39;00m \u001B[38;5;28mself\u001B[39m\u001B[38;5;241m.\u001B[39m_engine\u001B[38;5;241m.\u001B[39mget_loc(casted_key)\n\u001B[1;32m   3804\u001B[0m \u001B[38;5;28;01mexcept\u001B[39;00m \u001B[38;5;167;01mKeyError\u001B[39;00m \u001B[38;5;28;01mas\u001B[39;00m err:\n\u001B[0;32m-> 3805\u001B[0m     \u001B[38;5;28;01mraise\u001B[39;00m \u001B[38;5;167;01mKeyError\u001B[39;00m(key) \u001B[38;5;28;01mfrom\u001B[39;00m \u001B[38;5;21;01merr\u001B[39;00m\n\u001B[1;32m   3806\u001B[0m \u001B[38;5;28;01mexcept\u001B[39;00m \u001B[38;5;167;01mTypeError\u001B[39;00m:\n\u001B[1;32m   3807\u001B[0m     \u001B[38;5;66;03m# If we have a listlike key, _check_indexing_error will raise\u001B[39;00m\n\u001B[1;32m   3808\u001B[0m     \u001B[38;5;66;03m#  InvalidIndexError. Otherwise we fall through and re-raise\u001B[39;00m\n\u001B[1;32m   3809\u001B[0m     \u001B[38;5;66;03m#  the TypeError.\u001B[39;00m\n\u001B[1;32m   3810\u001B[0m     \u001B[38;5;28mself\u001B[39m\u001B[38;5;241m.\u001B[39m_check_indexing_error(key)\n",
      "\u001B[0;31mKeyError\u001B[0m: 'market_value'"
     ]
    }
   ],
   "source": [
    "def parse_market_value_with_latest_change(scraped_string):\n",
    "    return parse_market_value(scraped_string[:scraped_string.find('Letzte Änderung')])\n",
    "\n",
    "def parse_market_value(scraped_string):\n",
    "    value_as_string = scraped_string.strip().replace(',', '.')\n",
    "    if value_as_string[-6:] == 'Mio. €':\n",
    "        return float(value_as_string[:-6]) * 1000000\n",
    "    elif value_as_string[-6:] == 'Tsd. €':\n",
    "        return float(value_as_string[:-6]) * 1000\n",
    "    else:\n",
    "        raise ValueError(value_as_string)\n",
    "\n",
    "\n",
    "df['market_value'] = df[df['market_value'].notna()]['market_value'].apply(parse_market_value_with_latest_change)\n",
    "df['market_value_currency'] = df[df['market_value_currency'].notna()]['market_value_currency'].str[-1:]\n",
    "df['market_value_latest_correction'] = pd.to_datetime(df[df['market_value_latest_correction'].notna()]['market_value_latest_correction'].str[-10:], format='%d.%m.%Y')\n",
    "df['highest_market_value'] = df[df['highest_market_value'].notna()]['highest_market_value'].apply(parse_market_value)\n",
    "df['highest_market_value_date'] = pd.to_datetime(df[df['highest_market_value_date'].notna()]['highest_market_value_date'], format='%d.%m.%Y')\n",
    "df['height'] = df[df['height'].notna()]['height'].str[:-2].str.replace(',', '.', regex=False).astype(float) * 100\n",
    "df['club_since'] = pd.to_datetime(df['club_since'].replace('-', np.NaN), format='%d.%m.%Y')\n",
    "df['contract_until'] = pd.to_datetime(df['contract_until'].replace('-', np.NaN), format='%d.%m.%Y')\n",
    "for col in ['goals_conceded', 'clean_sheets', 'games', 'points_per_game', 'goals', 'assists', 'own_goals', 'ins', 'outs', 'yellow_cards', 'yellow_red_cards', 'red_cards', 'penalty_goals', 'minutes_per_goal', 'minutes']:\n",
    "    df[col] = df[col].replace('-', 0)\n",
    "df['points_per_game'] = df[df['points_per_game'].notna()]['points_per_game'].str.replace(',', '.', regex=False)\n",
    "for col in ['minutes_per_goal', 'minutes']:\n",
    "    df[col] = df[df[col].notna()][col].str.replace('\\'', '', regex=False).str.replace('.', '', regex=False)\n",
    "\n",
    "df.loc[df['international'].notnull(), 'international_team'] = df['international']\n",
    "df.loc[df['international_active'].notnull(), 'international_team'] = df['international_active']\n",
    "df.loc[df['former_international'].notnull(), 'international_team'] = df['former_international']\n",
    "df['international_active'] = df['international_active'].notna().astype(int)\n",
    "df['former_international'] = df['former_international'].notna().astype(int)\n",
    "df[['international', 'international_active', 'former_international', 'international_team']].head(20)\n",
    "df = df.drop('international', axis=1)\n",
    "\n"
   ],
   "metadata": {
    "collapsed": false,
    "ExecuteTime": {
     "start_time": "2023-04-23T10:04:13.523105Z",
     "end_time": "2023-04-23T10:04:13.624456Z"
    }
   }
  },
  {
   "cell_type": "code",
   "execution_count": 45,
   "outputs": [],
   "source": [
    "df = df.rename(columns={'league_country': 'LeagueCountry', 'scraping_time': 'ScrapingTime', 'link': 'Source', 'no': 'No', 'name': 'Name', 'league': 'League', 'club': 'Club', 'league_level': 'NationalLeagueLevel', 'market_value': 'Value', 'market_value_currency': 'ValueCurrency', 'market_value_latest_correction': 'ValueLastUpdate', 'highest_market_value': 'HighestValue', 'highest_market_value_date': 'HighestValueDate', 'age': 'Age', 'height': 'Height', 'nationality': 'Nationality', 'position': 'Position', 'foot': 'Foot', 'consultancy': 'Consultancy', 'supplier': 'Supplier', 'club_since': 'ClubSince', 'contract_until': 'ContractUntil', 'international_team': 'InternationalTeam', 'international_active': 'ActiveInternational', 'former_international': 'FormerInternational', 'international_games': 'InternationalGames', 'international_goals': 'InternationalGoals', 'starting_eleven_quote': 'StartingElevenQuote', 'minutes_quote': 'MinutesQuote', 'penalty_saves_quote': 'TwPenaltySavesQuote', 'goal_participation_quote': 'FsGoalParticipationQuote', 'instagram': 'Instagram', 'injury': 'Injury', 'goals_conceded': 'TwGoalsConceded', 'clean_sheets': 'TwCleanSheets', 'games': 'Games', 'points_per_game': 'PointsPerGame', 'goals': 'Goals', 'assists': 'FsAssists', 'own_goals': 'OwnGoals', 'ins': 'Ins', 'outs': 'Outs', 'yellow_cards': 'YellowCards', 'yellow_red_cards': 'YellowRedCards', 'red_cards': 'RedCards', 'penalty_goals': 'FsPenaltyGoals', 'minutes_per_goal': 'FsMinutesPerGoal', 'minutes': 'Minutes'})\n",
    "\n",
    "df = df[['LeagueCountry', 'League', 'NationalLeagueLevel', 'Club', 'No', 'Name', 'Value', 'ValueLastUpdate', 'HighestValue', 'HighestValueDate', 'ValueCurrency', 'Age', 'Height', 'Nationality', 'Foot', 'Position', 'Consultancy', 'Supplier', 'ClubSince', 'ContractUntil', 'Injury', 'InternationalTeam', 'ActiveInternational', 'FormerInternational', 'InternationalGames', 'InternationalGoals', 'StartingElevenQuote','MinutesQuote', 'TwPenaltySavesQuote', 'FsGoalParticipationQuote', 'Games', 'PointsPerGame', 'Goals', 'OwnGoals', 'Ins', 'Outs', 'YellowCards', 'YellowRedCards', 'RedCards', 'Minutes', 'TwGoalsConceded', 'TwCleanSheets', 'FsAssists', 'FsPenaltyGoals', 'FsMinutesPerGoal', 'Instagram',  'Source', 'ScrapingTime']]"
   ],
   "metadata": {
    "collapsed": false,
    "ExecuteTime": {
     "start_time": "2023-04-23T10:04:13.631858Z",
     "end_time": "2023-04-23T10:04:13.636240Z"
    }
   }
  },
  {
   "cell_type": "code",
   "execution_count": 46,
   "outputs": [
    {
     "name": "stdout",
     "output_type": "stream",
     "text": [
      "<class 'pandas.core.frame.DataFrame'>\n",
      "RangeIndex: 7192 entries, 0 to 7191\n",
      "Data columns (total 48 columns):\n",
      " #   Column                    Non-Null Count  Dtype         \n",
      "---  ------                    --------------  -----         \n",
      " 0   LeagueCountry             7192 non-null   object        \n",
      " 1   League                    7156 non-null   object        \n",
      " 2   NationalLeagueLevel       7156 non-null   object        \n",
      " 3   Club                      7190 non-null   object        \n",
      " 4   No                        6954 non-null   float64       \n",
      " 5   Name                      7190 non-null   object        \n",
      " 6   Value                     6954 non-null   float64       \n",
      " 7   ValueLastUpdate           6954 non-null   datetime64[ns]\n",
      " 8   HighestValue              7002 non-null   float64       \n",
      " 9   HighestValueDate          7002 non-null   datetime64[ns]\n",
      " 10  ValueCurrency             6954 non-null   object        \n",
      " 11  Age                       7190 non-null   float64       \n",
      " 12  Height                    6471 non-null   float64       \n",
      " 13  Nationality               7190 non-null   object        \n",
      " 14  Foot                      6136 non-null   object        \n",
      " 15  Position                  7190 non-null   object        \n",
      " 16  Consultancy               5509 non-null   object        \n",
      " 17  Supplier                  988 non-null    object        \n",
      " 18  ClubSince                 7168 non-null   datetime64[ns]\n",
      " 19  ContractUntil             6788 non-null   datetime64[ns]\n",
      " 20  Injury                    7192 non-null   int64         \n",
      " 21  InternationalTeam         4632 non-null   object        \n",
      " 22  ActiveInternational       7192 non-null   int64         \n",
      " 23  FormerInternational       7192 non-null   int64         \n",
      " 24  InternationalGames        4632 non-null   float64       \n",
      " 25  InternationalGoals        4632 non-null   float64       \n",
      " 26  StartingElevenQuote       6836 non-null   float64       \n",
      " 27  MinutesQuote              6836 non-null   float64       \n",
      " 28  TwPenaltySavesQuote       774 non-null    float64       \n",
      " 29  FsGoalParticipationQuote  6062 non-null   float64       \n",
      " 30  Games                     5298 non-null   object        \n",
      " 31  PointsPerGame             4977 non-null   object        \n",
      " 32  Goals                     5298 non-null   object        \n",
      " 33  OwnGoals                  5298 non-null   object        \n",
      " 34  Ins                       5298 non-null   object        \n",
      " 35  Outs                      5298 non-null   object        \n",
      " 36  YellowCards               5298 non-null   object        \n",
      " 37  YellowRedCards            5298 non-null   object        \n",
      " 38  RedCards                  5298 non-null   object        \n",
      " 39  Minutes                   4954 non-null   object        \n",
      " 40  TwGoalsConceded           600 non-null    object        \n",
      " 41  TwCleanSheets             600 non-null    object        \n",
      " 42  FsAssists                 4698 non-null   object        \n",
      " 43  FsPenaltyGoals            4698 non-null   object        \n",
      " 44  FsMinutesPerGoal          2458 non-null   object        \n",
      " 45  Instagram                 2358 non-null   object        \n",
      " 46  Source                    7192 non-null   object        \n",
      " 47  ScrapingTime              7192 non-null   int64         \n",
      "dtypes: datetime64[ns](4), float64(11), int64(4), object(29)\n",
      "memory usage: 2.6+ MB\n"
     ]
    }
   ],
   "source": [
    "df.info()"
   ],
   "metadata": {
    "collapsed": false,
    "ExecuteTime": {
     "start_time": "2023-04-23T10:04:13.649142Z",
     "end_time": "2023-04-23T10:04:13.659321Z"
    }
   }
  },
  {
   "cell_type": "code",
   "execution_count": 47,
   "outputs": [],
   "source": [
    "df.to_csv(f\"cleansed_data/players_{timestamp}.csv\", sep=';', index=False)"
   ],
   "metadata": {
    "collapsed": false,
    "ExecuteTime": {
     "start_time": "2023-04-23T10:04:13.659748Z",
     "end_time": "2023-04-23T10:04:13.726617Z"
    }
   }
  }
 ],
 "metadata": {
  "kernelspec": {
   "display_name": "Python 3",
   "language": "python",
   "name": "python3"
  },
  "language_info": {
   "codemirror_mode": {
    "name": "ipython",
    "version": 2
   },
   "file_extension": ".py",
   "mimetype": "text/x-python",
   "name": "python",
   "nbconvert_exporter": "python",
   "pygments_lexer": "ipython2",
   "version": "2.7.6"
  }
 },
 "nbformat": 4,
 "nbformat_minor": 0
}
