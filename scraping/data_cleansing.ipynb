{
 "cells": [
  {
   "cell_type": "code",
   "execution_count": 1,
   "metadata": {
    "collapsed": true,
    "ExecuteTime": {
     "start_time": "2023-04-26T15:36:37.040795Z",
     "end_time": "2023-04-26T15:36:37.509707Z"
    }
   },
   "outputs": [],
   "source": [
    "import numpy as np\n",
    "import pandas as pd"
   ]
  },
  {
   "cell_type": "code",
   "execution_count": 2,
   "outputs": [],
   "source": [
    "timestamp = '20230425190937'"
   ],
   "metadata": {
    "collapsed": false,
    "ExecuteTime": {
     "start_time": "2023-04-26T15:36:38.911877Z",
     "end_time": "2023-04-26T15:36:38.919454Z"
    }
   }
  },
  {
   "cell_type": "code",
   "execution_count": 6,
   "outputs": [
    {
     "data": {
      "text/plain": "      league_country   scraping_time  \\\n0            Schweiz  20230425190948   \n1            Schweiz  20230425191002   \n2            Schweiz  20230425191015   \n3            Schweiz  20230425191033   \n4            Schweiz  20230425191056   \n...              ...             ...   \n18330       Norwegen  20230426091213   \n18331       Norwegen  20230426091231   \n18332       Norwegen  20230426091252   \n18333       Norwegen  20230426091307   \n18334       Norwegen  20230426091323   \n\n                                                    link    no  \\\n0      https://www.transfermarkt.ch/david-von-ballmoo...  26.0   \n1      https://www.transfermarkt.ch/anthony-racioppi/...   1.0   \n2      https://www.transfermarkt.ch/marvin-keller/pro...  33.0   \n3      https://www.transfermarkt.ch/dario-marzino/pro...  40.0   \n4      https://www.transfermarkt.ch/leandro-zbinden/p...  61.0   \n...                                                  ...   ...   \n18330  https://www.transfermarkt.ch/gilbert-koomson/p...   7.0   \n18331  https://www.transfermarkt.ch/youssef-chaib/pro...  11.0   \n18332  https://www.transfermarkt.ch/jakob-dunsby/prof...  27.0   \n18333  https://www.transfermarkt.ch/alexander-ruud-tv...   9.0   \n18334  https://www.transfermarkt.ch/wally-njie/profil...  16.0   \n\n                        name        league            club league_level  \\\n0         David von Ballmoos  Super League  BSC Young Boys       1.Liga   \n1           Anthony Racioppi  Super League  BSC Young Boys       1.Liga   \n2              Marvin Keller  Super League  BSC Young Boys       1.Liga   \n3              Dario Marzino  Super League  BSC Young Boys       1.Liga   \n4            Leandro Zbinden  Super League  BSC Young Boys       1.Liga   \n...                      ...           ...             ...          ...   \n18330        Gilbert Koomson   Eliteserien      Sandefjord       1.Liga   \n18331          Youssef Chaib   Eliteserien      Sandefjord       1.Liga   \n18332           Jakob Dunsby   Eliteserien      Sandefjord       1.Liga   \n18333  Alexander Ruud Tveter   Eliteserien      Sandefjord       1.Liga   \n18334             Wally Njie   Eliteserien      Sandefjord       1.Liga   \n\n                                 market_value market_value_currency  ...  \\\n0      2,50 Mio. €Letzte Änderung: 10.11.2022                Mio. €  ...   \n1      1,30 Mio. €Letzte Änderung: 28.03.2023                Mio. €  ...   \n2       500 Tsd. €Letzte Änderung: 29.12.2022                Tsd. €  ...   \n3       100 Tsd. €Letzte Änderung: 28.03.2023                Tsd. €  ...   \n4       100 Tsd. €Letzte Änderung: 10.11.2022                Tsd. €  ...   \n...                                       ...                   ...  ...   \n18330   450 Tsd. €Letzte Änderung: 09.12.2022                Tsd. €  ...   \n18331   100 Tsd. €Letzte Änderung: 09.12.2022                Tsd. €  ...   \n18332   100 Tsd. €Letzte Änderung: 02.02.2023                Tsd. €  ...   \n18333   300 Tsd. €Letzte Änderung: 09.12.2022                Tsd. €  ...   \n18334    50 Tsd. €Letzte Änderung: 09.12.2022                Tsd. €  ...   \n\n      assists own_goals  ins  outs yellow_cards yellow_red_cards red_cards  \\\n0         NaN         -    -     1            -                -         -   \n1         NaN         -    1     -            -                -         -   \n2         NaN         -    -     -            -                -         -   \n3         NaN         -    -     -            -                -         -   \n4         NaN       NaN  NaN   NaN          NaN              NaN       NaN   \n...       ...       ...  ...   ...          ...              ...       ...   \n18330       -         -    2     1            -                -         -   \n18331     NaN       NaN  NaN   NaN          NaN              NaN       NaN   \n18332       -         -    1     2            -                -         -   \n18333     NaN       NaN  NaN   NaN          NaN              NaN       NaN   \n18334     NaN       NaN  NaN   NaN          NaN              NaN       NaN   \n\n      penalty_goals minutes_per_goal minutes  \n0               NaN              NaN  1.324'  \n1               NaN              NaN  1.286'  \n2               NaN              NaN       -  \n3               NaN              NaN       -  \n4               NaN              NaN     NaN  \n...             ...              ...     ...  \n18330             -                -     88'  \n18331           NaN              NaN     NaN  \n18332             -                -    182'  \n18333           NaN              NaN     NaN  \n18334           NaN              NaN     NaN  \n\n[18335 rows x 48 columns]",
      "text/html": "<div>\n<style scoped>\n    .dataframe tbody tr th:only-of-type {\n        vertical-align: middle;\n    }\n\n    .dataframe tbody tr th {\n        vertical-align: top;\n    }\n\n    .dataframe thead th {\n        text-align: right;\n    }\n</style>\n<table border=\"1\" class=\"dataframe\">\n  <thead>\n    <tr style=\"text-align: right;\">\n      <th></th>\n      <th>league_country</th>\n      <th>scraping_time</th>\n      <th>link</th>\n      <th>no</th>\n      <th>name</th>\n      <th>league</th>\n      <th>club</th>\n      <th>league_level</th>\n      <th>market_value</th>\n      <th>market_value_currency</th>\n      <th>...</th>\n      <th>assists</th>\n      <th>own_goals</th>\n      <th>ins</th>\n      <th>outs</th>\n      <th>yellow_cards</th>\n      <th>yellow_red_cards</th>\n      <th>red_cards</th>\n      <th>penalty_goals</th>\n      <th>minutes_per_goal</th>\n      <th>minutes</th>\n    </tr>\n  </thead>\n  <tbody>\n    <tr>\n      <th>0</th>\n      <td>Schweiz</td>\n      <td>20230425190948</td>\n      <td>https://www.transfermarkt.ch/david-von-ballmoo...</td>\n      <td>26.0</td>\n      <td>David von Ballmoos</td>\n      <td>Super League</td>\n      <td>BSC Young Boys</td>\n      <td>1.Liga</td>\n      <td>2,50 Mio. €Letzte Änderung: 10.11.2022</td>\n      <td>Mio. €</td>\n      <td>...</td>\n      <td>NaN</td>\n      <td>-</td>\n      <td>-</td>\n      <td>1</td>\n      <td>-</td>\n      <td>-</td>\n      <td>-</td>\n      <td>NaN</td>\n      <td>NaN</td>\n      <td>1.324'</td>\n    </tr>\n    <tr>\n      <th>1</th>\n      <td>Schweiz</td>\n      <td>20230425191002</td>\n      <td>https://www.transfermarkt.ch/anthony-racioppi/...</td>\n      <td>1.0</td>\n      <td>Anthony Racioppi</td>\n      <td>Super League</td>\n      <td>BSC Young Boys</td>\n      <td>1.Liga</td>\n      <td>1,30 Mio. €Letzte Änderung: 28.03.2023</td>\n      <td>Mio. €</td>\n      <td>...</td>\n      <td>NaN</td>\n      <td>-</td>\n      <td>1</td>\n      <td>-</td>\n      <td>-</td>\n      <td>-</td>\n      <td>-</td>\n      <td>NaN</td>\n      <td>NaN</td>\n      <td>1.286'</td>\n    </tr>\n    <tr>\n      <th>2</th>\n      <td>Schweiz</td>\n      <td>20230425191015</td>\n      <td>https://www.transfermarkt.ch/marvin-keller/pro...</td>\n      <td>33.0</td>\n      <td>Marvin Keller</td>\n      <td>Super League</td>\n      <td>BSC Young Boys</td>\n      <td>1.Liga</td>\n      <td>500 Tsd. €Letzte Änderung: 29.12.2022</td>\n      <td>Tsd. €</td>\n      <td>...</td>\n      <td>NaN</td>\n      <td>-</td>\n      <td>-</td>\n      <td>-</td>\n      <td>-</td>\n      <td>-</td>\n      <td>-</td>\n      <td>NaN</td>\n      <td>NaN</td>\n      <td>-</td>\n    </tr>\n    <tr>\n      <th>3</th>\n      <td>Schweiz</td>\n      <td>20230425191033</td>\n      <td>https://www.transfermarkt.ch/dario-marzino/pro...</td>\n      <td>40.0</td>\n      <td>Dario Marzino</td>\n      <td>Super League</td>\n      <td>BSC Young Boys</td>\n      <td>1.Liga</td>\n      <td>100 Tsd. €Letzte Änderung: 28.03.2023</td>\n      <td>Tsd. €</td>\n      <td>...</td>\n      <td>NaN</td>\n      <td>-</td>\n      <td>-</td>\n      <td>-</td>\n      <td>-</td>\n      <td>-</td>\n      <td>-</td>\n      <td>NaN</td>\n      <td>NaN</td>\n      <td>-</td>\n    </tr>\n    <tr>\n      <th>4</th>\n      <td>Schweiz</td>\n      <td>20230425191056</td>\n      <td>https://www.transfermarkt.ch/leandro-zbinden/p...</td>\n      <td>61.0</td>\n      <td>Leandro Zbinden</td>\n      <td>Super League</td>\n      <td>BSC Young Boys</td>\n      <td>1.Liga</td>\n      <td>100 Tsd. €Letzte Änderung: 10.11.2022</td>\n      <td>Tsd. €</td>\n      <td>...</td>\n      <td>NaN</td>\n      <td>NaN</td>\n      <td>NaN</td>\n      <td>NaN</td>\n      <td>NaN</td>\n      <td>NaN</td>\n      <td>NaN</td>\n      <td>NaN</td>\n      <td>NaN</td>\n      <td>NaN</td>\n    </tr>\n    <tr>\n      <th>...</th>\n      <td>...</td>\n      <td>...</td>\n      <td>...</td>\n      <td>...</td>\n      <td>...</td>\n      <td>...</td>\n      <td>...</td>\n      <td>...</td>\n      <td>...</td>\n      <td>...</td>\n      <td>...</td>\n      <td>...</td>\n      <td>...</td>\n      <td>...</td>\n      <td>...</td>\n      <td>...</td>\n      <td>...</td>\n      <td>...</td>\n      <td>...</td>\n      <td>...</td>\n      <td>...</td>\n    </tr>\n    <tr>\n      <th>18330</th>\n      <td>Norwegen</td>\n      <td>20230426091213</td>\n      <td>https://www.transfermarkt.ch/gilbert-koomson/p...</td>\n      <td>7.0</td>\n      <td>Gilbert Koomson</td>\n      <td>Eliteserien</td>\n      <td>Sandefjord</td>\n      <td>1.Liga</td>\n      <td>450 Tsd. €Letzte Änderung: 09.12.2022</td>\n      <td>Tsd. €</td>\n      <td>...</td>\n      <td>-</td>\n      <td>-</td>\n      <td>2</td>\n      <td>1</td>\n      <td>-</td>\n      <td>-</td>\n      <td>-</td>\n      <td>-</td>\n      <td>-</td>\n      <td>88'</td>\n    </tr>\n    <tr>\n      <th>18331</th>\n      <td>Norwegen</td>\n      <td>20230426091231</td>\n      <td>https://www.transfermarkt.ch/youssef-chaib/pro...</td>\n      <td>11.0</td>\n      <td>Youssef Chaib</td>\n      <td>Eliteserien</td>\n      <td>Sandefjord</td>\n      <td>1.Liga</td>\n      <td>100 Tsd. €Letzte Änderung: 09.12.2022</td>\n      <td>Tsd. €</td>\n      <td>...</td>\n      <td>NaN</td>\n      <td>NaN</td>\n      <td>NaN</td>\n      <td>NaN</td>\n      <td>NaN</td>\n      <td>NaN</td>\n      <td>NaN</td>\n      <td>NaN</td>\n      <td>NaN</td>\n      <td>NaN</td>\n    </tr>\n    <tr>\n      <th>18332</th>\n      <td>Norwegen</td>\n      <td>20230426091252</td>\n      <td>https://www.transfermarkt.ch/jakob-dunsby/prof...</td>\n      <td>27.0</td>\n      <td>Jakob Dunsby</td>\n      <td>Eliteserien</td>\n      <td>Sandefjord</td>\n      <td>1.Liga</td>\n      <td>100 Tsd. €Letzte Änderung: 02.02.2023</td>\n      <td>Tsd. €</td>\n      <td>...</td>\n      <td>-</td>\n      <td>-</td>\n      <td>1</td>\n      <td>2</td>\n      <td>-</td>\n      <td>-</td>\n      <td>-</td>\n      <td>-</td>\n      <td>-</td>\n      <td>182'</td>\n    </tr>\n    <tr>\n      <th>18333</th>\n      <td>Norwegen</td>\n      <td>20230426091307</td>\n      <td>https://www.transfermarkt.ch/alexander-ruud-tv...</td>\n      <td>9.0</td>\n      <td>Alexander Ruud Tveter</td>\n      <td>Eliteserien</td>\n      <td>Sandefjord</td>\n      <td>1.Liga</td>\n      <td>300 Tsd. €Letzte Änderung: 09.12.2022</td>\n      <td>Tsd. €</td>\n      <td>...</td>\n      <td>NaN</td>\n      <td>NaN</td>\n      <td>NaN</td>\n      <td>NaN</td>\n      <td>NaN</td>\n      <td>NaN</td>\n      <td>NaN</td>\n      <td>NaN</td>\n      <td>NaN</td>\n      <td>NaN</td>\n    </tr>\n    <tr>\n      <th>18334</th>\n      <td>Norwegen</td>\n      <td>20230426091323</td>\n      <td>https://www.transfermarkt.ch/wally-njie/profil...</td>\n      <td>16.0</td>\n      <td>Wally Njie</td>\n      <td>Eliteserien</td>\n      <td>Sandefjord</td>\n      <td>1.Liga</td>\n      <td>50 Tsd. €Letzte Änderung: 09.12.2022</td>\n      <td>Tsd. €</td>\n      <td>...</td>\n      <td>NaN</td>\n      <td>NaN</td>\n      <td>NaN</td>\n      <td>NaN</td>\n      <td>NaN</td>\n      <td>NaN</td>\n      <td>NaN</td>\n      <td>NaN</td>\n      <td>NaN</td>\n      <td>NaN</td>\n    </tr>\n  </tbody>\n</table>\n<p>18335 rows × 48 columns</p>\n</div>"
     },
     "execution_count": 6,
     "metadata": {},
     "output_type": "execute_result"
    }
   ],
   "source": [
    "df = pd.DataFrame()\n",
    "\n",
    "for i in range(1, 7):\n",
    "    partial_df = pd.read_csv(f\"scraped_data/players_{timestamp}_{i}.csv\", sep=';')\n",
    "    df = pd.concat([df, partial_df])\n",
    "\n",
    "df = df.reset_index(drop=True)\n",
    "df"
   ],
   "metadata": {
    "collapsed": false,
    "ExecuteTime": {
     "start_time": "2023-04-26T15:38:12.462399Z",
     "end_time": "2023-04-26T15:38:12.611693Z"
    }
   }
  },
  {
   "cell_type": "code",
   "execution_count": 7,
   "outputs": [],
   "source": [
    "# handle faulty records\n",
    "df.loc[df['contract_until'] == '00.00.0', 'contract_until'] = np.NaN\n",
    "df.loc[df['contract_until'] == '06.2024', 'contract_until'] = '01.06.2024'\n"
   ],
   "metadata": {
    "collapsed": false,
    "ExecuteTime": {
     "start_time": "2023-04-26T15:38:13.196624Z",
     "end_time": "2023-04-26T15:38:13.200722Z"
    }
   }
  },
  {
   "cell_type": "code",
   "execution_count": 8,
   "outputs": [],
   "source": [
    "def parse_market_value_with_latest_change(scraped_string):\n",
    "    return parse_market_value(scraped_string[:scraped_string.find('Letzte Änderung')])\n",
    "\n",
    "def parse_market_value(scraped_string):\n",
    "    value_as_string = scraped_string.strip().replace(',', '.')\n",
    "    if value_as_string[-6:] == 'Mio. €':\n",
    "        return float(value_as_string[:-6]) * 1000000\n",
    "    elif value_as_string[-6:] == 'Tsd. €':\n",
    "        return float(value_as_string[:-6]) * 1000\n",
    "    else:\n",
    "        raise ValueError(value_as_string)\n",
    "\n",
    "def league_level_function(level):\n",
    "    try:\n",
    "        return int(level[:1])\n",
    "    except (ValueError, TypeError):\n",
    "        return 9\n",
    "\n",
    "df['league_level'] = df['league_level'].apply(league_level_function)\n",
    "df['market_value'] = df[df['market_value'].notna()]['market_value'].apply(parse_market_value_with_latest_change)\n",
    "df['market_value_currency'] = df[df['market_value_currency'].notna()]['market_value_currency'].str[-1:]\n",
    "df['market_value_latest_correction'] = pd.to_datetime(df[df['market_value_latest_correction'].notna()]['market_value_latest_correction'].str[-10:], format='%d.%m.%Y')\n",
    "df['highest_market_value'] = df[df['highest_market_value'].notna()]['highest_market_value'].apply(parse_market_value)\n",
    "df['highest_market_value_date'] = pd.to_datetime(df[df['highest_market_value_date'].notna()]['highest_market_value_date'], format='%d.%m.%Y')\n",
    "df['height'] = df[df['height'].notna()]['height'].str[:-2].str.replace(',', '.', regex=False).astype(float) * 100\n",
    "df['club_since'] = pd.to_datetime(df['club_since'].replace('-', np.NaN), format='%d.%m.%Y')\n",
    "df['contract_until'] = pd.to_datetime(df['contract_until'].replace('-', np.NaN), format='%d.%m.%Y')\n",
    "for col in ['goals_conceded', 'clean_sheets', 'games', 'points_per_game', 'goals', 'assists', 'own_goals', 'ins', 'outs', 'yellow_cards', 'yellow_red_cards', 'red_cards', 'penalty_goals', 'minutes_per_goal', 'minutes']:\n",
    "    df[col] = df[col].replace('-', 0)\n",
    "df['points_per_game'] = df[df['points_per_game'].notna()]['points_per_game'].str.replace(',', '.', regex=False)\n",
    "for col in ['minutes_per_goal', 'minutes']:\n",
    "    df[col] = df[df[col].notna()][col].str.replace('\\'', '', regex=False).str.replace('.', '', regex=False)\n",
    "\n",
    "df.loc[df['international'].notnull(), 'international_team'] = df['international']\n",
    "df.loc[df['international_active'].notnull(), 'international_team'] = df['international_active']\n",
    "df.loc[df['former_international'].notnull(), 'international_team'] = df['former_international']\n",
    "df['international_active'] = df['international_active'].notna().astype(int)\n",
    "df['former_international'] = df['former_international'].notna().astype(int)\n",
    "df[['international', 'international_active', 'former_international', 'international_team']].head(20)\n",
    "df = df.drop('international', axis=1)\n",
    "\n"
   ],
   "metadata": {
    "collapsed": false,
    "ExecuteTime": {
     "start_time": "2023-04-26T15:38:14.821222Z",
     "end_time": "2023-04-26T15:38:14.998857Z"
    }
   }
  },
  {
   "cell_type": "code",
   "execution_count": 9,
   "outputs": [],
   "source": [
    "df = df.rename(columns={'league_country': 'LeagueCountry', 'scraping_time': 'ScrapingTime', 'link': 'Source', 'no': 'No', 'name': 'Name', 'league': 'League', 'club': 'Club', 'league_level': 'NationalLeagueLevel', 'market_value': 'Value', 'market_value_currency': 'ValueCurrency', 'market_value_latest_correction': 'ValueLastUpdate', 'highest_market_value': 'HighestValue', 'highest_market_value_date': 'HighestValueDate', 'age': 'Age', 'height': 'Height', 'nationality': 'Nationality', 'position': 'Position', 'foot': 'Foot', 'consultancy': 'Consultancy', 'supplier': 'Supplier', 'club_since': 'ClubSince', 'contract_until': 'ContractUntil', 'international_team': 'InternationalTeam', 'international_active': 'ActiveInternational', 'former_international': 'FormerInternational', 'international_games': 'InternationalGames', 'international_goals': 'InternationalGoals', 'starting_eleven_quote': 'StartingElevenQuote', 'minutes_quote': 'MinutesQuote', 'penalty_saves_quote': 'TwPenaltySavesQuote', 'goal_participation_quote': 'FsGoalParticipationQuote', 'instagram': 'Instagram', 'injury': 'Injury', 'goals_conceded': 'TwGoalsConceded', 'clean_sheets': 'TwCleanSheets', 'games': 'Games', 'points_per_game': 'PointsPerGame', 'goals': 'Goals', 'assists': 'FsAssists', 'own_goals': 'OwnGoals', 'ins': 'Ins', 'outs': 'Outs', 'yellow_cards': 'YellowCards', 'yellow_red_cards': 'YellowRedCards', 'red_cards': 'RedCards', 'penalty_goals': 'FsPenaltyGoals', 'minutes_per_goal': 'FsMinutesPerGoal', 'minutes': 'Minutes'})\n",
    "\n",
    "df = df[['LeagueCountry', 'League', 'NationalLeagueLevel', 'Club', 'No', 'Name', 'Value', 'ValueLastUpdate', 'HighestValue', 'HighestValueDate', 'ValueCurrency', 'Age', 'Height', 'Nationality', 'Foot', 'Position', 'Consultancy', 'Supplier', 'ClubSince', 'ContractUntil', 'Injury', 'InternationalTeam', 'ActiveInternational', 'FormerInternational', 'InternationalGames', 'InternationalGoals', 'StartingElevenQuote','MinutesQuote', 'TwPenaltySavesQuote', 'FsGoalParticipationQuote', 'Games', 'PointsPerGame', 'Goals', 'OwnGoals', 'Ins', 'Outs', 'YellowCards', 'YellowRedCards', 'RedCards', 'Minutes', 'TwGoalsConceded', 'TwCleanSheets', 'FsAssists', 'FsPenaltyGoals', 'FsMinutesPerGoal', 'Instagram',  'Source', 'ScrapingTime']]"
   ],
   "metadata": {
    "collapsed": false,
    "ExecuteTime": {
     "start_time": "2023-04-26T15:38:16.850526Z",
     "end_time": "2023-04-26T15:38:16.868982Z"
    }
   }
  },
  {
   "cell_type": "code",
   "execution_count": 10,
   "outputs": [
    {
     "name": "stdout",
     "output_type": "stream",
     "text": [
      "<class 'pandas.core.frame.DataFrame'>\n",
      "RangeIndex: 18335 entries, 0 to 18334\n",
      "Data columns (total 48 columns):\n",
      " #   Column                    Non-Null Count  Dtype         \n",
      "---  ------                    --------------  -----         \n",
      " 0   LeagueCountry             18335 non-null  object        \n",
      " 1   League                    18238 non-null  object        \n",
      " 2   NationalLeagueLevel       18335 non-null  int64         \n",
      " 3   Club                      18331 non-null  object        \n",
      " 4   No                        17905 non-null  float64       \n",
      " 5   Name                      18331 non-null  object        \n",
      " 6   Value                     17899 non-null  float64       \n",
      " 7   ValueLastUpdate           17899 non-null  datetime64[ns]\n",
      " 8   HighestValue              18004 non-null  float64       \n",
      " 9   HighestValueDate          18004 non-null  datetime64[ns]\n",
      " 10  ValueCurrency             17899 non-null  object        \n",
      " 11  Age                       18328 non-null  float64       \n",
      " 12  Height                    17052 non-null  float64       \n",
      " 13  Nationality               18331 non-null  object        \n",
      " 14  Foot                      16435 non-null  object        \n",
      " 15  Position                  18331 non-null  object        \n",
      " 16  Consultancy               14780 non-null  object        \n",
      " 17  Supplier                  2775 non-null   object        \n",
      " 18  ClubSince                 18257 non-null  datetime64[ns]\n",
      " 19  ContractUntil             17149 non-null  datetime64[ns]\n",
      " 20  Injury                    18335 non-null  int64         \n",
      " 21  InternationalTeam         12207 non-null  object        \n",
      " 22  ActiveInternational       18335 non-null  int64         \n",
      " 23  FormerInternational       18335 non-null  int64         \n",
      " 24  InternationalGames        12207 non-null  float64       \n",
      " 25  InternationalGoals        12207 non-null  float64       \n",
      " 26  StartingElevenQuote       16094 non-null  float64       \n",
      " 27  MinutesQuote              16094 non-null  float64       \n",
      " 28  TwPenaltySavesQuote       1783 non-null   float64       \n",
      " 29  FsGoalParticipationQuote  14311 non-null  float64       \n",
      " 30  Games                     13346 non-null  object        \n",
      " 31  PointsPerGame             12577 non-null  object        \n",
      " 32  Goals                     13346 non-null  object        \n",
      " 33  OwnGoals                  13346 non-null  object        \n",
      " 34  Ins                       13346 non-null  object        \n",
      " 35  Outs                      13346 non-null  object        \n",
      " 36  YellowCards               13346 non-null  object        \n",
      " 37  YellowRedCards            13346 non-null  object        \n",
      " 38  RedCards                  13346 non-null  object        \n",
      " 39  Minutes                   12528 non-null  object        \n",
      " 40  TwGoalsConceded           1478 non-null   object        \n",
      " 41  TwCleanSheets             1478 non-null   object        \n",
      " 42  FsAssists                 11868 non-null  object        \n",
      " 43  FsPenaltyGoals            11868 non-null  object        \n",
      " 44  FsMinutesPerGoal          6147 non-null   object        \n",
      " 45  Instagram                 7148 non-null   object        \n",
      " 46  Source                    18335 non-null  object        \n",
      " 47  ScrapingTime              18335 non-null  int64         \n",
      "dtypes: datetime64[ns](4), float64(11), int64(5), object(28)\n",
      "memory usage: 6.7+ MB\n"
     ]
    }
   ],
   "source": [
    "df.info()"
   ],
   "metadata": {
    "collapsed": false,
    "ExecuteTime": {
     "start_time": "2023-04-26T15:38:17.999823Z",
     "end_time": "2023-04-26T15:38:18.057918Z"
    }
   }
  },
  {
   "cell_type": "code",
   "execution_count": 11,
   "outputs": [],
   "source": [
    "df.to_csv(f\"cleansed_data/players_{timestamp}.csv\", sep=';', index=False)"
   ],
   "metadata": {
    "collapsed": false,
    "ExecuteTime": {
     "start_time": "2023-04-26T15:38:19.707442Z",
     "end_time": "2023-04-26T15:38:19.904915Z"
    }
   }
  },
  {
   "cell_type": "code",
   "execution_count": null,
   "outputs": [],
   "source": [],
   "metadata": {
    "collapsed": false
   }
  }
 ],
 "metadata": {
  "kernelspec": {
   "display_name": "Python 3",
   "language": "python",
   "name": "python3"
  },
  "language_info": {
   "codemirror_mode": {
    "name": "ipython",
    "version": 2
   },
   "file_extension": ".py",
   "mimetype": "text/x-python",
   "name": "python",
   "nbconvert_exporter": "python",
   "pygments_lexer": "ipython2",
   "version": "2.7.6"
  }
 },
 "nbformat": 4,
 "nbformat_minor": 0
}
